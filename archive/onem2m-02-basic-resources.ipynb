{
 "cells": [
  {
   "cell_type": "markdown",
   "metadata": {
    "slideshow": {
     "slide_type": "slide"
    }
   },
   "source": [
    "# oneM2M - Basic Resources and Interactions\n",
    "This notebook shows the basic interactions with a CSE using REST calls. Examples include:\n",
    "\n",
    "- Create an &lt;AE> resource\n",
    "- Create a &lt;Container> resource\n",
    "- Create one or more &lt;ContentInstance> resources\n",
    "- Retrieve the latest &lt;ContentInstance> resource\n",
    "- Update the &lt;Container> resource\n",
    "- Retrieve the &lt;Container> resource\n",
    "\n",
    "## Intitialization\n",
    "The section does import necessary modules and configurations.  \n",
    "**Please execute it only once when the notebook (re)started.**"
   ]
  },
  {
   "cell_type": "code",
   "execution_count": 1,
   "metadata": {
    "slideshow": {
     "slide_type": "slide"
    }
   },
   "outputs": [
    {
     "data": {
      "text/markdown": [
       "<span style='color:green'>**Configuration Ready**</span>"
      ],
      "text/plain": [
       "<IPython.core.display.Markdown object>"
      ]
     },
     "metadata": {},
     "output_type": "display_data"
    }
   ],
   "source": [
    "%run init.py"
   ]
  },
  {
   "cell_type": "markdown",
   "metadata": {
    "slideshow": {
     "slide_type": "slide"
    }
   },
   "source": [
    "## Create an &lt;AE> Resource\n",
    "This example registers a new &lt;AE> resource in the CSE. &lt;AE>'s represent applications or business services in a oneM2M system.\n",
    "\n",
    "Creating this (or other) resource is done using a POST request together with a couple of parameters and mandatory attributes:\n",
    "\n",
    "### Parameters\n",
    "\n",
    "### Resource Attributes\n",
    "\n",
    "# - **api** : Application Identifier. An Application Identifier uniquely identifies an M2M Application in a given context.\n",
    "#- **rr** : Request Reachability. This attribute indicates whether a resource can receive requests.\n",
    "#- **srv** : Supported Release Versions. An array that specifies the supported oneM2M specification releases.\n",
    "\n",
    "Note, that the request target is the &lt;CSEBase> resource. All create requests target a parent resource."
   ]
  },
  {
   "cell_type": "code",
   "execution_count": 2,
   "metadata": {
    "scrolled": false,
    "slideshow": {
     "slide_type": "slide"
    }
   },
   "outputs": [
    {
     "data": {
      "text/markdown": [
       "---\n",
       "### HTTP Request"
      ],
      "text/plain": [
       "<IPython.core.display.Markdown object>"
      ]
     },
     "metadata": {},
     "output_type": "display_data"
    },
    {
     "data": {
      "text/markdown": [
       "**http://localhost:8080/cse-in**"
      ],
      "text/plain": [
       "<IPython.core.display.Markdown object>"
      ]
     },
     "metadata": {},
     "output_type": "display_data"
    },
    {
     "data": {
      "text/markdown": [
       "\n",
       "| HTTP Header | oneM2M Parameter | Value |\n",
       "|:---|:---|:---|\n",
       "| [X-M2M-Origin](#_blank \"Originator - The request's 'From' parameter\") | From | C |\n",
       "| [X-M2M-RI](#_blank \"Request Identifier - Used to uniquely identify a request\") | Request Identifier | 123 |\n",
       "| [X-M2M-RVI](#_blank \"Release Version Indicator - The requester indicates the release version of the oneM2M specification\") | Release Version Indicator | 3 |\n",
       "| [Accept](#_blank \"The Originator may use the Accept header to indicate which media types are acceptable for the response\") |  | application/json |\n",
       "| [Content-Type](#_blank \"Any HTTP request or response with content shall include the Content-type header set to one of 'application/xml', 'application/json', or the oneM2M defined media types\") |  | application/json;ty=2 |\n"
      ],
      "text/plain": [
       "<IPython.core.display.Markdown object>"
      ]
     },
     "metadata": {},
     "output_type": "display_data"
    },
    {
     "data": {
      "text/markdown": [
       "\n",
       "#### Request Content\n"
      ],
      "text/plain": [
       "<IPython.core.display.Markdown object>"
      ]
     },
     "metadata": {},
     "output_type": "display_data"
    },
    {
     "data": {
      "text/markdown": [
       "<span style='font-family: monospace;'>{</span>  \n",
       "<span style='font-family: monospace;'>&nbsp;&nbsp;&nbsp;&nbsp;\"[m2m:ae](#_blank \"ApplicationEntity\n",
       "An entity in the application layer that implements an M2M application service logic\")\": {</span>  \n",
       "<span style='font-family: monospace;'>&nbsp;&nbsp;&nbsp;&nbsp;&nbsp;&nbsp;&nbsp;&nbsp;\"[rn](#_blank \"resource name\n",
       "jhjhjk dksjekdjf kdsj dskjfdksjf dksjfkds jlksdjkds lkdjfkdsjf kkdjkds eoiui kdjkdsjkdjf sjahdsjhdsj ksjdkdsj jdksf...\")\": \"Notebook-AE\",</span>  \n",
       "<span style='font-family: monospace;'>&nbsp;&nbsp;&nbsp;&nbsp;&nbsp;&nbsp;&nbsp;&nbsp;\"[api](#_blank \"App-ID\n",
       "An Application Identifier uniquely identifies an M2M Application in a given context. It starts with R (registered) or N (non-registered)\")\": \"NTestAE\",</span>  \n",
       "<span style='font-family: monospace;'>&nbsp;&nbsp;&nbsp;&nbsp;&nbsp;&nbsp;&nbsp;&nbsp;\"[rr](#_blank \"request reachability\n",
       "This attribute indicates whether a resource can receive requests\")\": true,</span>  \n",
       "<span style='font-family: monospace;'>&nbsp;&nbsp;&nbsp;&nbsp;&nbsp;&nbsp;&nbsp;&nbsp;\"[srv](#_blank \"supported release versions\n",
       "An array that specifies the supported oneM2M specification releases\")\": [</span>  \n",
       "<span style='font-family: monospace;'>&nbsp;&nbsp;&nbsp;&nbsp;&nbsp;&nbsp;&nbsp;&nbsp;&nbsp;&nbsp;&nbsp;&nbsp;\"3\"</span>  \n",
       "<span style='font-family: monospace;'>&nbsp;&nbsp;&nbsp;&nbsp;&nbsp;&nbsp;&nbsp;&nbsp;]</span>  \n",
       "<span style='font-family: monospace;'>&nbsp;&nbsp;&nbsp;&nbsp;}</span>  \n",
       "<span style='font-family: monospace;'>}</span>  \n"
      ],
      "text/plain": [
       "<IPython.core.display.Markdown object>"
      ]
     },
     "metadata": {},
     "output_type": "display_data"
    },
    {
     "data": {
      "text/markdown": [
       "---\n",
       "### HTTP Response"
      ],
      "text/plain": [
       "<IPython.core.display.Markdown object>"
      ]
     },
     "metadata": {},
     "output_type": "display_data"
    },
    {
     "data": {
      "text/markdown": [
       "<span style='color:red'>409 (CONFLICT)</span>"
      ],
      "text/plain": [
       "<IPython.core.display.Markdown object>"
      ]
     },
     "metadata": {},
     "output_type": "display_data"
    },
    {
     "data": {
      "text/markdown": [
       "\n",
       "| HTTP Header | oneM2M Parameter | Value |\n",
       "|:---|:---|:---|\n",
       "| [X-M2M-RSC](#_blank \"Result Status Code - The request's extended result status code\") | Result Status Code | [4105](#_blank \"Conflict\") |\n",
       "| [X-M2M-RI](#_blank \"Request Identifier - Used to uniquely identify a request\") | Request Identifier | 123 |\n",
       "| [X-M2M-RVI](#_blank \"Release Version Indicator - The requester indicates the release version of the oneM2M specification\") | Release Version Indicator | 3 |\n",
       "| [Content-Type](#_blank \"Any HTTP request or response with content shall include the Content-type header set to one of 'application/xml', 'application/json', or the oneM2M defined media types\") |  | application/json |\n",
       "| [Date](#_blank \"The response's date in UTC/GMT\") |  | Mon, 22 Feb 2021 20:41:35 GMT |\n"
      ],
      "text/plain": [
       "<IPython.core.display.Markdown object>"
      ]
     },
     "metadata": {},
     "output_type": "display_data"
    },
    {
     "data": {
      "text/markdown": [
       "\n",
       "**Result Content**\n"
      ],
      "text/plain": [
       "<IPython.core.display.Markdown object>"
      ]
     },
     "metadata": {},
     "output_type": "display_data"
    },
    {
     "data": {
      "text/markdown": [
       "<span style='font-family: monospace;'>{</span>  \n",
       "<span style='font-family: monospace;'>&nbsp;&nbsp;&nbsp;&nbsp;<span style='color:red'>\"[m2m:dbg](#_blank \"debug information and error messages\")\": \"Resource already exists\"</span></span>  \n",
       "<span style='font-family: monospace;'>}</span>  \n"
      ],
      "text/plain": [
       "<IPython.core.display.Markdown object>"
      ]
     },
     "metadata": {},
     "output_type": "display_data"
    },
    {
     "data": {
      "text/markdown": [
       "---"
      ],
      "text/plain": [
       "<IPython.core.display.Markdown object>"
      ]
     },
     "metadata": {},
     "output_type": "display_data"
    }
   ],
   "source": [
    "CREATE (                                      # CREATE request\n",
    "    # Target on the CSE\n",
    "    target = cseRN, \n",
    "    \n",
    "    # Request Parameters\n",
    "    parameters = {\n",
    "        From                    : 'C',        # Request's originator\n",
    "        RequestIdentifier       : '123',      # Request identifier,\n",
    "        ReleaseVersionIndicator : '3',        # Request's release version indicator\n",
    "        ResourceType            : '2'         # The request creates an <AE> resource\n",
    "    },\n",
    "    \n",
    "    # Request Content\n",
    "    content = {   \n",
    "        \"m2m:ae\": {\n",
    "            \"rn\": \"Notebook-AE\",              # Name of the resource instance\n",
    "            \"api\": \"NTestAE\",                 # Non-registered App-ID\n",
    "            \"rr\": True,                       # Request reachability\n",
    "            \"srv\": [ \"3\" ]                    # Supported Release Versions\n",
    "        }\n",
    "    }\n",
    ")"
   ]
  },
  {
   "cell_type": "markdown",
   "metadata": {},
   "source": [
    "The response introduces some new attributes:\n",
    "\n",
    "- **pi** : This is the identifier of the parent resource.\n",
    "- **et** : Expiration time/date after which the CSE will delete the resource.\n",
    "- **aei** : An Application Entity Identifier uniquely identifies an AE globally.\n",
    "\n",
    "**Note**: If you see an error \"409\" or \"Name already present\" then don't worry. It just means that an &lt;AE> resource with the same name already exists in the CSE, perhaps from a previous run of this notebook cell.\n",
    "\n",
    "## Create a &lt;Container> Resource\n",
    "In this section we add a &lt;Container> resource to the &lt;AE> resource. A &lt;Container> represents a data point that can hold a configurable number of dsta instances. A &lt;Container> may also hold a sub-containers.\n",
    "\n",
    "If created with no further attributes, the CSE will assign defaults to the &lt;Container> resource."
   ]
  },
  {
   "cell_type": "code",
   "execution_count": 3,
   "metadata": {
    "scrolled": false
   },
   "outputs": [
    {
     "data": {
      "text/markdown": [
       "---\n",
       "### HTTP Request"
      ],
      "text/plain": [
       "<IPython.core.display.Markdown object>"
      ]
     },
     "metadata": {},
     "output_type": "display_data"
    },
    {
     "data": {
      "text/markdown": [
       "**http://localhost:8080/cse-in/Notebook-AE**"
      ],
      "text/plain": [
       "<IPython.core.display.Markdown object>"
      ]
     },
     "metadata": {},
     "output_type": "display_data"
    },
    {
     "data": {
      "text/markdown": [
       "\n",
       "| HTTP Header | oneM2M Primite Parameter | Value |\n",
       "|:---|:---|:---|\n",
       "| [X-M2M-Origin](#_blank \"Originator - The request's 'From' parameter\") | tFrom | CAdmin |\n",
       "| [X-M2M-RI](#_blank \"Request Identifier - Used to uniquely identify a request\") | tRequest Identifier | 0 |\n",
       "| [Accept](#_blank \"The Originator may use the Accept header to indicate which media types are acceptable for the response\") | t | application/json |\n",
       "| [Content-Type](#_blank \"Any HTTP request or response with content shall include the Content-type header set to one of 'application/xml', 'application/json', or the oneM2M defined media types\") | t | application/json |\n"
      ],
      "text/plain": [
       "<IPython.core.display.Markdown object>"
      ]
     },
     "metadata": {},
     "output_type": "display_data"
    },
    {
     "data": {
      "text/markdown": [
       "\n",
       "#### Request Content\n"
      ],
      "text/plain": [
       "<IPython.core.display.Markdown object>"
      ]
     },
     "metadata": {},
     "output_type": "display_data"
    },
    {
     "data": {
      "text/markdown": [
       "<span style='font-family: monospace;'>{</span>  \n",
       "<span style='font-family: monospace;'>&nbsp;&nbsp;&nbsp;&nbsp;\"[m2m:cnt](#_blank \"container\")\": {</span>  \n",
       "<span style='font-family: monospace;'>&nbsp;&nbsp;&nbsp;&nbsp;&nbsp;&nbsp;&nbsp;&nbsp;\"[rn](#_blank \"resource name\n",
       "jhjhjk dksjekdjf kdsj dskjfdksjf dksjfkds jlksdjkds lkdjfkdsjf kkdjkds eoiui kdjkdsjkdjf sjahdsjhdsj ksjdkdsj jdksf...\")\": \"Container\"</span>  \n",
       "<span style='font-family: monospace;'>&nbsp;&nbsp;&nbsp;&nbsp;}</span>  \n",
       "<span style='font-family: monospace;'>}</span>  \n"
      ],
      "text/plain": [
       "<IPython.core.display.Markdown object>"
      ]
     },
     "metadata": {},
     "output_type": "display_data"
    },
    {
     "data": {
      "text/markdown": [
       "---\n",
       "### HTTP Response"
      ],
      "text/plain": [
       "<IPython.core.display.Markdown object>"
      ]
     },
     "metadata": {},
     "output_type": "display_data"
    },
    {
     "data": {
      "text/markdown": [
       "<span style='color:red'>400 (BAD REQUEST)</span>"
      ],
      "text/plain": [
       "<IPython.core.display.Markdown object>"
      ]
     },
     "metadata": {},
     "output_type": "display_data"
    },
    {
     "data": {
      "text/markdown": [
       "\n",
       "| HTTP Header | oneM2M Primite Parameter | Value |\n",
       "|:---|:---|:---|\n",
       "| [X-M2M-RSC](#_blank \"Result Status Code - The request's extended result status code\") | tResult Status Code | [4000](#_blank \"Bad Request\") |\n",
       "| [X-M2M-RI](#_blank \"Request Identifier - Used to uniquely identify a request\") | tRequest Identifier | 0 |\n",
       "| [X-M2M-RVI](#_blank \"Release Version Indicator - The requester indicates the release version of the oneM2M specification\") | tRelease Version Indicator | None |\n",
       "| [Content-Type](#_blank \"Any HTTP request or response with content shall include the Content-type header set to one of 'application/xml', 'application/json', or the oneM2M defined media types\") | t | application/json |\n",
       "| [Date](#_blank \"The response's date in UTC/GMT\") | t | Mon, 22 Feb 2021 19:17:47 GMT |\n"
      ],
      "text/plain": [
       "<IPython.core.display.Markdown object>"
      ]
     },
     "metadata": {},
     "output_type": "display_data"
    },
    {
     "data": {
      "text/markdown": [
       "\n",
       "**Result Content**\n"
      ],
      "text/plain": [
       "<IPython.core.display.Markdown object>"
      ]
     },
     "metadata": {},
     "output_type": "display_data"
    },
    {
     "data": {
      "text/markdown": [
       "<span style='font-family: monospace;'>{</span>  \n",
       "<span style='font-family: monospace;'>&nbsp;&nbsp;&nbsp;&nbsp;<span style='color:red'>\"[m2m:dbg](#_blank \"debug information and error messages\")\": \"Mandatory Release Version Indicator is missing in request\"</span></span>  \n",
       "<span style='font-family: monospace;'>}</span>  \n"
      ],
      "text/plain": [
       "<IPython.core.display.Markdown object>"
      ]
     },
     "metadata": {},
     "output_type": "display_data"
    },
    {
     "data": {
      "text/markdown": [
       "---"
      ],
      "text/plain": [
       "<IPython.core.display.Markdown object>"
      ]
     },
     "metadata": {},
     "output_type": "display_data"
    }
   ],
   "source": [
    "CREATE (                                           # CREATE request\n",
    "    f'{cseRN}/Notebook-AE',\n",
    "    \n",
    "    # Request Parameters\n",
    "    parameters = {\n",
    "        'X-M2M-Origin' : originator,               # Request's originator\n",
    "        'X-M2M-RI'     : '0',                      # Request identifier\n",
    "        'Accept'       : 'application/json',       # Response shall be JSON serialized\n",
    "        'Content-Type' : 'application/json;ty=3'   # Content is JSON, request creates a <container> resource\n",
    "    },\n",
    "    \n",
    "    # Request Content\n",
    "    content = {\n",
    "        \"m2m:cnt\": {\n",
    "            \"rn\":\"Container\"\n",
    "        }\n",
    "    }\n",
    ")"
   ]
  },
  {
   "cell_type": "markdown",
   "metadata": {},
   "source": [
    "The following attributes are used with the &lt;Container> resource:\n",
    "\n",
    "- **st** : The State Tag is incremented every time the resource is modified.\n",
    "- **mni** : Maximum number of direct data instances in the &lt;Container> resource.\n",
    "- **mbs** : Maximum size in bytes of data.\n",
    "- **mia** : Maximum age of a direct data instances in the &lt;Container> resource.\n",
    "- **cni** : Current number of direct data instances in the &lt;Container> resource.\n",
    "- **cbs** : Current size in bytes of data.\n",
    "- **ol** : Resource identifier of a virtual resource that points to the oldest data instance of the &lt;Container> resource.\n",
    "- **la** : Resource identifier of a virtual resource that points to the latest data instance of the &lt;Container> resource.\n",
    "\n",
    "**Note**: If you see an error \"409\" or \"Name already present\" then don't worry. It just means that an &lt;Container> resource with the same name already exists in the CSE, perhaps from a previous run of this notebook cell.\n",
    "\n",
    "## Add a &lt;ContentInstance> to the &lt;Container>\n",
    "\n",
    "Now, we add an actual value to the *myContainer* &lt;Container>. \n",
    "\n",
    "These attributes are part of the request:\n",
    "\n",
    "- **cnf** : This specifies the content format. It specifies the media type as well as an encoding type.\n",
    "- **con** : This is the actual content (ie. the value) that will be stored in the &lt;Container resource. It must contain media information and may optionally specify an optional content encoding (here 0 means \"plain, no transfer encoding\"), and content security.\n",
    "\n",
    "&lt;ContentInstance>'s can only be added and read, but not updated or deleted.\n",
    "\n",
    "**Note**: You can execute the following code as often as you like in order to create more &lt;ContentInstance> resources."
   ]
  },
  {
   "cell_type": "code",
   "execution_count": 3,
   "metadata": {},
   "outputs": [
    {
     "data": {
      "text/markdown": [
       "---\n",
       "### Request to \"http://localhost:8080/cse-in/Notebook-AE/Container\""
      ],
      "text/plain": [
       "<IPython.core.display.Markdown object>"
      ]
     },
     "metadata": {},
     "output_type": "display_data"
    },
    {
     "data": {
      "text/markdown": [
       "\n",
       "| Parameter | Value |\n",
       "|:---|:---|\n",
       "| X-M2M-Origin | CAdmin |\n",
       "| X-M2M-RI | 0 |\n",
       "| Accept | application/json |\n",
       "| Content-Type | application/json;ty=4 |\n"
      ],
      "text/plain": [
       "<IPython.core.display.Markdown object>"
      ]
     },
     "metadata": {},
     "output_type": "display_data"
    },
    {
     "data": {
      "text/markdown": [
       "\n",
       "#### Request Content\n"
      ],
      "text/plain": [
       "<IPython.core.display.Markdown object>"
      ]
     },
     "metadata": {},
     "output_type": "display_data"
    },
    {
     "data": {
      "text/markdown": [
       "{  \n",
       "&nbsp;&nbsp;&nbsp;&nbsp;\"[m2m:cin](#_blank \"content instance\")\": {  \n",
       "&nbsp;&nbsp;&nbsp;&nbsp;&nbsp;&nbsp;&nbsp;&nbsp;\"[cnf](#_blank \"content info\")\": \"text/plain:0\",  \n",
       "&nbsp;&nbsp;&nbsp;&nbsp;&nbsp;&nbsp;&nbsp;&nbsp;\"[con](#_blank \"content\")\": \"Hello, World!\"  \n",
       "&nbsp;&nbsp;&nbsp;&nbsp;}  \n",
       "}  \n"
      ],
      "text/plain": [
       "<IPython.core.display.Markdown object>"
      ]
     },
     "metadata": {},
     "output_type": "display_data"
    },
    {
     "data": {
      "text/markdown": [
       "---\n",
       "### Response"
      ],
      "text/plain": [
       "<IPython.core.display.Markdown object>"
      ]
     },
     "metadata": {},
     "output_type": "display_data"
    },
    {
     "data": {
      "text/markdown": [
       "<span style='color:red'>404 (NOT FOUND)</span>"
      ],
      "text/plain": [
       "<IPython.core.display.Markdown object>"
      ]
     },
     "metadata": {},
     "output_type": "display_data"
    },
    {
     "data": {
      "text/markdown": [
       "\n",
       "| Parameter | Value |\n",
       "|:---|:---|\n",
       "| Server | ACME 0.7.0-dev |\n",
       "| [X-M2M-RSC](#_blank \"The request's Result Status Code : It provides a status code about the operation\") | [4004](#_blank \"Not Found\") |\n",
       "| X-M2M-RI | 0 |\n",
       "| X-M2M-RVI | None |\n",
       "| Content-Type | application/json |\n",
       "| Content-Length | 40 |\n",
       "| Date | Sun, 21 Feb 2021 23:27:54 GMT |\n"
      ],
      "text/plain": [
       "<IPython.core.display.Markdown object>"
      ]
     },
     "metadata": {},
     "output_type": "display_data"
    },
    {
     "data": {
      "text/markdown": [
       "\n",
       "**Content**\n"
      ],
      "text/plain": [
       "<IPython.core.display.Markdown object>"
      ]
     },
     "metadata": {},
     "output_type": "display_data"
    },
    {
     "data": {
      "text/markdown": [
       "{  \n",
       "&nbsp;&nbsp;&nbsp;&nbsp;<span style='color:red'>\"[m2m:dbg](#_blank \"debug information\")\": \"parent resource not found\"</span>  \n",
       "}  \n"
      ],
      "text/plain": [
       "<IPython.core.display.Markdown object>"
      ]
     },
     "metadata": {},
     "output_type": "display_data"
    },
    {
     "data": {
      "text/markdown": [
       "---"
      ],
      "text/plain": [
       "<IPython.core.display.Markdown object>"
      ]
     },
     "metadata": {},
     "output_type": "display_data"
    }
   ],
   "source": [
    "CREATE (                                           # CREATE request\n",
    "    url + '/Notebook-AE/Container',\n",
    "    \n",
    "    # Request Headers\n",
    "    {\n",
    "        'X-M2M-Origin' : originator,               # Set the originator\n",
    "        'X-M2M-RI'     : '0',                      # Request identifier\n",
    "        'Accept'       : 'application/json',       # Response shall be JSON\n",
    "        'Content-Type' : 'application/json;ty=4'   # Content is JSON, and represents an <ContentInstance> resource\n",
    "    },\n",
    "    \n",
    "    # Request Body\n",
    "    {\n",
    "        \"m2m:cin\": {\n",
    "            \"cnf\": \"text/plain:0\",\n",
    "            \"con\": \"Hello, World!\"\n",
    "        }\n",
    "    }\n",
    ")"
   ]
  },
  {
   "cell_type": "markdown",
   "metadata": {},
   "source": [
    "A new attribute:\n",
    "\n",
    "- **cs** : This attribute contains the size of the content of the **con** attribute.\n",
    "\n",
    "## Retrieve the latest &lt;ContentInstance> resource\n",
    "This request will retrieve the latest data instance from the &lt;Container>."
   ]
  },
  {
   "cell_type": "code",
   "execution_count": 11,
   "metadata": {},
   "outputs": [
    {
     "data": {
      "text/markdown": [
       "Sending request to **http://localhost:8080/cse-in/Notebook-AE/Container/la**"
      ],
      "text/plain": [
       "<IPython.core.display.Markdown object>"
      ]
     },
     "metadata": {},
     "output_type": "display_data"
    },
    {
     "data": {
      "text/markdown": [
       "\n",
       "**Headers**\n",
       "\n"
      ],
      "text/plain": [
       "<IPython.core.display.Markdown object>"
      ]
     },
     "metadata": {},
     "output_type": "display_data"
    },
    {
     "data": {
      "text/markdown": [
       "| Header Field | Value |\n",
       "|:---|:---|\n",
       "| X-M2M-Origin | CAdmin |\n",
       "| X-M2M-RI | 0 |\n",
       "| Accept | application/json |\n"
      ],
      "text/plain": [
       "<IPython.core.display.Markdown object>"
      ]
     },
     "metadata": {},
     "output_type": "display_data"
    },
    {
     "data": {
      "text/markdown": [
       "---\n",
       "### Response"
      ],
      "text/plain": [
       "<IPython.core.display.Markdown object>"
      ]
     },
     "metadata": {},
     "output_type": "display_data"
    },
    {
     "data": {
      "text/markdown": [
       "<span style='color:green'>200 (OK)</span>"
      ],
      "text/plain": [
       "<IPython.core.display.Markdown object>"
      ]
     },
     "metadata": {},
     "output_type": "display_data"
    },
    {
     "data": {
      "text/markdown": [
       "\n",
       "**Headers**\n",
       "\n"
      ],
      "text/plain": [
       "<IPython.core.display.Markdown object>"
      ]
     },
     "metadata": {},
     "output_type": "display_data"
    },
    {
     "data": {
      "text/markdown": [
       "| Header Field | Value |\n",
       "|:---|:---|\n",
       "| Server | ACME 0.7.0-dev |\n",
       "| [X-M2M-RSC](#_blank \"The request's Result Status Code : It provides a status code about the operation\") | [2000](#_blank \"OK - The request succeeded\") |\n",
       "| X-M2M-RI | 0 |\n",
       "| X-M2M-RVI | None |\n",
       "| Content-Type | application/json |\n",
       "| Content-Length | 272 |\n",
       "| Date | Sun, 21 Feb 2021 21:48:13 GMT |\n"
      ],
      "text/plain": [
       "<IPython.core.display.Markdown object>"
      ]
     },
     "metadata": {},
     "output_type": "display_data"
    },
    {
     "data": {
      "text/markdown": [
       "\n",
       "**Body**\n"
      ],
      "text/plain": [
       "<IPython.core.display.Markdown object>"
      ]
     },
     "metadata": {},
     "output_type": "display_data"
    },
    {
     "data": {
      "text/markdown": [
       "{  \n",
       "&nbsp;&nbsp;&nbsp;&nbsp;\"[m2m:cin](#_blank \"content instance\")\": {  \n",
       "&nbsp;&nbsp;&nbsp;&nbsp;&nbsp;&nbsp;&nbsp;&nbsp;\"[cnf](#_blank \"content info\")\": \"text/plain:0\",  \n",
       "&nbsp;&nbsp;&nbsp;&nbsp;&nbsp;&nbsp;&nbsp;&nbsp;\"[con](#_blank \"content\")\": \"Hello, World!\",  \n",
       "&nbsp;&nbsp;&nbsp;&nbsp;&nbsp;&nbsp;&nbsp;&nbsp;\"[ri](#_blank \"resource identifier\")\": \"cin5052874453861657402\",  \n",
       "&nbsp;&nbsp;&nbsp;&nbsp;&nbsp;&nbsp;&nbsp;&nbsp;\"[rn](#_blank \"resource name  \n",
       "jhjhjk dksjekdjf kdsj dskjfdksjf dksjfkds jlksdjkds lkdjfkdsjf kkdjkds eoiui kdjkdsjkdjf sjahdsjhdsj ksjdkdsj jdksf...\")\": \"cin_W1l6npXJJy\",  \n",
       "&nbsp;&nbsp;&nbsp;&nbsp;&nbsp;&nbsp;&nbsp;&nbsp;\"[ct](#_blank \"creation time\")\": \"20210221T183218,425817\",  \n",
       "&nbsp;&nbsp;&nbsp;&nbsp;&nbsp;&nbsp;&nbsp;&nbsp;\"[lt](#_blank \"last modified time\")\": \"20210221T183218,425817\",  \n",
       "&nbsp;&nbsp;&nbsp;&nbsp;&nbsp;&nbsp;&nbsp;&nbsp;\"[et](#_blank \"expiration time\")\": \"20220221T183218,425853\",  \n",
       "&nbsp;&nbsp;&nbsp;&nbsp;&nbsp;&nbsp;&nbsp;&nbsp;\"[pi](#_blank \"parent identifier\")\": \"cnt3972778165262898416\",  \n",
       "&nbsp;&nbsp;&nbsp;&nbsp;&nbsp;&nbsp;&nbsp;&nbsp;\"[st](#_blank \"state tag\")\": 1,  \n",
       "&nbsp;&nbsp;&nbsp;&nbsp;&nbsp;&nbsp;&nbsp;&nbsp;\"[ty](#_blank \"resource type\")\": 4,  \n",
       "&nbsp;&nbsp;&nbsp;&nbsp;&nbsp;&nbsp;&nbsp;&nbsp;\"[cs](#_blank \"content size\")\": 13  \n",
       "&nbsp;&nbsp;&nbsp;&nbsp;}  \n",
       "}  \n"
      ],
      "text/plain": [
       "<IPython.core.display.Markdown object>"
      ]
     },
     "metadata": {},
     "output_type": "display_data"
    },
    {
     "data": {
      "text/markdown": [
       "---"
      ],
      "text/plain": [
       "<IPython.core.display.Markdown object>"
      ]
     },
     "metadata": {},
     "output_type": "display_data"
    }
   ],
   "source": [
    "RETRIEVE (                                          # RETRIEVE request\n",
    "    url + '/Notebook-AE/Container/la',\n",
    "    \n",
    "    # Request Headers\n",
    "    {\n",
    "        'X-M2M-Origin' : originator,                # Set the originator\n",
    "        'X-M2M-RI'     : '0',                       # Unique request identifier\n",
    "        'Accept'       : 'application/json'         # Response shall be JSON    \n",
    "    }\n",
    ")"
   ]
  },
  {
   "cell_type": "markdown",
   "metadata": {},
   "source": [
    "## Update the &lt;Container> Resource\n",
    "\n",
    "With this request we will set the *MinimumNumberOfInstances* (**mni**) attribute to a new value."
   ]
  },
  {
   "cell_type": "code",
   "execution_count": 6,
   "metadata": {},
   "outputs": [
    {
     "data": {
      "text/markdown": [
       "Sending request to **http://localhost:8080/cse-in/Notebook-AE/Container**"
      ],
      "text/plain": [
       "<IPython.core.display.Markdown object>"
      ]
     },
     "metadata": {},
     "output_type": "display_data"
    },
    {
     "data": {
      "text/markdown": [
       "\n",
       "**Headers**\n",
       "\n"
      ],
      "text/plain": [
       "<IPython.core.display.Markdown object>"
      ]
     },
     "metadata": {},
     "output_type": "display_data"
    },
    {
     "data": {
      "text/markdown": [
       "| Header Field | Value |\n",
       "|:---|:---|\n",
       "| X-M2M-Origin | CAdmin |\n",
       "| X-M2M-RI | 0 |\n",
       "| Accept | application/json |\n",
       "| Content-Type | application/json;ty=3 |\n"
      ],
      "text/plain": [
       "<IPython.core.display.Markdown object>"
      ]
     },
     "metadata": {},
     "output_type": "display_data"
    },
    {
     "data": {
      "text/markdown": [
       "\n",
       "**Body**\n"
      ],
      "text/plain": [
       "<IPython.core.display.Markdown object>"
      ]
     },
     "metadata": {},
     "output_type": "display_data"
    },
    {
     "data": {
      "text/markdown": [
       "{  \n",
       "&nbsp;&nbsp;&nbsp;&nbsp;\"[m2m:cnt](#_blank \"container\")\": {  \n",
       "&nbsp;&nbsp;&nbsp;&nbsp;&nbsp;&nbsp;&nbsp;&nbsp;\"[mni](#_blank \"max number of instances\")\": 10001  \n",
       "&nbsp;&nbsp;&nbsp;&nbsp;}  \n",
       "}  \n"
      ],
      "text/plain": [
       "<IPython.core.display.Markdown object>"
      ]
     },
     "metadata": {},
     "output_type": "display_data"
    },
    {
     "data": {
      "text/markdown": [
       "---\n",
       "### Response"
      ],
      "text/plain": [
       "<IPython.core.display.Markdown object>"
      ]
     },
     "metadata": {},
     "output_type": "display_data"
    },
    {
     "data": {
      "text/markdown": [
       "<span style='color:green'>200 (OK)</span>"
      ],
      "text/plain": [
       "<IPython.core.display.Markdown object>"
      ]
     },
     "metadata": {},
     "output_type": "display_data"
    },
    {
     "data": {
      "text/markdown": [
       "\n",
       "**Headers**\n",
       "\n"
      ],
      "text/plain": [
       "<IPython.core.display.Markdown object>"
      ]
     },
     "metadata": {},
     "output_type": "display_data"
    },
    {
     "data": {
      "text/markdown": [
       "| Header Field | Value |\n",
       "|:---|:---|\n",
       "| Server | ACME 0.7.0-dev |\n",
       "| [X-M2M-RSC](#_blank \"The request's Result Status Code : It provides a status code about the operation\") | [2004](#_blank \"Updated\") |\n",
       "| X-M2M-RI | 0 |\n",
       "| X-M2M-RVI | None |\n",
       "| Content-Type | application/json |\n",
       "| Content-Length | 248 |\n",
       "| Date | Sun, 21 Feb 2021 18:32:18 GMT |\n"
      ],
      "text/plain": [
       "<IPython.core.display.Markdown object>"
      ]
     },
     "metadata": {},
     "output_type": "display_data"
    },
    {
     "data": {
      "text/markdown": [
       "\n",
       "**Body**\n"
      ],
      "text/plain": [
       "<IPython.core.display.Markdown object>"
      ]
     },
     "metadata": {},
     "output_type": "display_data"
    },
    {
     "data": {
      "text/markdown": [
       "{  \n",
       "&nbsp;&nbsp;&nbsp;&nbsp;\"[m2m:cnt](#_blank \"container\")\": {  \n",
       "&nbsp;&nbsp;&nbsp;&nbsp;&nbsp;&nbsp;&nbsp;&nbsp;\"[rn](#_blank \"resource name  \n",
       "jhjhjk dksjekdjf kdsj dskjfdksjf dksjfkds jlksdjkds lkdjfkdsjf kkdjkds eoiui kdjkdsjkdjf sjahdsjhdsj ksjdkdsj jdksf...\")\": \"Container\",  \n",
       "&nbsp;&nbsp;&nbsp;&nbsp;&nbsp;&nbsp;&nbsp;&nbsp;\"[ri](#_blank \"resource identifier\")\": \"cnt3972778165262898416\",  \n",
       "&nbsp;&nbsp;&nbsp;&nbsp;&nbsp;&nbsp;&nbsp;&nbsp;\"[ct](#_blank \"creation time\")\": \"20210221T183218,318605\",  \n",
       "&nbsp;&nbsp;&nbsp;&nbsp;&nbsp;&nbsp;&nbsp;&nbsp;\"[lt](#_blank \"last modified time\")\": \"20210221T183218,588477\",  \n",
       "&nbsp;&nbsp;&nbsp;&nbsp;&nbsp;&nbsp;&nbsp;&nbsp;\"[et](#_blank \"expiration time\")\": \"20220221T183218,318643\",  \n",
       "&nbsp;&nbsp;&nbsp;&nbsp;&nbsp;&nbsp;&nbsp;&nbsp;\"[pi](#_blank \"parent identifier\")\": \"CePke89JxyK\",  \n",
       "&nbsp;&nbsp;&nbsp;&nbsp;&nbsp;&nbsp;&nbsp;&nbsp;\"[st](#_blank \"state tag\")\": 2,  \n",
       "&nbsp;&nbsp;&nbsp;&nbsp;&nbsp;&nbsp;&nbsp;&nbsp;\"[ty](#_blank \"resource type\")\": 3,  \n",
       "&nbsp;&nbsp;&nbsp;&nbsp;&nbsp;&nbsp;&nbsp;&nbsp;\"[mni](#_blank \"max number of instances\")\": 10001,  \n",
       "&nbsp;&nbsp;&nbsp;&nbsp;&nbsp;&nbsp;&nbsp;&nbsp;\"[mbs](#_blank \"max byte size\")\": 10000,  \n",
       "&nbsp;&nbsp;&nbsp;&nbsp;&nbsp;&nbsp;&nbsp;&nbsp;\"[cni](#_blank \"current number of instances\")\": 1,  \n",
       "&nbsp;&nbsp;&nbsp;&nbsp;&nbsp;&nbsp;&nbsp;&nbsp;\"[cbs](#_blank \"current byte size\")\": 13  \n",
       "&nbsp;&nbsp;&nbsp;&nbsp;}  \n",
       "}  \n"
      ],
      "text/plain": [
       "<IPython.core.display.Markdown object>"
      ]
     },
     "metadata": {},
     "output_type": "display_data"
    },
    {
     "data": {
      "text/markdown": [
       "---"
      ],
      "text/plain": [
       "<IPython.core.display.Markdown object>"
      ]
     },
     "metadata": {},
     "output_type": "display_data"
    }
   ],
   "source": [
    "UPDATE (                                           # UPDATE request\n",
    "    url + '/Notebook-AE/Container',\n",
    "    \n",
    "    # Request Headers\n",
    "    {\n",
    "        'X-M2M-Origin' : originator,               # Set the originator\n",
    "        'X-M2M-RI'     : '0',                      # Request identifier\n",
    "        'Accept'       : 'application/json',       # Response shall be JSON\n",
    "        'Content-Type' : 'application/json;ty=3'   # Content is JSON, and represents an <Container> resource\n",
    "    },\n",
    "    \n",
    "    # Request Body\n",
    "    {\n",
    "        \"m2m:cnt\": {\n",
    "            \"mni\": 10001\n",
    "        }\n",
    "    }\n",
    ")"
   ]
  },
  {
   "cell_type": "markdown",
   "metadata": {},
   "source": [
    "The CSE returns the resource. Also note the change of the *lastModificationTime* (lt) and *status* (st) attributes.\n",
    "\n",
    "## Check the &lt;Container> resource\n",
    "Retrieve the &lt;Container> resource to see all the changes and its current state."
   ]
  },
  {
   "cell_type": "code",
   "execution_count": 7,
   "metadata": {},
   "outputs": [
    {
     "data": {
      "text/markdown": [
       "Sending request to **http://localhost:8080/cse-in/Notebook-AE/Container**"
      ],
      "text/plain": [
       "<IPython.core.display.Markdown object>"
      ]
     },
     "metadata": {},
     "output_type": "display_data"
    },
    {
     "data": {
      "text/markdown": [
       "\n",
       "**Headers**\n",
       "\n"
      ],
      "text/plain": [
       "<IPython.core.display.Markdown object>"
      ]
     },
     "metadata": {},
     "output_type": "display_data"
    },
    {
     "data": {
      "text/markdown": [
       "| Header Field | Value |\n",
       "|:---|:---|\n",
       "| X-M2M-Origin | CAdmin |\n",
       "| X-M2M-RI | 0 |\n",
       "| Accept | application/json |\n"
      ],
      "text/plain": [
       "<IPython.core.display.Markdown object>"
      ]
     },
     "metadata": {},
     "output_type": "display_data"
    },
    {
     "data": {
      "text/markdown": [
       "---\n",
       "### Response"
      ],
      "text/plain": [
       "<IPython.core.display.Markdown object>"
      ]
     },
     "metadata": {},
     "output_type": "display_data"
    },
    {
     "data": {
      "text/markdown": [
       "<span style='color:green'>200 (OK)</span>"
      ],
      "text/plain": [
       "<IPython.core.display.Markdown object>"
      ]
     },
     "metadata": {},
     "output_type": "display_data"
    },
    {
     "data": {
      "text/markdown": [
       "\n",
       "**Headers**\n",
       "\n"
      ],
      "text/plain": [
       "<IPython.core.display.Markdown object>"
      ]
     },
     "metadata": {},
     "output_type": "display_data"
    },
    {
     "data": {
      "text/markdown": [
       "| Header Field | Value |\n",
       "|:---|:---|\n",
       "| Server | ACME 0.7.0-dev |\n",
       "| [X-M2M-RSC](#_blank \"The request's Result Status Code : It provides a status code about the operation\") | [2000](#_blank \"OK - The request succeeded\") |\n",
       "| X-M2M-RI | 0 |\n",
       "| X-M2M-RVI | None |\n",
       "| Content-Type | application/json |\n",
       "| Content-Length | 248 |\n",
       "| Date | Sun, 21 Feb 2021 18:32:18 GMT |\n"
      ],
      "text/plain": [
       "<IPython.core.display.Markdown object>"
      ]
     },
     "metadata": {},
     "output_type": "display_data"
    },
    {
     "data": {
      "text/markdown": [
       "\n",
       "**Body**\n"
      ],
      "text/plain": [
       "<IPython.core.display.Markdown object>"
      ]
     },
     "metadata": {},
     "output_type": "display_data"
    },
    {
     "data": {
      "text/markdown": [
       "{  \n",
       "&nbsp;&nbsp;&nbsp;&nbsp;\"[m2m:cnt](#_blank \"container\")\": {  \n",
       "&nbsp;&nbsp;&nbsp;&nbsp;&nbsp;&nbsp;&nbsp;&nbsp;\"[rn](#_blank \"resource name  \n",
       "jhjhjk dksjekdjf kdsj dskjfdksjf dksjfkds jlksdjkds lkdjfkdsjf kkdjkds eoiui kdjkdsjkdjf sjahdsjhdsj ksjdkdsj jdksf...\")\": \"Container\",  \n",
       "&nbsp;&nbsp;&nbsp;&nbsp;&nbsp;&nbsp;&nbsp;&nbsp;\"[ri](#_blank \"resource identifier\")\": \"cnt3972778165262898416\",  \n",
       "&nbsp;&nbsp;&nbsp;&nbsp;&nbsp;&nbsp;&nbsp;&nbsp;\"[ct](#_blank \"creation time\")\": \"20210221T183218,318605\",  \n",
       "&nbsp;&nbsp;&nbsp;&nbsp;&nbsp;&nbsp;&nbsp;&nbsp;\"[lt](#_blank \"last modified time\")\": \"20210221T183218,588477\",  \n",
       "&nbsp;&nbsp;&nbsp;&nbsp;&nbsp;&nbsp;&nbsp;&nbsp;\"[et](#_blank \"expiration time\")\": \"20220221T183218,318643\",  \n",
       "&nbsp;&nbsp;&nbsp;&nbsp;&nbsp;&nbsp;&nbsp;&nbsp;\"[pi](#_blank \"parent identifier\")\": \"CePke89JxyK\",  \n",
       "&nbsp;&nbsp;&nbsp;&nbsp;&nbsp;&nbsp;&nbsp;&nbsp;\"[st](#_blank \"state tag\")\": 2,  \n",
       "&nbsp;&nbsp;&nbsp;&nbsp;&nbsp;&nbsp;&nbsp;&nbsp;\"[ty](#_blank \"resource type\")\": 3,  \n",
       "&nbsp;&nbsp;&nbsp;&nbsp;&nbsp;&nbsp;&nbsp;&nbsp;\"[mni](#_blank \"max number of instances\")\": 10001,  \n",
       "&nbsp;&nbsp;&nbsp;&nbsp;&nbsp;&nbsp;&nbsp;&nbsp;\"[mbs](#_blank \"max byte size\")\": 10000,  \n",
       "&nbsp;&nbsp;&nbsp;&nbsp;&nbsp;&nbsp;&nbsp;&nbsp;\"[cni](#_blank \"current number of instances\")\": 1,  \n",
       "&nbsp;&nbsp;&nbsp;&nbsp;&nbsp;&nbsp;&nbsp;&nbsp;\"[cbs](#_blank \"current byte size\")\": 13  \n",
       "&nbsp;&nbsp;&nbsp;&nbsp;}  \n",
       "}  \n"
      ],
      "text/plain": [
       "<IPython.core.display.Markdown object>"
      ]
     },
     "metadata": {},
     "output_type": "display_data"
    },
    {
     "data": {
      "text/markdown": [
       "---"
      ],
      "text/plain": [
       "<IPython.core.display.Markdown object>"
      ]
     },
     "metadata": {},
     "output_type": "display_data"
    }
   ],
   "source": [
    "RETRIEVE (                                          # RETRIEVE request\n",
    "    url + '/Notebook-AE/Container',\n",
    "    \n",
    "    # Request Headers\n",
    "    {\n",
    "        'X-M2M-Origin' : originator,                # Set the originator\n",
    "        'X-M2M-RI'     : '0',                       # Unique request identifier\n",
    "        'Accept'       : 'application/json'         # Response shall be JSON    \n",
    "    }\n",
    ")"
   ]
  },
  {
   "cell_type": "markdown",
   "metadata": {},
   "source": [
    "The CSE returns the resource."
   ]
  }
 ],
 "metadata": {
  "kernelspec": {
   "display_name": "Python 3",
   "language": "python",
   "name": "python3"
  },
  "language_info": {
   "codemirror_mode": {
    "name": "ipython",
    "version": 3
   },
   "file_extension": ".py",
   "mimetype": "text/x-python",
   "name": "python",
   "nbconvert_exporter": "python",
   "pygments_lexer": "ipython3",
   "version": "3.8.2"
  },
  "toc-autonumbering": false,
  "toc-showmarkdowntxt": false
 },
 "nbformat": 4,
 "nbformat_minor": 4
}
