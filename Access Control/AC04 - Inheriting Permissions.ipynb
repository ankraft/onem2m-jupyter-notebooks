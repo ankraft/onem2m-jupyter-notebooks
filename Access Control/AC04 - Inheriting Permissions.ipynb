{
 "cells": [
  {
   "cell_type": "markdown",
   "id": "welsh-convergence",
   "metadata": {},
   "source": [
    "# Access Control - Inheriting Permissions\n",
    "\n",
    "This notebook will demonstrate how a resource inherits permissions. \n",
    "\n",
    "- Create a resource without own *accessControlPolicyIDs* attribute\n",
    "- Access the resource from another originator\n",
    "\n",
    "\n",
    "## Intitialization\n",
    "<div class=\"alert alert-block alert-info\" style=\"border-radius: 10px;\">\n",
    "This notebook relies on the resources created in the exercise's previous notebooks.\n",
    "<br/>\n",
    "\n",
    "The following section imports and initializes necessary functions and configurations. \n",
    "It must be executed once for each notebook before running any of cells.</div>"
   ]
  },
  {
   "cell_type": "code",
   "execution_count": null,
   "id": "amateur-incentive",
   "metadata": {},
   "outputs": [],
   "source": [
    "%run ../src/init.py"
   ]
  },
  {
   "cell_type": "markdown",
   "id": "magnetic-couple",
   "metadata": {},
   "source": [
    "## Alice adds a \\<contentInstance> resource\n",
    "\n",
    "With the following request Alice adds a \\<contentInstance> resource to the \\<cnt> resource:"
   ]
  },
  {
   "cell_type": "code",
   "execution_count": null,
   "id": "forbidden-denver",
   "metadata": {},
   "outputs": [],
   "source": [
    "CREATE (                                                      # CREATE request\n",
    "    target                  = f'{cseRN}/aeAlice/container',   # Create the <cin> under aeAlice's <cnt>\n",
    "    originator              = 'CAlice',                       # Request's originator (mandatory)\n",
    "    requestIdentifier       = '123',                          # Request identifier (mandatory)\n",
    "    releaseVersionIndicator = '3',                            # Request's release version indicator (mandatory)\n",
    "    resourceType            = Type.ContentInstance,           # The request creates a <cin> resource\n",
    "    \n",
    "    # Request Content\n",
    "    content = {\n",
    "        \"m2m:cin\": {\n",
    "            \"rn\" : \"cin\",                                     # Assign a nice resource name so that we can access the resource easier\n",
    "            \"con\": \"hello, world\"                             # Only add some content\n",
    "        }\n",
    "    }\n",
    ")"
   ]
  },
  {
   "cell_type": "markdown",
   "id": "precious-crossing",
   "metadata": {},
   "source": [
    "## Bob tries to retrieve Alice's \\<contentInstance> resource\n",
    "\n",
    "In one of the previous exercises Alice created an \\<accessControlPolicy> resource that defines RETRIEVE permissions for Bob, and assigned them to the container. \n",
    "\n",
    "But how does this relate to the \\<contentInstance>, which is only a child-resource of the \\<container>?"
   ]
  },
  {
   "cell_type": "code",
   "execution_count": null,
   "id": "understood-packaging",
   "metadata": {},
   "outputs": [],
   "source": [
    "RETRIEVE (                                                       # RETRIEVE request\n",
    "    target                  = f'{cseRN}/aeAlice/container/cin',  # Target resource is the <cin> under Alice's <cnt>\n",
    "    originator              = 'CBob',                            # Request's originator is CBob (mandatory)\n",
    "    requestIdentifier       = '123',                             # Request identifier (mandatory)\n",
    "    releaseVersionIndicator = '3'                                # Request's release version indicator (mandatory)\n",
    ")"
   ]
  },
  {
   "cell_type": "markdown",
   "id": "novel-apollo",
   "metadata": {},
   "source": [
    "Bob can access the \\<contentInstance> resource, even when there is no explicit \\<accessControlPolicy> resource defined. How does this work?\n",
    "\n",
    "If we have a look at the \\<contentInstance>'s specification then we will notice that this resource type does not have the *accessControlPolicyIDs* attribute defined. In this case the following rule applies.\n",
    "\n",
    "<div class=\"alert alert-block alert-success\" style=\"border-radius: 10px\">\n",
    "Some resource types do not have their own <i>accessControlPolicyIDs</i> attribute, but inherit the permissions or access authorizations from the parent resource. The authorization for those resources is not determined when the resources are created, but happens dynamically at runtime. \n",
    "    \n",
    "This also means if the permissions for a parent resource change between two requests, then the permissions indirectly also change for its children.\n",
    "\n",
    "Please note, that this only applies to resource types that don't have this attribute defined. It does NOT apply to resources that have the <i>accessControlPolicyIDs</i> attribute defined, but just not set. In those cases other rules apply, such as the one that, as a default, grants access to the original creator.\n",
    "</div>"
   ]
  },
  {
   "cell_type": "markdown",
   "id": "metallic-trash",
   "metadata": {},
   "source": [
    "&nbsp;"
   ]
  }
 ],
 "metadata": {
  "kernelspec": {
   "display_name": "Python 3",
   "language": "python",
   "name": "python3"
  },
  "language_info": {
   "codemirror_mode": {
    "name": "ipython",
    "version": 3
   },
   "file_extension": ".py",
   "mimetype": "text/x-python",
   "name": "python",
   "nbconvert_exporter": "python",
   "pygments_lexer": "ipython3",
   "version": "3.8.2"
  }
 },
 "nbformat": 4,
 "nbformat_minor": 5
}
