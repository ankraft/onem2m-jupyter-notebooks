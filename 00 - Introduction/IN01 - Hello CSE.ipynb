{
 "cells": [
  {
   "cell_type": "markdown",
   "metadata": {},
   "source": [
    "# Hello, CSE - First Contact\n",
    "This notebook shows the the first basic interactions with a CSE using a RETRIEVE request to get the root \\<CSEBase> resource. It also explains some of the basics when working with these notebooks.\n",
    "\n",
    "- Introduction to oneM2M requests\n",
    "- RETRIEVE the \\<CSEBase> resource\n",
    "\n",
    "## Intitialization\n",
    "<div class=\"alert alert-block alert-info\" style=\"border-radius: 10px;\">\n",
    "The following section imports and initializes necessary functions and configurations. \n",
    "It must be executed once for each notebook before running any of cells.\n",
    "<br/>\n",
    "</div>"
   ]
  },
  {
   "cell_type": "code",
   "execution_count": null,
   "metadata": {},
   "outputs": [],
   "source": [
    "%run ../src/init.py"
   ]
  },
  {
   "cell_type": "markdown",
   "metadata": {},
   "source": [
    "## Retrieve the \\<CSEBase> resource\n",
    "This first exercise retrieves the \\<CSEBase> resource from the CSE. \n",
    "\n",
    "<div class=\"alert alert-block alert-success\" style=\"border-radius: 10px\">\n",
    "The &lt;CSEBase> resource type represents the root of the resource tree as well as certain aspects of the CSE installation itself. This includes, for example, the type of CSE (IN-CSE, MN-CSE, or ASN-CSE), the supported resource types, and the supported content serializations. All other resources are located under this root resource.\n",
    "</div>\n",
    "\n",
    "\n",
    "\n",
    "<div class=\"alert alert-block alert-info\" style=\"border-radius: 10px;\">\n",
    "\n",
    "When you run the following cell the request is made. In the cell output details about the request and response as well as the current resource tree are presented. The output could be lengthy, so please scroll down.\n",
    "\n",
    "After the request returns you may hover your mouse over parameters, attributes and some of the values to see further information about them.\n",
    "\n",
    "<b>Note</b>: If you see an error message that looks like program code then, most likely, you forgot to run the initialization cell above.\n",
    "</div>\n"
   ]
  },
  {
   "cell_type": "code",
   "execution_count": null,
   "metadata": {
    "scrolled": false
   },
   "outputs": [],
   "source": [
    "RETRIEVE (                              # RETRIEVE request\n",
    "    target                  = cseRN,    # Target resource\n",
    "    originator              = 'CAdmin', # Request's originator (mandatory)\n",
    "    requestIdentifier       = '123',    # Request identifier (mandatory)\n",
    "    releaseVersionIndicator = '3'       # Request's release version indicator (mandatory)\n",
    ")"
   ]
  },
  {
   "cell_type": "markdown",
   "metadata": {},
   "source": [
    "&nbsp;"
   ]
  }
 ],
 "metadata": {
  "kernelspec": {
   "display_name": "Python 3",
   "language": "python",
   "name": "python3"
  },
  "language_info": {
   "codemirror_mode": {
    "name": "ipython",
    "version": 3
   },
   "file_extension": ".py",
   "mimetype": "text/x-python",
   "name": "python",
   "nbconvert_exporter": "python",
   "pygments_lexer": "ipython3",
   "version": "3.8.2"
  }
 },
 "nbformat": 4,
 "nbformat_minor": 4
}
