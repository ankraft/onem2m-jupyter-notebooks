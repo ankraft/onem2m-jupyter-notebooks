{
 "cells": [
  {
   "cell_type": "markdown",
   "metadata": {},
   "source": [
    "# oneM2M - FlexContainers\n",
    "\n",
    "This notebook demonstrates how one can create &lt;FlexContainer> Resources and how to make use of pre-defined and more standardized data structures.\n",
    "\n",
    "&lt;FlexContainer> resources cannot directly be instantiated. Instead, they can be seen as a base for  specialized resource definitions with a given structure and meaning. oneM2M defines in its specification *TS-0023* a number of those &lt;FlexContainer> specialisations for various application domains. \n",
    "\n",
    "In this notebook we use the &lt;FlexContainer> specialization for *Colour*, which consists of three RGB data points, ie. *red*, *green*, and *blue*.\n",
    "\n",
    "\n",
    "- Create a &lt;FlexContainer> specialization resource \n",
    "- Update a &lt;FlexContainer> resource\n",
    "- Retrieve a &lt;FlexContainer> resource\n",
    "\n",
    "## Intitialization\n",
    "The section does import necessary modules and configurations."
   ]
  },
  {
   "cell_type": "code",
   "execution_count": null,
   "metadata": {},
   "outputs": [],
   "source": [
    "%run init.py"
   ]
  },
  {
   "cell_type": "markdown",
   "metadata": {},
   "source": [
    "## Create a &lt;FlexContainer> \"Colour\" Resource\n",
    "\n",
    "This request will create a &lt;FlexContainer> resource that follows oneM2M's \"hd:color\" specialization. One advantage of a &lt;FlexContainer> over a normal &lt;Container> resource is that it contains all data points of a data structure in one place, ie. all data points are updated at once.\n",
    "\n",
    "One important thing to notice that is also different from other requests is that the name tag of the resource, \"hd:color\", follows specialization type, not the resource type.\n",
    "\n",
    "The &lt;FlexContainer> in the request contain the following new attributes:\n",
    "\n",
    "- **cnd** : The Container Definition attribute contains the type of the specialization, usually in reverse domain notation.\n",
    "\n",
    "The other attributes are specialization specific and represent the functional data points:\n",
    "\n",
    "- **red** : The data point for the RGB red channel.\n",
    "- **green** : The data point for the RGB green channel.\n",
    "- **blue** : The data point for the RGB blue channel.\n"
   ]
  },
  {
   "cell_type": "code",
   "execution_count": null,
   "metadata": {},
   "outputs": [],
   "source": [
    "CREATE (                                           # CREATE request\n",
    "    url + '/Notebook-AE',\n",
    "    \n",
    "    # Request Headers\n",
    "    {\n",
    "        'X-M2M-Origin' : originator,               # Set the originator\n",
    "        'X-M2M-RI'     : '0',                      # Request identifier\n",
    "        'Accept'       : 'application/json',       # Response shall be JSON\n",
    "        'Content-Type' : 'application/json;ty=28'  # Content is JSON, and represents a <FlexContainer> resource\n",
    "    },\n",
    "    \n",
    "    # Request Body\n",
    "    {\n",
    "        \"hd:color\": {\n",
    "            \"rn\":\"Color\",\n",
    "            \"cnd\" : \"org.onem2m.home.moduleclass.colour\",\n",
    "            \"red\" : 0,\n",
    "            \"green\" : 255,\n",
    "            \"blue\" : 0\n",
    "        }\n",
    "    }\n",
    ")"
   ]
  },
  {
   "cell_type": "markdown",
   "metadata": {},
   "source": [
    "## Update the &lt;FlexContainer> \"Colour\" Resource\n",
    "\n",
    "A &lt;FlexContainer> can be updated as any other resource. This implies that it is possible to update only individual data points of a data structure. In the following request we only update the RGB *red* data point."
   ]
  },
  {
   "cell_type": "code",
   "execution_count": null,
   "metadata": {},
   "outputs": [],
   "source": [
    "UPDATE (                                           # UPDATE request\n",
    "    url + '/Notebook-AE/Color',\n",
    "    \n",
    "    # Request Headers\n",
    "    {\n",
    "        'X-M2M-Origin' : originator,               # Set the originator\n",
    "        'X-M2M-RI'     : '0',                      # Request identifier\n",
    "        'Accept'       : 'application/json',       # Response shall be JSON\n",
    "        'Content-Type' : 'application/json'        # Content is JSON, and represents a <FlexContainer> resource\n",
    "    },\n",
    "    \n",
    "    # Request Body\n",
    "    {\n",
    "        \"hd:color\": {\n",
    "            \"red\" : 255\n",
    "        }\n",
    "    }\n",
    ")"
   ]
  },
  {
   "cell_type": "markdown",
   "metadata": {},
   "source": [
    "As usual, only the changed data points are returned by the request.\n",
    "\n",
    "## Retrieve the &lt;FlexContainer> Resource\n",
    "This request retrieves the full &lt;FlexContainer> resource."
   ]
  },
  {
   "cell_type": "code",
   "execution_count": null,
   "metadata": {},
   "outputs": [],
   "source": [
    "RETRIEVE (                                          # RETRIEVE request\n",
    "    url + '/Notebook-AE/Color',\n",
    "    \n",
    "    # Request Headers\n",
    "    {\n",
    "        'X-M2M-Origin' : originator,                # Set the originator\n",
    "        'X-M2M-RI'     : '1',                       # Unique request identifier\n",
    "        'Accept'       : 'application/json'         # Response shall be JSON    \n",
    "    }\n",
    ")"
   ]
  },
  {
   "cell_type": "markdown",
   "metadata": {},
   "source": [
    " "
   ]
  }
 ],
 "metadata": {
  "kernelspec": {
   "display_name": "Python 3",
   "language": "python",
   "name": "python3"
  },
  "language_info": {
   "codemirror_mode": {
    "name": "ipython",
    "version": 3
   },
   "file_extension": ".py",
   "mimetype": "text/x-python",
   "name": "python",
   "nbconvert_exporter": "python",
   "pygments_lexer": "ipython3",
   "version": "3.8.2"
  }
 },
 "nbformat": 4,
 "nbformat_minor": 2
}
