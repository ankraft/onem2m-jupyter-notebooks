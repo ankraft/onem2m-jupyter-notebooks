{
 "cells": [
  {
   "cell_type": "markdown",
   "id": "horizontal-webmaster",
   "metadata": {},
   "source": [
    "# AE - Application Entities\n",
    "\n",
    "These exercises introduce oneM2M Application Entities.\n",
    "\n",
    "You should run these notebooks in order because they build on each other.\n",
    "\n",
    "<div style='display:flex;'>\n",
    "  <div style='flex:0 0 65%;margin:5px;'>\n",
    "    <ul>\n",
    "    <li><a href=\"AE01%20-%20Introduction%20to%20AEs.ipynb\">AE01 - Introduction to AEs</a><br/>Introducing the concepts around Application Entities.</li>\n",
    "    <li><a href=\"AE02%20-%20Registering%20AEs.ipynb\">AE02 - Registering AEs</a><br />Register your first Application Entities.</li>\n",
    "      <li><a href=\"AE03%20-%20Updating%20an%20AE.ipynb\">AE03 - Updating an AE</a><br />Add and update new values of an &lt;AE> resource.</li>\n",
    "      <li><a href=\"AE04%20-%20Deregistering%20AEs.ipynb\">AE04 - Deregistering AEs</a><br />Deregister the &lt;AE> resources</li>\n",
    "      </ul>\n",
    "  </div>\n",
    "  <div style='flex: 1;margin:auto;'><img src=\"start.png\">\n",
    "    </div>\n",
    "</div>\n",
    "\n",
    "\n"
   ]
  },
  {
   "cell_type": "markdown",
   "id": "personalized-mechanism",
   "metadata": {},
   "source": [
    "&nbsp;"
   ]
  }
 ],
 "metadata": {
  "kernelspec": {
   "display_name": "Python 3",
   "language": "python",
   "name": "python3"
  },
  "language_info": {
   "codemirror_mode": {
    "name": "ipython",
    "version": 3
   },
   "file_extension": ".py",
   "mimetype": "text/x-python",
   "name": "python",
   "nbconvert_exporter": "python",
   "pygments_lexer": "ipython3",
   "version": "3.8.2"
  }
 },
 "nbformat": 4,
 "nbformat_minor": 5
}
