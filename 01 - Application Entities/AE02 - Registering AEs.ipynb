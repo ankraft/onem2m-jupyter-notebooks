{
 "cells": [
  {
   "cell_type": "markdown",
   "id": "rural-printer",
   "metadata": {},
   "source": [
    "# Application Entity - Registering AEs\n",
    "\n",
    "This notebook will show how to create and register \\<AE> resources.\n",
    "\n",
    "- Register an \\<AE> resource with a predefined AE-iD\n",
    "- Register an \\<AE> resource with a new AE-ID\n",
    "- Register an \\<AE> resource with a wrong AE-ID\n",
    "\n",
    "\n",
    "## Intitialization\n",
    "\n",
    "<div class=\"alert alert-block alert-info\" style=\"border-radius: 10px;\">\n",
    "The following section imports and initializes necessary functions and configurations. \n",
    "It must be executed once for each notebook before running any of cells.</div>"
   ]
  },
  {
   "cell_type": "code",
   "execution_count": null,
   "id": "equivalent-soundtrack",
   "metadata": {
    "scrolled": true
   },
   "outputs": [],
   "source": [
    "%run ../src/init.py"
   ]
  },
  {
   "cell_type": "markdown",
   "id": "rough-mattress",
   "metadata": {},
   "source": [
    "## Alice registers an \\<AE> resource with a predefined originator\n",
    "\n",
    "Alice needs to register an \\<AE> resource in order for future communications with the CSE as well as to have a root resource for the application's data structures. \n",
    "\n",
    "<div class=\"alert alert-block alert-success\" style=\"border-radius: 10px\">\n",
    "In the following request Alice passes the predefined originator <i>CAlice</i> in the CREATE request to the CSE. When an &lt;AE> resource is created this way then this originator is also taken as the AE-ID. This is called <i>re-registration</i>.\n",
    "</div>\n",
    "\n"
   ]
  },
  {
   "cell_type": "code",
   "execution_count": null,
   "id": "popular-tribute",
   "metadata": {
    "scrolled": false
   },
   "outputs": [],
   "source": [
    "CREATE (                                       # CREATE request\n",
    "    target                  = f'{cseRN}',      # Create the <AE> directly under the CSEBase\n",
    "    originator              = 'CAlice',        # Request's originator (mandatory)\n",
    "    requestIdentifier       = '123',           # Request identifier (mandatory)\n",
    "    releaseVersionIndicator = '3',             # Request's release version indicator (mandatory)\n",
    "    resourceType            = 2,               # The request creates an <AE> resource\n",
    "    \n",
    "    # Request Content\n",
    "    content = {\n",
    "        'm2m:ae': {\n",
    "            'rn': 'aeAlice',                   # Give the <AE> resource the name 'aeAlice'\n",
    "            'api': 'NnbAE1',                   # An arbitrary App-ID\n",
    "            'rr': False,                       # No need for request reachability\n",
    "            'srv': [ '3' ]                     # Supported release version is 3\n",
    "\n",
    "        }\n",
    "    }\n",
    ")"
   ]
  },
  {
   "cell_type": "markdown",
   "id": "composed-consensus",
   "metadata": {},
   "source": [
    "## Bob registers an \\<AE> resource without a predefined originator\n",
    "\n",
    "Now in the next request Bob will register another \\<AE> resource, but he doesn't care about the name of the AE-ID and orginator. He will let the CSE create one for him. \n",
    "\n",
    "<div class=\"alert alert-block alert-success\" style=\"border-radius: 10px\">\n",
    "In the following request Bob only passes the originator <i>C</i> in the CREATE request to the CSE. When the &lt;AE> resource is created this way then the CSE creates a new random AE-ID / originator. In all the following requests the AE-ID must be used as the (new) originator.\n",
    "</div>\n"
   ]
  },
  {
   "cell_type": "code",
   "execution_count": null,
   "id": "valued-directive",
   "metadata": {},
   "outputs": [],
   "source": [
    "CREATE (                                       # CREATE request\n",
    "    target                  = f'{cseRN}',      # Create the <AE> directly under the CSEBase\n",
    "    originator              = 'C',             # Request's originator (mandatory)\n",
    "    requestIdentifier       = '123',           # Request identifier (mandatory)\n",
    "    releaseVersionIndicator = '3',             # Request's release version indicator (mandatory)\n",
    "    resourceType            = 2,               # The request creates an <AE> resource\n",
    "    \n",
    "    # Request Content\n",
    "    content = {\n",
    "        'm2m:ae': {\n",
    "            'rn': 'aeBob',                     # Give the <AE> resource the name 'aeBob'\n",
    "            'api': 'NnbAE2',                   # An arbitrary App-ID\n",
    "            'rr': False,                       # No need for request reachability\n",
    "            'srv': [ '3' ]                     # Supported release version is 3\n",
    "\n",
    "        }\n",
    "    }\n",
    ")"
   ]
  },
  {
   "cell_type": "markdown",
   "id": "executive-congo",
   "metadata": {},
   "source": [
    "## Alice tries to register an \\<AE> with an invalid originator\n",
    "\n",
    "Next, let's Alice try to register another \\<AE> resource. But she will neither use re-registration nor a CSE-assigned AE-ID but an invalid AE-ID instead."
   ]
  },
  {
   "cell_type": "code",
   "execution_count": null,
   "id": "talented-qualification",
   "metadata": {},
   "outputs": [],
   "source": [
    "CREATE (                                       # CREATE request\n",
    "    target                  = f'{cseRN}',      # Create the <AE> directly under the CSEBase\n",
    "    originator              = 'invalid',       # Request's originator (mandatory)\n",
    "    requestIdentifier       = '123',           # Request identifier (mandatory)\n",
    "    releaseVersionIndicator = '3',             # Request's release version indicator (mandatory)\n",
    "    resourceType            = 2,               # The request creates an <AE> resource\n",
    "    \n",
    "    # Request Content\n",
    "    content = {\n",
    "        'm2m:ae': {\n",
    "            'rn': 'aeCarol',                   # Give the <AE> resource the name 'aeCarol'\n",
    "            'api': 'NnbAE3',                   # An arbitrary App-ID\n",
    "            'rr': False,                       # No need for request reachability\n",
    "            'srv': [ '3' ]                     # Supported release version is 3\n",
    "\n",
    "        }\n",
    "    }\n",
    ")"
   ]
  },
  {
   "cell_type": "markdown",
   "id": "durable-puzzle",
   "metadata": {},
   "source": [
    "This request **fails** with an error message."
   ]
  }
 ],
 "metadata": {
  "kernelspec": {
   "display_name": "Python 3",
   "language": "python",
   "name": "python3"
  },
  "language_info": {
   "codemirror_mode": {
    "name": "ipython",
    "version": 3
   },
   "file_extension": ".py",
   "mimetype": "text/x-python",
   "name": "python",
   "nbconvert_exporter": "python",
   "pygments_lexer": "ipython3",
   "version": "3.8.2"
  }
 },
 "nbformat": 4,
 "nbformat_minor": 5
}
