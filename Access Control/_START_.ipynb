{
 "cells": [
  {
   "cell_type": "markdown",
   "id": "horizontal-webmaster",
   "metadata": {},
   "source": [
    "# Access Control\n",
    "\n",
    "These notebooks introduce oneM2M access control policies.\n",
    "\n",
    "You should run these notebooks in order because they build on each other.\n",
    "\n",
    "\n",
    "- [AC01 - Preparing Resources](AC01%20-%20Preparing%20Resources.ipynb)  \n",
    "Create two \\<AE>'s and their resource structures.\n",
    "- [AC02 - Creating and assigning an ACP Resource](AC02%20-%20Creating%20an%20ACP%20Resource.ipynb)  \n",
    "Create an \\<ACP> resource, and assign it to a \\<container> resource.\n",
    "- [AC03 - How does Access Control work](AC03%20-%20How%20does%20Access%20Control%20work.ipynb)  \n",
    "An introduction to oneM2M's access control with \\<ACP> resources.\n",
    "- [AC04 - Inheriting Permissions](AC04%20-%20Inheriting%20Permissions.ipynb)  \n",
    "Inherit permissions from the parent resource.\n",
    "- [AC05 - Assigning a Holder](AC05%20-%20Assigning%20a%20Holder.ipynb)  \n",
    "Pass ownership of a resource to another originator.\n",
    "- TODO : Detele resources fro this lecture"
   ]
  },
  {
   "cell_type": "markdown",
   "id": "personalized-mechanism",
   "metadata": {},
   "source": [
    "&nbsp;"
   ]
  }
 ],
 "metadata": {
  "kernelspec": {
   "display_name": "Python 3",
   "language": "python",
   "name": "python3"
  },
  "language_info": {
   "codemirror_mode": {
    "name": "ipython",
    "version": 3
   },
   "file_extension": ".py",
   "mimetype": "text/x-python",
   "name": "python",
   "nbconvert_exporter": "python",
   "pygments_lexer": "ipython3",
   "version": "3.8.2"
  }
 },
 "nbformat": 4,
 "nbformat_minor": 5
}
