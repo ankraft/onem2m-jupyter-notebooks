{
 "cells": [
  {
   "cell_type": "markdown",
   "id": "welsh-convergence",
   "metadata": {},
   "source": [
    "# Access Control - Assigning a holder\n",
    "\n",
    "This notebook will demonstrate to pass the ownership of a resource to another originator. \n",
    "\n",
    "- Create a new resource without own *accessControlPolicyIDs* attribute\n",
    "- Assign the ownership of that resource to someone else\n",
    "\n",
    "\n",
    "## Intitialization\n",
    "<div class=\"alert alert-block alert-info\" style=\"border-radius: 10px;\">\n",
    "This notebook relies on the resources created in the exercise's previous notebooks.\n",
    "<br/>\n",
    "    \n",
    "The following section imports and initializes necessary functions and configurations. \n",
    "It must be executed once for each notebook before running any of cells.\n",
    "<br/>\n",
    "    \n",
    "<b>Also make sure that the CSE is running!</b>\n",
    "</div>"
   ]
  },
  {
   "cell_type": "code",
   "execution_count": null,
   "id": "amateur-incentive",
   "metadata": {},
   "outputs": [],
   "source": [
    "%run ../src/init.py"
   ]
  },
  {
   "cell_type": "markdown",
   "id": "magnetic-couple",
   "metadata": {},
   "source": [
    "## Bob adds a \\<container> resource\n",
    "\n",
    "This time Bob will create a new \\<container> resource under his \\<AE> resource:"
   ]
  },
  {
   "cell_type": "code",
   "execution_count": null,
   "id": "forbidden-denver",
   "metadata": {},
   "outputs": [],
   "source": [
    "CREATE (                                           # CREATE request\n",
    "    target                  = f'{cseRN}/aeBob',    # Create the <cnt> under aeBob\n",
    "    originator              = 'CBob',              # Request's originator (mandatory)\n",
    "    requestIdentifier       = '123',               # Request identifier (mandatory)\n",
    "    releaseVersionIndicator = '3',                 # Request's release version indicator (mandatory)\n",
    "    resourceType            = tyContainer,         # The request creates an <container> resource\n",
    "\n",
    "    # Request Content\n",
    "    content = {\n",
    "        'm2m:cnt': {\n",
    "            'rn': 'bobsContainer'\n",
    "        }\n",
    "    }\n",
    ")"
   ]
  },
  {
   "cell_type": "markdown",
   "id": "precious-crossing",
   "metadata": {},
   "source": [
    "## Bob tries to retrieve the \\<container> resource\n",
    "\n",
    "Bob tries to retrieve the newly created \\<container> resource. This should succeed:"
   ]
  },
  {
   "cell_type": "code",
   "execution_count": null,
   "id": "understood-packaging",
   "metadata": {},
   "outputs": [],
   "source": [
    "RETRIEVE (                                                     # RETRIEVE request\n",
    "    target                  = f'{cseRN}/aeBob/bobsContainer',  # Target resource is the <cnt> under Bob's <AE>\n",
    "    originator              = 'CBob',                          # Request's originator is Bob (mandatory)\n",
    "    requestIdentifier       = '123',                           # Request identifier (mandatory)\n",
    "    releaseVersionIndicator = '3'                              # Request's release version indicator (mandatory)\n",
    ")"
   ]
  },
  {
   "cell_type": "markdown",
   "id": "novel-apollo",
   "metadata": {},
   "source": [
    "As expected this works.\n",
    "\n",
    "## Alice tries to retrieve Bob's \\<container> resource\n",
    "\n",
    "Now, Alice will try to retrieve Bob's \\<container> resource. This should fail, because we have no extra access control policies created for this \\<container>."
   ]
  },
  {
   "cell_type": "code",
   "execution_count": null,
   "id": "technical-mustang",
   "metadata": {
    "scrolled": false
   },
   "outputs": [],
   "source": [
    "RETRIEVE (                                                     # RETRIEVE request\n",
    "    target                  = f'{cseRN}/aeBob/bobsContainer',  # Target resource is the <cnt> under Bob's <AE>\n",
    "    originator              = 'CAlice',                        # Request's originator is Alice (mandatory)\n",
    "    requestIdentifier       = '123',                           # Request identifier (mandatory)\n",
    "    releaseVersionIndicator = '3'                              # Request's release version indicator (mandatory)\n",
    ")"
   ]
  },
  {
   "cell_type": "markdown",
   "id": "phantom-retail",
   "metadata": {},
   "source": [
    "As expected this **fails** as Alice has no permissions and so the request fails.\n",
    "\n",
    "## Bob passes on the ownership of the \\<container> resource\n",
    "\n",
    "With the following request Bob gives ownership of the \\<container> resource to Alice:"
   ]
  },
  {
   "cell_type": "code",
   "execution_count": null,
   "id": "muslim-johns",
   "metadata": {},
   "outputs": [],
   "source": [
    "UPDATE (                                                      # UPDATE request\n",
    "    target                  = f'{cseRN}/aeBob/bobsContainer', # Update the <cnt>\n",
    "    originator              = 'CBob',                         # Request's originator (mandatory)\n",
    "    requestIdentifier       = '123',                          # Request identifier (mandatory)\n",
    "    releaseVersionIndicator = '3',                            # Request's release version indicator (mandatory)\n",
    "\n",
    "    # Request Content\n",
    "    content = {\n",
    "        'm2m:cnt': {\n",
    "            'hld': 'CAlice'\n",
    "        }\n",
    "    }\n",
    ")"
   ]
  },
  {
   "cell_type": "markdown",
   "id": "dominican-lindsay",
   "metadata": {},
   "source": [
    "## Bob tries again to retrieve the \\<container> resource\n",
    "\n",
    "Bob tries again to retrieve the \\<container> resource. But this time the request should fail:"
   ]
  },
  {
   "cell_type": "code",
   "execution_count": null,
   "id": "editorial-technology",
   "metadata": {
    "scrolled": false
   },
   "outputs": [],
   "source": [
    "RETRIEVE (                                                     # RETRIEVE request\n",
    "    target                  = f'{cseRN}/aeBob/bobsContainer',  # Target resource is the <container> under Bob's <AE>\n",
    "    originator              = 'CBob',                          # Request's originator is Bob (mandatory)\n",
    "    requestIdentifier       = '123',                           # Request identifier (mandatory)\n",
    "    releaseVersionIndicator = '3'                              # Request's release version indicator (mandatory)\n",
    ")"
   ]
  },
  {
   "cell_type": "markdown",
   "id": "elder-functionality",
   "metadata": {},
   "source": [
    "This **failed**. What happend here?\n",
    "\n",
    "## Alice tries again to retrieve the \\<container> resource\n",
    "\n",
    "Now Alice will also try again to retrieve the \\<container> resource. Last time this didn't succeed. How about now?"
   ]
  },
  {
   "cell_type": "code",
   "execution_count": null,
   "id": "activated-description",
   "metadata": {
    "scrolled": false
   },
   "outputs": [],
   "source": [
    "RETRIEVE (                                                     # RETRIEVE request\n",
    "    target                  = f'{cseRN}/aeBob/bobsContainer',  # Target resource is the <cnt> under Bob's <AE>\n",
    "    originator              = 'CAlice',                        # Request's originator is Alice (mandatory)\n",
    "    requestIdentifier       = '123',                           # Request identifier (mandatory)\n",
    "    releaseVersionIndicator = '3'                              # Request's release version indicator (mandatory)\n",
    ")"
   ]
  },
  {
   "cell_type": "markdown",
   "id": "nutritional-mouth",
   "metadata": {},
   "source": [
    "Yes, this worked!\n",
    "\n",
    "With setting the *holder* attribute of a resource the original creator can assign the resource to another originator. This is quiet convenient in cases where one application acts as a factory and creates resources for one or more other AEs.\n",
    "\n",
    "<div class=\"alert alert-block alert-success\" style=\"border-radius: 10px\">\n",
    "    This access control procedure is used when there is no <i>accessControlPolicyIDs</i> attribute is set for a resource. It  takes precedense before the access control check for the creator of a resource (ie. the default policy when no other access control policy is assigned).\n",
    "<br/> \n",
    "The current owner of a resource can give up ownership by removing the *holder* attribute in an UPDATE request, or assigning even another originator to this attribute and thereby passing on the ownership again.    \n",
    "</div>\n",
    "\n"
   ]
  },
  {
   "cell_type": "markdown",
   "id": "valuable-chosen",
   "metadata": {},
   "source": [
    "&nbsp;"
   ]
  }
 ],
 "metadata": {
  "kernelspec": {
   "display_name": "Python 3",
   "language": "python",
   "name": "python3"
  },
  "language_info": {
   "codemirror_mode": {
    "name": "ipython",
    "version": 3
   },
   "file_extension": ".py",
   "mimetype": "text/x-python",
   "name": "python",
   "nbconvert_exporter": "python",
   "pygments_lexer": "ipython3",
   "version": "3.8.2"
  }
 },
 "nbformat": 4,
 "nbformat_minor": 5
}
