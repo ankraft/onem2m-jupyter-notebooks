{
 "cells": [
  {
   "cell_type": "markdown",
   "id": "radical-worthy",
   "metadata": {},
   "source": [
    "# Container - Building an Application\n",
    "\n",
    "\n",
    "In this notebook you will learn how to use \\<container> resources to represent structured data for an application.\n",
    "\n",
    "In this notebook we will continue to use the resource structure created in the previous notebooks of this lecture.\n",
    "\n",
    "\n",
    "- Create the application's data structure in the CSE\n",
    "- Fill the structure with simulated data\n",
    "- Retrieve and visualize the data\n",
    "\n",
    "\n",
    "## Intitialization\n",
    "\n",
    "<div class=\"alert alert-block alert-info\" style=\"border-radius: 10px;\">\n",
    "The following section imports and initializes necessary functions and configurations. \n",
    "It must be executed once for each notebook before running any of cells.</div>"
   ]
  },
  {
   "cell_type": "code",
   "execution_count": 1,
   "id": "driven-agent",
   "metadata": {},
   "outputs": [
    {
     "data": {
      "text/markdown": [
       "<span style='color:green'>**Configuration Ready**</span>"
      ],
      "text/plain": [
       "<IPython.core.display.Markdown object>"
      ]
     },
     "metadata": {},
     "output_type": "display_data"
    }
   ],
   "source": [
    "%run ../src/init.py\n",
    "#noverbose()"
   ]
  },
  {
   "cell_type": "markdown",
   "id": "stretch-champagne",
   "metadata": {},
   "source": [
    "## Create the \\<container> structure\n",
    "\n",
    "Alice bought a connected sensor device that can measure temperature and humidity. She likes to store the data from that device in the CSE. For that she will create a small hierarchie of \\<container> resources that will represent her new device.\n",
    "\n",
    "This figure shows the intended structure for the sensor device:\n",
    "\n",
    "![](containerSensor.png)\n",
    "\n",
    "The following three requests will setup this structure.\n",
    "\n",
    "\n",
    "anschliessend CIN mit random numbers\n",
    "\n",
    "### Create \\<container> resource \"aliceSensor\""
   ]
  },
  {
   "cell_type": "code",
   "execution_count": 2,
   "id": "coated-combine",
   "metadata": {
    "scrolled": false
   },
   "outputs": [
    {
     "data": {
      "text/markdown": [
       "### HTTP Request"
      ],
      "text/plain": [
       "<IPython.core.display.Markdown object>"
      ]
     },
     "metadata": {},
     "output_type": "display_data"
    },
    {
     "data": {
      "text/markdown": [
       "**http://localhost:8080/cse-in/aeAlice**"
      ],
      "text/plain": [
       "<IPython.core.display.Markdown object>"
      ]
     },
     "metadata": {},
     "output_type": "display_data"
    },
    {
     "data": {
      "text/markdown": [
       "\n",
       "| HTTP Header | oneM2M Parameter | Value |\n",
       "|:---|:---|:---|\n",
       "| [X-M2M-Origin](#_blank \"Originator - The request's 'From' parameter. It represents the identity of the entity who makes the request. Mandatory in the request and response.\") | From | CAlice |\n",
       "| [X-M2M-RI](#_blank \"Request Identifier - Used to uniquely identify a request. Mandatory in the request and response.\") | Request Identifier | 123 |\n",
       "| [X-M2M-RVI](#_blank \"Release Version Indicator - The requester indicates the release version of the oneM2M specification. Mandatory in the request.\") | Release Version Indicator | 3 |\n",
       "| [Content-Type](#_blank \"Any HTTP request or response with content shall include the Content-type header set to one of 'application/xml', 'application/json', or the oneM2M defined media types\") |  | application/json;ty=3 |\n",
       "| [Accept](#_blank \"The Originator may use the Accept header to indicate which media types are acceptable for the response\") |  | application/json |\n"
      ],
      "text/plain": [
       "<IPython.core.display.Markdown object>"
      ]
     },
     "metadata": {},
     "output_type": "display_data"
    },
    {
     "data": {
      "text/markdown": [
       "\n",
       "#### Request Content\n"
      ],
      "text/plain": [
       "<IPython.core.display.Markdown object>"
      ]
     },
     "metadata": {},
     "output_type": "display_data"
    },
    {
     "data": {
      "text/markdown": [
       "<span style='font-family: monospace;'>{</span>  \n",
       "<span style='font-family: monospace;'>&nbsp;&nbsp;&nbsp;&nbsp;\"[m2m:cnt](#_blank \"Container\n",
       "The \\<container> resource represents a container for data instances. It is used to share information with other entities and potentially to track the data. A \\<container> resource has no associated content. It has only attributes and child resources.\")\": {</span>  \n",
       "<span style='font-family: monospace;'>&nbsp;&nbsp;&nbsp;&nbsp;&nbsp;&nbsp;&nbsp;&nbsp;\"[rn](#_blank \"resource name\n",
       "The name for the resource that is used for 'hierarchical addressing method' to represent the parent-child relationships of resources. If left out in creation requests, the CSE assigns a unique resource name on its own. Mandatory.\")\": \"aliceSensor\"</span>  \n",
       "<span style='font-family: monospace;'>&nbsp;&nbsp;&nbsp;&nbsp;}</span>  \n",
       "<span style='font-family: monospace;'>}</span>  \n"
      ],
      "text/plain": [
       "<IPython.core.display.Markdown object>"
      ]
     },
     "metadata": {},
     "output_type": "display_data"
    },
    {
     "data": {
      "text/markdown": [
       "---\n",
       "### HTTP Response"
      ],
      "text/plain": [
       "<IPython.core.display.Markdown object>"
      ]
     },
     "metadata": {},
     "output_type": "display_data"
    },
    {
     "data": {
      "text/markdown": [
       "<span style='color:red'>409 (CONFLICT)</span>"
      ],
      "text/plain": [
       "<IPython.core.display.Markdown object>"
      ]
     },
     "metadata": {},
     "output_type": "display_data"
    },
    {
     "data": {
      "text/markdown": [
       "\n",
       "| HTTP Header | oneM2M Parameter | Value |\n",
       "|:---|:---|:---|\n",
       "| [X-M2M-RSC](#_blank \"Result Status Code - The request's extended result status code. Mandatory in the response.\") | Result Status Code | [4105](#_blank \"Conflict\") |\n",
       "| [X-M2M-RI](#_blank \"Request Identifier - Used to uniquely identify a request. Mandatory in the request and response.\") | Request Identifier | 123 |\n",
       "| [X-M2M-RVI](#_blank \"Release Version Indicator - The requester indicates the release version of the oneM2M specification. Mandatory in the request.\") | Release Version Indicator | 3 |\n",
       "| [Content-Type](#_blank \"Any HTTP request or response with content shall include the Content-type header set to one of 'application/xml', 'application/json', or the oneM2M defined media types\") |  | application/json |\n",
       "| [Date](#_blank \"The response's date in UTC/GMT\") |  | Mon, 22 Mar 2021 21:30:33 GMT |\n"
      ],
      "text/plain": [
       "<IPython.core.display.Markdown object>"
      ]
     },
     "metadata": {},
     "output_type": "display_data"
    },
    {
     "data": {
      "text/markdown": [
       "\n",
       "**Result Content**\n"
      ],
      "text/plain": [
       "<IPython.core.display.Markdown object>"
      ]
     },
     "metadata": {},
     "output_type": "display_data"
    },
    {
     "data": {
      "text/markdown": [
       "<span style='font-family: monospace;'>{</span>  \n",
       "<span style='font-family: monospace;'>&nbsp;&nbsp;&nbsp;&nbsp;<span style='color:red'>\"[m2m:dbg](#_blank \"debug information and error messages\")\": \"Resource with structured id: cse-in/aeAlice/aliceSensor already exists\"</span></span>  \n",
       "<span style='font-family: monospace;'>}</span>  \n"
      ],
      "text/plain": [
       "<IPython.core.display.Markdown object>"
      ]
     },
     "metadata": {},
     "output_type": "display_data"
    },
    {
     "data": {
      "text/markdown": [
       "---\n",
       "### Current Resource Tree"
      ],
      "text/plain": [
       "<IPython.core.display.Markdown object>"
      ]
     },
     "metadata": {},
     "output_type": "display_data"
    },
    {
     "data": {
      "text/markdown": [
       "<span style='font-family: monospace;'>cse-in -> [m2m:cb](#_blank \"CSEbase\n",
       "A \\<CSEBase> resource represents a CSE. It is the root for all resources that are residing in the CSE.\") | ri=id-in | csi=/id-in</span>  \n",
       "<span style='font-family: monospace;'>├── CAdmin -> [m2m:ae](#_blank \"Application Entity\n",
       "An entity in the application layer that implements an M2M application service logic.\") | ri=CAdmin</span>  \n",
       "<span style='font-family: monospace;'>└── aeAlice -> [m2m:ae](#_blank \"Application Entity\n",
       "An entity in the application layer that implements an M2M application service logic.\") | ri=CAlice</span>  \n",
       "<span style='font-family: monospace;'>&nbsp;&nbsp;&nbsp;&nbsp;└── aliceSensor -> [m2m:cnt](#_blank \"Container\n",
       "The \\<container> resource represents a container for data instances. It is used to share information with other entities and potentially to track the data. A \\<container> resource has no associated content. It has only attributes and child resources.\") | ri=cnt9155249009319337559</span>  \n",
       "<span style='font-family: monospace;'>&nbsp;&nbsp;&nbsp;&nbsp;&nbsp;&nbsp;&nbsp;&nbsp;├── la</span>  \n",
       "<span style='font-family: monospace;'>&nbsp;&nbsp;&nbsp;&nbsp;&nbsp;&nbsp;&nbsp;&nbsp;├── ol</span>  \n",
       "<span style='font-family: monospace;'>&nbsp;&nbsp;&nbsp;&nbsp;&nbsp;&nbsp;&nbsp;&nbsp;├── temperature -> [m2m:cnt](#_blank \"Container\n",
       "The \\<container> resource represents a container for data instances. It is used to share information with other entities and potentially to track the data. A \\<container> resource has no associated content. It has only attributes and child resources.\") | ri=cnt1074890995492783296</span>  \n",
       "<span style='font-family: monospace;'>&nbsp;&nbsp;&nbsp;&nbsp;&nbsp;&nbsp;&nbsp;&nbsp;│&nbsp;&nbsp;&nbsp;├── la</span>  \n",
       "<span style='font-family: monospace;'>&nbsp;&nbsp;&nbsp;&nbsp;&nbsp;&nbsp;&nbsp;&nbsp;│&nbsp;&nbsp;&nbsp;├── ol</span>  \n",
       "<span style='font-family: monospace;'>&nbsp;&nbsp;&nbsp;&nbsp;&nbsp;&nbsp;&nbsp;&nbsp;│&nbsp;&nbsp;&nbsp;├── cin_YE2sZzBODZ -> [m2m:cin](#_blank \"content instance\n",
       "The \\<contentInstance> resource represents a data instance in the \\<container> resource.\") | ri=cin9066912198403257441</span>  \n",
       "<span style='font-family: monospace;'>&nbsp;&nbsp;&nbsp;&nbsp;&nbsp;&nbsp;&nbsp;&nbsp;│&nbsp;&nbsp;&nbsp;├── cin_3sP8nueiSa -> [m2m:cin](#_blank \"content instance\n",
       "The \\<contentInstance> resource represents a data instance in the \\<container> resource.\") | ri=cin2174324722811872544</span>  \n",
       "<span style='font-family: monospace;'>&nbsp;&nbsp;&nbsp;&nbsp;&nbsp;&nbsp;&nbsp;&nbsp;│&nbsp;&nbsp;&nbsp;├── cin_aZcxtiETWB -> [m2m:cin](#_blank \"content instance\n",
       "The \\<contentInstance> resource represents a data instance in the \\<container> resource.\") | ri=cin5998740946778440514</span>  \n",
       "<span style='font-family: monospace;'>&nbsp;&nbsp;&nbsp;&nbsp;&nbsp;&nbsp;&nbsp;&nbsp;│&nbsp;&nbsp;&nbsp;├── cin_2UNNIYUvzS -> [m2m:cin](#_blank \"content instance\n",
       "The \\<contentInstance> resource represents a data instance in the \\<container> resource.\") | ri=cin7930611166788766455</span>  \n",
       "<span style='font-family: monospace;'>&nbsp;&nbsp;&nbsp;&nbsp;&nbsp;&nbsp;&nbsp;&nbsp;│&nbsp;&nbsp;&nbsp;├── cin_tmajQ5qccG -> [m2m:cin](#_blank \"content instance\n",
       "The \\<contentInstance> resource represents a data instance in the \\<container> resource.\") | ri=cin13333265801351683</span>  \n",
       "<span style='font-family: monospace;'>&nbsp;&nbsp;&nbsp;&nbsp;&nbsp;&nbsp;&nbsp;&nbsp;│&nbsp;&nbsp;&nbsp;├── cin_QgKtonvkd4 -> [m2m:cin](#_blank \"content instance\n",
       "The \\<contentInstance> resource represents a data instance in the \\<container> resource.\") | ri=cin4288489916433119702</span>  \n",
       "<span style='font-family: monospace;'>&nbsp;&nbsp;&nbsp;&nbsp;&nbsp;&nbsp;&nbsp;&nbsp;│&nbsp;&nbsp;&nbsp;├── cin_n4V3RmCsTO -> [m2m:cin](#_blank \"content instance\n",
       "The \\<contentInstance> resource represents a data instance in the \\<container> resource.\") | ri=cin6007420771939877329</span>  \n",
       "<span style='font-family: monospace;'>&nbsp;&nbsp;&nbsp;&nbsp;&nbsp;&nbsp;&nbsp;&nbsp;│&nbsp;&nbsp;&nbsp;└── cin_cDMf9NjBTJ -> [m2m:cin](#_blank \"content instance\n",
       "The \\<contentInstance> resource represents a data instance in the \\<container> resource.\") | ri=cin7046948040656211090</span>  \n",
       "<span style='font-family: monospace;'>&nbsp;&nbsp;&nbsp;&nbsp;&nbsp;&nbsp;&nbsp;&nbsp;└── humidity -> [m2m:cnt](#_blank \"Container\n",
       "The \\<container> resource represents a container for data instances. It is used to share information with other entities and potentially to track the data. A \\<container> resource has no associated content. It has only attributes and child resources.\") | ri=cnt2933356905476920104</span>  \n",
       "<span style='font-family: monospace;'>&nbsp;&nbsp;&nbsp;&nbsp;&nbsp;&nbsp;&nbsp;&nbsp;&nbsp;&nbsp;&nbsp;&nbsp;├── la</span>  \n",
       "<span style='font-family: monospace;'>&nbsp;&nbsp;&nbsp;&nbsp;&nbsp;&nbsp;&nbsp;&nbsp;&nbsp;&nbsp;&nbsp;&nbsp;├── ol</span>  \n",
       "<span style='font-family: monospace;'>&nbsp;&nbsp;&nbsp;&nbsp;&nbsp;&nbsp;&nbsp;&nbsp;&nbsp;&nbsp;&nbsp;&nbsp;├── cin_FkG35SC62K -> [m2m:cin](#_blank \"content instance\n",
       "The \\<contentInstance> resource represents a data instance in the \\<container> resource.\") | ri=cin8744308806825453284</span>  \n",
       "<span style='font-family: monospace;'>&nbsp;&nbsp;&nbsp;&nbsp;&nbsp;&nbsp;&nbsp;&nbsp;&nbsp;&nbsp;&nbsp;&nbsp;├── cin_rmd4eeVuMX -> [m2m:cin](#_blank \"content instance\n",
       "The \\<contentInstance> resource represents a data instance in the \\<container> resource.\") | ri=cin7128993563206115893</span>  \n",
       "<span style='font-family: monospace;'>&nbsp;&nbsp;&nbsp;&nbsp;&nbsp;&nbsp;&nbsp;&nbsp;&nbsp;&nbsp;&nbsp;&nbsp;├── cin_WwJN2s6WF0 -> [m2m:cin](#_blank \"content instance\n",
       "The \\<contentInstance> resource represents a data instance in the \\<container> resource.\") | ri=cin5615291261476187910</span>  \n",
       "<span style='font-family: monospace;'>&nbsp;&nbsp;&nbsp;&nbsp;&nbsp;&nbsp;&nbsp;&nbsp;&nbsp;&nbsp;&nbsp;&nbsp;├── cin_MzXaDaOMe5 -> [m2m:cin](#_blank \"content instance\n",
       "The \\<contentInstance> resource represents a data instance in the \\<container> resource.\") | ri=cin4535292903725907931</span>  \n",
       "<span style='font-family: monospace;'>&nbsp;&nbsp;&nbsp;&nbsp;&nbsp;&nbsp;&nbsp;&nbsp;&nbsp;&nbsp;&nbsp;&nbsp;├── cin_GGdNS0NoOS -> [m2m:cin](#_blank \"content instance\n",
       "The \\<contentInstance> resource represents a data instance in the \\<container> resource.\") | ri=cin3913760812260573666</span>  \n",
       "<span style='font-family: monospace;'>&nbsp;&nbsp;&nbsp;&nbsp;&nbsp;&nbsp;&nbsp;&nbsp;&nbsp;&nbsp;&nbsp;&nbsp;├── cin_USAWBqcbes -> [m2m:cin](#_blank \"content instance\n",
       "The \\<contentInstance> resource represents a data instance in the \\<container> resource.\") | ri=cin6913933162982221154</span>  \n",
       "<span style='font-family: monospace;'>&nbsp;&nbsp;&nbsp;&nbsp;&nbsp;&nbsp;&nbsp;&nbsp;&nbsp;&nbsp;&nbsp;&nbsp;├── cin_d5cuT3mbpF -> [m2m:cin](#_blank \"content instance\n",
       "The \\<contentInstance> resource represents a data instance in the \\<container> resource.\") | ri=cin3827599823785655617</span>  \n",
       "<span style='font-family: monospace;'>&nbsp;&nbsp;&nbsp;&nbsp;&nbsp;&nbsp;&nbsp;&nbsp;&nbsp;&nbsp;&nbsp;&nbsp;├── cin_Cu2CPxV8QU -> [m2m:cin](#_blank \"content instance\n",
       "The \\<contentInstance> resource represents a data instance in the \\<container> resource.\") | ri=cin8367201054559049974</span>  \n",
       "<span style='font-family: monospace;'>&nbsp;&nbsp;&nbsp;&nbsp;&nbsp;&nbsp;&nbsp;&nbsp;&nbsp;&nbsp;&nbsp;&nbsp;├── cin_TImJ6oV8ne -> [m2m:cin](#_blank \"content instance\n",
       "The \\<contentInstance> resource represents a data instance in the \\<container> resource.\") | ri=cin663843616484241042</span>  \n",
       "<span style='font-family: monospace;'>&nbsp;&nbsp;&nbsp;&nbsp;&nbsp;&nbsp;&nbsp;&nbsp;&nbsp;&nbsp;&nbsp;&nbsp;└── cin_AZrwGiVWsQ -> [m2m:cin](#_blank \"content instance\n",
       "The \\<contentInstance> resource represents a data instance in the \\<container> resource.\") | ri=cin6387700607611413865</span>  \n",
       "<span style='font-family: monospace;'></span>  \n"
      ],
      "text/plain": [
       "<IPython.core.display.Markdown object>"
      ]
     },
     "metadata": {},
     "output_type": "display_data"
    },
    {
     "data": {
      "text/markdown": [
       "---"
      ],
      "text/plain": [
       "<IPython.core.display.Markdown object>"
      ]
     },
     "metadata": {},
     "output_type": "display_data"
    }
   ],
   "source": [
    "CREATE (                                            # CREATE request\n",
    "    target                  = f'{cseRN}/aeAlice',   # Create a <cnt> under the <AE>\n",
    "    originator              = 'CAlice',             # Request's originator (mandatory)\n",
    "    requestIdentifier       = '123',                # Request identifier (mandatory)\n",
    "    releaseVersionIndicator = '3',                  # Request's release version indicator (mandatory)\n",
    "    resourceType            = 3,                    # The request creates an <cnt> resource\n",
    "    \n",
    "    # Request Content\n",
    "    content = {\n",
    "        \"m2m:cnt\": {\n",
    "            \"rn\"  : \"aliceSensor\"                   # Give the <cnt> resource the name 'aliceSensor'\n",
    "        }\n",
    "    }\n",
    ")"
   ]
  },
  {
   "cell_type": "markdown",
   "id": "sapphire-suspect",
   "metadata": {},
   "source": [
    "### Create \\<container> resource \"temperature\""
   ]
  },
  {
   "cell_type": "code",
   "execution_count": 3,
   "id": "wireless-pixel",
   "metadata": {},
   "outputs": [
    {
     "data": {
      "text/markdown": [
       "### HTTP Request"
      ],
      "text/plain": [
       "<IPython.core.display.Markdown object>"
      ]
     },
     "metadata": {},
     "output_type": "display_data"
    },
    {
     "data": {
      "text/markdown": [
       "**http://localhost:8080/cse-in/aeAlice/aliceSensor**"
      ],
      "text/plain": [
       "<IPython.core.display.Markdown object>"
      ]
     },
     "metadata": {},
     "output_type": "display_data"
    },
    {
     "data": {
      "text/markdown": [
       "\n",
       "| HTTP Header | oneM2M Parameter | Value |\n",
       "|:---|:---|:---|\n",
       "| [X-M2M-Origin](#_blank \"Originator - The request's 'From' parameter. It represents the identity of the entity who makes the request. Mandatory in the request and response.\") | From | CAlice |\n",
       "| [X-M2M-RI](#_blank \"Request Identifier - Used to uniquely identify a request. Mandatory in the request and response.\") | Request Identifier | 123 |\n",
       "| [X-M2M-RVI](#_blank \"Release Version Indicator - The requester indicates the release version of the oneM2M specification. Mandatory in the request.\") | Release Version Indicator | 3 |\n",
       "| [Content-Type](#_blank \"Any HTTP request or response with content shall include the Content-type header set to one of 'application/xml', 'application/json', or the oneM2M defined media types\") |  | application/json;ty=3 |\n",
       "| [Accept](#_blank \"The Originator may use the Accept header to indicate which media types are acceptable for the response\") |  | application/json |\n"
      ],
      "text/plain": [
       "<IPython.core.display.Markdown object>"
      ]
     },
     "metadata": {},
     "output_type": "display_data"
    },
    {
     "data": {
      "text/markdown": [
       "\n",
       "#### Request Content\n"
      ],
      "text/plain": [
       "<IPython.core.display.Markdown object>"
      ]
     },
     "metadata": {},
     "output_type": "display_data"
    },
    {
     "data": {
      "text/markdown": [
       "<span style='font-family: monospace;'>{</span>  \n",
       "<span style='font-family: monospace;'>&nbsp;&nbsp;&nbsp;&nbsp;\"[m2m:cnt](#_blank \"Container\n",
       "The \\<container> resource represents a container for data instances. It is used to share information with other entities and potentially to track the data. A \\<container> resource has no associated content. It has only attributes and child resources.\")\": {</span>  \n",
       "<span style='font-family: monospace;'>&nbsp;&nbsp;&nbsp;&nbsp;&nbsp;&nbsp;&nbsp;&nbsp;\"[mni](#_blank \"max number of instances\n",
       "Maximum number of direct child resources (e.g. <contentInstances>) in a resource.\")\": 10,</span>  \n",
       "<span style='font-family: monospace;'>&nbsp;&nbsp;&nbsp;&nbsp;&nbsp;&nbsp;&nbsp;&nbsp;\"[rn](#_blank \"resource name\n",
       "The name for the resource that is used for 'hierarchical addressing method' to represent the parent-child relationships of resources. If left out in creation requests, the CSE assigns a unique resource name on its own. Mandatory.\")\": \"temperature\"</span>  \n",
       "<span style='font-family: monospace;'>&nbsp;&nbsp;&nbsp;&nbsp;}</span>  \n",
       "<span style='font-family: monospace;'>}</span>  \n"
      ],
      "text/plain": [
       "<IPython.core.display.Markdown object>"
      ]
     },
     "metadata": {},
     "output_type": "display_data"
    },
    {
     "data": {
      "text/markdown": [
       "---\n",
       "### HTTP Response"
      ],
      "text/plain": [
       "<IPython.core.display.Markdown object>"
      ]
     },
     "metadata": {},
     "output_type": "display_data"
    },
    {
     "data": {
      "text/markdown": [
       "<span style='color:red'>409 (CONFLICT)</span>"
      ],
      "text/plain": [
       "<IPython.core.display.Markdown object>"
      ]
     },
     "metadata": {},
     "output_type": "display_data"
    },
    {
     "data": {
      "text/markdown": [
       "\n",
       "| HTTP Header | oneM2M Parameter | Value |\n",
       "|:---|:---|:---|\n",
       "| [X-M2M-RSC](#_blank \"Result Status Code - The request's extended result status code. Mandatory in the response.\") | Result Status Code | [4105](#_blank \"Conflict\") |\n",
       "| [X-M2M-RI](#_blank \"Request Identifier - Used to uniquely identify a request. Mandatory in the request and response.\") | Request Identifier | 123 |\n",
       "| [X-M2M-RVI](#_blank \"Release Version Indicator - The requester indicates the release version of the oneM2M specification. Mandatory in the request.\") | Release Version Indicator | 3 |\n",
       "| [Content-Type](#_blank \"Any HTTP request or response with content shall include the Content-type header set to one of 'application/xml', 'application/json', or the oneM2M defined media types\") |  | application/json |\n",
       "| [Date](#_blank \"The response's date in UTC/GMT\") |  | Mon, 22 Mar 2021 19:53:53 GMT |\n"
      ],
      "text/plain": [
       "<IPython.core.display.Markdown object>"
      ]
     },
     "metadata": {},
     "output_type": "display_data"
    },
    {
     "data": {
      "text/markdown": [
       "\n",
       "**Result Content**\n"
      ],
      "text/plain": [
       "<IPython.core.display.Markdown object>"
      ]
     },
     "metadata": {},
     "output_type": "display_data"
    },
    {
     "data": {
      "text/markdown": [
       "<span style='font-family: monospace;'>{</span>  \n",
       "<span style='font-family: monospace;'>&nbsp;&nbsp;&nbsp;&nbsp;<span style='color:red'>\"[m2m:dbg](#_blank \"debug information and error messages\")\": \"Resource with structured id: cse-in/aeAlice/aliceSensor/temperature already exists\"</span></span>  \n",
       "<span style='font-family: monospace;'>}</span>  \n"
      ],
      "text/plain": [
       "<IPython.core.display.Markdown object>"
      ]
     },
     "metadata": {},
     "output_type": "display_data"
    },
    {
     "data": {
      "text/markdown": [
       "---\n",
       "### Current Resource Tree"
      ],
      "text/plain": [
       "<IPython.core.display.Markdown object>"
      ]
     },
     "metadata": {},
     "output_type": "display_data"
    },
    {
     "data": {
      "text/markdown": [
       "<span style='font-family: monospace;'>cse-in -> [m2m:cb](#_blank \"CSEbase\n",
       "A \\<CSEBase> resource represents a CSE. It is the root for all resources that are residing in the CSE.\") | ri=id-in | csi=/id-in                                                                            </span>  \n",
       "<span style='font-family: monospace;'>├── CAdmin -> [m2m:ae](#_blank \"Application Entity\n",
       "An entity in the application layer that implements an M2M application service logic.\") | ri=CAdmin                                                                                    </span>  \n",
       "<span style='font-family: monospace;'>└── aeAlice -> [m2m:ae](#_blank \"Application Entity\n",
       "An entity in the application layer that implements an M2M application service logic.\") | ri=CAlice                                                                                   </span>  \n",
       "<span style='font-family: monospace;'>&nbsp;&nbsp;&nbsp;&nbsp;└── aliceSensor -> [m2m:cnt](#_blank \"Container\n",
       "The \\<container> resource represents a container for data instances. It is used to share information with other entities and potentially to track the data. A \\<container> resource has no associated content. It has only attributes and child resources.\") | ri=cnt9155249009319337559                                                          </span>  \n",
       "<span style='font-family: monospace;'>&nbsp;&nbsp;&nbsp;&nbsp;&nbsp;&nbsp;&nbsp;&nbsp;├── la                                                                                                      </span>  \n",
       "<span style='font-family: monospace;'>&nbsp;&nbsp;&nbsp;&nbsp;&nbsp;&nbsp;&nbsp;&nbsp;├── ol                                                                                                      </span>  \n",
       "<span style='font-family: monospace;'>&nbsp;&nbsp;&nbsp;&nbsp;&nbsp;&nbsp;&nbsp;&nbsp;├── temperature -> [m2m:cnt](#_blank \"Container\n",
       "The \\<container> resource represents a container for data instances. It is used to share information with other entities and potentially to track the data. A \\<container> resource has no associated content. It has only attributes and child resources.\") | ri=cnt1074890995492783296                                                      </span>  \n",
       "<span style='font-family: monospace;'>&nbsp;&nbsp;&nbsp;&nbsp;&nbsp;&nbsp;&nbsp;&nbsp;│   ├── la                                                                                                  </span>  \n",
       "<span style='font-family: monospace;'>&nbsp;&nbsp;&nbsp;&nbsp;&nbsp;&nbsp;&nbsp;&nbsp;│   ├── ol                                                                                                  </span>  \n",
       "<span style='font-family: monospace;'>&nbsp;&nbsp;&nbsp;&nbsp;&nbsp;&nbsp;&nbsp;&nbsp;│   ├── cin_YE2sZzBODZ -> [m2m:cin](#_blank \"content instance\n",
       "The \\<contentInstance> resource represents a data instance in the \\<container> resource.\") | ri=cin9066912198403257441                                               </span>  \n",
       "<span style='font-family: monospace;'>&nbsp;&nbsp;&nbsp;&nbsp;&nbsp;&nbsp;&nbsp;&nbsp;│   ├── cin_3sP8nueiSa -> [m2m:cin](#_blank \"content instance\n",
       "The \\<contentInstance> resource represents a data instance in the \\<container> resource.\") | ri=cin2174324722811872544                                               </span>  \n",
       "<span style='font-family: monospace;'>&nbsp;&nbsp;&nbsp;&nbsp;&nbsp;&nbsp;&nbsp;&nbsp;│   ├── cin_aZcxtiETWB -> [m2m:cin](#_blank \"content instance\n",
       "The \\<contentInstance> resource represents a data instance in the \\<container> resource.\") | ri=cin5998740946778440514                                               </span>  \n",
       "<span style='font-family: monospace;'>&nbsp;&nbsp;&nbsp;&nbsp;&nbsp;&nbsp;&nbsp;&nbsp;│   └── cin_2UNNIYUvzS -> [m2m:cin](#_blank \"content instance\n",
       "The \\<contentInstance> resource represents a data instance in the \\<container> resource.\") | ri=cin7930611166788766455                                               </span>  \n",
       "<span style='font-family: monospace;'>&nbsp;&nbsp;&nbsp;&nbsp;&nbsp;&nbsp;&nbsp;&nbsp;└── humidity -> [m2m:cnt](#_blank \"Container\n",
       "The \\<container> resource represents a container for data instances. It is used to share information with other entities and potentially to track the data. A \\<container> resource has no associated content. It has only attributes and child resources.\") | ri=cnt2933356905476920104                                                         </span>  \n",
       "<span style='font-family: monospace;'>&nbsp;&nbsp;&nbsp;&nbsp;&nbsp;&nbsp;&nbsp;&nbsp;&nbsp;&nbsp;&nbsp;&nbsp;├── la                                                                                                  </span>  \n",
       "<span style='font-family: monospace;'>&nbsp;&nbsp;&nbsp;&nbsp;&nbsp;&nbsp;&nbsp;&nbsp;&nbsp;&nbsp;&nbsp;&nbsp;├── ol                                                                                                  </span>  \n",
       "<span style='font-family: monospace;'>&nbsp;&nbsp;&nbsp;&nbsp;&nbsp;&nbsp;&nbsp;&nbsp;&nbsp;&nbsp;&nbsp;&nbsp;├── cin_1rBCt5hmTp -> [m2m:cin](#_blank \"content instance\n",
       "The \\<contentInstance> resource represents a data instance in the \\<container> resource.\") | ri=cin7778028448562822204                                               </span>  \n",
       "<span style='font-family: monospace;'>&nbsp;&nbsp;&nbsp;&nbsp;&nbsp;&nbsp;&nbsp;&nbsp;&nbsp;&nbsp;&nbsp;&nbsp;├── cin_f5Ctcn77DS -> [m2m:cin](#_blank \"content instance\n",
       "The \\<contentInstance> resource represents a data instance in the \\<container> resource.\") | ri=cin6183558070835205963                                               </span>  \n",
       "<span style='font-family: monospace;'>&nbsp;&nbsp;&nbsp;&nbsp;&nbsp;&nbsp;&nbsp;&nbsp;&nbsp;&nbsp;&nbsp;&nbsp;├── cin_FkG35SC62K -> [m2m:cin](#_blank \"content instance\n",
       "The \\<contentInstance> resource represents a data instance in the \\<container> resource.\") | ri=cin8744308806825453284                                               </span>  \n",
       "<span style='font-family: monospace;'>&nbsp;&nbsp;&nbsp;&nbsp;&nbsp;&nbsp;&nbsp;&nbsp;&nbsp;&nbsp;&nbsp;&nbsp;├── cin_rmd4eeVuMX -> [m2m:cin](#_blank \"content instance\n",
       "The \\<contentInstance> resource represents a data instance in the \\<container> resource.\") | ri=cin7128993563206115893                                               </span>  \n",
       "<span style='font-family: monospace;'>&nbsp;&nbsp;&nbsp;&nbsp;&nbsp;&nbsp;&nbsp;&nbsp;&nbsp;&nbsp;&nbsp;&nbsp;├── cin_WwJN2s6WF0 -> [m2m:cin](#_blank \"content instance\n",
       "The \\<contentInstance> resource represents a data instance in the \\<container> resource.\") | ri=cin5615291261476187910                                               </span>  \n",
       "<span style='font-family: monospace;'>&nbsp;&nbsp;&nbsp;&nbsp;&nbsp;&nbsp;&nbsp;&nbsp;&nbsp;&nbsp;&nbsp;&nbsp;├── cin_MzXaDaOMe5 -> [m2m:cin](#_blank \"content instance\n",
       "The \\<contentInstance> resource represents a data instance in the \\<container> resource.\") | ri=cin4535292903725907931                                               </span>  \n",
       "<span style='font-family: monospace;'>&nbsp;&nbsp;&nbsp;&nbsp;&nbsp;&nbsp;&nbsp;&nbsp;&nbsp;&nbsp;&nbsp;&nbsp;├── cin_GGdNS0NoOS -> [m2m:cin](#_blank \"content instance\n",
       "The \\<contentInstance> resource represents a data instance in the \\<container> resource.\") | ri=cin3913760812260573666                                               </span>  \n",
       "<span style='font-family: monospace;'>&nbsp;&nbsp;&nbsp;&nbsp;&nbsp;&nbsp;&nbsp;&nbsp;&nbsp;&nbsp;&nbsp;&nbsp;└── cin_USAWBqcbes -> [m2m:cin](#_blank \"content instance\n",
       "The \\<contentInstance> resource represents a data instance in the \\<container> resource.\") | ri=cin6913933162982221154                                               </span>  \n",
       "<span style='font-family: monospace;'></span>  \n"
      ],
      "text/plain": [
       "<IPython.core.display.Markdown object>"
      ]
     },
     "metadata": {},
     "output_type": "display_data"
    },
    {
     "data": {
      "text/markdown": [
       "---"
      ],
      "text/plain": [
       "<IPython.core.display.Markdown object>"
      ]
     },
     "metadata": {},
     "output_type": "display_data"
    }
   ],
   "source": [
    "CREATE (                                                        # CREATE request\n",
    "    target                  = f'{cseRN}/aeAlice/aliceSensor',   # Create a <cnt> under \"aliceSensor\"\n",
    "    originator              = 'CAlice',                         # Request's originator (mandatory)\n",
    "    requestIdentifier       = '123',                            # Request identifier (mandatory)\n",
    "    releaseVersionIndicator = '3',                              # Request's release version indicator (mandatory)\n",
    "    resourceType            = 3,                                # The request creates an <cnt> resource\n",
    "    \n",
    "    # Request Content\n",
    "    content = {\n",
    "        \"m2m:cnt\": {\n",
    "            \"mni\" : 10,                                         # Limit the number of <cin> to 10\n",
    "            \"rn\"  : \"temperature\"                               # Give the <cnt> resource the name 'temperature'\n",
    "        }\n",
    "    }\n",
    ")"
   ]
  },
  {
   "cell_type": "markdown",
   "id": "future-skiing",
   "metadata": {},
   "source": [
    "### Create \\<container> resource \"humidity\""
   ]
  },
  {
   "cell_type": "code",
   "execution_count": 4,
   "id": "ignored-square",
   "metadata": {},
   "outputs": [
    {
     "data": {
      "text/markdown": [
       "### HTTP Request"
      ],
      "text/plain": [
       "<IPython.core.display.Markdown object>"
      ]
     },
     "metadata": {},
     "output_type": "display_data"
    },
    {
     "data": {
      "text/markdown": [
       "**http://localhost:8080/cse-in/aeAlice/aliceSensor**"
      ],
      "text/plain": [
       "<IPython.core.display.Markdown object>"
      ]
     },
     "metadata": {},
     "output_type": "display_data"
    },
    {
     "data": {
      "text/markdown": [
       "\n",
       "| HTTP Header | oneM2M Parameter | Value |\n",
       "|:---|:---|:---|\n",
       "| [X-M2M-Origin](#_blank \"Originator - The request's 'From' parameter. It represents the identity of the entity who makes the request. Mandatory in the request and response.\") | From | CAlice |\n",
       "| [X-M2M-RI](#_blank \"Request Identifier - Used to uniquely identify a request. Mandatory in the request and response.\") | Request Identifier | 123 |\n",
       "| [X-M2M-RVI](#_blank \"Release Version Indicator - The requester indicates the release version of the oneM2M specification. Mandatory in the request.\") | Release Version Indicator | 3 |\n",
       "| [Content-Type](#_blank \"Any HTTP request or response with content shall include the Content-type header set to one of 'application/xml', 'application/json', or the oneM2M defined media types\") |  | application/json;ty=3 |\n",
       "| [Accept](#_blank \"The Originator may use the Accept header to indicate which media types are acceptable for the response\") |  | application/json |\n"
      ],
      "text/plain": [
       "<IPython.core.display.Markdown object>"
      ]
     },
     "metadata": {},
     "output_type": "display_data"
    },
    {
     "data": {
      "text/markdown": [
       "\n",
       "#### Request Content\n"
      ],
      "text/plain": [
       "<IPython.core.display.Markdown object>"
      ]
     },
     "metadata": {},
     "output_type": "display_data"
    },
    {
     "data": {
      "text/markdown": [
       "<span style='font-family: monospace;'>{</span>  \n",
       "<span style='font-family: monospace;'>&nbsp;&nbsp;&nbsp;&nbsp;\"[m2m:cnt](#_blank \"Container\n",
       "The \\<container> resource represents a container for data instances. It is used to share information with other entities and potentially to track the data. A \\<container> resource has no associated content. It has only attributes and child resources.\")\": {</span>  \n",
       "<span style='font-family: monospace;'>&nbsp;&nbsp;&nbsp;&nbsp;&nbsp;&nbsp;&nbsp;&nbsp;\"[mni](#_blank \"max number of instances\n",
       "Maximum number of direct child resources (e.g. <contentInstances>) in a resource.\")\": 10,</span>  \n",
       "<span style='font-family: monospace;'>&nbsp;&nbsp;&nbsp;&nbsp;&nbsp;&nbsp;&nbsp;&nbsp;\"[rn](#_blank \"resource name\n",
       "The name for the resource that is used for 'hierarchical addressing method' to represent the parent-child relationships of resources. If left out in creation requests, the CSE assigns a unique resource name on its own. Mandatory.\")\": \"humidity\"</span>  \n",
       "<span style='font-family: monospace;'>&nbsp;&nbsp;&nbsp;&nbsp;}</span>  \n",
       "<span style='font-family: monospace;'>}</span>  \n"
      ],
      "text/plain": [
       "<IPython.core.display.Markdown object>"
      ]
     },
     "metadata": {},
     "output_type": "display_data"
    },
    {
     "data": {
      "text/markdown": [
       "---\n",
       "### HTTP Response"
      ],
      "text/plain": [
       "<IPython.core.display.Markdown object>"
      ]
     },
     "metadata": {},
     "output_type": "display_data"
    },
    {
     "data": {
      "text/markdown": [
       "<span style='color:red'>409 (CONFLICT)</span>"
      ],
      "text/plain": [
       "<IPython.core.display.Markdown object>"
      ]
     },
     "metadata": {},
     "output_type": "display_data"
    },
    {
     "data": {
      "text/markdown": [
       "\n",
       "| HTTP Header | oneM2M Parameter | Value |\n",
       "|:---|:---|:---|\n",
       "| [X-M2M-RSC](#_blank \"Result Status Code - The request's extended result status code. Mandatory in the response.\") | Result Status Code | [4105](#_blank \"Conflict\") |\n",
       "| [X-M2M-RI](#_blank \"Request Identifier - Used to uniquely identify a request. Mandatory in the request and response.\") | Request Identifier | 123 |\n",
       "| [X-M2M-RVI](#_blank \"Release Version Indicator - The requester indicates the release version of the oneM2M specification. Mandatory in the request.\") | Release Version Indicator | 3 |\n",
       "| [Content-Type](#_blank \"Any HTTP request or response with content shall include the Content-type header set to one of 'application/xml', 'application/json', or the oneM2M defined media types\") |  | application/json |\n",
       "| [Date](#_blank \"The response's date in UTC/GMT\") |  | Mon, 22 Mar 2021 19:53:56 GMT |\n"
      ],
      "text/plain": [
       "<IPython.core.display.Markdown object>"
      ]
     },
     "metadata": {},
     "output_type": "display_data"
    },
    {
     "data": {
      "text/markdown": [
       "\n",
       "**Result Content**\n"
      ],
      "text/plain": [
       "<IPython.core.display.Markdown object>"
      ]
     },
     "metadata": {},
     "output_type": "display_data"
    },
    {
     "data": {
      "text/markdown": [
       "<span style='font-family: monospace;'>{</span>  \n",
       "<span style='font-family: monospace;'>&nbsp;&nbsp;&nbsp;&nbsp;<span style='color:red'>\"[m2m:dbg](#_blank \"debug information and error messages\")\": \"Resource with structured id: cse-in/aeAlice/aliceSensor/humidity already exists\"</span></span>  \n",
       "<span style='font-family: monospace;'>}</span>  \n"
      ],
      "text/plain": [
       "<IPython.core.display.Markdown object>"
      ]
     },
     "metadata": {},
     "output_type": "display_data"
    },
    {
     "data": {
      "text/markdown": [
       "---\n",
       "### Current Resource Tree"
      ],
      "text/plain": [
       "<IPython.core.display.Markdown object>"
      ]
     },
     "metadata": {},
     "output_type": "display_data"
    },
    {
     "data": {
      "text/markdown": [
       "<span style='font-family: monospace;'>cse-in -> [m2m:cb](#_blank \"CSEbase\n",
       "A \\<CSEBase> resource represents a CSE. It is the root for all resources that are residing in the CSE.\") | ri=id-in | csi=/id-in                                                                            </span>  \n",
       "<span style='font-family: monospace;'>├── CAdmin -> [m2m:ae](#_blank \"Application Entity\n",
       "An entity in the application layer that implements an M2M application service logic.\") | ri=CAdmin                                                                                    </span>  \n",
       "<span style='font-family: monospace;'>└── aeAlice -> [m2m:ae](#_blank \"Application Entity\n",
       "An entity in the application layer that implements an M2M application service logic.\") | ri=CAlice                                                                                   </span>  \n",
       "<span style='font-family: monospace;'>&nbsp;&nbsp;&nbsp;&nbsp;└── aliceSensor -> [m2m:cnt](#_blank \"Container\n",
       "The \\<container> resource represents a container for data instances. It is used to share information with other entities and potentially to track the data. A \\<container> resource has no associated content. It has only attributes and child resources.\") | ri=cnt9155249009319337559                                                          </span>  \n",
       "<span style='font-family: monospace;'>&nbsp;&nbsp;&nbsp;&nbsp;&nbsp;&nbsp;&nbsp;&nbsp;├── la                                                                                                      </span>  \n",
       "<span style='font-family: monospace;'>&nbsp;&nbsp;&nbsp;&nbsp;&nbsp;&nbsp;&nbsp;&nbsp;├── ol                                                                                                      </span>  \n",
       "<span style='font-family: monospace;'>&nbsp;&nbsp;&nbsp;&nbsp;&nbsp;&nbsp;&nbsp;&nbsp;├── temperature -> [m2m:cnt](#_blank \"Container\n",
       "The \\<container> resource represents a container for data instances. It is used to share information with other entities and potentially to track the data. A \\<container> resource has no associated content. It has only attributes and child resources.\") | ri=cnt1074890995492783296                                                      </span>  \n",
       "<span style='font-family: monospace;'>&nbsp;&nbsp;&nbsp;&nbsp;&nbsp;&nbsp;&nbsp;&nbsp;│   ├── la                                                                                                  </span>  \n",
       "<span style='font-family: monospace;'>&nbsp;&nbsp;&nbsp;&nbsp;&nbsp;&nbsp;&nbsp;&nbsp;│   ├── ol                                                                                                  </span>  \n",
       "<span style='font-family: monospace;'>&nbsp;&nbsp;&nbsp;&nbsp;&nbsp;&nbsp;&nbsp;&nbsp;│   ├── cin_YE2sZzBODZ -> [m2m:cin](#_blank \"content instance\n",
       "The \\<contentInstance> resource represents a data instance in the \\<container> resource.\") | ri=cin9066912198403257441                                               </span>  \n",
       "<span style='font-family: monospace;'>&nbsp;&nbsp;&nbsp;&nbsp;&nbsp;&nbsp;&nbsp;&nbsp;│   ├── cin_3sP8nueiSa -> [m2m:cin](#_blank \"content instance\n",
       "The \\<contentInstance> resource represents a data instance in the \\<container> resource.\") | ri=cin2174324722811872544                                               </span>  \n",
       "<span style='font-family: monospace;'>&nbsp;&nbsp;&nbsp;&nbsp;&nbsp;&nbsp;&nbsp;&nbsp;│   ├── cin_aZcxtiETWB -> [m2m:cin](#_blank \"content instance\n",
       "The \\<contentInstance> resource represents a data instance in the \\<container> resource.\") | ri=cin5998740946778440514                                               </span>  \n",
       "<span style='font-family: monospace;'>&nbsp;&nbsp;&nbsp;&nbsp;&nbsp;&nbsp;&nbsp;&nbsp;│   └── cin_2UNNIYUvzS -> [m2m:cin](#_blank \"content instance\n",
       "The \\<contentInstance> resource represents a data instance in the \\<container> resource.\") | ri=cin7930611166788766455                                               </span>  \n",
       "<span style='font-family: monospace;'>&nbsp;&nbsp;&nbsp;&nbsp;&nbsp;&nbsp;&nbsp;&nbsp;└── humidity -> [m2m:cnt](#_blank \"Container\n",
       "The \\<container> resource represents a container for data instances. It is used to share information with other entities and potentially to track the data. A \\<container> resource has no associated content. It has only attributes and child resources.\") | ri=cnt2933356905476920104                                                         </span>  \n",
       "<span style='font-family: monospace;'>&nbsp;&nbsp;&nbsp;&nbsp;&nbsp;&nbsp;&nbsp;&nbsp;&nbsp;&nbsp;&nbsp;&nbsp;├── la                                                                                                  </span>  \n",
       "<span style='font-family: monospace;'>&nbsp;&nbsp;&nbsp;&nbsp;&nbsp;&nbsp;&nbsp;&nbsp;&nbsp;&nbsp;&nbsp;&nbsp;├── ol                                                                                                  </span>  \n",
       "<span style='font-family: monospace;'>&nbsp;&nbsp;&nbsp;&nbsp;&nbsp;&nbsp;&nbsp;&nbsp;&nbsp;&nbsp;&nbsp;&nbsp;├── cin_1rBCt5hmTp -> [m2m:cin](#_blank \"content instance\n",
       "The \\<contentInstance> resource represents a data instance in the \\<container> resource.\") | ri=cin7778028448562822204                                               </span>  \n",
       "<span style='font-family: monospace;'>&nbsp;&nbsp;&nbsp;&nbsp;&nbsp;&nbsp;&nbsp;&nbsp;&nbsp;&nbsp;&nbsp;&nbsp;├── cin_f5Ctcn77DS -> [m2m:cin](#_blank \"content instance\n",
       "The \\<contentInstance> resource represents a data instance in the \\<container> resource.\") | ri=cin6183558070835205963                                               </span>  \n",
       "<span style='font-family: monospace;'>&nbsp;&nbsp;&nbsp;&nbsp;&nbsp;&nbsp;&nbsp;&nbsp;&nbsp;&nbsp;&nbsp;&nbsp;├── cin_FkG35SC62K -> [m2m:cin](#_blank \"content instance\n",
       "The \\<contentInstance> resource represents a data instance in the \\<container> resource.\") | ri=cin8744308806825453284                                               </span>  \n",
       "<span style='font-family: monospace;'>&nbsp;&nbsp;&nbsp;&nbsp;&nbsp;&nbsp;&nbsp;&nbsp;&nbsp;&nbsp;&nbsp;&nbsp;├── cin_rmd4eeVuMX -> [m2m:cin](#_blank \"content instance\n",
       "The \\<contentInstance> resource represents a data instance in the \\<container> resource.\") | ri=cin7128993563206115893                                               </span>  \n",
       "<span style='font-family: monospace;'>&nbsp;&nbsp;&nbsp;&nbsp;&nbsp;&nbsp;&nbsp;&nbsp;&nbsp;&nbsp;&nbsp;&nbsp;├── cin_WwJN2s6WF0 -> [m2m:cin](#_blank \"content instance\n",
       "The \\<contentInstance> resource represents a data instance in the \\<container> resource.\") | ri=cin5615291261476187910                                               </span>  \n",
       "<span style='font-family: monospace;'>&nbsp;&nbsp;&nbsp;&nbsp;&nbsp;&nbsp;&nbsp;&nbsp;&nbsp;&nbsp;&nbsp;&nbsp;├── cin_MzXaDaOMe5 -> [m2m:cin](#_blank \"content instance\n",
       "The \\<contentInstance> resource represents a data instance in the \\<container> resource.\") | ri=cin4535292903725907931                                               </span>  \n",
       "<span style='font-family: monospace;'>&nbsp;&nbsp;&nbsp;&nbsp;&nbsp;&nbsp;&nbsp;&nbsp;&nbsp;&nbsp;&nbsp;&nbsp;├── cin_GGdNS0NoOS -> [m2m:cin](#_blank \"content instance\n",
       "The \\<contentInstance> resource represents a data instance in the \\<container> resource.\") | ri=cin3913760812260573666                                               </span>  \n",
       "<span style='font-family: monospace;'>&nbsp;&nbsp;&nbsp;&nbsp;&nbsp;&nbsp;&nbsp;&nbsp;&nbsp;&nbsp;&nbsp;&nbsp;└── cin_USAWBqcbes -> [m2m:cin](#_blank \"content instance\n",
       "The \\<contentInstance> resource represents a data instance in the \\<container> resource.\") | ri=cin6913933162982221154                                               </span>  \n",
       "<span style='font-family: monospace;'></span>  \n"
      ],
      "text/plain": [
       "<IPython.core.display.Markdown object>"
      ]
     },
     "metadata": {},
     "output_type": "display_data"
    },
    {
     "data": {
      "text/markdown": [
       "---"
      ],
      "text/plain": [
       "<IPython.core.display.Markdown object>"
      ]
     },
     "metadata": {},
     "output_type": "display_data"
    }
   ],
   "source": [
    "CREATE (                                                        # CREATE request\n",
    "    target                  = f'{cseRN}/aeAlice/aliceSensor',   # Create a <cnt> under \"aliceSensor\"\n",
    "    originator              = 'CAlice',                         # Request's originator (mandatory)\n",
    "    requestIdentifier       = '123',                            # Request identifier (mandatory)\n",
    "    releaseVersionIndicator = '3',                              # Request's release version indicator (mandatory)\n",
    "    resourceType            = 3,                                # The request creates an <cnt> resource\n",
    "    \n",
    "    # Request Content\n",
    "    content = {\n",
    "        \"m2m:cnt\": {\n",
    "            \"mni\" : 10,                                         # Limit the number of <cin> to 10\n",
    "            \"rn\"  : \"humidity\"                                  # Give the <cnt> resource the name 'humidity'\n",
    "        }\n",
    "    }\n",
    ")"
   ]
  },
  {
   "cell_type": "markdown",
   "id": "exposed-gross",
   "metadata": {},
   "source": [
    "After this request the structure should be complete. \n",
    "\n",
    "## Add sensor data to the \\<container> resources\n",
    "\n",
    "Now that the structure is complete Alice can connect her new device and fill the structure with sensor data.\n",
    "\n",
    "\n",
    "<div class=\"alert alert-block alert-info\" style=\"border-radius: 10px;\">\n",
    "We will simulate the device data by a couple of random numbers (using the <b><tt>randomTemperature()</tt></b> and <b><tt>randomHumidity()</tt></b> functions). Those are alll generated at once by repeatingly sending a CREATE request.\n",
    "    \n",
    "These requests produce a bit more output.\n",
    "</div>\n",
    "\n",
    "### Create temperature data"
   ]
  },
  {
   "cell_type": "code",
   "execution_count": 5,
   "id": "placed-jewelry",
   "metadata": {
    "scrolled": false
   },
   "outputs": [
    {
     "data": {
      "text/markdown": [
       "## <span style='color:grey'>Request 1</span>"
      ],
      "text/plain": [
       "<IPython.core.display.Markdown object>"
      ]
     },
     "metadata": {},
     "output_type": "display_data"
    },
    {
     "data": {
      "text/markdown": [
       "### HTTP Request"
      ],
      "text/plain": [
       "<IPython.core.display.Markdown object>"
      ]
     },
     "metadata": {},
     "output_type": "display_data"
    },
    {
     "data": {
      "text/markdown": [
       "**http://localhost:8080/cse-in/aeAlice/aliceSensor/temperature**"
      ],
      "text/plain": [
       "<IPython.core.display.Markdown object>"
      ]
     },
     "metadata": {},
     "output_type": "display_data"
    },
    {
     "data": {
      "text/markdown": [
       "\n",
       "| HTTP Header | oneM2M Parameter | Value |\n",
       "|:---|:---|:---|\n",
       "| [X-M2M-Origin](#_blank \"Originator - The request's 'From' parameter. It represents the identity of the entity who makes the request. Mandatory in the request and response.\") | From | CAlice |\n",
       "| [X-M2M-RI](#_blank \"Request Identifier - Used to uniquely identify a request. Mandatory in the request and response.\") | Request Identifier | 123 |\n",
       "| [X-M2M-RVI](#_blank \"Release Version Indicator - The requester indicates the release version of the oneM2M specification. Mandatory in the request.\") | Release Version Indicator | 3 |\n",
       "| [Content-Type](#_blank \"Any HTTP request or response with content shall include the Content-type header set to one of 'application/xml', 'application/json', or the oneM2M defined media types\") |  | application/json;ty=4 |\n",
       "| [Accept](#_blank \"The Originator may use the Accept header to indicate which media types are acceptable for the response\") |  | application/json |\n"
      ],
      "text/plain": [
       "<IPython.core.display.Markdown object>"
      ]
     },
     "metadata": {},
     "output_type": "display_data"
    },
    {
     "data": {
      "text/markdown": [
       "\n",
       "#### Request Content\n"
      ],
      "text/plain": [
       "<IPython.core.display.Markdown object>"
      ]
     },
     "metadata": {},
     "output_type": "display_data"
    },
    {
     "data": {
      "text/markdown": [
       "<span style='font-family: monospace;'>{</span>  \n",
       "<span style='font-family: monospace;'>&nbsp;&nbsp;&nbsp;&nbsp;\"[m2m:cin](#_blank \"content instance\n",
       "The \\<contentInstance> resource represents a data instance in the \\<container> resource.\")\": {</span>  \n",
       "<span style='font-family: monospace;'>&nbsp;&nbsp;&nbsp;&nbsp;&nbsp;&nbsp;&nbsp;&nbsp;\"[con](#_blank \"content\n",
       "Actual content of a contentInstance. This content may be opaque data and understandable with the help of the contentInfo.\")\": \"26\"</span>  \n",
       "<span style='font-family: monospace;'>&nbsp;&nbsp;&nbsp;&nbsp;}</span>  \n",
       "<span style='font-family: monospace;'>}</span>  \n"
      ],
      "text/plain": [
       "<IPython.core.display.Markdown object>"
      ]
     },
     "metadata": {},
     "output_type": "display_data"
    },
    {
     "data": {
      "text/markdown": [
       "---\n",
       "### HTTP Response"
      ],
      "text/plain": [
       "<IPython.core.display.Markdown object>"
      ]
     },
     "metadata": {},
     "output_type": "display_data"
    },
    {
     "data": {
      "text/markdown": [
       "<span style='color:green'>201 (CREATED)</span>"
      ],
      "text/plain": [
       "<IPython.core.display.Markdown object>"
      ]
     },
     "metadata": {},
     "output_type": "display_data"
    },
    {
     "data": {
      "text/markdown": [
       "\n",
       "| HTTP Header | oneM2M Parameter | Value |\n",
       "|:---|:---|:---|\n",
       "| [X-M2M-RSC](#_blank \"Result Status Code - The request's extended result status code. Mandatory in the response.\") | Result Status Code | [2001](#_blank \"Created - The resource was successfully created\") |\n",
       "| [X-M2M-RI](#_blank \"Request Identifier - Used to uniquely identify a request. Mandatory in the request and response.\") | Request Identifier | 123 |\n",
       "| [X-M2M-RVI](#_blank \"Release Version Indicator - The requester indicates the release version of the oneM2M specification. Mandatory in the request.\") | Release Version Indicator | 3 |\n",
       "| [Content-Type](#_blank \"Any HTTP request or response with content shall include the Content-type header set to one of 'application/xml', 'application/json', or the oneM2M defined media types\") |  | application/json |\n",
       "| [Date](#_blank \"The response's date in UTC/GMT\") |  | Mon, 22 Mar 2021 19:54:03 GMT |\n"
      ],
      "text/plain": [
       "<IPython.core.display.Markdown object>"
      ]
     },
     "metadata": {},
     "output_type": "display_data"
    },
    {
     "data": {
      "text/markdown": [
       "\n",
       "**Result Content**\n"
      ],
      "text/plain": [
       "<IPython.core.display.Markdown object>"
      ]
     },
     "metadata": {},
     "output_type": "display_data"
    },
    {
     "data": {
      "text/markdown": [
       "<span style='font-family: monospace;'>{</span>  \n",
       "<span style='font-family: monospace;'>&nbsp;&nbsp;&nbsp;&nbsp;\"[m2m:cin](#_blank \"content instance\n",
       "The \\<contentInstance> resource represents a data instance in the \\<container> resource.\")\": {</span>  \n",
       "<span style='font-family: monospace;'>&nbsp;&nbsp;&nbsp;&nbsp;&nbsp;&nbsp;&nbsp;&nbsp;\"[con](#_blank \"content\n",
       "Actual content of a contentInstance. This content may be opaque data and understandable with the help of the contentInfo.\")\": \"26\",</span>  \n",
       "<span style='font-family: monospace;'>&nbsp;&nbsp;&nbsp;&nbsp;&nbsp;&nbsp;&nbsp;&nbsp;\"[ri](#_blank \"resource identifier\n",
       "An identifier for the resource that is used for 'non-hierarchical addressing method' and uniquely identifies a resource. It is unique in that CSE.\")\": \"cin13333265801351683\",</span>  \n",
       "<span style='font-family: monospace;'>&nbsp;&nbsp;&nbsp;&nbsp;&nbsp;&nbsp;&nbsp;&nbsp;\"[rn](#_blank \"resource name\n",
       "The name for the resource that is used for 'hierarchical addressing method' to represent the parent-child relationships of resources. If left out in creation requests, the CSE assigns a unique resource name on its own. Mandatory.\")\": \"cin_tmajQ5qccG\",</span>  \n",
       "<span style='font-family: monospace;'>&nbsp;&nbsp;&nbsp;&nbsp;&nbsp;&nbsp;&nbsp;&nbsp;\"[ct](#_blank \"creation time\n",
       "Time/date of creation of the resource. This read-only attribute is assigned by the CSE at the time when the resource is locally created. Mandatory.\")\": \"20210322T195403,183631\",</span>  \n",
       "<span style='font-family: monospace;'>&nbsp;&nbsp;&nbsp;&nbsp;&nbsp;&nbsp;&nbsp;&nbsp;\"[lt](#_blank \"last modified time\n",
       "Last modification time/date of the resource. The attribute is set by the CSE when the resource is created, and it is updated when the resource is updated.\")\": \"20210322T195403,183631\",</span>  \n",
       "<span style='font-family: monospace;'>&nbsp;&nbsp;&nbsp;&nbsp;&nbsp;&nbsp;&nbsp;&nbsp;\"[et](#_blank \"expiration time\n",
       "Time/date after which the resource will be deleted by the Hosting CSE. This attribute can be provided by the Originator, and in such a case it will be regarded as a hint to the Hosting CSE on the lifetime of the resource. Optional.\")\": \"20220322T195403,183677\",</span>  \n",
       "<span style='font-family: monospace;'>&nbsp;&nbsp;&nbsp;&nbsp;&nbsp;&nbsp;&nbsp;&nbsp;\"[pi](#_blank \"parent identifier\n",
       "The resourceID of the parent of this resource. The value of this attribute is an empty string for the <CSEBase> resource type.\")\": \"cnt1074890995492783296\",</span>  \n",
       "<span style='font-family: monospace;'>&nbsp;&nbsp;&nbsp;&nbsp;&nbsp;&nbsp;&nbsp;&nbsp;\"[st](#_blank \"state tag\n",
       "An incremental counter of modification on the resource. When a resource is created, this counter is set to 0, and it will be incremented on every modification of the resource\")\": 5,</span>  \n",
       "<span style='font-family: monospace;'>&nbsp;&nbsp;&nbsp;&nbsp;&nbsp;&nbsp;&nbsp;&nbsp;\"[ty](#_blank \"resource type\n",
       "This read-only attribute identifies the type of the resource. Each resource has a resourceType attribute. Mandatory.\")\": 4,</span>  \n",
       "<span style='font-family: monospace;'>&nbsp;&nbsp;&nbsp;&nbsp;&nbsp;&nbsp;&nbsp;&nbsp;\"[cs](#_blank \"content size\n",
       "Size in bytes of the content attribute(s).\")\": 2</span>  \n",
       "<span style='font-family: monospace;'>&nbsp;&nbsp;&nbsp;&nbsp;}</span>  \n",
       "<span style='font-family: monospace;'>}</span>  \n"
      ],
      "text/plain": [
       "<IPython.core.display.Markdown object>"
      ]
     },
     "metadata": {},
     "output_type": "display_data"
    },
    {
     "data": {
      "text/markdown": [
       "---\n",
       "### Current Resource Tree"
      ],
      "text/plain": [
       "<IPython.core.display.Markdown object>"
      ]
     },
     "metadata": {},
     "output_type": "display_data"
    },
    {
     "data": {
      "text/markdown": [
       "<span style='font-family: monospace;'>cse-in -> [m2m:cb](#_blank \"CSEbase\n",
       "A \\<CSEBase> resource represents a CSE. It is the root for all resources that are residing in the CSE.\") | ri=id-in | csi=/id-in                                                                            </span>  \n",
       "<span style='font-family: monospace;'>├── CAdmin -> [m2m:ae](#_blank \"Application Entity\n",
       "An entity in the application layer that implements an M2M application service logic.\") | ri=CAdmin                                                                                    </span>  \n",
       "<span style='font-family: monospace;'>└── aeAlice -> [m2m:ae](#_blank \"Application Entity\n",
       "An entity in the application layer that implements an M2M application service logic.\") | ri=CAlice                                                                                   </span>  \n",
       "<span style='font-family: monospace;'>&nbsp;&nbsp;&nbsp;&nbsp;└── aliceSensor -> [m2m:cnt](#_blank \"Container\n",
       "The \\<container> resource represents a container for data instances. It is used to share information with other entities and potentially to track the data. A \\<container> resource has no associated content. It has only attributes and child resources.\") | ri=cnt9155249009319337559                                                          </span>  \n",
       "<span style='font-family: monospace;'>&nbsp;&nbsp;&nbsp;&nbsp;&nbsp;&nbsp;&nbsp;&nbsp;├── la                                                                                                      </span>  \n",
       "<span style='font-family: monospace;'>&nbsp;&nbsp;&nbsp;&nbsp;&nbsp;&nbsp;&nbsp;&nbsp;├── ol                                                                                                      </span>  \n",
       "<span style='font-family: monospace;'>&nbsp;&nbsp;&nbsp;&nbsp;&nbsp;&nbsp;&nbsp;&nbsp;├── temperature -> [m2m:cnt](#_blank \"Container\n",
       "The \\<container> resource represents a container for data instances. It is used to share information with other entities and potentially to track the data. A \\<container> resource has no associated content. It has only attributes and child resources.\") | ri=cnt1074890995492783296                                                      </span>  \n",
       "<span style='font-family: monospace;'>&nbsp;&nbsp;&nbsp;&nbsp;&nbsp;&nbsp;&nbsp;&nbsp;│   ├── la                                                                                                  </span>  \n",
       "<span style='font-family: monospace;'>&nbsp;&nbsp;&nbsp;&nbsp;&nbsp;&nbsp;&nbsp;&nbsp;│   ├── ol                                                                                                  </span>  \n",
       "<span style='font-family: monospace;'>&nbsp;&nbsp;&nbsp;&nbsp;&nbsp;&nbsp;&nbsp;&nbsp;│   ├── cin_YE2sZzBODZ -> [m2m:cin](#_blank \"content instance\n",
       "The \\<contentInstance> resource represents a data instance in the \\<container> resource.\") | ri=cin9066912198403257441                                               </span>  \n",
       "<span style='font-family: monospace;'>&nbsp;&nbsp;&nbsp;&nbsp;&nbsp;&nbsp;&nbsp;&nbsp;│   ├── cin_3sP8nueiSa -> [m2m:cin](#_blank \"content instance\n",
       "The \\<contentInstance> resource represents a data instance in the \\<container> resource.\") | ri=cin2174324722811872544                                               </span>  \n",
       "<span style='font-family: monospace;'>&nbsp;&nbsp;&nbsp;&nbsp;&nbsp;&nbsp;&nbsp;&nbsp;│   ├── cin_aZcxtiETWB -> [m2m:cin](#_blank \"content instance\n",
       "The \\<contentInstance> resource represents a data instance in the \\<container> resource.\") | ri=cin5998740946778440514                                               </span>  \n",
       "<span style='font-family: monospace;'>&nbsp;&nbsp;&nbsp;&nbsp;&nbsp;&nbsp;&nbsp;&nbsp;│   ├── cin_2UNNIYUvzS -> [m2m:cin](#_blank \"content instance\n",
       "The \\<contentInstance> resource represents a data instance in the \\<container> resource.\") | ri=cin7930611166788766455                                               </span>  \n",
       "<span style='font-family: monospace;'>&nbsp;&nbsp;&nbsp;&nbsp;&nbsp;&nbsp;&nbsp;&nbsp;│   └── cin_tmajQ5qccG -> [m2m:cin](#_blank \"content instance\n",
       "The \\<contentInstance> resource represents a data instance in the \\<container> resource.\") | ri=cin13333265801351683                                                 </span>  \n",
       "<span style='font-family: monospace;'>&nbsp;&nbsp;&nbsp;&nbsp;&nbsp;&nbsp;&nbsp;&nbsp;└── humidity -> [m2m:cnt](#_blank \"Container\n",
       "The \\<container> resource represents a container for data instances. It is used to share information with other entities and potentially to track the data. A \\<container> resource has no associated content. It has only attributes and child resources.\") | ri=cnt2933356905476920104                                                         </span>  \n",
       "<span style='font-family: monospace;'>&nbsp;&nbsp;&nbsp;&nbsp;&nbsp;&nbsp;&nbsp;&nbsp;&nbsp;&nbsp;&nbsp;&nbsp;├── la                                                                                                  </span>  \n",
       "<span style='font-family: monospace;'>&nbsp;&nbsp;&nbsp;&nbsp;&nbsp;&nbsp;&nbsp;&nbsp;&nbsp;&nbsp;&nbsp;&nbsp;├── ol                                                                                                  </span>  \n",
       "<span style='font-family: monospace;'>&nbsp;&nbsp;&nbsp;&nbsp;&nbsp;&nbsp;&nbsp;&nbsp;&nbsp;&nbsp;&nbsp;&nbsp;├── cin_1rBCt5hmTp -> [m2m:cin](#_blank \"content instance\n",
       "The \\<contentInstance> resource represents a data instance in the \\<container> resource.\") | ri=cin7778028448562822204                                               </span>  \n",
       "<span style='font-family: monospace;'>&nbsp;&nbsp;&nbsp;&nbsp;&nbsp;&nbsp;&nbsp;&nbsp;&nbsp;&nbsp;&nbsp;&nbsp;├── cin_f5Ctcn77DS -> [m2m:cin](#_blank \"content instance\n",
       "The \\<contentInstance> resource represents a data instance in the \\<container> resource.\") | ri=cin6183558070835205963                                               </span>  \n",
       "<span style='font-family: monospace;'>&nbsp;&nbsp;&nbsp;&nbsp;&nbsp;&nbsp;&nbsp;&nbsp;&nbsp;&nbsp;&nbsp;&nbsp;├── cin_FkG35SC62K -> [m2m:cin](#_blank \"content instance\n",
       "The \\<contentInstance> resource represents a data instance in the \\<container> resource.\") | ri=cin8744308806825453284                                               </span>  \n",
       "<span style='font-family: monospace;'>&nbsp;&nbsp;&nbsp;&nbsp;&nbsp;&nbsp;&nbsp;&nbsp;&nbsp;&nbsp;&nbsp;&nbsp;├── cin_rmd4eeVuMX -> [m2m:cin](#_blank \"content instance\n",
       "The \\<contentInstance> resource represents a data instance in the \\<container> resource.\") | ri=cin7128993563206115893                                               </span>  \n",
       "<span style='font-family: monospace;'>&nbsp;&nbsp;&nbsp;&nbsp;&nbsp;&nbsp;&nbsp;&nbsp;&nbsp;&nbsp;&nbsp;&nbsp;├── cin_WwJN2s6WF0 -> [m2m:cin](#_blank \"content instance\n",
       "The \\<contentInstance> resource represents a data instance in the \\<container> resource.\") | ri=cin5615291261476187910                                               </span>  \n",
       "<span style='font-family: monospace;'>&nbsp;&nbsp;&nbsp;&nbsp;&nbsp;&nbsp;&nbsp;&nbsp;&nbsp;&nbsp;&nbsp;&nbsp;├── cin_MzXaDaOMe5 -> [m2m:cin](#_blank \"content instance\n",
       "The \\<contentInstance> resource represents a data instance in the \\<container> resource.\") | ri=cin4535292903725907931                                               </span>  \n",
       "<span style='font-family: monospace;'>&nbsp;&nbsp;&nbsp;&nbsp;&nbsp;&nbsp;&nbsp;&nbsp;&nbsp;&nbsp;&nbsp;&nbsp;├── cin_GGdNS0NoOS -> [m2m:cin](#_blank \"content instance\n",
       "The \\<contentInstance> resource represents a data instance in the \\<container> resource.\") | ri=cin3913760812260573666                                               </span>  \n",
       "<span style='font-family: monospace;'>&nbsp;&nbsp;&nbsp;&nbsp;&nbsp;&nbsp;&nbsp;&nbsp;&nbsp;&nbsp;&nbsp;&nbsp;└── cin_USAWBqcbes -> [m2m:cin](#_blank \"content instance\n",
       "The \\<contentInstance> resource represents a data instance in the \\<container> resource.\") | ri=cin6913933162982221154                                               </span>  \n",
       "<span style='font-family: monospace;'></span>  \n"
      ],
      "text/plain": [
       "<IPython.core.display.Markdown object>"
      ]
     },
     "metadata": {},
     "output_type": "display_data"
    },
    {
     "data": {
      "text/markdown": [
       "---"
      ],
      "text/plain": [
       "<IPython.core.display.Markdown object>"
      ]
     },
     "metadata": {},
     "output_type": "display_data"
    },
    {
     "data": {
      "text/markdown": [
       "## <span style='color:grey'>Request 2</span>"
      ],
      "text/plain": [
       "<IPython.core.display.Markdown object>"
      ]
     },
     "metadata": {},
     "output_type": "display_data"
    },
    {
     "data": {
      "text/markdown": [
       "### HTTP Request"
      ],
      "text/plain": [
       "<IPython.core.display.Markdown object>"
      ]
     },
     "metadata": {},
     "output_type": "display_data"
    },
    {
     "data": {
      "text/markdown": [
       "**http://localhost:8080/cse-in/aeAlice/aliceSensor/temperature**"
      ],
      "text/plain": [
       "<IPython.core.display.Markdown object>"
      ]
     },
     "metadata": {},
     "output_type": "display_data"
    },
    {
     "data": {
      "text/markdown": [
       "\n",
       "| HTTP Header | oneM2M Parameter | Value |\n",
       "|:---|:---|:---|\n",
       "| [X-M2M-Origin](#_blank \"Originator - The request's 'From' parameter. It represents the identity of the entity who makes the request. Mandatory in the request and response.\") | From | CAlice |\n",
       "| [X-M2M-RI](#_blank \"Request Identifier - Used to uniquely identify a request. Mandatory in the request and response.\") | Request Identifier | 123 |\n",
       "| [X-M2M-RVI](#_blank \"Release Version Indicator - The requester indicates the release version of the oneM2M specification. Mandatory in the request.\") | Release Version Indicator | 3 |\n",
       "| [Content-Type](#_blank \"Any HTTP request or response with content shall include the Content-type header set to one of 'application/xml', 'application/json', or the oneM2M defined media types\") |  | application/json;ty=4 |\n",
       "| [Accept](#_blank \"The Originator may use the Accept header to indicate which media types are acceptable for the response\") |  | application/json |\n"
      ],
      "text/plain": [
       "<IPython.core.display.Markdown object>"
      ]
     },
     "metadata": {},
     "output_type": "display_data"
    },
    {
     "data": {
      "text/markdown": [
       "\n",
       "#### Request Content\n"
      ],
      "text/plain": [
       "<IPython.core.display.Markdown object>"
      ]
     },
     "metadata": {},
     "output_type": "display_data"
    },
    {
     "data": {
      "text/markdown": [
       "<span style='font-family: monospace;'>{</span>  \n",
       "<span style='font-family: monospace;'>&nbsp;&nbsp;&nbsp;&nbsp;\"[m2m:cin](#_blank \"content instance\n",
       "The \\<contentInstance> resource represents a data instance in the \\<container> resource.\")\": {</span>  \n",
       "<span style='font-family: monospace;'>&nbsp;&nbsp;&nbsp;&nbsp;&nbsp;&nbsp;&nbsp;&nbsp;\"[con](#_blank \"content\n",
       "Actual content of a contentInstance. This content may be opaque data and understandable with the help of the contentInfo.\")\": \"23\"</span>  \n",
       "<span style='font-family: monospace;'>&nbsp;&nbsp;&nbsp;&nbsp;}</span>  \n",
       "<span style='font-family: monospace;'>}</span>  \n"
      ],
      "text/plain": [
       "<IPython.core.display.Markdown object>"
      ]
     },
     "metadata": {},
     "output_type": "display_data"
    },
    {
     "data": {
      "text/markdown": [
       "---\n",
       "### HTTP Response"
      ],
      "text/plain": [
       "<IPython.core.display.Markdown object>"
      ]
     },
     "metadata": {},
     "output_type": "display_data"
    },
    {
     "data": {
      "text/markdown": [
       "<span style='color:green'>201 (CREATED)</span>"
      ],
      "text/plain": [
       "<IPython.core.display.Markdown object>"
      ]
     },
     "metadata": {},
     "output_type": "display_data"
    },
    {
     "data": {
      "text/markdown": [
       "\n",
       "| HTTP Header | oneM2M Parameter | Value |\n",
       "|:---|:---|:---|\n",
       "| [X-M2M-RSC](#_blank \"Result Status Code - The request's extended result status code. Mandatory in the response.\") | Result Status Code | [2001](#_blank \"Created - The resource was successfully created\") |\n",
       "| [X-M2M-RI](#_blank \"Request Identifier - Used to uniquely identify a request. Mandatory in the request and response.\") | Request Identifier | 123 |\n",
       "| [X-M2M-RVI](#_blank \"Release Version Indicator - The requester indicates the release version of the oneM2M specification. Mandatory in the request.\") | Release Version Indicator | 3 |\n",
       "| [Content-Type](#_blank \"Any HTTP request or response with content shall include the Content-type header set to one of 'application/xml', 'application/json', or the oneM2M defined media types\") |  | application/json |\n",
       "| [Date](#_blank \"The response's date in UTC/GMT\") |  | Mon, 22 Mar 2021 19:54:03 GMT |\n"
      ],
      "text/plain": [
       "<IPython.core.display.Markdown object>"
      ]
     },
     "metadata": {},
     "output_type": "display_data"
    },
    {
     "data": {
      "text/markdown": [
       "\n",
       "**Result Content**\n"
      ],
      "text/plain": [
       "<IPython.core.display.Markdown object>"
      ]
     },
     "metadata": {},
     "output_type": "display_data"
    },
    {
     "data": {
      "text/markdown": [
       "<span style='font-family: monospace;'>{</span>  \n",
       "<span style='font-family: monospace;'>&nbsp;&nbsp;&nbsp;&nbsp;\"[m2m:cin](#_blank \"content instance\n",
       "The \\<contentInstance> resource represents a data instance in the \\<container> resource.\")\": {</span>  \n",
       "<span style='font-family: monospace;'>&nbsp;&nbsp;&nbsp;&nbsp;&nbsp;&nbsp;&nbsp;&nbsp;\"[con](#_blank \"content\n",
       "Actual content of a contentInstance. This content may be opaque data and understandable with the help of the contentInfo.\")\": \"23\",</span>  \n",
       "<span style='font-family: monospace;'>&nbsp;&nbsp;&nbsp;&nbsp;&nbsp;&nbsp;&nbsp;&nbsp;\"[ri](#_blank \"resource identifier\n",
       "An identifier for the resource that is used for 'non-hierarchical addressing method' and uniquely identifies a resource. It is unique in that CSE.\")\": \"cin4288489916433119702\",</span>  \n",
       "<span style='font-family: monospace;'>&nbsp;&nbsp;&nbsp;&nbsp;&nbsp;&nbsp;&nbsp;&nbsp;\"[rn](#_blank \"resource name\n",
       "The name for the resource that is used for 'hierarchical addressing method' to represent the parent-child relationships of resources. If left out in creation requests, the CSE assigns a unique resource name on its own. Mandatory.\")\": \"cin_QgKtonvkd4\",</span>  \n",
       "<span style='font-family: monospace;'>&nbsp;&nbsp;&nbsp;&nbsp;&nbsp;&nbsp;&nbsp;&nbsp;\"[ct](#_blank \"creation time\n",
       "Time/date of creation of the resource. This read-only attribute is assigned by the CSE at the time when the resource is locally created. Mandatory.\")\": \"20210322T195403,428668\",</span>  \n",
       "<span style='font-family: monospace;'>&nbsp;&nbsp;&nbsp;&nbsp;&nbsp;&nbsp;&nbsp;&nbsp;\"[lt](#_blank \"last modified time\n",
       "Last modification time/date of the resource. The attribute is set by the CSE when the resource is created, and it is updated when the resource is updated.\")\": \"20210322T195403,428668\",</span>  \n",
       "<span style='font-family: monospace;'>&nbsp;&nbsp;&nbsp;&nbsp;&nbsp;&nbsp;&nbsp;&nbsp;\"[et](#_blank \"expiration time\n",
       "Time/date after which the resource will be deleted by the Hosting CSE. This attribute can be provided by the Originator, and in such a case it will be regarded as a hint to the Hosting CSE on the lifetime of the resource. Optional.\")\": \"20220322T195403,428723\",</span>  \n",
       "<span style='font-family: monospace;'>&nbsp;&nbsp;&nbsp;&nbsp;&nbsp;&nbsp;&nbsp;&nbsp;\"[pi](#_blank \"parent identifier\n",
       "The resourceID of the parent of this resource. The value of this attribute is an empty string for the <CSEBase> resource type.\")\": \"cnt1074890995492783296\",</span>  \n",
       "<span style='font-family: monospace;'>&nbsp;&nbsp;&nbsp;&nbsp;&nbsp;&nbsp;&nbsp;&nbsp;\"[st](#_blank \"state tag\n",
       "An incremental counter of modification on the resource. When a resource is created, this counter is set to 0, and it will be incremented on every modification of the resource\")\": 6,</span>  \n",
       "<span style='font-family: monospace;'>&nbsp;&nbsp;&nbsp;&nbsp;&nbsp;&nbsp;&nbsp;&nbsp;\"[ty](#_blank \"resource type\n",
       "This read-only attribute identifies the type of the resource. Each resource has a resourceType attribute. Mandatory.\")\": 4,</span>  \n",
       "<span style='font-family: monospace;'>&nbsp;&nbsp;&nbsp;&nbsp;&nbsp;&nbsp;&nbsp;&nbsp;\"[cs](#_blank \"content size\n",
       "Size in bytes of the content attribute(s).\")\": 2</span>  \n",
       "<span style='font-family: monospace;'>&nbsp;&nbsp;&nbsp;&nbsp;}</span>  \n",
       "<span style='font-family: monospace;'>}</span>  \n"
      ],
      "text/plain": [
       "<IPython.core.display.Markdown object>"
      ]
     },
     "metadata": {},
     "output_type": "display_data"
    },
    {
     "data": {
      "text/markdown": [
       "---\n",
       "### Current Resource Tree"
      ],
      "text/plain": [
       "<IPython.core.display.Markdown object>"
      ]
     },
     "metadata": {},
     "output_type": "display_data"
    },
    {
     "data": {
      "text/markdown": [
       "<span style='font-family: monospace;'>cse-in -> [m2m:cb](#_blank \"CSEbase\n",
       "A \\<CSEBase> resource represents a CSE. It is the root for all resources that are residing in the CSE.\") | ri=id-in | csi=/id-in                                                                            </span>  \n",
       "<span style='font-family: monospace;'>├── CAdmin -> [m2m:ae](#_blank \"Application Entity\n",
       "An entity in the application layer that implements an M2M application service logic.\") | ri=CAdmin                                                                                    </span>  \n",
       "<span style='font-family: monospace;'>└── aeAlice -> [m2m:ae](#_blank \"Application Entity\n",
       "An entity in the application layer that implements an M2M application service logic.\") | ri=CAlice                                                                                   </span>  \n",
       "<span style='font-family: monospace;'>&nbsp;&nbsp;&nbsp;&nbsp;└── aliceSensor -> [m2m:cnt](#_blank \"Container\n",
       "The \\<container> resource represents a container for data instances. It is used to share information with other entities and potentially to track the data. A \\<container> resource has no associated content. It has only attributes and child resources.\") | ri=cnt9155249009319337559                                                          </span>  \n",
       "<span style='font-family: monospace;'>&nbsp;&nbsp;&nbsp;&nbsp;&nbsp;&nbsp;&nbsp;&nbsp;├── la                                                                                                      </span>  \n",
       "<span style='font-family: monospace;'>&nbsp;&nbsp;&nbsp;&nbsp;&nbsp;&nbsp;&nbsp;&nbsp;├── ol                                                                                                      </span>  \n",
       "<span style='font-family: monospace;'>&nbsp;&nbsp;&nbsp;&nbsp;&nbsp;&nbsp;&nbsp;&nbsp;├── temperature -> [m2m:cnt](#_blank \"Container\n",
       "The \\<container> resource represents a container for data instances. It is used to share information with other entities and potentially to track the data. A \\<container> resource has no associated content. It has only attributes and child resources.\") | ri=cnt1074890995492783296                                                      </span>  \n",
       "<span style='font-family: monospace;'>&nbsp;&nbsp;&nbsp;&nbsp;&nbsp;&nbsp;&nbsp;&nbsp;│   ├── la                                                                                                  </span>  \n",
       "<span style='font-family: monospace;'>&nbsp;&nbsp;&nbsp;&nbsp;&nbsp;&nbsp;&nbsp;&nbsp;│   ├── ol                                                                                                  </span>  \n",
       "<span style='font-family: monospace;'>&nbsp;&nbsp;&nbsp;&nbsp;&nbsp;&nbsp;&nbsp;&nbsp;│   ├── cin_YE2sZzBODZ -> [m2m:cin](#_blank \"content instance\n",
       "The \\<contentInstance> resource represents a data instance in the \\<container> resource.\") | ri=cin9066912198403257441                                               </span>  \n",
       "<span style='font-family: monospace;'>&nbsp;&nbsp;&nbsp;&nbsp;&nbsp;&nbsp;&nbsp;&nbsp;│   ├── cin_3sP8nueiSa -> [m2m:cin](#_blank \"content instance\n",
       "The \\<contentInstance> resource represents a data instance in the \\<container> resource.\") | ri=cin2174324722811872544                                               </span>  \n",
       "<span style='font-family: monospace;'>&nbsp;&nbsp;&nbsp;&nbsp;&nbsp;&nbsp;&nbsp;&nbsp;│   ├── cin_aZcxtiETWB -> [m2m:cin](#_blank \"content instance\n",
       "The \\<contentInstance> resource represents a data instance in the \\<container> resource.\") | ri=cin5998740946778440514                                               </span>  \n",
       "<span style='font-family: monospace;'>&nbsp;&nbsp;&nbsp;&nbsp;&nbsp;&nbsp;&nbsp;&nbsp;│   ├── cin_2UNNIYUvzS -> [m2m:cin](#_blank \"content instance\n",
       "The \\<contentInstance> resource represents a data instance in the \\<container> resource.\") | ri=cin7930611166788766455                                               </span>  \n",
       "<span style='font-family: monospace;'>&nbsp;&nbsp;&nbsp;&nbsp;&nbsp;&nbsp;&nbsp;&nbsp;│   ├── cin_tmajQ5qccG -> [m2m:cin](#_blank \"content instance\n",
       "The \\<contentInstance> resource represents a data instance in the \\<container> resource.\") | ri=cin13333265801351683                                                 </span>  \n",
       "<span style='font-family: monospace;'>&nbsp;&nbsp;&nbsp;&nbsp;&nbsp;&nbsp;&nbsp;&nbsp;│   └── cin_QgKtonvkd4 -> [m2m:cin](#_blank \"content instance\n",
       "The \\<contentInstance> resource represents a data instance in the \\<container> resource.\") | ri=cin4288489916433119702                                               </span>  \n",
       "<span style='font-family: monospace;'>&nbsp;&nbsp;&nbsp;&nbsp;&nbsp;&nbsp;&nbsp;&nbsp;└── humidity -> [m2m:cnt](#_blank \"Container\n",
       "The \\<container> resource represents a container for data instances. It is used to share information with other entities and potentially to track the data. A \\<container> resource has no associated content. It has only attributes and child resources.\") | ri=cnt2933356905476920104                                                         </span>  \n",
       "<span style='font-family: monospace;'>&nbsp;&nbsp;&nbsp;&nbsp;&nbsp;&nbsp;&nbsp;&nbsp;&nbsp;&nbsp;&nbsp;&nbsp;├── la                                                                                                  </span>  \n",
       "<span style='font-family: monospace;'>&nbsp;&nbsp;&nbsp;&nbsp;&nbsp;&nbsp;&nbsp;&nbsp;&nbsp;&nbsp;&nbsp;&nbsp;├── ol                                                                                                  </span>  \n",
       "<span style='font-family: monospace;'>&nbsp;&nbsp;&nbsp;&nbsp;&nbsp;&nbsp;&nbsp;&nbsp;&nbsp;&nbsp;&nbsp;&nbsp;├── cin_1rBCt5hmTp -> [m2m:cin](#_blank \"content instance\n",
       "The \\<contentInstance> resource represents a data instance in the \\<container> resource.\") | ri=cin7778028448562822204                                               </span>  \n",
       "<span style='font-family: monospace;'>&nbsp;&nbsp;&nbsp;&nbsp;&nbsp;&nbsp;&nbsp;&nbsp;&nbsp;&nbsp;&nbsp;&nbsp;├── cin_f5Ctcn77DS -> [m2m:cin](#_blank \"content instance\n",
       "The \\<contentInstance> resource represents a data instance in the \\<container> resource.\") | ri=cin6183558070835205963                                               </span>  \n",
       "<span style='font-family: monospace;'>&nbsp;&nbsp;&nbsp;&nbsp;&nbsp;&nbsp;&nbsp;&nbsp;&nbsp;&nbsp;&nbsp;&nbsp;├── cin_FkG35SC62K -> [m2m:cin](#_blank \"content instance\n",
       "The \\<contentInstance> resource represents a data instance in the \\<container> resource.\") | ri=cin8744308806825453284                                               </span>  \n",
       "<span style='font-family: monospace;'>&nbsp;&nbsp;&nbsp;&nbsp;&nbsp;&nbsp;&nbsp;&nbsp;&nbsp;&nbsp;&nbsp;&nbsp;├── cin_rmd4eeVuMX -> [m2m:cin](#_blank \"content instance\n",
       "The \\<contentInstance> resource represents a data instance in the \\<container> resource.\") | ri=cin7128993563206115893                                               </span>  \n",
       "<span style='font-family: monospace;'>&nbsp;&nbsp;&nbsp;&nbsp;&nbsp;&nbsp;&nbsp;&nbsp;&nbsp;&nbsp;&nbsp;&nbsp;├── cin_WwJN2s6WF0 -> [m2m:cin](#_blank \"content instance\n",
       "The \\<contentInstance> resource represents a data instance in the \\<container> resource.\") | ri=cin5615291261476187910                                               </span>  \n",
       "<span style='font-family: monospace;'>&nbsp;&nbsp;&nbsp;&nbsp;&nbsp;&nbsp;&nbsp;&nbsp;&nbsp;&nbsp;&nbsp;&nbsp;├── cin_MzXaDaOMe5 -> [m2m:cin](#_blank \"content instance\n",
       "The \\<contentInstance> resource represents a data instance in the \\<container> resource.\") | ri=cin4535292903725907931                                               </span>  \n",
       "<span style='font-family: monospace;'>&nbsp;&nbsp;&nbsp;&nbsp;&nbsp;&nbsp;&nbsp;&nbsp;&nbsp;&nbsp;&nbsp;&nbsp;├── cin_GGdNS0NoOS -> [m2m:cin](#_blank \"content instance\n",
       "The \\<contentInstance> resource represents a data instance in the \\<container> resource.\") | ri=cin3913760812260573666                                               </span>  \n",
       "<span style='font-family: monospace;'>&nbsp;&nbsp;&nbsp;&nbsp;&nbsp;&nbsp;&nbsp;&nbsp;&nbsp;&nbsp;&nbsp;&nbsp;└── cin_USAWBqcbes -> [m2m:cin](#_blank \"content instance\n",
       "The \\<contentInstance> resource represents a data instance in the \\<container> resource.\") | ri=cin6913933162982221154                                               </span>  \n",
       "<span style='font-family: monospace;'></span>  \n"
      ],
      "text/plain": [
       "<IPython.core.display.Markdown object>"
      ]
     },
     "metadata": {},
     "output_type": "display_data"
    },
    {
     "data": {
      "text/markdown": [
       "---"
      ],
      "text/plain": [
       "<IPython.core.display.Markdown object>"
      ]
     },
     "metadata": {},
     "output_type": "display_data"
    },
    {
     "data": {
      "text/markdown": [
       "## <span style='color:grey'>Request 3</span>"
      ],
      "text/plain": [
       "<IPython.core.display.Markdown object>"
      ]
     },
     "metadata": {},
     "output_type": "display_data"
    },
    {
     "data": {
      "text/markdown": [
       "### HTTP Request"
      ],
      "text/plain": [
       "<IPython.core.display.Markdown object>"
      ]
     },
     "metadata": {},
     "output_type": "display_data"
    },
    {
     "data": {
      "text/markdown": [
       "**http://localhost:8080/cse-in/aeAlice/aliceSensor/temperature**"
      ],
      "text/plain": [
       "<IPython.core.display.Markdown object>"
      ]
     },
     "metadata": {},
     "output_type": "display_data"
    },
    {
     "data": {
      "text/markdown": [
       "\n",
       "| HTTP Header | oneM2M Parameter | Value |\n",
       "|:---|:---|:---|\n",
       "| [X-M2M-Origin](#_blank \"Originator - The request's 'From' parameter. It represents the identity of the entity who makes the request. Mandatory in the request and response.\") | From | CAlice |\n",
       "| [X-M2M-RI](#_blank \"Request Identifier - Used to uniquely identify a request. Mandatory in the request and response.\") | Request Identifier | 123 |\n",
       "| [X-M2M-RVI](#_blank \"Release Version Indicator - The requester indicates the release version of the oneM2M specification. Mandatory in the request.\") | Release Version Indicator | 3 |\n",
       "| [Content-Type](#_blank \"Any HTTP request or response with content shall include the Content-type header set to one of 'application/xml', 'application/json', or the oneM2M defined media types\") |  | application/json;ty=4 |\n",
       "| [Accept](#_blank \"The Originator may use the Accept header to indicate which media types are acceptable for the response\") |  | application/json |\n"
      ],
      "text/plain": [
       "<IPython.core.display.Markdown object>"
      ]
     },
     "metadata": {},
     "output_type": "display_data"
    },
    {
     "data": {
      "text/markdown": [
       "\n",
       "#### Request Content\n"
      ],
      "text/plain": [
       "<IPython.core.display.Markdown object>"
      ]
     },
     "metadata": {},
     "output_type": "display_data"
    },
    {
     "data": {
      "text/markdown": [
       "<span style='font-family: monospace;'>{</span>  \n",
       "<span style='font-family: monospace;'>&nbsp;&nbsp;&nbsp;&nbsp;\"[m2m:cin](#_blank \"content instance\n",
       "The \\<contentInstance> resource represents a data instance in the \\<container> resource.\")\": {</span>  \n",
       "<span style='font-family: monospace;'>&nbsp;&nbsp;&nbsp;&nbsp;&nbsp;&nbsp;&nbsp;&nbsp;\"[con](#_blank \"content\n",
       "Actual content of a contentInstance. This content may be opaque data and understandable with the help of the contentInfo.\")\": \"28\"</span>  \n",
       "<span style='font-family: monospace;'>&nbsp;&nbsp;&nbsp;&nbsp;}</span>  \n",
       "<span style='font-family: monospace;'>}</span>  \n"
      ],
      "text/plain": [
       "<IPython.core.display.Markdown object>"
      ]
     },
     "metadata": {},
     "output_type": "display_data"
    },
    {
     "data": {
      "text/markdown": [
       "---\n",
       "### HTTP Response"
      ],
      "text/plain": [
       "<IPython.core.display.Markdown object>"
      ]
     },
     "metadata": {},
     "output_type": "display_data"
    },
    {
     "data": {
      "text/markdown": [
       "<span style='color:green'>201 (CREATED)</span>"
      ],
      "text/plain": [
       "<IPython.core.display.Markdown object>"
      ]
     },
     "metadata": {},
     "output_type": "display_data"
    },
    {
     "data": {
      "text/markdown": [
       "\n",
       "| HTTP Header | oneM2M Parameter | Value |\n",
       "|:---|:---|:---|\n",
       "| [X-M2M-RSC](#_blank \"Result Status Code - The request's extended result status code. Mandatory in the response.\") | Result Status Code | [2001](#_blank \"Created - The resource was successfully created\") |\n",
       "| [X-M2M-RI](#_blank \"Request Identifier - Used to uniquely identify a request. Mandatory in the request and response.\") | Request Identifier | 123 |\n",
       "| [X-M2M-RVI](#_blank \"Release Version Indicator - The requester indicates the release version of the oneM2M specification. Mandatory in the request.\") | Release Version Indicator | 3 |\n",
       "| [Content-Type](#_blank \"Any HTTP request or response with content shall include the Content-type header set to one of 'application/xml', 'application/json', or the oneM2M defined media types\") |  | application/json |\n",
       "| [Date](#_blank \"The response's date in UTC/GMT\") |  | Mon, 22 Mar 2021 19:54:03 GMT |\n"
      ],
      "text/plain": [
       "<IPython.core.display.Markdown object>"
      ]
     },
     "metadata": {},
     "output_type": "display_data"
    },
    {
     "data": {
      "text/markdown": [
       "\n",
       "**Result Content**\n"
      ],
      "text/plain": [
       "<IPython.core.display.Markdown object>"
      ]
     },
     "metadata": {},
     "output_type": "display_data"
    },
    {
     "data": {
      "text/markdown": [
       "<span style='font-family: monospace;'>{</span>  \n",
       "<span style='font-family: monospace;'>&nbsp;&nbsp;&nbsp;&nbsp;\"[m2m:cin](#_blank \"content instance\n",
       "The \\<contentInstance> resource represents a data instance in the \\<container> resource.\")\": {</span>  \n",
       "<span style='font-family: monospace;'>&nbsp;&nbsp;&nbsp;&nbsp;&nbsp;&nbsp;&nbsp;&nbsp;\"[con](#_blank \"content\n",
       "Actual content of a contentInstance. This content may be opaque data and understandable with the help of the contentInfo.\")\": \"28\",</span>  \n",
       "<span style='font-family: monospace;'>&nbsp;&nbsp;&nbsp;&nbsp;&nbsp;&nbsp;&nbsp;&nbsp;\"[ri](#_blank \"resource identifier\n",
       "An identifier for the resource that is used for 'non-hierarchical addressing method' and uniquely identifies a resource. It is unique in that CSE.\")\": \"cin6007420771939877329\",</span>  \n",
       "<span style='font-family: monospace;'>&nbsp;&nbsp;&nbsp;&nbsp;&nbsp;&nbsp;&nbsp;&nbsp;\"[rn](#_blank \"resource name\n",
       "The name for the resource that is used for 'hierarchical addressing method' to represent the parent-child relationships of resources. If left out in creation requests, the CSE assigns a unique resource name on its own. Mandatory.\")\": \"cin_n4V3RmCsTO\",</span>  \n",
       "<span style='font-family: monospace;'>&nbsp;&nbsp;&nbsp;&nbsp;&nbsp;&nbsp;&nbsp;&nbsp;\"[ct](#_blank \"creation time\n",
       "Time/date of creation of the resource. This read-only attribute is assigned by the CSE at the time when the resource is locally created. Mandatory.\")\": \"20210322T195403,562527\",</span>  \n",
       "<span style='font-family: monospace;'>&nbsp;&nbsp;&nbsp;&nbsp;&nbsp;&nbsp;&nbsp;&nbsp;\"[lt](#_blank \"last modified time\n",
       "Last modification time/date of the resource. The attribute is set by the CSE when the resource is created, and it is updated when the resource is updated.\")\": \"20210322T195403,562527\",</span>  \n",
       "<span style='font-family: monospace;'>&nbsp;&nbsp;&nbsp;&nbsp;&nbsp;&nbsp;&nbsp;&nbsp;\"[et](#_blank \"expiration time\n",
       "Time/date after which the resource will be deleted by the Hosting CSE. This attribute can be provided by the Originator, and in such a case it will be regarded as a hint to the Hosting CSE on the lifetime of the resource. Optional.\")\": \"20220322T195403,562573\",</span>  \n",
       "<span style='font-family: monospace;'>&nbsp;&nbsp;&nbsp;&nbsp;&nbsp;&nbsp;&nbsp;&nbsp;\"[pi](#_blank \"parent identifier\n",
       "The resourceID of the parent of this resource. The value of this attribute is an empty string for the <CSEBase> resource type.\")\": \"cnt1074890995492783296\",</span>  \n",
       "<span style='font-family: monospace;'>&nbsp;&nbsp;&nbsp;&nbsp;&nbsp;&nbsp;&nbsp;&nbsp;\"[st](#_blank \"state tag\n",
       "An incremental counter of modification on the resource. When a resource is created, this counter is set to 0, and it will be incremented on every modification of the resource\")\": 7,</span>  \n",
       "<span style='font-family: monospace;'>&nbsp;&nbsp;&nbsp;&nbsp;&nbsp;&nbsp;&nbsp;&nbsp;\"[ty](#_blank \"resource type\n",
       "This read-only attribute identifies the type of the resource. Each resource has a resourceType attribute. Mandatory.\")\": 4,</span>  \n",
       "<span style='font-family: monospace;'>&nbsp;&nbsp;&nbsp;&nbsp;&nbsp;&nbsp;&nbsp;&nbsp;\"[cs](#_blank \"content size\n",
       "Size in bytes of the content attribute(s).\")\": 2</span>  \n",
       "<span style='font-family: monospace;'>&nbsp;&nbsp;&nbsp;&nbsp;}</span>  \n",
       "<span style='font-family: monospace;'>}</span>  \n"
      ],
      "text/plain": [
       "<IPython.core.display.Markdown object>"
      ]
     },
     "metadata": {},
     "output_type": "display_data"
    },
    {
     "data": {
      "text/markdown": [
       "---\n",
       "### Current Resource Tree"
      ],
      "text/plain": [
       "<IPython.core.display.Markdown object>"
      ]
     },
     "metadata": {},
     "output_type": "display_data"
    },
    {
     "data": {
      "text/markdown": [
       "<span style='font-family: monospace;'>cse-in -> [m2m:cb](#_blank \"CSEbase\n",
       "A \\<CSEBase> resource represents a CSE. It is the root for all resources that are residing in the CSE.\") | ri=id-in | csi=/id-in                                                                            </span>  \n",
       "<span style='font-family: monospace;'>├── CAdmin -> [m2m:ae](#_blank \"Application Entity\n",
       "An entity in the application layer that implements an M2M application service logic.\") | ri=CAdmin                                                                                    </span>  \n",
       "<span style='font-family: monospace;'>└── aeAlice -> [m2m:ae](#_blank \"Application Entity\n",
       "An entity in the application layer that implements an M2M application service logic.\") | ri=CAlice                                                                                   </span>  \n",
       "<span style='font-family: monospace;'>&nbsp;&nbsp;&nbsp;&nbsp;└── aliceSensor -> [m2m:cnt](#_blank \"Container\n",
       "The \\<container> resource represents a container for data instances. It is used to share information with other entities and potentially to track the data. A \\<container> resource has no associated content. It has only attributes and child resources.\") | ri=cnt9155249009319337559                                                          </span>  \n",
       "<span style='font-family: monospace;'>&nbsp;&nbsp;&nbsp;&nbsp;&nbsp;&nbsp;&nbsp;&nbsp;├── la                                                                                                      </span>  \n",
       "<span style='font-family: monospace;'>&nbsp;&nbsp;&nbsp;&nbsp;&nbsp;&nbsp;&nbsp;&nbsp;├── ol                                                                                                      </span>  \n",
       "<span style='font-family: monospace;'>&nbsp;&nbsp;&nbsp;&nbsp;&nbsp;&nbsp;&nbsp;&nbsp;├── temperature -> [m2m:cnt](#_blank \"Container\n",
       "The \\<container> resource represents a container for data instances. It is used to share information with other entities and potentially to track the data. A \\<container> resource has no associated content. It has only attributes and child resources.\") | ri=cnt1074890995492783296                                                      </span>  \n",
       "<span style='font-family: monospace;'>&nbsp;&nbsp;&nbsp;&nbsp;&nbsp;&nbsp;&nbsp;&nbsp;│   ├── la                                                                                                  </span>  \n",
       "<span style='font-family: monospace;'>&nbsp;&nbsp;&nbsp;&nbsp;&nbsp;&nbsp;&nbsp;&nbsp;│   ├── ol                                                                                                  </span>  \n",
       "<span style='font-family: monospace;'>&nbsp;&nbsp;&nbsp;&nbsp;&nbsp;&nbsp;&nbsp;&nbsp;│   ├── cin_YE2sZzBODZ -> [m2m:cin](#_blank \"content instance\n",
       "The \\<contentInstance> resource represents a data instance in the \\<container> resource.\") | ri=cin9066912198403257441                                               </span>  \n",
       "<span style='font-family: monospace;'>&nbsp;&nbsp;&nbsp;&nbsp;&nbsp;&nbsp;&nbsp;&nbsp;│   ├── cin_3sP8nueiSa -> [m2m:cin](#_blank \"content instance\n",
       "The \\<contentInstance> resource represents a data instance in the \\<container> resource.\") | ri=cin2174324722811872544                                               </span>  \n",
       "<span style='font-family: monospace;'>&nbsp;&nbsp;&nbsp;&nbsp;&nbsp;&nbsp;&nbsp;&nbsp;│   ├── cin_aZcxtiETWB -> [m2m:cin](#_blank \"content instance\n",
       "The \\<contentInstance> resource represents a data instance in the \\<container> resource.\") | ri=cin5998740946778440514                                               </span>  \n",
       "<span style='font-family: monospace;'>&nbsp;&nbsp;&nbsp;&nbsp;&nbsp;&nbsp;&nbsp;&nbsp;│   ├── cin_2UNNIYUvzS -> [m2m:cin](#_blank \"content instance\n",
       "The \\<contentInstance> resource represents a data instance in the \\<container> resource.\") | ri=cin7930611166788766455                                               </span>  \n",
       "<span style='font-family: monospace;'>&nbsp;&nbsp;&nbsp;&nbsp;&nbsp;&nbsp;&nbsp;&nbsp;│   ├── cin_tmajQ5qccG -> [m2m:cin](#_blank \"content instance\n",
       "The \\<contentInstance> resource represents a data instance in the \\<container> resource.\") | ri=cin13333265801351683                                                 </span>  \n",
       "<span style='font-family: monospace;'>&nbsp;&nbsp;&nbsp;&nbsp;&nbsp;&nbsp;&nbsp;&nbsp;│   ├── cin_QgKtonvkd4 -> [m2m:cin](#_blank \"content instance\n",
       "The \\<contentInstance> resource represents a data instance in the \\<container> resource.\") | ri=cin4288489916433119702                                               </span>  \n",
       "<span style='font-family: monospace;'>&nbsp;&nbsp;&nbsp;&nbsp;&nbsp;&nbsp;&nbsp;&nbsp;│   └── cin_n4V3RmCsTO -> [m2m:cin](#_blank \"content instance\n",
       "The \\<contentInstance> resource represents a data instance in the \\<container> resource.\") | ri=cin6007420771939877329                                               </span>  \n",
       "<span style='font-family: monospace;'>&nbsp;&nbsp;&nbsp;&nbsp;&nbsp;&nbsp;&nbsp;&nbsp;└── humidity -> [m2m:cnt](#_blank \"Container\n",
       "The \\<container> resource represents a container for data instances. It is used to share information with other entities and potentially to track the data. A \\<container> resource has no associated content. It has only attributes and child resources.\") | ri=cnt2933356905476920104                                                         </span>  \n",
       "<span style='font-family: monospace;'>&nbsp;&nbsp;&nbsp;&nbsp;&nbsp;&nbsp;&nbsp;&nbsp;&nbsp;&nbsp;&nbsp;&nbsp;├── la                                                                                                  </span>  \n",
       "<span style='font-family: monospace;'>&nbsp;&nbsp;&nbsp;&nbsp;&nbsp;&nbsp;&nbsp;&nbsp;&nbsp;&nbsp;&nbsp;&nbsp;├── ol                                                                                                  </span>  \n",
       "<span style='font-family: monospace;'>&nbsp;&nbsp;&nbsp;&nbsp;&nbsp;&nbsp;&nbsp;&nbsp;&nbsp;&nbsp;&nbsp;&nbsp;├── cin_1rBCt5hmTp -> [m2m:cin](#_blank \"content instance\n",
       "The \\<contentInstance> resource represents a data instance in the \\<container> resource.\") | ri=cin7778028448562822204                                               </span>  \n",
       "<span style='font-family: monospace;'>&nbsp;&nbsp;&nbsp;&nbsp;&nbsp;&nbsp;&nbsp;&nbsp;&nbsp;&nbsp;&nbsp;&nbsp;├── cin_f5Ctcn77DS -> [m2m:cin](#_blank \"content instance\n",
       "The \\<contentInstance> resource represents a data instance in the \\<container> resource.\") | ri=cin6183558070835205963                                               </span>  \n",
       "<span style='font-family: monospace;'>&nbsp;&nbsp;&nbsp;&nbsp;&nbsp;&nbsp;&nbsp;&nbsp;&nbsp;&nbsp;&nbsp;&nbsp;├── cin_FkG35SC62K -> [m2m:cin](#_blank \"content instance\n",
       "The \\<contentInstance> resource represents a data instance in the \\<container> resource.\") | ri=cin8744308806825453284                                               </span>  \n",
       "<span style='font-family: monospace;'>&nbsp;&nbsp;&nbsp;&nbsp;&nbsp;&nbsp;&nbsp;&nbsp;&nbsp;&nbsp;&nbsp;&nbsp;├── cin_rmd4eeVuMX -> [m2m:cin](#_blank \"content instance\n",
       "The \\<contentInstance> resource represents a data instance in the \\<container> resource.\") | ri=cin7128993563206115893                                               </span>  \n",
       "<span style='font-family: monospace;'>&nbsp;&nbsp;&nbsp;&nbsp;&nbsp;&nbsp;&nbsp;&nbsp;&nbsp;&nbsp;&nbsp;&nbsp;├── cin_WwJN2s6WF0 -> [m2m:cin](#_blank \"content instance\n",
       "The \\<contentInstance> resource represents a data instance in the \\<container> resource.\") | ri=cin5615291261476187910                                               </span>  \n",
       "<span style='font-family: monospace;'>&nbsp;&nbsp;&nbsp;&nbsp;&nbsp;&nbsp;&nbsp;&nbsp;&nbsp;&nbsp;&nbsp;&nbsp;├── cin_MzXaDaOMe5 -> [m2m:cin](#_blank \"content instance\n",
       "The \\<contentInstance> resource represents a data instance in the \\<container> resource.\") | ri=cin4535292903725907931                                               </span>  \n",
       "<span style='font-family: monospace;'>&nbsp;&nbsp;&nbsp;&nbsp;&nbsp;&nbsp;&nbsp;&nbsp;&nbsp;&nbsp;&nbsp;&nbsp;├── cin_GGdNS0NoOS -> [m2m:cin](#_blank \"content instance\n",
       "The \\<contentInstance> resource represents a data instance in the \\<container> resource.\") | ri=cin3913760812260573666                                               </span>  \n",
       "<span style='font-family: monospace;'>&nbsp;&nbsp;&nbsp;&nbsp;&nbsp;&nbsp;&nbsp;&nbsp;&nbsp;&nbsp;&nbsp;&nbsp;└── cin_USAWBqcbes -> [m2m:cin](#_blank \"content instance\n",
       "The \\<contentInstance> resource represents a data instance in the \\<container> resource.\") | ri=cin6913933162982221154                                               </span>  \n",
       "<span style='font-family: monospace;'></span>  \n"
      ],
      "text/plain": [
       "<IPython.core.display.Markdown object>"
      ]
     },
     "metadata": {},
     "output_type": "display_data"
    },
    {
     "data": {
      "text/markdown": [
       "---"
      ],
      "text/plain": [
       "<IPython.core.display.Markdown object>"
      ]
     },
     "metadata": {},
     "output_type": "display_data"
    },
    {
     "data": {
      "text/markdown": [
       "## <span style='color:grey'>Request 4</span>"
      ],
      "text/plain": [
       "<IPython.core.display.Markdown object>"
      ]
     },
     "metadata": {},
     "output_type": "display_data"
    },
    {
     "data": {
      "text/markdown": [
       "### HTTP Request"
      ],
      "text/plain": [
       "<IPython.core.display.Markdown object>"
      ]
     },
     "metadata": {},
     "output_type": "display_data"
    },
    {
     "data": {
      "text/markdown": [
       "**http://localhost:8080/cse-in/aeAlice/aliceSensor/temperature**"
      ],
      "text/plain": [
       "<IPython.core.display.Markdown object>"
      ]
     },
     "metadata": {},
     "output_type": "display_data"
    },
    {
     "data": {
      "text/markdown": [
       "\n",
       "| HTTP Header | oneM2M Parameter | Value |\n",
       "|:---|:---|:---|\n",
       "| [X-M2M-Origin](#_blank \"Originator - The request's 'From' parameter. It represents the identity of the entity who makes the request. Mandatory in the request and response.\") | From | CAlice |\n",
       "| [X-M2M-RI](#_blank \"Request Identifier - Used to uniquely identify a request. Mandatory in the request and response.\") | Request Identifier | 123 |\n",
       "| [X-M2M-RVI](#_blank \"Release Version Indicator - The requester indicates the release version of the oneM2M specification. Mandatory in the request.\") | Release Version Indicator | 3 |\n",
       "| [Content-Type](#_blank \"Any HTTP request or response with content shall include the Content-type header set to one of 'application/xml', 'application/json', or the oneM2M defined media types\") |  | application/json;ty=4 |\n",
       "| [Accept](#_blank \"The Originator may use the Accept header to indicate which media types are acceptable for the response\") |  | application/json |\n"
      ],
      "text/plain": [
       "<IPython.core.display.Markdown object>"
      ]
     },
     "metadata": {},
     "output_type": "display_data"
    },
    {
     "data": {
      "text/markdown": [
       "\n",
       "#### Request Content\n"
      ],
      "text/plain": [
       "<IPython.core.display.Markdown object>"
      ]
     },
     "metadata": {},
     "output_type": "display_data"
    },
    {
     "data": {
      "text/markdown": [
       "<span style='font-family: monospace;'>{</span>  \n",
       "<span style='font-family: monospace;'>&nbsp;&nbsp;&nbsp;&nbsp;\"[m2m:cin](#_blank \"content instance\n",
       "The \\<contentInstance> resource represents a data instance in the \\<container> resource.\")\": {</span>  \n",
       "<span style='font-family: monospace;'>&nbsp;&nbsp;&nbsp;&nbsp;&nbsp;&nbsp;&nbsp;&nbsp;\"[con](#_blank \"content\n",
       "Actual content of a contentInstance. This content may be opaque data and understandable with the help of the contentInfo.\")\": \"10\"</span>  \n",
       "<span style='font-family: monospace;'>&nbsp;&nbsp;&nbsp;&nbsp;}</span>  \n",
       "<span style='font-family: monospace;'>}</span>  \n"
      ],
      "text/plain": [
       "<IPython.core.display.Markdown object>"
      ]
     },
     "metadata": {},
     "output_type": "display_data"
    },
    {
     "data": {
      "text/markdown": [
       "---\n",
       "### HTTP Response"
      ],
      "text/plain": [
       "<IPython.core.display.Markdown object>"
      ]
     },
     "metadata": {},
     "output_type": "display_data"
    },
    {
     "data": {
      "text/markdown": [
       "<span style='color:green'>201 (CREATED)</span>"
      ],
      "text/plain": [
       "<IPython.core.display.Markdown object>"
      ]
     },
     "metadata": {},
     "output_type": "display_data"
    },
    {
     "data": {
      "text/markdown": [
       "\n",
       "| HTTP Header | oneM2M Parameter | Value |\n",
       "|:---|:---|:---|\n",
       "| [X-M2M-RSC](#_blank \"Result Status Code - The request's extended result status code. Mandatory in the response.\") | Result Status Code | [2001](#_blank \"Created - The resource was successfully created\") |\n",
       "| [X-M2M-RI](#_blank \"Request Identifier - Used to uniquely identify a request. Mandatory in the request and response.\") | Request Identifier | 123 |\n",
       "| [X-M2M-RVI](#_blank \"Release Version Indicator - The requester indicates the release version of the oneM2M specification. Mandatory in the request.\") | Release Version Indicator | 3 |\n",
       "| [Content-Type](#_blank \"Any HTTP request or response with content shall include the Content-type header set to one of 'application/xml', 'application/json', or the oneM2M defined media types\") |  | application/json |\n",
       "| [Date](#_blank \"The response's date in UTC/GMT\") |  | Mon, 22 Mar 2021 19:54:03 GMT |\n"
      ],
      "text/plain": [
       "<IPython.core.display.Markdown object>"
      ]
     },
     "metadata": {},
     "output_type": "display_data"
    },
    {
     "data": {
      "text/markdown": [
       "\n",
       "**Result Content**\n"
      ],
      "text/plain": [
       "<IPython.core.display.Markdown object>"
      ]
     },
     "metadata": {},
     "output_type": "display_data"
    },
    {
     "data": {
      "text/markdown": [
       "<span style='font-family: monospace;'>{</span>  \n",
       "<span style='font-family: monospace;'>&nbsp;&nbsp;&nbsp;&nbsp;\"[m2m:cin](#_blank \"content instance\n",
       "The \\<contentInstance> resource represents a data instance in the \\<container> resource.\")\": {</span>  \n",
       "<span style='font-family: monospace;'>&nbsp;&nbsp;&nbsp;&nbsp;&nbsp;&nbsp;&nbsp;&nbsp;\"[con](#_blank \"content\n",
       "Actual content of a contentInstance. This content may be opaque data and understandable with the help of the contentInfo.\")\": \"10\",</span>  \n",
       "<span style='font-family: monospace;'>&nbsp;&nbsp;&nbsp;&nbsp;&nbsp;&nbsp;&nbsp;&nbsp;\"[ri](#_blank \"resource identifier\n",
       "An identifier for the resource that is used for 'non-hierarchical addressing method' and uniquely identifies a resource. It is unique in that CSE.\")\": \"cin7046948040656211090\",</span>  \n",
       "<span style='font-family: monospace;'>&nbsp;&nbsp;&nbsp;&nbsp;&nbsp;&nbsp;&nbsp;&nbsp;\"[rn](#_blank \"resource name\n",
       "The name for the resource that is used for 'hierarchical addressing method' to represent the parent-child relationships of resources. If left out in creation requests, the CSE assigns a unique resource name on its own. Mandatory.\")\": \"cin_cDMf9NjBTJ\",</span>  \n",
       "<span style='font-family: monospace;'>&nbsp;&nbsp;&nbsp;&nbsp;&nbsp;&nbsp;&nbsp;&nbsp;\"[ct](#_blank \"creation time\n",
       "Time/date of creation of the resource. This read-only attribute is assigned by the CSE at the time when the resource is locally created. Mandatory.\")\": \"20210322T195403,760195\",</span>  \n",
       "<span style='font-family: monospace;'>&nbsp;&nbsp;&nbsp;&nbsp;&nbsp;&nbsp;&nbsp;&nbsp;\"[lt](#_blank \"last modified time\n",
       "Last modification time/date of the resource. The attribute is set by the CSE when the resource is created, and it is updated when the resource is updated.\")\": \"20210322T195403,760195\",</span>  \n",
       "<span style='font-family: monospace;'>&nbsp;&nbsp;&nbsp;&nbsp;&nbsp;&nbsp;&nbsp;&nbsp;\"[et](#_blank \"expiration time\n",
       "Time/date after which the resource will be deleted by the Hosting CSE. This attribute can be provided by the Originator, and in such a case it will be regarded as a hint to the Hosting CSE on the lifetime of the resource. Optional.\")\": \"20220322T195403,760229\",</span>  \n",
       "<span style='font-family: monospace;'>&nbsp;&nbsp;&nbsp;&nbsp;&nbsp;&nbsp;&nbsp;&nbsp;\"[pi](#_blank \"parent identifier\n",
       "The resourceID of the parent of this resource. The value of this attribute is an empty string for the <CSEBase> resource type.\")\": \"cnt1074890995492783296\",</span>  \n",
       "<span style='font-family: monospace;'>&nbsp;&nbsp;&nbsp;&nbsp;&nbsp;&nbsp;&nbsp;&nbsp;\"[st](#_blank \"state tag\n",
       "An incremental counter of modification on the resource. When a resource is created, this counter is set to 0, and it will be incremented on every modification of the resource\")\": 8,</span>  \n",
       "<span style='font-family: monospace;'>&nbsp;&nbsp;&nbsp;&nbsp;&nbsp;&nbsp;&nbsp;&nbsp;\"[ty](#_blank \"resource type\n",
       "This read-only attribute identifies the type of the resource. Each resource has a resourceType attribute. Mandatory.\")\": 4,</span>  \n",
       "<span style='font-family: monospace;'>&nbsp;&nbsp;&nbsp;&nbsp;&nbsp;&nbsp;&nbsp;&nbsp;\"[cs](#_blank \"content size\n",
       "Size in bytes of the content attribute(s).\")\": 2</span>  \n",
       "<span style='font-family: monospace;'>&nbsp;&nbsp;&nbsp;&nbsp;}</span>  \n",
       "<span style='font-family: monospace;'>}</span>  \n"
      ],
      "text/plain": [
       "<IPython.core.display.Markdown object>"
      ]
     },
     "metadata": {},
     "output_type": "display_data"
    },
    {
     "data": {
      "text/markdown": [
       "---\n",
       "### Current Resource Tree"
      ],
      "text/plain": [
       "<IPython.core.display.Markdown object>"
      ]
     },
     "metadata": {},
     "output_type": "display_data"
    },
    {
     "data": {
      "text/markdown": [
       "<span style='font-family: monospace;'>cse-in -> [m2m:cb](#_blank \"CSEbase\n",
       "A \\<CSEBase> resource represents a CSE. It is the root for all resources that are residing in the CSE.\") | ri=id-in | csi=/id-in                                                                            </span>  \n",
       "<span style='font-family: monospace;'>├── CAdmin -> [m2m:ae](#_blank \"Application Entity\n",
       "An entity in the application layer that implements an M2M application service logic.\") | ri=CAdmin                                                                                    </span>  \n",
       "<span style='font-family: monospace;'>└── aeAlice -> [m2m:ae](#_blank \"Application Entity\n",
       "An entity in the application layer that implements an M2M application service logic.\") | ri=CAlice                                                                                   </span>  \n",
       "<span style='font-family: monospace;'>&nbsp;&nbsp;&nbsp;&nbsp;└── aliceSensor -> [m2m:cnt](#_blank \"Container\n",
       "The \\<container> resource represents a container for data instances. It is used to share information with other entities and potentially to track the data. A \\<container> resource has no associated content. It has only attributes and child resources.\") | ri=cnt9155249009319337559                                                          </span>  \n",
       "<span style='font-family: monospace;'>&nbsp;&nbsp;&nbsp;&nbsp;&nbsp;&nbsp;&nbsp;&nbsp;├── la                                                                                                      </span>  \n",
       "<span style='font-family: monospace;'>&nbsp;&nbsp;&nbsp;&nbsp;&nbsp;&nbsp;&nbsp;&nbsp;├── ol                                                                                                      </span>  \n",
       "<span style='font-family: monospace;'>&nbsp;&nbsp;&nbsp;&nbsp;&nbsp;&nbsp;&nbsp;&nbsp;├── temperature -> [m2m:cnt](#_blank \"Container\n",
       "The \\<container> resource represents a container for data instances. It is used to share information with other entities and potentially to track the data. A \\<container> resource has no associated content. It has only attributes and child resources.\") | ri=cnt1074890995492783296                                                      </span>  \n",
       "<span style='font-family: monospace;'>&nbsp;&nbsp;&nbsp;&nbsp;&nbsp;&nbsp;&nbsp;&nbsp;│   ├── la                                                                                                  </span>  \n",
       "<span style='font-family: monospace;'>&nbsp;&nbsp;&nbsp;&nbsp;&nbsp;&nbsp;&nbsp;&nbsp;│   ├── ol                                                                                                  </span>  \n",
       "<span style='font-family: monospace;'>&nbsp;&nbsp;&nbsp;&nbsp;&nbsp;&nbsp;&nbsp;&nbsp;│   ├── cin_YE2sZzBODZ -> [m2m:cin](#_blank \"content instance\n",
       "The \\<contentInstance> resource represents a data instance in the \\<container> resource.\") | ri=cin9066912198403257441                                               </span>  \n",
       "<span style='font-family: monospace;'>&nbsp;&nbsp;&nbsp;&nbsp;&nbsp;&nbsp;&nbsp;&nbsp;│   ├── cin_3sP8nueiSa -> [m2m:cin](#_blank \"content instance\n",
       "The \\<contentInstance> resource represents a data instance in the \\<container> resource.\") | ri=cin2174324722811872544                                               </span>  \n",
       "<span style='font-family: monospace;'>&nbsp;&nbsp;&nbsp;&nbsp;&nbsp;&nbsp;&nbsp;&nbsp;│   ├── cin_aZcxtiETWB -> [m2m:cin](#_blank \"content instance\n",
       "The \\<contentInstance> resource represents a data instance in the \\<container> resource.\") | ri=cin5998740946778440514                                               </span>  \n",
       "<span style='font-family: monospace;'>&nbsp;&nbsp;&nbsp;&nbsp;&nbsp;&nbsp;&nbsp;&nbsp;│   ├── cin_2UNNIYUvzS -> [m2m:cin](#_blank \"content instance\n",
       "The \\<contentInstance> resource represents a data instance in the \\<container> resource.\") | ri=cin7930611166788766455                                               </span>  \n",
       "<span style='font-family: monospace;'>&nbsp;&nbsp;&nbsp;&nbsp;&nbsp;&nbsp;&nbsp;&nbsp;│   ├── cin_tmajQ5qccG -> [m2m:cin](#_blank \"content instance\n",
       "The \\<contentInstance> resource represents a data instance in the \\<container> resource.\") | ri=cin13333265801351683                                                 </span>  \n",
       "<span style='font-family: monospace;'>&nbsp;&nbsp;&nbsp;&nbsp;&nbsp;&nbsp;&nbsp;&nbsp;│   ├── cin_QgKtonvkd4 -> [m2m:cin](#_blank \"content instance\n",
       "The \\<contentInstance> resource represents a data instance in the \\<container> resource.\") | ri=cin4288489916433119702                                               </span>  \n",
       "<span style='font-family: monospace;'>&nbsp;&nbsp;&nbsp;&nbsp;&nbsp;&nbsp;&nbsp;&nbsp;│   ├── cin_n4V3RmCsTO -> [m2m:cin](#_blank \"content instance\n",
       "The \\<contentInstance> resource represents a data instance in the \\<container> resource.\") | ri=cin6007420771939877329                                               </span>  \n",
       "<span style='font-family: monospace;'>&nbsp;&nbsp;&nbsp;&nbsp;&nbsp;&nbsp;&nbsp;&nbsp;│   └── cin_cDMf9NjBTJ -> [m2m:cin](#_blank \"content instance\n",
       "The \\<contentInstance> resource represents a data instance in the \\<container> resource.\") | ri=cin7046948040656211090                                               </span>  \n",
       "<span style='font-family: monospace;'>&nbsp;&nbsp;&nbsp;&nbsp;&nbsp;&nbsp;&nbsp;&nbsp;└── humidity -> [m2m:cnt](#_blank \"Container\n",
       "The \\<container> resource represents a container for data instances. It is used to share information with other entities and potentially to track the data. A \\<container> resource has no associated content. It has only attributes and child resources.\") | ri=cnt2933356905476920104                                                         </span>  \n",
       "<span style='font-family: monospace;'>&nbsp;&nbsp;&nbsp;&nbsp;&nbsp;&nbsp;&nbsp;&nbsp;&nbsp;&nbsp;&nbsp;&nbsp;├── la                                                                                                  </span>  \n",
       "<span style='font-family: monospace;'>&nbsp;&nbsp;&nbsp;&nbsp;&nbsp;&nbsp;&nbsp;&nbsp;&nbsp;&nbsp;&nbsp;&nbsp;├── ol                                                                                                  </span>  \n",
       "<span style='font-family: monospace;'>&nbsp;&nbsp;&nbsp;&nbsp;&nbsp;&nbsp;&nbsp;&nbsp;&nbsp;&nbsp;&nbsp;&nbsp;├── cin_1rBCt5hmTp -> [m2m:cin](#_blank \"content instance\n",
       "The \\<contentInstance> resource represents a data instance in the \\<container> resource.\") | ri=cin7778028448562822204                                               </span>  \n",
       "<span style='font-family: monospace;'>&nbsp;&nbsp;&nbsp;&nbsp;&nbsp;&nbsp;&nbsp;&nbsp;&nbsp;&nbsp;&nbsp;&nbsp;├── cin_f5Ctcn77DS -> [m2m:cin](#_blank \"content instance\n",
       "The \\<contentInstance> resource represents a data instance in the \\<container> resource.\") | ri=cin6183558070835205963                                               </span>  \n",
       "<span style='font-family: monospace;'>&nbsp;&nbsp;&nbsp;&nbsp;&nbsp;&nbsp;&nbsp;&nbsp;&nbsp;&nbsp;&nbsp;&nbsp;├── cin_FkG35SC62K -> [m2m:cin](#_blank \"content instance\n",
       "The \\<contentInstance> resource represents a data instance in the \\<container> resource.\") | ri=cin8744308806825453284                                               </span>  \n",
       "<span style='font-family: monospace;'>&nbsp;&nbsp;&nbsp;&nbsp;&nbsp;&nbsp;&nbsp;&nbsp;&nbsp;&nbsp;&nbsp;&nbsp;├── cin_rmd4eeVuMX -> [m2m:cin](#_blank \"content instance\n",
       "The \\<contentInstance> resource represents a data instance in the \\<container> resource.\") | ri=cin7128993563206115893                                               </span>  \n",
       "<span style='font-family: monospace;'>&nbsp;&nbsp;&nbsp;&nbsp;&nbsp;&nbsp;&nbsp;&nbsp;&nbsp;&nbsp;&nbsp;&nbsp;├── cin_WwJN2s6WF0 -> [m2m:cin](#_blank \"content instance\n",
       "The \\<contentInstance> resource represents a data instance in the \\<container> resource.\") | ri=cin5615291261476187910                                               </span>  \n",
       "<span style='font-family: monospace;'>&nbsp;&nbsp;&nbsp;&nbsp;&nbsp;&nbsp;&nbsp;&nbsp;&nbsp;&nbsp;&nbsp;&nbsp;├── cin_MzXaDaOMe5 -> [m2m:cin](#_blank \"content instance\n",
       "The \\<contentInstance> resource represents a data instance in the \\<container> resource.\") | ri=cin4535292903725907931                                               </span>  \n",
       "<span style='font-family: monospace;'>&nbsp;&nbsp;&nbsp;&nbsp;&nbsp;&nbsp;&nbsp;&nbsp;&nbsp;&nbsp;&nbsp;&nbsp;├── cin_GGdNS0NoOS -> [m2m:cin](#_blank \"content instance\n",
       "The \\<contentInstance> resource represents a data instance in the \\<container> resource.\") | ri=cin3913760812260573666                                               </span>  \n",
       "<span style='font-family: monospace;'>&nbsp;&nbsp;&nbsp;&nbsp;&nbsp;&nbsp;&nbsp;&nbsp;&nbsp;&nbsp;&nbsp;&nbsp;└── cin_USAWBqcbes -> [m2m:cin](#_blank \"content instance\n",
       "The \\<contentInstance> resource represents a data instance in the \\<container> resource.\") | ri=cin6913933162982221154                                               </span>  \n",
       "<span style='font-family: monospace;'></span>  \n"
      ],
      "text/plain": [
       "<IPython.core.display.Markdown object>"
      ]
     },
     "metadata": {},
     "output_type": "display_data"
    },
    {
     "data": {
      "text/markdown": [
       "---"
      ],
      "text/plain": [
       "<IPython.core.display.Markdown object>"
      ]
     },
     "metadata": {},
     "output_type": "display_data"
    }
   ],
   "source": [
    "repeat(\n",
    "    times   = 4,\n",
    "    \n",
    "    request = lambda : CREATE (                                                 # CREATE request\n",
    "        target                  = f'{cseRN}/aeAlice/aliceSensor/temperature',   # Create a <cin> under the temperature <cnt>\n",
    "        originator              = 'CAlice',                                     # Request's originator (mandatory)\n",
    "        requestIdentifier       = '123',                                        # Request identifier (mandatory)\n",
    "        releaseVersionIndicator = '3',                                          # Request's release version indicator (mandatory)\n",
    "        resourceType            = 4,                                            # The request creates a <cin> resource\n",
    "    \n",
    "        # Request Content\n",
    "        content = {\n",
    "            \"m2m:cin\": {\n",
    "                \"con\": randomTemperature()                                      # Produce \"temperature\" data\n",
    "            }\n",
    "        }\n",
    "    )\n",
    ")"
   ]
  },
  {
   "cell_type": "markdown",
   "id": "widespread-pepper",
   "metadata": {},
   "source": [
    "### Create humidity data"
   ]
  },
  {
   "cell_type": "code",
   "execution_count": 6,
   "id": "packed-junction",
   "metadata": {
    "scrolled": false
   },
   "outputs": [
    {
     "data": {
      "text/markdown": [
       "## <span style='color:grey'>Request 1</span>"
      ],
      "text/plain": [
       "<IPython.core.display.Markdown object>"
      ]
     },
     "metadata": {},
     "output_type": "display_data"
    },
    {
     "data": {
      "text/markdown": [
       "### HTTP Request"
      ],
      "text/plain": [
       "<IPython.core.display.Markdown object>"
      ]
     },
     "metadata": {},
     "output_type": "display_data"
    },
    {
     "data": {
      "text/markdown": [
       "**http://localhost:8080/cse-in/aeAlice/aliceSensor/humidity**"
      ],
      "text/plain": [
       "<IPython.core.display.Markdown object>"
      ]
     },
     "metadata": {},
     "output_type": "display_data"
    },
    {
     "data": {
      "text/markdown": [
       "\n",
       "| HTTP Header | oneM2M Parameter | Value |\n",
       "|:---|:---|:---|\n",
       "| [X-M2M-Origin](#_blank \"Originator - The request's 'From' parameter. It represents the identity of the entity who makes the request. Mandatory in the request and response.\") | From | CAlice |\n",
       "| [X-M2M-RI](#_blank \"Request Identifier - Used to uniquely identify a request. Mandatory in the request and response.\") | Request Identifier | 123 |\n",
       "| [X-M2M-RVI](#_blank \"Release Version Indicator - The requester indicates the release version of the oneM2M specification. Mandatory in the request.\") | Release Version Indicator | 3 |\n",
       "| [Content-Type](#_blank \"Any HTTP request or response with content shall include the Content-type header set to one of 'application/xml', 'application/json', or the oneM2M defined media types\") |  | application/json;ty=4 |\n",
       "| [Accept](#_blank \"The Originator may use the Accept header to indicate which media types are acceptable for the response\") |  | application/json |\n"
      ],
      "text/plain": [
       "<IPython.core.display.Markdown object>"
      ]
     },
     "metadata": {},
     "output_type": "display_data"
    },
    {
     "data": {
      "text/markdown": [
       "\n",
       "#### Request Content\n"
      ],
      "text/plain": [
       "<IPython.core.display.Markdown object>"
      ]
     },
     "metadata": {},
     "output_type": "display_data"
    },
    {
     "data": {
      "text/markdown": [
       "<span style='font-family: monospace;'>{</span>  \n",
       "<span style='font-family: monospace;'>&nbsp;&nbsp;&nbsp;&nbsp;\"[m2m:cin](#_blank \"content instance\n",
       "The \\<contentInstance> resource represents a data instance in the \\<container> resource.\")\": {</span>  \n",
       "<span style='font-family: monospace;'>&nbsp;&nbsp;&nbsp;&nbsp;&nbsp;&nbsp;&nbsp;&nbsp;\"[con](#_blank \"content\n",
       "Actual content of a contentInstance. This content may be opaque data and understandable with the help of the contentInfo.\")\": \"70\"</span>  \n",
       "<span style='font-family: monospace;'>&nbsp;&nbsp;&nbsp;&nbsp;}</span>  \n",
       "<span style='font-family: monospace;'>}</span>  \n"
      ],
      "text/plain": [
       "<IPython.core.display.Markdown object>"
      ]
     },
     "metadata": {},
     "output_type": "display_data"
    },
    {
     "data": {
      "text/markdown": [
       "---\n",
       "### HTTP Response"
      ],
      "text/plain": [
       "<IPython.core.display.Markdown object>"
      ]
     },
     "metadata": {},
     "output_type": "display_data"
    },
    {
     "data": {
      "text/markdown": [
       "<span style='color:green'>201 (CREATED)</span>"
      ],
      "text/plain": [
       "<IPython.core.display.Markdown object>"
      ]
     },
     "metadata": {},
     "output_type": "display_data"
    },
    {
     "data": {
      "text/markdown": [
       "\n",
       "| HTTP Header | oneM2M Parameter | Value |\n",
       "|:---|:---|:---|\n",
       "| [X-M2M-RSC](#_blank \"Result Status Code - The request's extended result status code. Mandatory in the response.\") | Result Status Code | [2001](#_blank \"Created - The resource was successfully created\") |\n",
       "| [X-M2M-RI](#_blank \"Request Identifier - Used to uniquely identify a request. Mandatory in the request and response.\") | Request Identifier | 123 |\n",
       "| [X-M2M-RVI](#_blank \"Release Version Indicator - The requester indicates the release version of the oneM2M specification. Mandatory in the request.\") | Release Version Indicator | 3 |\n",
       "| [Content-Type](#_blank \"Any HTTP request or response with content shall include the Content-type header set to one of 'application/xml', 'application/json', or the oneM2M defined media types\") |  | application/json |\n",
       "| [Date](#_blank \"The response's date in UTC/GMT\") |  | Mon, 22 Mar 2021 19:54:18 GMT |\n"
      ],
      "text/plain": [
       "<IPython.core.display.Markdown object>"
      ]
     },
     "metadata": {},
     "output_type": "display_data"
    },
    {
     "data": {
      "text/markdown": [
       "\n",
       "**Result Content**\n"
      ],
      "text/plain": [
       "<IPython.core.display.Markdown object>"
      ]
     },
     "metadata": {},
     "output_type": "display_data"
    },
    {
     "data": {
      "text/markdown": [
       "<span style='font-family: monospace;'>{</span>  \n",
       "<span style='font-family: monospace;'>&nbsp;&nbsp;&nbsp;&nbsp;\"[m2m:cin](#_blank \"content instance\n",
       "The \\<contentInstance> resource represents a data instance in the \\<container> resource.\")\": {</span>  \n",
       "<span style='font-family: monospace;'>&nbsp;&nbsp;&nbsp;&nbsp;&nbsp;&nbsp;&nbsp;&nbsp;\"[con](#_blank \"content\n",
       "Actual content of a contentInstance. This content may be opaque data and understandable with the help of the contentInfo.\")\": \"70\",</span>  \n",
       "<span style='font-family: monospace;'>&nbsp;&nbsp;&nbsp;&nbsp;&nbsp;&nbsp;&nbsp;&nbsp;\"[ri](#_blank \"resource identifier\n",
       "An identifier for the resource that is used for 'non-hierarchical addressing method' and uniquely identifies a resource. It is unique in that CSE.\")\": \"cin3827599823785655617\",</span>  \n",
       "<span style='font-family: monospace;'>&nbsp;&nbsp;&nbsp;&nbsp;&nbsp;&nbsp;&nbsp;&nbsp;\"[rn](#_blank \"resource name\n",
       "The name for the resource that is used for 'hierarchical addressing method' to represent the parent-child relationships of resources. If left out in creation requests, the CSE assigns a unique resource name on its own. Mandatory.\")\": \"cin_d5cuT3mbpF\",</span>  \n",
       "<span style='font-family: monospace;'>&nbsp;&nbsp;&nbsp;&nbsp;&nbsp;&nbsp;&nbsp;&nbsp;\"[ct](#_blank \"creation time\n",
       "Time/date of creation of the resource. This read-only attribute is assigned by the CSE at the time when the resource is locally created. Mandatory.\")\": \"20210322T195418,786708\",</span>  \n",
       "<span style='font-family: monospace;'>&nbsp;&nbsp;&nbsp;&nbsp;&nbsp;&nbsp;&nbsp;&nbsp;\"[lt](#_blank \"last modified time\n",
       "Last modification time/date of the resource. The attribute is set by the CSE when the resource is created, and it is updated when the resource is updated.\")\": \"20210322T195418,786708\",</span>  \n",
       "<span style='font-family: monospace;'>&nbsp;&nbsp;&nbsp;&nbsp;&nbsp;&nbsp;&nbsp;&nbsp;\"[et](#_blank \"expiration time\n",
       "Time/date after which the resource will be deleted by the Hosting CSE. This attribute can be provided by the Originator, and in such a case it will be regarded as a hint to the Hosting CSE on the lifetime of the resource. Optional.\")\": \"20220322T195418,787742\",</span>  \n",
       "<span style='font-family: monospace;'>&nbsp;&nbsp;&nbsp;&nbsp;&nbsp;&nbsp;&nbsp;&nbsp;\"[pi](#_blank \"parent identifier\n",
       "The resourceID of the parent of this resource. The value of this attribute is an empty string for the <CSEBase> resource type.\")\": \"cnt2933356905476920104\",</span>  \n",
       "<span style='font-family: monospace;'>&nbsp;&nbsp;&nbsp;&nbsp;&nbsp;&nbsp;&nbsp;&nbsp;\"[st](#_blank \"state tag\n",
       "An incremental counter of modification on the resource. When a resource is created, this counter is set to 0, and it will be incremented on every modification of the resource\")\": 9,</span>  \n",
       "<span style='font-family: monospace;'>&nbsp;&nbsp;&nbsp;&nbsp;&nbsp;&nbsp;&nbsp;&nbsp;\"[ty](#_blank \"resource type\n",
       "This read-only attribute identifies the type of the resource. Each resource has a resourceType attribute. Mandatory.\")\": 4,</span>  \n",
       "<span style='font-family: monospace;'>&nbsp;&nbsp;&nbsp;&nbsp;&nbsp;&nbsp;&nbsp;&nbsp;\"[cs](#_blank \"content size\n",
       "Size in bytes of the content attribute(s).\")\": 2</span>  \n",
       "<span style='font-family: monospace;'>&nbsp;&nbsp;&nbsp;&nbsp;}</span>  \n",
       "<span style='font-family: monospace;'>}</span>  \n"
      ],
      "text/plain": [
       "<IPython.core.display.Markdown object>"
      ]
     },
     "metadata": {},
     "output_type": "display_data"
    },
    {
     "data": {
      "text/markdown": [
       "---\n",
       "### Current Resource Tree"
      ],
      "text/plain": [
       "<IPython.core.display.Markdown object>"
      ]
     },
     "metadata": {},
     "output_type": "display_data"
    },
    {
     "data": {
      "text/markdown": [
       "<span style='font-family: monospace;'>cse-in -> [m2m:cb](#_blank \"CSEbase\n",
       "A \\<CSEBase> resource represents a CSE. It is the root for all resources that are residing in the CSE.\") | ri=id-in | csi=/id-in                                                                            </span>  \n",
       "<span style='font-family: monospace;'>├── CAdmin -> [m2m:ae](#_blank \"Application Entity\n",
       "An entity in the application layer that implements an M2M application service logic.\") | ri=CAdmin                                                                                    </span>  \n",
       "<span style='font-family: monospace;'>└── aeAlice -> [m2m:ae](#_blank \"Application Entity\n",
       "An entity in the application layer that implements an M2M application service logic.\") | ri=CAlice                                                                                   </span>  \n",
       "<span style='font-family: monospace;'>&nbsp;&nbsp;&nbsp;&nbsp;└── aliceSensor -> [m2m:cnt](#_blank \"Container\n",
       "The \\<container> resource represents a container for data instances. It is used to share information with other entities and potentially to track the data. A \\<container> resource has no associated content. It has only attributes and child resources.\") | ri=cnt9155249009319337559                                                          </span>  \n",
       "<span style='font-family: monospace;'>&nbsp;&nbsp;&nbsp;&nbsp;&nbsp;&nbsp;&nbsp;&nbsp;├── la                                                                                                      </span>  \n",
       "<span style='font-family: monospace;'>&nbsp;&nbsp;&nbsp;&nbsp;&nbsp;&nbsp;&nbsp;&nbsp;├── ol                                                                                                      </span>  \n",
       "<span style='font-family: monospace;'>&nbsp;&nbsp;&nbsp;&nbsp;&nbsp;&nbsp;&nbsp;&nbsp;├── temperature -> [m2m:cnt](#_blank \"Container\n",
       "The \\<container> resource represents a container for data instances. It is used to share information with other entities and potentially to track the data. A \\<container> resource has no associated content. It has only attributes and child resources.\") | ri=cnt1074890995492783296                                                      </span>  \n",
       "<span style='font-family: monospace;'>&nbsp;&nbsp;&nbsp;&nbsp;&nbsp;&nbsp;&nbsp;&nbsp;│   ├── la                                                                                                  </span>  \n",
       "<span style='font-family: monospace;'>&nbsp;&nbsp;&nbsp;&nbsp;&nbsp;&nbsp;&nbsp;&nbsp;│   ├── ol                                                                                                  </span>  \n",
       "<span style='font-family: monospace;'>&nbsp;&nbsp;&nbsp;&nbsp;&nbsp;&nbsp;&nbsp;&nbsp;│   ├── cin_YE2sZzBODZ -> [m2m:cin](#_blank \"content instance\n",
       "The \\<contentInstance> resource represents a data instance in the \\<container> resource.\") | ri=cin9066912198403257441                                               </span>  \n",
       "<span style='font-family: monospace;'>&nbsp;&nbsp;&nbsp;&nbsp;&nbsp;&nbsp;&nbsp;&nbsp;│   ├── cin_3sP8nueiSa -> [m2m:cin](#_blank \"content instance\n",
       "The \\<contentInstance> resource represents a data instance in the \\<container> resource.\") | ri=cin2174324722811872544                                               </span>  \n",
       "<span style='font-family: monospace;'>&nbsp;&nbsp;&nbsp;&nbsp;&nbsp;&nbsp;&nbsp;&nbsp;│   ├── cin_aZcxtiETWB -> [m2m:cin](#_blank \"content instance\n",
       "The \\<contentInstance> resource represents a data instance in the \\<container> resource.\") | ri=cin5998740946778440514                                               </span>  \n",
       "<span style='font-family: monospace;'>&nbsp;&nbsp;&nbsp;&nbsp;&nbsp;&nbsp;&nbsp;&nbsp;│   ├── cin_2UNNIYUvzS -> [m2m:cin](#_blank \"content instance\n",
       "The \\<contentInstance> resource represents a data instance in the \\<container> resource.\") | ri=cin7930611166788766455                                               </span>  \n",
       "<span style='font-family: monospace;'>&nbsp;&nbsp;&nbsp;&nbsp;&nbsp;&nbsp;&nbsp;&nbsp;│   ├── cin_tmajQ5qccG -> [m2m:cin](#_blank \"content instance\n",
       "The \\<contentInstance> resource represents a data instance in the \\<container> resource.\") | ri=cin13333265801351683                                                 </span>  \n",
       "<span style='font-family: monospace;'>&nbsp;&nbsp;&nbsp;&nbsp;&nbsp;&nbsp;&nbsp;&nbsp;│   ├── cin_QgKtonvkd4 -> [m2m:cin](#_blank \"content instance\n",
       "The \\<contentInstance> resource represents a data instance in the \\<container> resource.\") | ri=cin4288489916433119702                                               </span>  \n",
       "<span style='font-family: monospace;'>&nbsp;&nbsp;&nbsp;&nbsp;&nbsp;&nbsp;&nbsp;&nbsp;│   ├── cin_n4V3RmCsTO -> [m2m:cin](#_blank \"content instance\n",
       "The \\<contentInstance> resource represents a data instance in the \\<container> resource.\") | ri=cin6007420771939877329                                               </span>  \n",
       "<span style='font-family: monospace;'>&nbsp;&nbsp;&nbsp;&nbsp;&nbsp;&nbsp;&nbsp;&nbsp;│   └── cin_cDMf9NjBTJ -> [m2m:cin](#_blank \"content instance\n",
       "The \\<contentInstance> resource represents a data instance in the \\<container> resource.\") | ri=cin7046948040656211090                                               </span>  \n",
       "<span style='font-family: monospace;'>&nbsp;&nbsp;&nbsp;&nbsp;&nbsp;&nbsp;&nbsp;&nbsp;└── humidity -> [m2m:cnt](#_blank \"Container\n",
       "The \\<container> resource represents a container for data instances. It is used to share information with other entities and potentially to track the data. A \\<container> resource has no associated content. It has only attributes and child resources.\") | ri=cnt2933356905476920104                                                         </span>  \n",
       "<span style='font-family: monospace;'>&nbsp;&nbsp;&nbsp;&nbsp;&nbsp;&nbsp;&nbsp;&nbsp;&nbsp;&nbsp;&nbsp;&nbsp;├── la                                                                                                  </span>  \n",
       "<span style='font-family: monospace;'>&nbsp;&nbsp;&nbsp;&nbsp;&nbsp;&nbsp;&nbsp;&nbsp;&nbsp;&nbsp;&nbsp;&nbsp;├── ol                                                                                                  </span>  \n",
       "<span style='font-family: monospace;'>&nbsp;&nbsp;&nbsp;&nbsp;&nbsp;&nbsp;&nbsp;&nbsp;&nbsp;&nbsp;&nbsp;&nbsp;├── cin_1rBCt5hmTp -> [m2m:cin](#_blank \"content instance\n",
       "The \\<contentInstance> resource represents a data instance in the \\<container> resource.\") | ri=cin7778028448562822204                                               </span>  \n",
       "<span style='font-family: monospace;'>&nbsp;&nbsp;&nbsp;&nbsp;&nbsp;&nbsp;&nbsp;&nbsp;&nbsp;&nbsp;&nbsp;&nbsp;├── cin_f5Ctcn77DS -> [m2m:cin](#_blank \"content instance\n",
       "The \\<contentInstance> resource represents a data instance in the \\<container> resource.\") | ri=cin6183558070835205963                                               </span>  \n",
       "<span style='font-family: monospace;'>&nbsp;&nbsp;&nbsp;&nbsp;&nbsp;&nbsp;&nbsp;&nbsp;&nbsp;&nbsp;&nbsp;&nbsp;├── cin_FkG35SC62K -> [m2m:cin](#_blank \"content instance\n",
       "The \\<contentInstance> resource represents a data instance in the \\<container> resource.\") | ri=cin8744308806825453284                                               </span>  \n",
       "<span style='font-family: monospace;'>&nbsp;&nbsp;&nbsp;&nbsp;&nbsp;&nbsp;&nbsp;&nbsp;&nbsp;&nbsp;&nbsp;&nbsp;├── cin_rmd4eeVuMX -> [m2m:cin](#_blank \"content instance\n",
       "The \\<contentInstance> resource represents a data instance in the \\<container> resource.\") | ri=cin7128993563206115893                                               </span>  \n",
       "<span style='font-family: monospace;'>&nbsp;&nbsp;&nbsp;&nbsp;&nbsp;&nbsp;&nbsp;&nbsp;&nbsp;&nbsp;&nbsp;&nbsp;├── cin_WwJN2s6WF0 -> [m2m:cin](#_blank \"content instance\n",
       "The \\<contentInstance> resource represents a data instance in the \\<container> resource.\") | ri=cin5615291261476187910                                               </span>  \n",
       "<span style='font-family: monospace;'>&nbsp;&nbsp;&nbsp;&nbsp;&nbsp;&nbsp;&nbsp;&nbsp;&nbsp;&nbsp;&nbsp;&nbsp;├── cin_MzXaDaOMe5 -> [m2m:cin](#_blank \"content instance\n",
       "The \\<contentInstance> resource represents a data instance in the \\<container> resource.\") | ri=cin4535292903725907931                                               </span>  \n",
       "<span style='font-family: monospace;'>&nbsp;&nbsp;&nbsp;&nbsp;&nbsp;&nbsp;&nbsp;&nbsp;&nbsp;&nbsp;&nbsp;&nbsp;├── cin_GGdNS0NoOS -> [m2m:cin](#_blank \"content instance\n",
       "The \\<contentInstance> resource represents a data instance in the \\<container> resource.\") | ri=cin3913760812260573666                                               </span>  \n",
       "<span style='font-family: monospace;'>&nbsp;&nbsp;&nbsp;&nbsp;&nbsp;&nbsp;&nbsp;&nbsp;&nbsp;&nbsp;&nbsp;&nbsp;├── cin_USAWBqcbes -> [m2m:cin](#_blank \"content instance\n",
       "The \\<contentInstance> resource represents a data instance in the \\<container> resource.\") | ri=cin6913933162982221154                                               </span>  \n",
       "<span style='font-family: monospace;'>&nbsp;&nbsp;&nbsp;&nbsp;&nbsp;&nbsp;&nbsp;&nbsp;&nbsp;&nbsp;&nbsp;&nbsp;└── cin_d5cuT3mbpF -> [m2m:cin](#_blank \"content instance\n",
       "The \\<contentInstance> resource represents a data instance in the \\<container> resource.\") | ri=cin3827599823785655617                                               </span>  \n",
       "<span style='font-family: monospace;'></span>  \n"
      ],
      "text/plain": [
       "<IPython.core.display.Markdown object>"
      ]
     },
     "metadata": {},
     "output_type": "display_data"
    },
    {
     "data": {
      "text/markdown": [
       "---"
      ],
      "text/plain": [
       "<IPython.core.display.Markdown object>"
      ]
     },
     "metadata": {},
     "output_type": "display_data"
    },
    {
     "data": {
      "text/markdown": [
       "## <span style='color:grey'>Request 2</span>"
      ],
      "text/plain": [
       "<IPython.core.display.Markdown object>"
      ]
     },
     "metadata": {},
     "output_type": "display_data"
    },
    {
     "data": {
      "text/markdown": [
       "### HTTP Request"
      ],
      "text/plain": [
       "<IPython.core.display.Markdown object>"
      ]
     },
     "metadata": {},
     "output_type": "display_data"
    },
    {
     "data": {
      "text/markdown": [
       "**http://localhost:8080/cse-in/aeAlice/aliceSensor/humidity**"
      ],
      "text/plain": [
       "<IPython.core.display.Markdown object>"
      ]
     },
     "metadata": {},
     "output_type": "display_data"
    },
    {
     "data": {
      "text/markdown": [
       "\n",
       "| HTTP Header | oneM2M Parameter | Value |\n",
       "|:---|:---|:---|\n",
       "| [X-M2M-Origin](#_blank \"Originator - The request's 'From' parameter. It represents the identity of the entity who makes the request. Mandatory in the request and response.\") | From | CAlice |\n",
       "| [X-M2M-RI](#_blank \"Request Identifier - Used to uniquely identify a request. Mandatory in the request and response.\") | Request Identifier | 123 |\n",
       "| [X-M2M-RVI](#_blank \"Release Version Indicator - The requester indicates the release version of the oneM2M specification. Mandatory in the request.\") | Release Version Indicator | 3 |\n",
       "| [Content-Type](#_blank \"Any HTTP request or response with content shall include the Content-type header set to one of 'application/xml', 'application/json', or the oneM2M defined media types\") |  | application/json;ty=4 |\n",
       "| [Accept](#_blank \"The Originator may use the Accept header to indicate which media types are acceptable for the response\") |  | application/json |\n"
      ],
      "text/plain": [
       "<IPython.core.display.Markdown object>"
      ]
     },
     "metadata": {},
     "output_type": "display_data"
    },
    {
     "data": {
      "text/markdown": [
       "\n",
       "#### Request Content\n"
      ],
      "text/plain": [
       "<IPython.core.display.Markdown object>"
      ]
     },
     "metadata": {},
     "output_type": "display_data"
    },
    {
     "data": {
      "text/markdown": [
       "<span style='font-family: monospace;'>{</span>  \n",
       "<span style='font-family: monospace;'>&nbsp;&nbsp;&nbsp;&nbsp;\"[m2m:cin](#_blank \"content instance\n",
       "The \\<contentInstance> resource represents a data instance in the \\<container> resource.\")\": {</span>  \n",
       "<span style='font-family: monospace;'>&nbsp;&nbsp;&nbsp;&nbsp;&nbsp;&nbsp;&nbsp;&nbsp;\"[con](#_blank \"content\n",
       "Actual content of a contentInstance. This content may be opaque data and understandable with the help of the contentInfo.\")\": \"61\"</span>  \n",
       "<span style='font-family: monospace;'>&nbsp;&nbsp;&nbsp;&nbsp;}</span>  \n",
       "<span style='font-family: monospace;'>}</span>  \n"
      ],
      "text/plain": [
       "<IPython.core.display.Markdown object>"
      ]
     },
     "metadata": {},
     "output_type": "display_data"
    },
    {
     "data": {
      "text/markdown": [
       "---\n",
       "### HTTP Response"
      ],
      "text/plain": [
       "<IPython.core.display.Markdown object>"
      ]
     },
     "metadata": {},
     "output_type": "display_data"
    },
    {
     "data": {
      "text/markdown": [
       "<span style='color:green'>201 (CREATED)</span>"
      ],
      "text/plain": [
       "<IPython.core.display.Markdown object>"
      ]
     },
     "metadata": {},
     "output_type": "display_data"
    },
    {
     "data": {
      "text/markdown": [
       "\n",
       "| HTTP Header | oneM2M Parameter | Value |\n",
       "|:---|:---|:---|\n",
       "| [X-M2M-RSC](#_blank \"Result Status Code - The request's extended result status code. Mandatory in the response.\") | Result Status Code | [2001](#_blank \"Created - The resource was successfully created\") |\n",
       "| [X-M2M-RI](#_blank \"Request Identifier - Used to uniquely identify a request. Mandatory in the request and response.\") | Request Identifier | 123 |\n",
       "| [X-M2M-RVI](#_blank \"Release Version Indicator - The requester indicates the release version of the oneM2M specification. Mandatory in the request.\") | Release Version Indicator | 3 |\n",
       "| [Content-Type](#_blank \"Any HTTP request or response with content shall include the Content-type header set to one of 'application/xml', 'application/json', or the oneM2M defined media types\") |  | application/json |\n",
       "| [Date](#_blank \"The response's date in UTC/GMT\") |  | Mon, 22 Mar 2021 19:54:19 GMT |\n"
      ],
      "text/plain": [
       "<IPython.core.display.Markdown object>"
      ]
     },
     "metadata": {},
     "output_type": "display_data"
    },
    {
     "data": {
      "text/markdown": [
       "\n",
       "**Result Content**\n"
      ],
      "text/plain": [
       "<IPython.core.display.Markdown object>"
      ]
     },
     "metadata": {},
     "output_type": "display_data"
    },
    {
     "data": {
      "text/markdown": [
       "<span style='font-family: monospace;'>{</span>  \n",
       "<span style='font-family: monospace;'>&nbsp;&nbsp;&nbsp;&nbsp;\"[m2m:cin](#_blank \"content instance\n",
       "The \\<contentInstance> resource represents a data instance in the \\<container> resource.\")\": {</span>  \n",
       "<span style='font-family: monospace;'>&nbsp;&nbsp;&nbsp;&nbsp;&nbsp;&nbsp;&nbsp;&nbsp;\"[con](#_blank \"content\n",
       "Actual content of a contentInstance. This content may be opaque data and understandable with the help of the contentInfo.\")\": \"61\",</span>  \n",
       "<span style='font-family: monospace;'>&nbsp;&nbsp;&nbsp;&nbsp;&nbsp;&nbsp;&nbsp;&nbsp;\"[ri](#_blank \"resource identifier\n",
       "An identifier for the resource that is used for 'non-hierarchical addressing method' and uniquely identifies a resource. It is unique in that CSE.\")\": \"cin8367201054559049974\",</span>  \n",
       "<span style='font-family: monospace;'>&nbsp;&nbsp;&nbsp;&nbsp;&nbsp;&nbsp;&nbsp;&nbsp;\"[rn](#_blank \"resource name\n",
       "The name for the resource that is used for 'hierarchical addressing method' to represent the parent-child relationships of resources. If left out in creation requests, the CSE assigns a unique resource name on its own. Mandatory.\")\": \"cin_Cu2CPxV8QU\",</span>  \n",
       "<span style='font-family: monospace;'>&nbsp;&nbsp;&nbsp;&nbsp;&nbsp;&nbsp;&nbsp;&nbsp;\"[ct](#_blank \"creation time\n",
       "Time/date of creation of the resource. This read-only attribute is assigned by the CSE at the time when the resource is locally created. Mandatory.\")\": \"20210322T195419,116876\",</span>  \n",
       "<span style='font-family: monospace;'>&nbsp;&nbsp;&nbsp;&nbsp;&nbsp;&nbsp;&nbsp;&nbsp;\"[lt](#_blank \"last modified time\n",
       "Last modification time/date of the resource. The attribute is set by the CSE when the resource is created, and it is updated when the resource is updated.\")\": \"20210322T195419,116876\",</span>  \n",
       "<span style='font-family: monospace;'>&nbsp;&nbsp;&nbsp;&nbsp;&nbsp;&nbsp;&nbsp;&nbsp;\"[et](#_blank \"expiration time\n",
       "Time/date after which the resource will be deleted by the Hosting CSE. This attribute can be provided by the Originator, and in such a case it will be regarded as a hint to the Hosting CSE on the lifetime of the resource. Optional.\")\": \"20220322T195419,116971\",</span>  \n",
       "<span style='font-family: monospace;'>&nbsp;&nbsp;&nbsp;&nbsp;&nbsp;&nbsp;&nbsp;&nbsp;\"[pi](#_blank \"parent identifier\n",
       "The resourceID of the parent of this resource. The value of this attribute is an empty string for the <CSEBase> resource type.\")\": \"cnt2933356905476920104\",</span>  \n",
       "<span style='font-family: monospace;'>&nbsp;&nbsp;&nbsp;&nbsp;&nbsp;&nbsp;&nbsp;&nbsp;\"[st](#_blank \"state tag\n",
       "An incremental counter of modification on the resource. When a resource is created, this counter is set to 0, and it will be incremented on every modification of the resource\")\": 10,</span>  \n",
       "<span style='font-family: monospace;'>&nbsp;&nbsp;&nbsp;&nbsp;&nbsp;&nbsp;&nbsp;&nbsp;\"[ty](#_blank \"resource type\n",
       "This read-only attribute identifies the type of the resource. Each resource has a resourceType attribute. Mandatory.\")\": 4,</span>  \n",
       "<span style='font-family: monospace;'>&nbsp;&nbsp;&nbsp;&nbsp;&nbsp;&nbsp;&nbsp;&nbsp;\"[cs](#_blank \"content size\n",
       "Size in bytes of the content attribute(s).\")\": 2</span>  \n",
       "<span style='font-family: monospace;'>&nbsp;&nbsp;&nbsp;&nbsp;}</span>  \n",
       "<span style='font-family: monospace;'>}</span>  \n"
      ],
      "text/plain": [
       "<IPython.core.display.Markdown object>"
      ]
     },
     "metadata": {},
     "output_type": "display_data"
    },
    {
     "data": {
      "text/markdown": [
       "---\n",
       "### Current Resource Tree"
      ],
      "text/plain": [
       "<IPython.core.display.Markdown object>"
      ]
     },
     "metadata": {},
     "output_type": "display_data"
    },
    {
     "data": {
      "text/markdown": [
       "<span style='font-family: monospace;'>cse-in -> [m2m:cb](#_blank \"CSEbase\n",
       "A \\<CSEBase> resource represents a CSE. It is the root for all resources that are residing in the CSE.\") | ri=id-in | csi=/id-in                                                                            </span>  \n",
       "<span style='font-family: monospace;'>├── CAdmin -> [m2m:ae](#_blank \"Application Entity\n",
       "An entity in the application layer that implements an M2M application service logic.\") | ri=CAdmin                                                                                    </span>  \n",
       "<span style='font-family: monospace;'>└── aeAlice -> [m2m:ae](#_blank \"Application Entity\n",
       "An entity in the application layer that implements an M2M application service logic.\") | ri=CAlice                                                                                   </span>  \n",
       "<span style='font-family: monospace;'>&nbsp;&nbsp;&nbsp;&nbsp;└── aliceSensor -> [m2m:cnt](#_blank \"Container\n",
       "The \\<container> resource represents a container for data instances. It is used to share information with other entities and potentially to track the data. A \\<container> resource has no associated content. It has only attributes and child resources.\") | ri=cnt9155249009319337559                                                          </span>  \n",
       "<span style='font-family: monospace;'>&nbsp;&nbsp;&nbsp;&nbsp;&nbsp;&nbsp;&nbsp;&nbsp;├── la                                                                                                      </span>  \n",
       "<span style='font-family: monospace;'>&nbsp;&nbsp;&nbsp;&nbsp;&nbsp;&nbsp;&nbsp;&nbsp;├── ol                                                                                                      </span>  \n",
       "<span style='font-family: monospace;'>&nbsp;&nbsp;&nbsp;&nbsp;&nbsp;&nbsp;&nbsp;&nbsp;├── temperature -> [m2m:cnt](#_blank \"Container\n",
       "The \\<container> resource represents a container for data instances. It is used to share information with other entities and potentially to track the data. A \\<container> resource has no associated content. It has only attributes and child resources.\") | ri=cnt1074890995492783296                                                      </span>  \n",
       "<span style='font-family: monospace;'>&nbsp;&nbsp;&nbsp;&nbsp;&nbsp;&nbsp;&nbsp;&nbsp;│   ├── la                                                                                                  </span>  \n",
       "<span style='font-family: monospace;'>&nbsp;&nbsp;&nbsp;&nbsp;&nbsp;&nbsp;&nbsp;&nbsp;│   ├── ol                                                                                                  </span>  \n",
       "<span style='font-family: monospace;'>&nbsp;&nbsp;&nbsp;&nbsp;&nbsp;&nbsp;&nbsp;&nbsp;│   ├── cin_YE2sZzBODZ -> [m2m:cin](#_blank \"content instance\n",
       "The \\<contentInstance> resource represents a data instance in the \\<container> resource.\") | ri=cin9066912198403257441                                               </span>  \n",
       "<span style='font-family: monospace;'>&nbsp;&nbsp;&nbsp;&nbsp;&nbsp;&nbsp;&nbsp;&nbsp;│   ├── cin_3sP8nueiSa -> [m2m:cin](#_blank \"content instance\n",
       "The \\<contentInstance> resource represents a data instance in the \\<container> resource.\") | ri=cin2174324722811872544                                               </span>  \n",
       "<span style='font-family: monospace;'>&nbsp;&nbsp;&nbsp;&nbsp;&nbsp;&nbsp;&nbsp;&nbsp;│   ├── cin_aZcxtiETWB -> [m2m:cin](#_blank \"content instance\n",
       "The \\<contentInstance> resource represents a data instance in the \\<container> resource.\") | ri=cin5998740946778440514                                               </span>  \n",
       "<span style='font-family: monospace;'>&nbsp;&nbsp;&nbsp;&nbsp;&nbsp;&nbsp;&nbsp;&nbsp;│   ├── cin_2UNNIYUvzS -> [m2m:cin](#_blank \"content instance\n",
       "The \\<contentInstance> resource represents a data instance in the \\<container> resource.\") | ri=cin7930611166788766455                                               </span>  \n",
       "<span style='font-family: monospace;'>&nbsp;&nbsp;&nbsp;&nbsp;&nbsp;&nbsp;&nbsp;&nbsp;│   ├── cin_tmajQ5qccG -> [m2m:cin](#_blank \"content instance\n",
       "The \\<contentInstance> resource represents a data instance in the \\<container> resource.\") | ri=cin13333265801351683                                                 </span>  \n",
       "<span style='font-family: monospace;'>&nbsp;&nbsp;&nbsp;&nbsp;&nbsp;&nbsp;&nbsp;&nbsp;│   ├── cin_QgKtonvkd4 -> [m2m:cin](#_blank \"content instance\n",
       "The \\<contentInstance> resource represents a data instance in the \\<container> resource.\") | ri=cin4288489916433119702                                               </span>  \n",
       "<span style='font-family: monospace;'>&nbsp;&nbsp;&nbsp;&nbsp;&nbsp;&nbsp;&nbsp;&nbsp;│   ├── cin_n4V3RmCsTO -> [m2m:cin](#_blank \"content instance\n",
       "The \\<contentInstance> resource represents a data instance in the \\<container> resource.\") | ri=cin6007420771939877329                                               </span>  \n",
       "<span style='font-family: monospace;'>&nbsp;&nbsp;&nbsp;&nbsp;&nbsp;&nbsp;&nbsp;&nbsp;│   └── cin_cDMf9NjBTJ -> [m2m:cin](#_blank \"content instance\n",
       "The \\<contentInstance> resource represents a data instance in the \\<container> resource.\") | ri=cin7046948040656211090                                               </span>  \n",
       "<span style='font-family: monospace;'>&nbsp;&nbsp;&nbsp;&nbsp;&nbsp;&nbsp;&nbsp;&nbsp;└── humidity -> [m2m:cnt](#_blank \"Container\n",
       "The \\<container> resource represents a container for data instances. It is used to share information with other entities and potentially to track the data. A \\<container> resource has no associated content. It has only attributes and child resources.\") | ri=cnt2933356905476920104                                                         </span>  \n",
       "<span style='font-family: monospace;'>&nbsp;&nbsp;&nbsp;&nbsp;&nbsp;&nbsp;&nbsp;&nbsp;&nbsp;&nbsp;&nbsp;&nbsp;├── la                                                                                                  </span>  \n",
       "<span style='font-family: monospace;'>&nbsp;&nbsp;&nbsp;&nbsp;&nbsp;&nbsp;&nbsp;&nbsp;&nbsp;&nbsp;&nbsp;&nbsp;├── ol                                                                                                  </span>  \n",
       "<span style='font-family: monospace;'>&nbsp;&nbsp;&nbsp;&nbsp;&nbsp;&nbsp;&nbsp;&nbsp;&nbsp;&nbsp;&nbsp;&nbsp;├── cin_1rBCt5hmTp -> [m2m:cin](#_blank \"content instance\n",
       "The \\<contentInstance> resource represents a data instance in the \\<container> resource.\") | ri=cin7778028448562822204                                               </span>  \n",
       "<span style='font-family: monospace;'>&nbsp;&nbsp;&nbsp;&nbsp;&nbsp;&nbsp;&nbsp;&nbsp;&nbsp;&nbsp;&nbsp;&nbsp;├── cin_f5Ctcn77DS -> [m2m:cin](#_blank \"content instance\n",
       "The \\<contentInstance> resource represents a data instance in the \\<container> resource.\") | ri=cin6183558070835205963                                               </span>  \n",
       "<span style='font-family: monospace;'>&nbsp;&nbsp;&nbsp;&nbsp;&nbsp;&nbsp;&nbsp;&nbsp;&nbsp;&nbsp;&nbsp;&nbsp;├── cin_FkG35SC62K -> [m2m:cin](#_blank \"content instance\n",
       "The \\<contentInstance> resource represents a data instance in the \\<container> resource.\") | ri=cin8744308806825453284                                               </span>  \n",
       "<span style='font-family: monospace;'>&nbsp;&nbsp;&nbsp;&nbsp;&nbsp;&nbsp;&nbsp;&nbsp;&nbsp;&nbsp;&nbsp;&nbsp;├── cin_rmd4eeVuMX -> [m2m:cin](#_blank \"content instance\n",
       "The \\<contentInstance> resource represents a data instance in the \\<container> resource.\") | ri=cin7128993563206115893                                               </span>  \n",
       "<span style='font-family: monospace;'>&nbsp;&nbsp;&nbsp;&nbsp;&nbsp;&nbsp;&nbsp;&nbsp;&nbsp;&nbsp;&nbsp;&nbsp;├── cin_WwJN2s6WF0 -> [m2m:cin](#_blank \"content instance\n",
       "The \\<contentInstance> resource represents a data instance in the \\<container> resource.\") | ri=cin5615291261476187910                                               </span>  \n",
       "<span style='font-family: monospace;'>&nbsp;&nbsp;&nbsp;&nbsp;&nbsp;&nbsp;&nbsp;&nbsp;&nbsp;&nbsp;&nbsp;&nbsp;├── cin_MzXaDaOMe5 -> [m2m:cin](#_blank \"content instance\n",
       "The \\<contentInstance> resource represents a data instance in the \\<container> resource.\") | ri=cin4535292903725907931                                               </span>  \n",
       "<span style='font-family: monospace;'>&nbsp;&nbsp;&nbsp;&nbsp;&nbsp;&nbsp;&nbsp;&nbsp;&nbsp;&nbsp;&nbsp;&nbsp;├── cin_GGdNS0NoOS -> [m2m:cin](#_blank \"content instance\n",
       "The \\<contentInstance> resource represents a data instance in the \\<container> resource.\") | ri=cin3913760812260573666                                               </span>  \n",
       "<span style='font-family: monospace;'>&nbsp;&nbsp;&nbsp;&nbsp;&nbsp;&nbsp;&nbsp;&nbsp;&nbsp;&nbsp;&nbsp;&nbsp;├── cin_USAWBqcbes -> [m2m:cin](#_blank \"content instance\n",
       "The \\<contentInstance> resource represents a data instance in the \\<container> resource.\") | ri=cin6913933162982221154                                               </span>  \n",
       "<span style='font-family: monospace;'>&nbsp;&nbsp;&nbsp;&nbsp;&nbsp;&nbsp;&nbsp;&nbsp;&nbsp;&nbsp;&nbsp;&nbsp;├── cin_d5cuT3mbpF -> [m2m:cin](#_blank \"content instance\n",
       "The \\<contentInstance> resource represents a data instance in the \\<container> resource.\") | ri=cin3827599823785655617                                               </span>  \n",
       "<span style='font-family: monospace;'>&nbsp;&nbsp;&nbsp;&nbsp;&nbsp;&nbsp;&nbsp;&nbsp;&nbsp;&nbsp;&nbsp;&nbsp;└── cin_Cu2CPxV8QU -> [m2m:cin](#_blank \"content instance\n",
       "The \\<contentInstance> resource represents a data instance in the \\<container> resource.\") | ri=cin8367201054559049974                                               </span>  \n",
       "<span style='font-family: monospace;'></span>  \n"
      ],
      "text/plain": [
       "<IPython.core.display.Markdown object>"
      ]
     },
     "metadata": {},
     "output_type": "display_data"
    },
    {
     "data": {
      "text/markdown": [
       "---"
      ],
      "text/plain": [
       "<IPython.core.display.Markdown object>"
      ]
     },
     "metadata": {},
     "output_type": "display_data"
    },
    {
     "data": {
      "text/markdown": [
       "## <span style='color:grey'>Request 3</span>"
      ],
      "text/plain": [
       "<IPython.core.display.Markdown object>"
      ]
     },
     "metadata": {},
     "output_type": "display_data"
    },
    {
     "data": {
      "text/markdown": [
       "### HTTP Request"
      ],
      "text/plain": [
       "<IPython.core.display.Markdown object>"
      ]
     },
     "metadata": {},
     "output_type": "display_data"
    },
    {
     "data": {
      "text/markdown": [
       "**http://localhost:8080/cse-in/aeAlice/aliceSensor/humidity**"
      ],
      "text/plain": [
       "<IPython.core.display.Markdown object>"
      ]
     },
     "metadata": {},
     "output_type": "display_data"
    },
    {
     "data": {
      "text/markdown": [
       "\n",
       "| HTTP Header | oneM2M Parameter | Value |\n",
       "|:---|:---|:---|\n",
       "| [X-M2M-Origin](#_blank \"Originator - The request's 'From' parameter. It represents the identity of the entity who makes the request. Mandatory in the request and response.\") | From | CAlice |\n",
       "| [X-M2M-RI](#_blank \"Request Identifier - Used to uniquely identify a request. Mandatory in the request and response.\") | Request Identifier | 123 |\n",
       "| [X-M2M-RVI](#_blank \"Release Version Indicator - The requester indicates the release version of the oneM2M specification. Mandatory in the request.\") | Release Version Indicator | 3 |\n",
       "| [Content-Type](#_blank \"Any HTTP request or response with content shall include the Content-type header set to one of 'application/xml', 'application/json', or the oneM2M defined media types\") |  | application/json;ty=4 |\n",
       "| [Accept](#_blank \"The Originator may use the Accept header to indicate which media types are acceptable for the response\") |  | application/json |\n"
      ],
      "text/plain": [
       "<IPython.core.display.Markdown object>"
      ]
     },
     "metadata": {},
     "output_type": "display_data"
    },
    {
     "data": {
      "text/markdown": [
       "\n",
       "#### Request Content\n"
      ],
      "text/plain": [
       "<IPython.core.display.Markdown object>"
      ]
     },
     "metadata": {},
     "output_type": "display_data"
    },
    {
     "data": {
      "text/markdown": [
       "<span style='font-family: monospace;'>{</span>  \n",
       "<span style='font-family: monospace;'>&nbsp;&nbsp;&nbsp;&nbsp;\"[m2m:cin](#_blank \"content instance\n",
       "The \\<contentInstance> resource represents a data instance in the \\<container> resource.\")\": {</span>  \n",
       "<span style='font-family: monospace;'>&nbsp;&nbsp;&nbsp;&nbsp;&nbsp;&nbsp;&nbsp;&nbsp;\"[con](#_blank \"content\n",
       "Actual content of a contentInstance. This content may be opaque data and understandable with the help of the contentInfo.\")\": \"55\"</span>  \n",
       "<span style='font-family: monospace;'>&nbsp;&nbsp;&nbsp;&nbsp;}</span>  \n",
       "<span style='font-family: monospace;'>}</span>  \n"
      ],
      "text/plain": [
       "<IPython.core.display.Markdown object>"
      ]
     },
     "metadata": {},
     "output_type": "display_data"
    },
    {
     "data": {
      "text/markdown": [
       "---\n",
       "### HTTP Response"
      ],
      "text/plain": [
       "<IPython.core.display.Markdown object>"
      ]
     },
     "metadata": {},
     "output_type": "display_data"
    },
    {
     "data": {
      "text/markdown": [
       "<span style='color:green'>201 (CREATED)</span>"
      ],
      "text/plain": [
       "<IPython.core.display.Markdown object>"
      ]
     },
     "metadata": {},
     "output_type": "display_data"
    },
    {
     "data": {
      "text/markdown": [
       "\n",
       "| HTTP Header | oneM2M Parameter | Value |\n",
       "|:---|:---|:---|\n",
       "| [X-M2M-RSC](#_blank \"Result Status Code - The request's extended result status code. Mandatory in the response.\") | Result Status Code | [2001](#_blank \"Created - The resource was successfully created\") |\n",
       "| [X-M2M-RI](#_blank \"Request Identifier - Used to uniquely identify a request. Mandatory in the request and response.\") | Request Identifier | 123 |\n",
       "| [X-M2M-RVI](#_blank \"Release Version Indicator - The requester indicates the release version of the oneM2M specification. Mandatory in the request.\") | Release Version Indicator | 3 |\n",
       "| [Content-Type](#_blank \"Any HTTP request or response with content shall include the Content-type header set to one of 'application/xml', 'application/json', or the oneM2M defined media types\") |  | application/json |\n",
       "| [Date](#_blank \"The response's date in UTC/GMT\") |  | Mon, 22 Mar 2021 19:54:19 GMT |\n"
      ],
      "text/plain": [
       "<IPython.core.display.Markdown object>"
      ]
     },
     "metadata": {},
     "output_type": "display_data"
    },
    {
     "data": {
      "text/markdown": [
       "\n",
       "**Result Content**\n"
      ],
      "text/plain": [
       "<IPython.core.display.Markdown object>"
      ]
     },
     "metadata": {},
     "output_type": "display_data"
    },
    {
     "data": {
      "text/markdown": [
       "<span style='font-family: monospace;'>{</span>  \n",
       "<span style='font-family: monospace;'>&nbsp;&nbsp;&nbsp;&nbsp;\"[m2m:cin](#_blank \"content instance\n",
       "The \\<contentInstance> resource represents a data instance in the \\<container> resource.\")\": {</span>  \n",
       "<span style='font-family: monospace;'>&nbsp;&nbsp;&nbsp;&nbsp;&nbsp;&nbsp;&nbsp;&nbsp;\"[con](#_blank \"content\n",
       "Actual content of a contentInstance. This content may be opaque data and understandable with the help of the contentInfo.\")\": \"55\",</span>  \n",
       "<span style='font-family: monospace;'>&nbsp;&nbsp;&nbsp;&nbsp;&nbsp;&nbsp;&nbsp;&nbsp;\"[ri](#_blank \"resource identifier\n",
       "An identifier for the resource that is used for 'non-hierarchical addressing method' and uniquely identifies a resource. It is unique in that CSE.\")\": \"cin663843616484241042\",</span>  \n",
       "<span style='font-family: monospace;'>&nbsp;&nbsp;&nbsp;&nbsp;&nbsp;&nbsp;&nbsp;&nbsp;\"[rn](#_blank \"resource name\n",
       "The name for the resource that is used for 'hierarchical addressing method' to represent the parent-child relationships of resources. If left out in creation requests, the CSE assigns a unique resource name on its own. Mandatory.\")\": \"cin_TImJ6oV8ne\",</span>  \n",
       "<span style='font-family: monospace;'>&nbsp;&nbsp;&nbsp;&nbsp;&nbsp;&nbsp;&nbsp;&nbsp;\"[ct](#_blank \"creation time\n",
       "Time/date of creation of the resource. This read-only attribute is assigned by the CSE at the time when the resource is locally created. Mandatory.\")\": \"20210322T195419,255694\",</span>  \n",
       "<span style='font-family: monospace;'>&nbsp;&nbsp;&nbsp;&nbsp;&nbsp;&nbsp;&nbsp;&nbsp;\"[lt](#_blank \"last modified time\n",
       "Last modification time/date of the resource. The attribute is set by the CSE when the resource is created, and it is updated when the resource is updated.\")\": \"20210322T195419,255694\",</span>  \n",
       "<span style='font-family: monospace;'>&nbsp;&nbsp;&nbsp;&nbsp;&nbsp;&nbsp;&nbsp;&nbsp;\"[et](#_blank \"expiration time\n",
       "Time/date after which the resource will be deleted by the Hosting CSE. This attribute can be provided by the Originator, and in such a case it will be regarded as a hint to the Hosting CSE on the lifetime of the resource. Optional.\")\": \"20220322T195419,255735\",</span>  \n",
       "<span style='font-family: monospace;'>&nbsp;&nbsp;&nbsp;&nbsp;&nbsp;&nbsp;&nbsp;&nbsp;\"[pi](#_blank \"parent identifier\n",
       "The resourceID of the parent of this resource. The value of this attribute is an empty string for the <CSEBase> resource type.\")\": \"cnt2933356905476920104\",</span>  \n",
       "<span style='font-family: monospace;'>&nbsp;&nbsp;&nbsp;&nbsp;&nbsp;&nbsp;&nbsp;&nbsp;\"[st](#_blank \"state tag\n",
       "An incremental counter of modification on the resource. When a resource is created, this counter is set to 0, and it will be incremented on every modification of the resource\")\": 11,</span>  \n",
       "<span style='font-family: monospace;'>&nbsp;&nbsp;&nbsp;&nbsp;&nbsp;&nbsp;&nbsp;&nbsp;\"[ty](#_blank \"resource type\n",
       "This read-only attribute identifies the type of the resource. Each resource has a resourceType attribute. Mandatory.\")\": 4,</span>  \n",
       "<span style='font-family: monospace;'>&nbsp;&nbsp;&nbsp;&nbsp;&nbsp;&nbsp;&nbsp;&nbsp;\"[cs](#_blank \"content size\n",
       "Size in bytes of the content attribute(s).\")\": 2</span>  \n",
       "<span style='font-family: monospace;'>&nbsp;&nbsp;&nbsp;&nbsp;}</span>  \n",
       "<span style='font-family: monospace;'>}</span>  \n"
      ],
      "text/plain": [
       "<IPython.core.display.Markdown object>"
      ]
     },
     "metadata": {},
     "output_type": "display_data"
    },
    {
     "data": {
      "text/markdown": [
       "---\n",
       "### Current Resource Tree"
      ],
      "text/plain": [
       "<IPython.core.display.Markdown object>"
      ]
     },
     "metadata": {},
     "output_type": "display_data"
    },
    {
     "data": {
      "text/markdown": [
       "<span style='font-family: monospace;'>cse-in -> [m2m:cb](#_blank \"CSEbase\n",
       "A \\<CSEBase> resource represents a CSE. It is the root for all resources that are residing in the CSE.\") | ri=id-in | csi=/id-in                                                                            </span>  \n",
       "<span style='font-family: monospace;'>├── CAdmin -> [m2m:ae](#_blank \"Application Entity\n",
       "An entity in the application layer that implements an M2M application service logic.\") | ri=CAdmin                                                                                    </span>  \n",
       "<span style='font-family: monospace;'>└── aeAlice -> [m2m:ae](#_blank \"Application Entity\n",
       "An entity in the application layer that implements an M2M application service logic.\") | ri=CAlice                                                                                   </span>  \n",
       "<span style='font-family: monospace;'>&nbsp;&nbsp;&nbsp;&nbsp;└── aliceSensor -> [m2m:cnt](#_blank \"Container\n",
       "The \\<container> resource represents a container for data instances. It is used to share information with other entities and potentially to track the data. A \\<container> resource has no associated content. It has only attributes and child resources.\") | ri=cnt9155249009319337559                                                          </span>  \n",
       "<span style='font-family: monospace;'>&nbsp;&nbsp;&nbsp;&nbsp;&nbsp;&nbsp;&nbsp;&nbsp;├── la                                                                                                      </span>  \n",
       "<span style='font-family: monospace;'>&nbsp;&nbsp;&nbsp;&nbsp;&nbsp;&nbsp;&nbsp;&nbsp;├── ol                                                                                                      </span>  \n",
       "<span style='font-family: monospace;'>&nbsp;&nbsp;&nbsp;&nbsp;&nbsp;&nbsp;&nbsp;&nbsp;├── temperature -> [m2m:cnt](#_blank \"Container\n",
       "The \\<container> resource represents a container for data instances. It is used to share information with other entities and potentially to track the data. A \\<container> resource has no associated content. It has only attributes and child resources.\") | ri=cnt1074890995492783296                                                      </span>  \n",
       "<span style='font-family: monospace;'>&nbsp;&nbsp;&nbsp;&nbsp;&nbsp;&nbsp;&nbsp;&nbsp;│   ├── la                                                                                                  </span>  \n",
       "<span style='font-family: monospace;'>&nbsp;&nbsp;&nbsp;&nbsp;&nbsp;&nbsp;&nbsp;&nbsp;│   ├── ol                                                                                                  </span>  \n",
       "<span style='font-family: monospace;'>&nbsp;&nbsp;&nbsp;&nbsp;&nbsp;&nbsp;&nbsp;&nbsp;│   ├── cin_YE2sZzBODZ -> [m2m:cin](#_blank \"content instance\n",
       "The \\<contentInstance> resource represents a data instance in the \\<container> resource.\") | ri=cin9066912198403257441                                               </span>  \n",
       "<span style='font-family: monospace;'>&nbsp;&nbsp;&nbsp;&nbsp;&nbsp;&nbsp;&nbsp;&nbsp;│   ├── cin_3sP8nueiSa -> [m2m:cin](#_blank \"content instance\n",
       "The \\<contentInstance> resource represents a data instance in the \\<container> resource.\") | ri=cin2174324722811872544                                               </span>  \n",
       "<span style='font-family: monospace;'>&nbsp;&nbsp;&nbsp;&nbsp;&nbsp;&nbsp;&nbsp;&nbsp;│   ├── cin_aZcxtiETWB -> [m2m:cin](#_blank \"content instance\n",
       "The \\<contentInstance> resource represents a data instance in the \\<container> resource.\") | ri=cin5998740946778440514                                               </span>  \n",
       "<span style='font-family: monospace;'>&nbsp;&nbsp;&nbsp;&nbsp;&nbsp;&nbsp;&nbsp;&nbsp;│   ├── cin_2UNNIYUvzS -> [m2m:cin](#_blank \"content instance\n",
       "The \\<contentInstance> resource represents a data instance in the \\<container> resource.\") | ri=cin7930611166788766455                                               </span>  \n",
       "<span style='font-family: monospace;'>&nbsp;&nbsp;&nbsp;&nbsp;&nbsp;&nbsp;&nbsp;&nbsp;│   ├── cin_tmajQ5qccG -> [m2m:cin](#_blank \"content instance\n",
       "The \\<contentInstance> resource represents a data instance in the \\<container> resource.\") | ri=cin13333265801351683                                                 </span>  \n",
       "<span style='font-family: monospace;'>&nbsp;&nbsp;&nbsp;&nbsp;&nbsp;&nbsp;&nbsp;&nbsp;│   ├── cin_QgKtonvkd4 -> [m2m:cin](#_blank \"content instance\n",
       "The \\<contentInstance> resource represents a data instance in the \\<container> resource.\") | ri=cin4288489916433119702                                               </span>  \n",
       "<span style='font-family: monospace;'>&nbsp;&nbsp;&nbsp;&nbsp;&nbsp;&nbsp;&nbsp;&nbsp;│   ├── cin_n4V3RmCsTO -> [m2m:cin](#_blank \"content instance\n",
       "The \\<contentInstance> resource represents a data instance in the \\<container> resource.\") | ri=cin6007420771939877329                                               </span>  \n",
       "<span style='font-family: monospace;'>&nbsp;&nbsp;&nbsp;&nbsp;&nbsp;&nbsp;&nbsp;&nbsp;│   └── cin_cDMf9NjBTJ -> [m2m:cin](#_blank \"content instance\n",
       "The \\<contentInstance> resource represents a data instance in the \\<container> resource.\") | ri=cin7046948040656211090                                               </span>  \n",
       "<span style='font-family: monospace;'>&nbsp;&nbsp;&nbsp;&nbsp;&nbsp;&nbsp;&nbsp;&nbsp;└── humidity -> [m2m:cnt](#_blank \"Container\n",
       "The \\<container> resource represents a container for data instances. It is used to share information with other entities and potentially to track the data. A \\<container> resource has no associated content. It has only attributes and child resources.\") | ri=cnt2933356905476920104                                                         </span>  \n",
       "<span style='font-family: monospace;'>&nbsp;&nbsp;&nbsp;&nbsp;&nbsp;&nbsp;&nbsp;&nbsp;&nbsp;&nbsp;&nbsp;&nbsp;├── la                                                                                                  </span>  \n",
       "<span style='font-family: monospace;'>&nbsp;&nbsp;&nbsp;&nbsp;&nbsp;&nbsp;&nbsp;&nbsp;&nbsp;&nbsp;&nbsp;&nbsp;├── ol                                                                                                  </span>  \n",
       "<span style='font-family: monospace;'>&nbsp;&nbsp;&nbsp;&nbsp;&nbsp;&nbsp;&nbsp;&nbsp;&nbsp;&nbsp;&nbsp;&nbsp;├── cin_f5Ctcn77DS -> [m2m:cin](#_blank \"content instance\n",
       "The \\<contentInstance> resource represents a data instance in the \\<container> resource.\") | ri=cin6183558070835205963                                               </span>  \n",
       "<span style='font-family: monospace;'>&nbsp;&nbsp;&nbsp;&nbsp;&nbsp;&nbsp;&nbsp;&nbsp;&nbsp;&nbsp;&nbsp;&nbsp;├── cin_FkG35SC62K -> [m2m:cin](#_blank \"content instance\n",
       "The \\<contentInstance> resource represents a data instance in the \\<container> resource.\") | ri=cin8744308806825453284                                               </span>  \n",
       "<span style='font-family: monospace;'>&nbsp;&nbsp;&nbsp;&nbsp;&nbsp;&nbsp;&nbsp;&nbsp;&nbsp;&nbsp;&nbsp;&nbsp;├── cin_rmd4eeVuMX -> [m2m:cin](#_blank \"content instance\n",
       "The \\<contentInstance> resource represents a data instance in the \\<container> resource.\") | ri=cin7128993563206115893                                               </span>  \n",
       "<span style='font-family: monospace;'>&nbsp;&nbsp;&nbsp;&nbsp;&nbsp;&nbsp;&nbsp;&nbsp;&nbsp;&nbsp;&nbsp;&nbsp;├── cin_WwJN2s6WF0 -> [m2m:cin](#_blank \"content instance\n",
       "The \\<contentInstance> resource represents a data instance in the \\<container> resource.\") | ri=cin5615291261476187910                                               </span>  \n",
       "<span style='font-family: monospace;'>&nbsp;&nbsp;&nbsp;&nbsp;&nbsp;&nbsp;&nbsp;&nbsp;&nbsp;&nbsp;&nbsp;&nbsp;├── cin_MzXaDaOMe5 -> [m2m:cin](#_blank \"content instance\n",
       "The \\<contentInstance> resource represents a data instance in the \\<container> resource.\") | ri=cin4535292903725907931                                               </span>  \n",
       "<span style='font-family: monospace;'>&nbsp;&nbsp;&nbsp;&nbsp;&nbsp;&nbsp;&nbsp;&nbsp;&nbsp;&nbsp;&nbsp;&nbsp;├── cin_GGdNS0NoOS -> [m2m:cin](#_blank \"content instance\n",
       "The \\<contentInstance> resource represents a data instance in the \\<container> resource.\") | ri=cin3913760812260573666                                               </span>  \n",
       "<span style='font-family: monospace;'>&nbsp;&nbsp;&nbsp;&nbsp;&nbsp;&nbsp;&nbsp;&nbsp;&nbsp;&nbsp;&nbsp;&nbsp;├── cin_USAWBqcbes -> [m2m:cin](#_blank \"content instance\n",
       "The \\<contentInstance> resource represents a data instance in the \\<container> resource.\") | ri=cin6913933162982221154                                               </span>  \n",
       "<span style='font-family: monospace;'>&nbsp;&nbsp;&nbsp;&nbsp;&nbsp;&nbsp;&nbsp;&nbsp;&nbsp;&nbsp;&nbsp;&nbsp;├── cin_d5cuT3mbpF -> [m2m:cin](#_blank \"content instance\n",
       "The \\<contentInstance> resource represents a data instance in the \\<container> resource.\") | ri=cin3827599823785655617                                               </span>  \n",
       "<span style='font-family: monospace;'>&nbsp;&nbsp;&nbsp;&nbsp;&nbsp;&nbsp;&nbsp;&nbsp;&nbsp;&nbsp;&nbsp;&nbsp;├── cin_Cu2CPxV8QU -> [m2m:cin](#_blank \"content instance\n",
       "The \\<contentInstance> resource represents a data instance in the \\<container> resource.\") | ri=cin8367201054559049974                                               </span>  \n",
       "<span style='font-family: monospace;'>&nbsp;&nbsp;&nbsp;&nbsp;&nbsp;&nbsp;&nbsp;&nbsp;&nbsp;&nbsp;&nbsp;&nbsp;└── cin_TImJ6oV8ne -> [m2m:cin](#_blank \"content instance\n",
       "The \\<contentInstance> resource represents a data instance in the \\<container> resource.\") | ri=cin663843616484241042                                                </span>  \n",
       "<span style='font-family: monospace;'></span>  \n"
      ],
      "text/plain": [
       "<IPython.core.display.Markdown object>"
      ]
     },
     "metadata": {},
     "output_type": "display_data"
    },
    {
     "data": {
      "text/markdown": [
       "---"
      ],
      "text/plain": [
       "<IPython.core.display.Markdown object>"
      ]
     },
     "metadata": {},
     "output_type": "display_data"
    },
    {
     "data": {
      "text/markdown": [
       "## <span style='color:grey'>Request 4</span>"
      ],
      "text/plain": [
       "<IPython.core.display.Markdown object>"
      ]
     },
     "metadata": {},
     "output_type": "display_data"
    },
    {
     "data": {
      "text/markdown": [
       "### HTTP Request"
      ],
      "text/plain": [
       "<IPython.core.display.Markdown object>"
      ]
     },
     "metadata": {},
     "output_type": "display_data"
    },
    {
     "data": {
      "text/markdown": [
       "**http://localhost:8080/cse-in/aeAlice/aliceSensor/humidity**"
      ],
      "text/plain": [
       "<IPython.core.display.Markdown object>"
      ]
     },
     "metadata": {},
     "output_type": "display_data"
    },
    {
     "data": {
      "text/markdown": [
       "\n",
       "| HTTP Header | oneM2M Parameter | Value |\n",
       "|:---|:---|:---|\n",
       "| [X-M2M-Origin](#_blank \"Originator - The request's 'From' parameter. It represents the identity of the entity who makes the request. Mandatory in the request and response.\") | From | CAlice |\n",
       "| [X-M2M-RI](#_blank \"Request Identifier - Used to uniquely identify a request. Mandatory in the request and response.\") | Request Identifier | 123 |\n",
       "| [X-M2M-RVI](#_blank \"Release Version Indicator - The requester indicates the release version of the oneM2M specification. Mandatory in the request.\") | Release Version Indicator | 3 |\n",
       "| [Content-Type](#_blank \"Any HTTP request or response with content shall include the Content-type header set to one of 'application/xml', 'application/json', or the oneM2M defined media types\") |  | application/json;ty=4 |\n",
       "| [Accept](#_blank \"The Originator may use the Accept header to indicate which media types are acceptable for the response\") |  | application/json |\n"
      ],
      "text/plain": [
       "<IPython.core.display.Markdown object>"
      ]
     },
     "metadata": {},
     "output_type": "display_data"
    },
    {
     "data": {
      "text/markdown": [
       "\n",
       "#### Request Content\n"
      ],
      "text/plain": [
       "<IPython.core.display.Markdown object>"
      ]
     },
     "metadata": {},
     "output_type": "display_data"
    },
    {
     "data": {
      "text/markdown": [
       "<span style='font-family: monospace;'>{</span>  \n",
       "<span style='font-family: monospace;'>&nbsp;&nbsp;&nbsp;&nbsp;\"[m2m:cin](#_blank \"content instance\n",
       "The \\<contentInstance> resource represents a data instance in the \\<container> resource.\")\": {</span>  \n",
       "<span style='font-family: monospace;'>&nbsp;&nbsp;&nbsp;&nbsp;&nbsp;&nbsp;&nbsp;&nbsp;\"[con](#_blank \"content\n",
       "Actual content of a contentInstance. This content may be opaque data and understandable with the help of the contentInfo.\")\": \"52\"</span>  \n",
       "<span style='font-family: monospace;'>&nbsp;&nbsp;&nbsp;&nbsp;}</span>  \n",
       "<span style='font-family: monospace;'>}</span>  \n"
      ],
      "text/plain": [
       "<IPython.core.display.Markdown object>"
      ]
     },
     "metadata": {},
     "output_type": "display_data"
    },
    {
     "data": {
      "text/markdown": [
       "---\n",
       "### HTTP Response"
      ],
      "text/plain": [
       "<IPython.core.display.Markdown object>"
      ]
     },
     "metadata": {},
     "output_type": "display_data"
    },
    {
     "data": {
      "text/markdown": [
       "<span style='color:green'>201 (CREATED)</span>"
      ],
      "text/plain": [
       "<IPython.core.display.Markdown object>"
      ]
     },
     "metadata": {},
     "output_type": "display_data"
    },
    {
     "data": {
      "text/markdown": [
       "\n",
       "| HTTP Header | oneM2M Parameter | Value |\n",
       "|:---|:---|:---|\n",
       "| [X-M2M-RSC](#_blank \"Result Status Code - The request's extended result status code. Mandatory in the response.\") | Result Status Code | [2001](#_blank \"Created - The resource was successfully created\") |\n",
       "| [X-M2M-RI](#_blank \"Request Identifier - Used to uniquely identify a request. Mandatory in the request and response.\") | Request Identifier | 123 |\n",
       "| [X-M2M-RVI](#_blank \"Release Version Indicator - The requester indicates the release version of the oneM2M specification. Mandatory in the request.\") | Release Version Indicator | 3 |\n",
       "| [Content-Type](#_blank \"Any HTTP request or response with content shall include the Content-type header set to one of 'application/xml', 'application/json', or the oneM2M defined media types\") |  | application/json |\n",
       "| [Date](#_blank \"The response's date in UTC/GMT\") |  | Mon, 22 Mar 2021 19:54:19 GMT |\n"
      ],
      "text/plain": [
       "<IPython.core.display.Markdown object>"
      ]
     },
     "metadata": {},
     "output_type": "display_data"
    },
    {
     "data": {
      "text/markdown": [
       "\n",
       "**Result Content**\n"
      ],
      "text/plain": [
       "<IPython.core.display.Markdown object>"
      ]
     },
     "metadata": {},
     "output_type": "display_data"
    },
    {
     "data": {
      "text/markdown": [
       "<span style='font-family: monospace;'>{</span>  \n",
       "<span style='font-family: monospace;'>&nbsp;&nbsp;&nbsp;&nbsp;\"[m2m:cin](#_blank \"content instance\n",
       "The \\<contentInstance> resource represents a data instance in the \\<container> resource.\")\": {</span>  \n",
       "<span style='font-family: monospace;'>&nbsp;&nbsp;&nbsp;&nbsp;&nbsp;&nbsp;&nbsp;&nbsp;\"[con](#_blank \"content\n",
       "Actual content of a contentInstance. This content may be opaque data and understandable with the help of the contentInfo.\")\": \"52\",</span>  \n",
       "<span style='font-family: monospace;'>&nbsp;&nbsp;&nbsp;&nbsp;&nbsp;&nbsp;&nbsp;&nbsp;\"[ri](#_blank \"resource identifier\n",
       "An identifier for the resource that is used for 'non-hierarchical addressing method' and uniquely identifies a resource. It is unique in that CSE.\")\": \"cin6387700607611413865\",</span>  \n",
       "<span style='font-family: monospace;'>&nbsp;&nbsp;&nbsp;&nbsp;&nbsp;&nbsp;&nbsp;&nbsp;\"[rn](#_blank \"resource name\n",
       "The name for the resource that is used for 'hierarchical addressing method' to represent the parent-child relationships of resources. If left out in creation requests, the CSE assigns a unique resource name on its own. Mandatory.\")\": \"cin_AZrwGiVWsQ\",</span>  \n",
       "<span style='font-family: monospace;'>&nbsp;&nbsp;&nbsp;&nbsp;&nbsp;&nbsp;&nbsp;&nbsp;\"[ct](#_blank \"creation time\n",
       "Time/date of creation of the resource. This read-only attribute is assigned by the CSE at the time when the resource is locally created. Mandatory.\")\": \"20210322T195419,474795\",</span>  \n",
       "<span style='font-family: monospace;'>&nbsp;&nbsp;&nbsp;&nbsp;&nbsp;&nbsp;&nbsp;&nbsp;\"[lt](#_blank \"last modified time\n",
       "Last modification time/date of the resource. The attribute is set by the CSE when the resource is created, and it is updated when the resource is updated.\")\": \"20210322T195419,474795\",</span>  \n",
       "<span style='font-family: monospace;'>&nbsp;&nbsp;&nbsp;&nbsp;&nbsp;&nbsp;&nbsp;&nbsp;\"[et](#_blank \"expiration time\n",
       "Time/date after which the resource will be deleted by the Hosting CSE. This attribute can be provided by the Originator, and in such a case it will be regarded as a hint to the Hosting CSE on the lifetime of the resource. Optional.\")\": \"20220322T195419,474855\",</span>  \n",
       "<span style='font-family: monospace;'>&nbsp;&nbsp;&nbsp;&nbsp;&nbsp;&nbsp;&nbsp;&nbsp;\"[pi](#_blank \"parent identifier\n",
       "The resourceID of the parent of this resource. The value of this attribute is an empty string for the <CSEBase> resource type.\")\": \"cnt2933356905476920104\",</span>  \n",
       "<span style='font-family: monospace;'>&nbsp;&nbsp;&nbsp;&nbsp;&nbsp;&nbsp;&nbsp;&nbsp;\"[st](#_blank \"state tag\n",
       "An incremental counter of modification on the resource. When a resource is created, this counter is set to 0, and it will be incremented on every modification of the resource\")\": 12,</span>  \n",
       "<span style='font-family: monospace;'>&nbsp;&nbsp;&nbsp;&nbsp;&nbsp;&nbsp;&nbsp;&nbsp;\"[ty](#_blank \"resource type\n",
       "This read-only attribute identifies the type of the resource. Each resource has a resourceType attribute. Mandatory.\")\": 4,</span>  \n",
       "<span style='font-family: monospace;'>&nbsp;&nbsp;&nbsp;&nbsp;&nbsp;&nbsp;&nbsp;&nbsp;\"[cs](#_blank \"content size\n",
       "Size in bytes of the content attribute(s).\")\": 2</span>  \n",
       "<span style='font-family: monospace;'>&nbsp;&nbsp;&nbsp;&nbsp;}</span>  \n",
       "<span style='font-family: monospace;'>}</span>  \n"
      ],
      "text/plain": [
       "<IPython.core.display.Markdown object>"
      ]
     },
     "metadata": {},
     "output_type": "display_data"
    },
    {
     "data": {
      "text/markdown": [
       "---\n",
       "### Current Resource Tree"
      ],
      "text/plain": [
       "<IPython.core.display.Markdown object>"
      ]
     },
     "metadata": {},
     "output_type": "display_data"
    },
    {
     "data": {
      "text/markdown": [
       "<span style='font-family: monospace;'>cse-in -> [m2m:cb](#_blank \"CSEbase\n",
       "A \\<CSEBase> resource represents a CSE. It is the root for all resources that are residing in the CSE.\") | ri=id-in | csi=/id-in                                                                            </span>  \n",
       "<span style='font-family: monospace;'>├── CAdmin -> [m2m:ae](#_blank \"Application Entity\n",
       "An entity in the application layer that implements an M2M application service logic.\") | ri=CAdmin                                                                                    </span>  \n",
       "<span style='font-family: monospace;'>└── aeAlice -> [m2m:ae](#_blank \"Application Entity\n",
       "An entity in the application layer that implements an M2M application service logic.\") | ri=CAlice                                                                                   </span>  \n",
       "<span style='font-family: monospace;'>&nbsp;&nbsp;&nbsp;&nbsp;└── aliceSensor -> [m2m:cnt](#_blank \"Container\n",
       "The \\<container> resource represents a container for data instances. It is used to share information with other entities and potentially to track the data. A \\<container> resource has no associated content. It has only attributes and child resources.\") | ri=cnt9155249009319337559                                                          </span>  \n",
       "<span style='font-family: monospace;'>&nbsp;&nbsp;&nbsp;&nbsp;&nbsp;&nbsp;&nbsp;&nbsp;├── la                                                                                                      </span>  \n",
       "<span style='font-family: monospace;'>&nbsp;&nbsp;&nbsp;&nbsp;&nbsp;&nbsp;&nbsp;&nbsp;├── ol                                                                                                      </span>  \n",
       "<span style='font-family: monospace;'>&nbsp;&nbsp;&nbsp;&nbsp;&nbsp;&nbsp;&nbsp;&nbsp;├── temperature -> [m2m:cnt](#_blank \"Container\n",
       "The \\<container> resource represents a container for data instances. It is used to share information with other entities and potentially to track the data. A \\<container> resource has no associated content. It has only attributes and child resources.\") | ri=cnt1074890995492783296                                                      </span>  \n",
       "<span style='font-family: monospace;'>&nbsp;&nbsp;&nbsp;&nbsp;&nbsp;&nbsp;&nbsp;&nbsp;│   ├── la                                                                                                  </span>  \n",
       "<span style='font-family: monospace;'>&nbsp;&nbsp;&nbsp;&nbsp;&nbsp;&nbsp;&nbsp;&nbsp;│   ├── ol                                                                                                  </span>  \n",
       "<span style='font-family: monospace;'>&nbsp;&nbsp;&nbsp;&nbsp;&nbsp;&nbsp;&nbsp;&nbsp;│   ├── cin_YE2sZzBODZ -> [m2m:cin](#_blank \"content instance\n",
       "The \\<contentInstance> resource represents a data instance in the \\<container> resource.\") | ri=cin9066912198403257441                                               </span>  \n",
       "<span style='font-family: monospace;'>&nbsp;&nbsp;&nbsp;&nbsp;&nbsp;&nbsp;&nbsp;&nbsp;│   ├── cin_3sP8nueiSa -> [m2m:cin](#_blank \"content instance\n",
       "The \\<contentInstance> resource represents a data instance in the \\<container> resource.\") | ri=cin2174324722811872544                                               </span>  \n",
       "<span style='font-family: monospace;'>&nbsp;&nbsp;&nbsp;&nbsp;&nbsp;&nbsp;&nbsp;&nbsp;│   ├── cin_aZcxtiETWB -> [m2m:cin](#_blank \"content instance\n",
       "The \\<contentInstance> resource represents a data instance in the \\<container> resource.\") | ri=cin5998740946778440514                                               </span>  \n",
       "<span style='font-family: monospace;'>&nbsp;&nbsp;&nbsp;&nbsp;&nbsp;&nbsp;&nbsp;&nbsp;│   ├── cin_2UNNIYUvzS -> [m2m:cin](#_blank \"content instance\n",
       "The \\<contentInstance> resource represents a data instance in the \\<container> resource.\") | ri=cin7930611166788766455                                               </span>  \n",
       "<span style='font-family: monospace;'>&nbsp;&nbsp;&nbsp;&nbsp;&nbsp;&nbsp;&nbsp;&nbsp;│   ├── cin_tmajQ5qccG -> [m2m:cin](#_blank \"content instance\n",
       "The \\<contentInstance> resource represents a data instance in the \\<container> resource.\") | ri=cin13333265801351683                                                 </span>  \n",
       "<span style='font-family: monospace;'>&nbsp;&nbsp;&nbsp;&nbsp;&nbsp;&nbsp;&nbsp;&nbsp;│   ├── cin_QgKtonvkd4 -> [m2m:cin](#_blank \"content instance\n",
       "The \\<contentInstance> resource represents a data instance in the \\<container> resource.\") | ri=cin4288489916433119702                                               </span>  \n",
       "<span style='font-family: monospace;'>&nbsp;&nbsp;&nbsp;&nbsp;&nbsp;&nbsp;&nbsp;&nbsp;│   ├── cin_n4V3RmCsTO -> [m2m:cin](#_blank \"content instance\n",
       "The \\<contentInstance> resource represents a data instance in the \\<container> resource.\") | ri=cin6007420771939877329                                               </span>  \n",
       "<span style='font-family: monospace;'>&nbsp;&nbsp;&nbsp;&nbsp;&nbsp;&nbsp;&nbsp;&nbsp;│   └── cin_cDMf9NjBTJ -> [m2m:cin](#_blank \"content instance\n",
       "The \\<contentInstance> resource represents a data instance in the \\<container> resource.\") | ri=cin7046948040656211090                                               </span>  \n",
       "<span style='font-family: monospace;'>&nbsp;&nbsp;&nbsp;&nbsp;&nbsp;&nbsp;&nbsp;&nbsp;└── humidity -> [m2m:cnt](#_blank \"Container\n",
       "The \\<container> resource represents a container for data instances. It is used to share information with other entities and potentially to track the data. A \\<container> resource has no associated content. It has only attributes and child resources.\") | ri=cnt2933356905476920104                                                         </span>  \n",
       "<span style='font-family: monospace;'>&nbsp;&nbsp;&nbsp;&nbsp;&nbsp;&nbsp;&nbsp;&nbsp;&nbsp;&nbsp;&nbsp;&nbsp;├── la                                                                                                  </span>  \n",
       "<span style='font-family: monospace;'>&nbsp;&nbsp;&nbsp;&nbsp;&nbsp;&nbsp;&nbsp;&nbsp;&nbsp;&nbsp;&nbsp;&nbsp;├── ol                                                                                                  </span>  \n",
       "<span style='font-family: monospace;'>&nbsp;&nbsp;&nbsp;&nbsp;&nbsp;&nbsp;&nbsp;&nbsp;&nbsp;&nbsp;&nbsp;&nbsp;├── cin_FkG35SC62K -> [m2m:cin](#_blank \"content instance\n",
       "The \\<contentInstance> resource represents a data instance in the \\<container> resource.\") | ri=cin8744308806825453284                                               </span>  \n",
       "<span style='font-family: monospace;'>&nbsp;&nbsp;&nbsp;&nbsp;&nbsp;&nbsp;&nbsp;&nbsp;&nbsp;&nbsp;&nbsp;&nbsp;├── cin_rmd4eeVuMX -> [m2m:cin](#_blank \"content instance\n",
       "The \\<contentInstance> resource represents a data instance in the \\<container> resource.\") | ri=cin7128993563206115893                                               </span>  \n",
       "<span style='font-family: monospace;'>&nbsp;&nbsp;&nbsp;&nbsp;&nbsp;&nbsp;&nbsp;&nbsp;&nbsp;&nbsp;&nbsp;&nbsp;├── cin_WwJN2s6WF0 -> [m2m:cin](#_blank \"content instance\n",
       "The \\<contentInstance> resource represents a data instance in the \\<container> resource.\") | ri=cin5615291261476187910                                               </span>  \n",
       "<span style='font-family: monospace;'>&nbsp;&nbsp;&nbsp;&nbsp;&nbsp;&nbsp;&nbsp;&nbsp;&nbsp;&nbsp;&nbsp;&nbsp;├── cin_MzXaDaOMe5 -> [m2m:cin](#_blank \"content instance\n",
       "The \\<contentInstance> resource represents a data instance in the \\<container> resource.\") | ri=cin4535292903725907931                                               </span>  \n",
       "<span style='font-family: monospace;'>&nbsp;&nbsp;&nbsp;&nbsp;&nbsp;&nbsp;&nbsp;&nbsp;&nbsp;&nbsp;&nbsp;&nbsp;├── cin_GGdNS0NoOS -> [m2m:cin](#_blank \"content instance\n",
       "The \\<contentInstance> resource represents a data instance in the \\<container> resource.\") | ri=cin3913760812260573666                                               </span>  \n",
       "<span style='font-family: monospace;'>&nbsp;&nbsp;&nbsp;&nbsp;&nbsp;&nbsp;&nbsp;&nbsp;&nbsp;&nbsp;&nbsp;&nbsp;├── cin_USAWBqcbes -> [m2m:cin](#_blank \"content instance\n",
       "The \\<contentInstance> resource represents a data instance in the \\<container> resource.\") | ri=cin6913933162982221154                                               </span>  \n",
       "<span style='font-family: monospace;'>&nbsp;&nbsp;&nbsp;&nbsp;&nbsp;&nbsp;&nbsp;&nbsp;&nbsp;&nbsp;&nbsp;&nbsp;├── cin_d5cuT3mbpF -> [m2m:cin](#_blank \"content instance\n",
       "The \\<contentInstance> resource represents a data instance in the \\<container> resource.\") | ri=cin3827599823785655617                                               </span>  \n",
       "<span style='font-family: monospace;'>&nbsp;&nbsp;&nbsp;&nbsp;&nbsp;&nbsp;&nbsp;&nbsp;&nbsp;&nbsp;&nbsp;&nbsp;├── cin_Cu2CPxV8QU -> [m2m:cin](#_blank \"content instance\n",
       "The \\<contentInstance> resource represents a data instance in the \\<container> resource.\") | ri=cin8367201054559049974                                               </span>  \n",
       "<span style='font-family: monospace;'>&nbsp;&nbsp;&nbsp;&nbsp;&nbsp;&nbsp;&nbsp;&nbsp;&nbsp;&nbsp;&nbsp;&nbsp;├── cin_TImJ6oV8ne -> [m2m:cin](#_blank \"content instance\n",
       "The \\<contentInstance> resource represents a data instance in the \\<container> resource.\") | ri=cin663843616484241042                                                </span>  \n",
       "<span style='font-family: monospace;'>&nbsp;&nbsp;&nbsp;&nbsp;&nbsp;&nbsp;&nbsp;&nbsp;&nbsp;&nbsp;&nbsp;&nbsp;└── cin_AZrwGiVWsQ -> [m2m:cin](#_blank \"content instance\n",
       "The \\<contentInstance> resource represents a data instance in the \\<container> resource.\") | ri=cin6387700607611413865                                               </span>  \n",
       "<span style='font-family: monospace;'></span>  \n"
      ],
      "text/plain": [
       "<IPython.core.display.Markdown object>"
      ]
     },
     "metadata": {},
     "output_type": "display_data"
    },
    {
     "data": {
      "text/markdown": [
       "---"
      ],
      "text/plain": [
       "<IPython.core.display.Markdown object>"
      ]
     },
     "metadata": {},
     "output_type": "display_data"
    }
   ],
   "source": [
    "repeat(\n",
    "    times   = 4,\n",
    "    \n",
    "    request = lambda : CREATE (                                                 # CREATE request\n",
    "        target                  = f'{cseRN}/aeAlice/aliceSensor/humidity',      # Create a <cin> under the temperature <cnt>\n",
    "        originator              = 'CAlice',                                     # Request's originator (mandatory)\n",
    "        requestIdentifier       = '123',                                        # Request identifier (mandatory)\n",
    "        releaseVersionIndicator = '3',                                          # Request's release version indicator (mandatory)\n",
    "        resourceType            = 4,                                            # The request creates a <cin> resource\n",
    "    \n",
    "        # Request Content\n",
    "        content = {\n",
    "            \"m2m:cin\": {\n",
    "                \"con\": randomHumidity()                                         # Produce \"temperature\" data\n",
    "            }\n",
    "        }\n",
    "    )\n",
    ")"
   ]
  },
  {
   "cell_type": "markdown",
   "id": "novel-clock",
   "metadata": {},
   "source": [
    "## Retrieve and present the data \n",
    "\n",
    "Alice now has a nicely filled data structure. She can execute the requests a couple of times, but the internal management will make sure that the number of \\<contentInstance> resource will always be limited to the specified maximum number (10).\n",
    "\n",
    "The next step for Alice is to write an application that presents the data nicely.\n",
    "\n",
    "<div class=\"alert alert-block alert-success\" style=\"border-radius: 10px\">\n",
    "This exercise will retrieve the available data from the &lt;contentInstance> resources with so-called <i>conditional retrieve</i> requests. With these we can query and retrieve one or multiple resources from the resource tree. This variant of oneM2M RETRIEVE requests will be explained in detail in a separate lecture, but it is very convenient to use them here already.\n",
    "</div>\n",
    "\n",
    "<div class=\"alert alert-block alert-info\" style=\"border-radius: 10px;\">\n",
    "In this exercise we not only will send requests to the CSE but also will do some small calculations and makes use of Python's <i>pandas</i> and <i>matplotlib</i> libraries for presenting the data.\n",
    "    \n",
    "You may notice the <b><tt>_verbose</tt></b> argument in the requests below. This is a non-oneM2M parameter that we use in our exercises to disable verbose printing of all the request and response details in order to concentrate on other parts of code and output.\n",
    "    \n",
    "Another note: the <b><tt>response()</tt></b> function used in the code below returns the last request's response content as a dictionary, which we then can conveniently process further.\n",
    "</div>\n",
    "\n"
   ]
  },
  {
   "cell_type": "code",
   "execution_count": 3,
   "id": "distributed-harris",
   "metadata": {
    "scrolled": false
   },
   "outputs": [
    {
     "data": {
      "image/png": "[encoded data removed]",
      "text/plain": [
       "<Figure size 1080x216 with 2 Axes>"
      ]
     },
     "metadata": {
      "needs_background": "light"
     },
     "output_type": "display_data"
    }
   ],
   "source": [
    "# Retrieve the temperature values\n",
    "RETRIEVE (                                                                 # RETRIEVE request\n",
    "    target                  = f'{cseRN}/aeAlice/aliceSensor/temperature',  # Target resource is the <cin> under Alice's <cnt>\n",
    "    originator              = 'CAlice',                                    # Request's originator is CAlice (mandatory)\n",
    "    requestIdentifier       = '123',                                       # Request identifier (mandatory)\n",
    "    releaseVersionIndicator = '3',                                         # Request's release version indicator (mandatory)\n",
    "    \n",
    "    # Parameterize the conditional retrieve\n",
    "    filterUsage             = 2,                                           # Conditional retrieve\n",
    "    resourceType            = 4,                                           # Only retrieve <contentInstance> resources\n",
    "    resultContent           = 8,                                           # Only retrieve the child resources\n",
    "    \n",
    "    _silent                 = True                                         # Internal: Don't print request and response messages\n",
    ") \n",
    "\n",
    "# Extract the content values from the response and put them into an array\n",
    "temperatures = [ int(cin['con']) for cin in findXPath(response(), 'm2m:cnt/m2m:cin') ]\n",
    "\n",
    "\n",
    "# Retrieve the humidity values\n",
    "RETRIEVE (                                                                 # RETRIEVE request\n",
    "    target                  = f'{cseRN}/aeAlice/aliceSensor/humidity',     # Target resource is the <cin> under Alice's <cnt>\n",
    "    originator              = 'CAlice',                                    # Request's originator is CAlice (mandatory)\n",
    "    requestIdentifier       = '123',                                       # Request identifier (mandatory)\n",
    "    releaseVersionIndicator = '3',                                         # Request's release version indicator (mandatory)\n",
    "    \n",
    "    # Parameterize the conditional retrieve\n",
    "    filterUsage             = 2,                                           # Conditional retrieve\n",
    "    resourceType            = 4,                                           # Only retrieve <contentInstance> resources\n",
    "    resultContent           = 8,                                           # Only retrieve the child resources\n",
    "    \n",
    "    _silent                 = True                                         # Internal: Don't print request and response messages\n",
    ")\n",
    "\n",
    "# Extract the content values from the response and put them into an array\n",
    "humidities = [ int(cin['con']) for cin in findXPath(response(), 'm2m:cnt/m2m:cin') ]\n",
    "\n",
    "\n",
    "# Make all arrays the same length in case we have different numbers of measurements.\n",
    "# This is necessary for the plot below\n",
    "ml = max(len(temperatures), len(humidities))\n",
    "measurements  = list(range(1, ml+1)) \n",
    "temperatures += [0] * (ml - len(temperatures))\n",
    "humidities   += [0] * (ml - len(humidities))\n",
    "\n",
    "\n",
    "# Create nice bar charts from our values\n",
    "import pandas as pd\n",
    "\n",
    "source = pd.DataFrame({\n",
    "    'Measurement' : measurements,\n",
    "    'Temperature' : temperatures,\n",
    "    'Humidity'    : humidities,\n",
    "\n",
    "})\n",
    "source.plot.bar(y=['Temperature', 'Humidity'], x='Measurement', subplots=True, layout=(1,2), figsize=(15,3));\n"
   ]
  },
  {
   "cell_type": "markdown",
   "id": "prime-theology",
   "metadata": {},
   "source": [
    "&nbsp;"
   ]
  }
 ],
 "metadata": {
  "kernelspec": {
   "display_name": "Python 3",
   "language": "python",
   "name": "python3"
  },
  "language_info": {
   "codemirror_mode": {
    "name": "ipython",
    "version": 3
   },
   "file_extension": ".py",
   "mimetype": "text/x-python",
   "name": "python",
   "nbconvert_exporter": "python",
   "pygments_lexer": "ipython3",
   "version": "3.8.2"
  }
 },
 "nbformat": 4,
 "nbformat_minor": 5
}
