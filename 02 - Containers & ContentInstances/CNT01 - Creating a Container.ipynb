{
 "cells": [
  {
   "cell_type": "markdown",
   "id": "lined-belle",
   "metadata": {},
   "source": [
    "# Container - Creating a Container\n",
    "\n",
    "This notebook will register a new Application Entity and create a first \\<container> resource.\n",
    "\n",
    "- Register an \\<AE> with a predefined AE-iD\n",
    "- CREATE a \\<container> resource\n",
    "\n",
    "\n",
    "## Intitialization\n",
    "\n",
    "<div class=\"alert alert-block alert-info\" style=\"border-radius: 10px;\">\n",
    "The following section imports and initializes necessary functions and configurations. \n",
    "It must be executed once for each notebook before running any of cells.</div>"
   ]
  },
  {
   "cell_type": "code",
   "execution_count": null,
   "id": "likely-fitness",
   "metadata": {},
   "outputs": [],
   "source": [
    "%run ../src/init.py"
   ]
  },
  {
   "cell_type": "markdown",
   "id": "behavioral-vision",
   "metadata": {},
   "source": [
    "##  Register an Application Entity with a predefined originator\n",
    "\n",
    "For the exercises we will register an Application Entity under which we will create the other resources. We will again use Alice's \\<AE> for this."
   ]
  },
  {
   "cell_type": "code",
   "execution_count": null,
   "id": "collaborative-timer",
   "metadata": {},
   "outputs": [],
   "source": [
    "CREATE (                                       # CREATE request\n",
    "    target                  = f'{cseRN}',      # Create the <AE> directly under the CSEBase\n",
    "    originator              = 'CAlice',        # Request's originator (mandatory)\n",
    "    requestIdentifier       = '123',           # Request identifier (mandatory)\n",
    "    releaseVersionIndicator = '3',             # Request's release version indicator (mandatory)\n",
    "    resourceType            = 2,               # The request creates an <AE> resource\n",
    "    \n",
    "    # Request Content\n",
    "    content = {\n",
    "        'm2m:ae': {\n",
    "            'rn': 'aeAlice',                   # Give the <AE> resource the name 'aeAlice'\n",
    "            'api': 'NnbAE1',                   # An arbitrary App-ID\n",
    "            'rr': False,                       # No need for request reachability\n",
    "            'srv': [ '3' ]                     # Supported release version is 3\n",
    "\n",
    "        }\n",
    "    }\n",
    ")"
   ]
  },
  {
   "cell_type": "markdown",
   "id": "dried-rogers",
   "metadata": {},
   "source": [
    "<div class=\"alert alert-block alert-info\" style=\"border-radius: 10px;\">\n",
    "You might receive an error message if you haven't deregistered the Application Entity in a previous exercise. If this is the case then don't worry about it, we will just reuse that &lt;AE> resource.\n",
    "</div>\n",
    "\n",
    "## Create a Container resource under Alice's \\<AE>\n",
    "\n",
    "The following request creates a \\<container> resource under Alice's \\<AE>. We also will use this resource in the next exercises.\n",
    "\n",
    "<div class=\"alert alert-block alert-success\" style=\"border-radius: 10px\">\n",
    "The &lt;cnt> resource looks like a very simple resource type. In its simplest form, when it is used as an element to construct a data structurem this is true, but later on you will see that it can help you to manage your data very easily.\n",
    "</div>"
   ]
  },
  {
   "cell_type": "code",
   "execution_count": null,
   "id": "historical-jackson",
   "metadata": {},
   "outputs": [],
   "source": [
    "CREATE (                                            # CREATE request\n",
    "    target                  = f'{cseRN}/aeAlice',   # Create a <cnt> under the <AE>\n",
    "    originator              = 'CAlice',             # Request's originator (mandatory)\n",
    "    requestIdentifier       = '123',                # Request identifier (mandatory)\n",
    "    releaseVersionIndicator = '3',                  # Request's release version indicator (mandatory)\n",
    "    resourceType            = 3,                    # The request creates an <cnt> resource\n",
    "    \n",
    "    # Request Content\n",
    "    content = {\n",
    "        \"m2m:cnt\": {\n",
    "            \"rn\":\"container\"                        # Give the <cnt> resource the name 'container'\n",
    "        }\n",
    "    }\n",
    ")"
   ]
  },
  {
   "cell_type": "markdown",
   "id": "inside-schema",
   "metadata": {},
   "source": [
    "<div class=\"alert alert-block alert-success\" style=\"border-radius: 10px\">\n",
    "When you take a closer look at the newly created &lt;cnt> resource you will notice two additional resources: <i>la</i> (for \"latest\") and <i>ol</i> (for \"oldest\"). These two so-called \"virtual\" resources were added by the CSE and will be further explained in the next exercise.\n",
    "</div>"
   ]
  }
 ],
 "metadata": {
  "kernelspec": {
   "display_name": "Python 3",
   "language": "python",
   "name": "python3"
  },
  "language_info": {
   "codemirror_mode": {
    "name": "ipython",
    "version": 3
   },
   "file_extension": ".py",
   "mimetype": "text/x-python",
   "name": "python",
   "nbconvert_exporter": "python",
   "pygments_lexer": "ipython3",
   "version": "3.8.2"
  }
 },
 "nbformat": 4,
 "nbformat_minor": 5
}
