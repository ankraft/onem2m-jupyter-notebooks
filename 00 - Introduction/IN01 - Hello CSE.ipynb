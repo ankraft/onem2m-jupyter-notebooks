{
 "cells": [
  {
   "cell_type": "markdown",
   "metadata": {},
   "source": [
    "# Hello, CSE - First Contact\n",
    "This notebook shows the the first basic interactions with a CSE using a RETRIEVE request to get the root \\<CSEBase> resource. It also explains some of the basics when working with these notebooks.\n",
    "\n",
    "- Introduction to oneM2M requests\n",
    "- RETRIEVE the \\<CSEBase> resource\n",
    "\n",
    "## Intitialization\n",
    "<div class=\"alert alert-block alert-info\" style=\"border-radius: 10px;\">\n",
    "The following section imports and initializes necessary functions and configurations. \n",
    "It must be executed once for each notebook before running any of cells.\n",
    "<br/>\n",
    "</div>"
   ]
  },
  {
   "cell_type": "code",
   "execution_count": 1,
   "metadata": {},
   "outputs": [
    {
     "data": {
      "text/markdown": [
       "<span style='color:green'>**Configuration Ready**</span>"
      ],
      "text/plain": [
       "<IPython.core.display.Markdown object>"
      ]
     },
     "metadata": {},
     "output_type": "display_data"
    }
   ],
   "source": [
    "%run ../src/init.py"
   ]
  },
  {
   "cell_type": "markdown",
   "metadata": {},
   "source": [
    "## Retrieve the \\<CSEBase> resource\n",
    "This first exercise retrieves the \\<CSEBase> resource from the CSE. \n",
    "\n",
    "<div class=\"alert alert-block alert-success\" style=\"border-radius: 10px\">\n",
    "The &lt;CSEBase> resource type represents the root of the resource tree as well as certain aspects of the CSE installation itself. This includes, for example, the type of CSE (IN-CSE, MN-CSE, or ASN-CSE), the supported resource types, and the supported content serializations. All other resources are located under this root resource.\n",
    "</div>\n",
    "\n",
    "\n",
    "\n",
    "<div class=\"alert alert-block alert-info\" style=\"border-radius: 10px;\">\n",
    "\n",
    "When you run the following cell the request is made. In the cell output details about the request and response as well as the current resource tree are presented. The output could be lengthy, so please scroll down.\n",
    "\n",
    "After the request returns you may hover your mouse over parameters, attributes and some of the values to see further information about them.\n",
    "\n",
    "<b>Note</b>: If you see an error message that looks like program code then, most likely, you forgot to run the initialization cell above.\n",
    "</div>\n"
   ]
  },
  {
   "cell_type": "code",
   "execution_count": 2,
   "metadata": {
    "scrolled": false
   },
   "outputs": [
    {
     "data": {
      "text/markdown": [
       "---\n",
       "### HTTP Request"
      ],
      "text/plain": [
       "<IPython.core.display.Markdown object>"
      ]
     },
     "metadata": {},
     "output_type": "display_data"
    },
    {
     "data": {
      "text/markdown": [
       "**http://localhost:8080/cse-in**"
      ],
      "text/plain": [
       "<IPython.core.display.Markdown object>"
      ]
     },
     "metadata": {},
     "output_type": "display_data"
    },
    {
     "data": {
      "text/markdown": [
       "\n",
       "| HTTP Header | oneM2M Parameter | Value |\n",
       "|:---|:---|:---|\n",
       "| [X-M2M-Origin](#_blank \"Originator - The request's 'From' parameter. It represents the identity of the entity who makes the request. Mandatory in the request and response.\") | From | CAdmin |\n",
       "| [X-M2M-RI](#_blank \"Request Identifier - Used to uniquely identify a request. Mandatory in the request and response.\") | Request Identifier | 123 |\n",
       "| [X-M2M-RVI](#_blank \"Release Version Indicator - The requester indicates the release version of the oneM2M specification. Mandatory in the request.\") | Release Version Indicator | 3 |\n",
       "| [Content-Type](#_blank \"Any HTTP request or response with content shall include the Content-type header set to one of 'application/xml', 'application/json', or the oneM2M defined media types\") |  | application/json |\n",
       "| [Accept](#_blank \"The Originator may use the Accept header to indicate which media types are acceptable for the response\") |  | application/json |\n"
      ],
      "text/plain": [
       "<IPython.core.display.Markdown object>"
      ]
     },
     "metadata": {},
     "output_type": "display_data"
    },
    {
     "data": {
      "text/markdown": [
       "---\n",
       "### HTTP Response"
      ],
      "text/plain": [
       "<IPython.core.display.Markdown object>"
      ]
     },
     "metadata": {},
     "output_type": "display_data"
    },
    {
     "data": {
      "text/markdown": [
       "<span style='color:green'>200 (OK)</span>"
      ],
      "text/plain": [
       "<IPython.core.display.Markdown object>"
      ]
     },
     "metadata": {},
     "output_type": "display_data"
    },
    {
     "data": {
      "text/markdown": [
       "\n",
       "| HTTP Header | oneM2M Parameter | Value |\n",
       "|:---|:---|:---|\n",
       "| [X-M2M-RSC](#_blank \"Result Status Code - The request's extended result status code. Mandatory in the response.\") | Result Status Code | [2000](#_blank \"OK - The request succeeded\") |\n",
       "| [X-M2M-RI](#_blank \"Request Identifier - Used to uniquely identify a request. Mandatory in the request and response.\") | Request Identifier | 123 |\n",
       "| [X-M2M-RVI](#_blank \"Release Version Indicator - The requester indicates the release version of the oneM2M specification. Mandatory in the request.\") | Release Version Indicator | 3 |\n",
       "| [Content-Type](#_blank \"Any HTTP request or response with content shall include the Content-type header set to one of 'application/xml', 'application/json', or the oneM2M defined media types\") |  | application/json |\n",
       "| [Date](#_blank \"The response's date in UTC/GMT\") |  | Mon, 08 Mar 2021 18:12:08 GMT |\n"
      ],
      "text/plain": [
       "<IPython.core.display.Markdown object>"
      ]
     },
     "metadata": {},
     "output_type": "display_data"
    },
    {
     "data": {
      "text/markdown": [
       "\n",
       "**Result Content**\n"
      ],
      "text/plain": [
       "<IPython.core.display.Markdown object>"
      ]
     },
     "metadata": {},
     "output_type": "display_data"
    },
    {
     "data": {
      "text/markdown": [
       "<span style='font-family: monospace;'>{</span>  \n",
       "<span style='font-family: monospace;'>&nbsp;&nbsp;&nbsp;&nbsp;\"[m2m:cb](#_blank \"CSEbase\n",
       "A \\<CSEBase> resource represents a CSE. It is the root for all resources that are residing in the CSE.\")\": {</span>  \n",
       "<span style='font-family: monospace;'>&nbsp;&nbsp;&nbsp;&nbsp;&nbsp;&nbsp;&nbsp;&nbsp;\"[ty](#_blank \"resource type\n",
       "This read-only attribute identifies the type of the resource. Each resource has a resourceType attribute. Mandatory.\")\": 5,</span>  \n",
       "<span style='font-family: monospace;'>&nbsp;&nbsp;&nbsp;&nbsp;&nbsp;&nbsp;&nbsp;&nbsp;\"[ri](#_blank \"resource identifier\n",
       "An identifier for the resource that is used for 'non-hierarchical addressing method' and uniquely identifies a resource. It is unique in that CSE.\")\": \"id-in\",</span>  \n",
       "<span style='font-family: monospace;'>&nbsp;&nbsp;&nbsp;&nbsp;&nbsp;&nbsp;&nbsp;&nbsp;\"[rn](#_blank \"resource name\n",
       "The name for the resource that is used for 'hierarchical addressing method' to represent the parent-child relationships of resources. If left out in creation requests, the CSE assigns a unique resource name on its own. Mandatory.\")\": \"cse-in\",</span>  \n",
       "<span style='font-family: monospace;'>&nbsp;&nbsp;&nbsp;&nbsp;&nbsp;&nbsp;&nbsp;&nbsp;\"[csi](#_blank \"CSE identifier\n",
       "A CSE is identified by a unique identifier, the CSE-ID, when instantiated within an M2M Node in the M2M System. The CSE-ID in a resource identifier (e.g. the To parameter) indicates the Hosting CSE of the resource. Mandatory.\")\": \"/id-in\",</span>  \n",
       "<span style='font-family: monospace;'>&nbsp;&nbsp;&nbsp;&nbsp;&nbsp;&nbsp;&nbsp;&nbsp;\"[csz](#_blank \"content serializations\n",
       "The list of supported serializations of the Content primitive parameter for receiving a request from its registrants (e.g. XML, JSON). The list is ordered so that the most preferred format comes first. Optional.\")\": [</span>  \n",
       "<span style='font-family: monospace;'>&nbsp;&nbsp;&nbsp;&nbsp;&nbsp;&nbsp;&nbsp;&nbsp;&nbsp;&nbsp;&nbsp;&nbsp;\"application/json\",</span>  \n",
       "<span style='font-family: monospace;'>&nbsp;&nbsp;&nbsp;&nbsp;&nbsp;&nbsp;&nbsp;&nbsp;&nbsp;&nbsp;&nbsp;&nbsp;\"application/cbor\"</span>  \n",
       "<span style='font-family: monospace;'>&nbsp;&nbsp;&nbsp;&nbsp;&nbsp;&nbsp;&nbsp;&nbsp;],</span>  \n",
       "<span style='font-family: monospace;'>&nbsp;&nbsp;&nbsp;&nbsp;&nbsp;&nbsp;&nbsp;&nbsp;\"[ct](#_blank \"creation time\n",
       "Time/date of creation of the resource. This read-only attribute is assigned by the CSE at the time when the resource is locally created. Mandatory.\")\": \"20210307T215037,293382\",</span>  \n",
       "<span style='font-family: monospace;'>&nbsp;&nbsp;&nbsp;&nbsp;&nbsp;&nbsp;&nbsp;&nbsp;\"[lt](#_blank \"last modified time\n",
       "Last modification time/date of the resource. The attribute is set by the CSE when the resource is created, and it is updated when the resource is updated.\")\": \"20210307T215037,293382\",</span>  \n",
       "<span style='font-family: monospace;'>&nbsp;&nbsp;&nbsp;&nbsp;&nbsp;&nbsp;&nbsp;&nbsp;\"[pi](#_blank \"parent identifier\n",
       "The resourceID of the parent of this resource. The value of this attribute is an empty string for the <CSEBase> resource type.\")\": \"\",</span>  \n",
       "<span style='font-family: monospace;'>&nbsp;&nbsp;&nbsp;&nbsp;&nbsp;&nbsp;&nbsp;&nbsp;\"[rr](#_blank \"request reachability\n",
       "This attribute indicates whether a resource can receive requests. Mandatory\")\": false,</span>  \n",
       "<span style='font-family: monospace;'>&nbsp;&nbsp;&nbsp;&nbsp;&nbsp;&nbsp;&nbsp;&nbsp;\"[srt](#_blank \"supported resource types\n",
       "List of oneM2M release versions which are supported by the CSE. Mandatory.\")\": [</span>  \n",
       "<span style='font-family: monospace;'>&nbsp;&nbsp;&nbsp;&nbsp;&nbsp;&nbsp;&nbsp;&nbsp;&nbsp;&nbsp;&nbsp;&nbsp;1,</span>  \n",
       "<span style='font-family: monospace;'>&nbsp;&nbsp;&nbsp;&nbsp;&nbsp;&nbsp;&nbsp;&nbsp;&nbsp;&nbsp;&nbsp;&nbsp;2,</span>  \n",
       "<span style='font-family: monospace;'>&nbsp;&nbsp;&nbsp;&nbsp;&nbsp;&nbsp;&nbsp;&nbsp;&nbsp;&nbsp;&nbsp;&nbsp;3,</span>  \n",
       "<span style='font-family: monospace;'>&nbsp;&nbsp;&nbsp;&nbsp;&nbsp;&nbsp;&nbsp;&nbsp;&nbsp;&nbsp;&nbsp;&nbsp;4,</span>  \n",
       "<span style='font-family: monospace;'>&nbsp;&nbsp;&nbsp;&nbsp;&nbsp;&nbsp;&nbsp;&nbsp;&nbsp;&nbsp;&nbsp;&nbsp;5,</span>  \n",
       "<span style='font-family: monospace;'>&nbsp;&nbsp;&nbsp;&nbsp;&nbsp;&nbsp;&nbsp;&nbsp;&nbsp;&nbsp;&nbsp;&nbsp;9,</span>  \n",
       "<span style='font-family: monospace;'>&nbsp;&nbsp;&nbsp;&nbsp;&nbsp;&nbsp;&nbsp;&nbsp;&nbsp;&nbsp;&nbsp;&nbsp;13,</span>  \n",
       "<span style='font-family: monospace;'>&nbsp;&nbsp;&nbsp;&nbsp;&nbsp;&nbsp;&nbsp;&nbsp;&nbsp;&nbsp;&nbsp;&nbsp;14,</span>  \n",
       "<span style='font-family: monospace;'>&nbsp;&nbsp;&nbsp;&nbsp;&nbsp;&nbsp;&nbsp;&nbsp;&nbsp;&nbsp;&nbsp;&nbsp;16,</span>  \n",
       "<span style='font-family: monospace;'>&nbsp;&nbsp;&nbsp;&nbsp;&nbsp;&nbsp;&nbsp;&nbsp;&nbsp;&nbsp;&nbsp;&nbsp;17,</span>  \n",
       "<span style='font-family: monospace;'>&nbsp;&nbsp;&nbsp;&nbsp;&nbsp;&nbsp;&nbsp;&nbsp;&nbsp;&nbsp;&nbsp;&nbsp;23,</span>  \n",
       "<span style='font-family: monospace;'>&nbsp;&nbsp;&nbsp;&nbsp;&nbsp;&nbsp;&nbsp;&nbsp;&nbsp;&nbsp;&nbsp;&nbsp;28,</span>  \n",
       "<span style='font-family: monospace;'>&nbsp;&nbsp;&nbsp;&nbsp;&nbsp;&nbsp;&nbsp;&nbsp;&nbsp;&nbsp;&nbsp;&nbsp;58,</span>  \n",
       "<span style='font-family: monospace;'>&nbsp;&nbsp;&nbsp;&nbsp;&nbsp;&nbsp;&nbsp;&nbsp;&nbsp;&nbsp;&nbsp;&nbsp;10001,</span>  \n",
       "<span style='font-family: monospace;'>&nbsp;&nbsp;&nbsp;&nbsp;&nbsp;&nbsp;&nbsp;&nbsp;&nbsp;&nbsp;&nbsp;&nbsp;10002,</span>  \n",
       "<span style='font-family: monospace;'>&nbsp;&nbsp;&nbsp;&nbsp;&nbsp;&nbsp;&nbsp;&nbsp;&nbsp;&nbsp;&nbsp;&nbsp;10003,</span>  \n",
       "<span style='font-family: monospace;'>&nbsp;&nbsp;&nbsp;&nbsp;&nbsp;&nbsp;&nbsp;&nbsp;&nbsp;&nbsp;&nbsp;&nbsp;10004,</span>  \n",
       "<span style='font-family: monospace;'>&nbsp;&nbsp;&nbsp;&nbsp;&nbsp;&nbsp;&nbsp;&nbsp;&nbsp;&nbsp;&nbsp;&nbsp;10009,</span>  \n",
       "<span style='font-family: monospace;'>&nbsp;&nbsp;&nbsp;&nbsp;&nbsp;&nbsp;&nbsp;&nbsp;&nbsp;&nbsp;&nbsp;&nbsp;10013,</span>  \n",
       "<span style='font-family: monospace;'>&nbsp;&nbsp;&nbsp;&nbsp;&nbsp;&nbsp;&nbsp;&nbsp;&nbsp;&nbsp;&nbsp;&nbsp;10014,</span>  \n",
       "<span style='font-family: monospace;'>&nbsp;&nbsp;&nbsp;&nbsp;&nbsp;&nbsp;&nbsp;&nbsp;&nbsp;&nbsp;&nbsp;&nbsp;10016,</span>  \n",
       "<span style='font-family: monospace;'>&nbsp;&nbsp;&nbsp;&nbsp;&nbsp;&nbsp;&nbsp;&nbsp;&nbsp;&nbsp;&nbsp;&nbsp;10028,</span>  \n",
       "<span style='font-family: monospace;'>&nbsp;&nbsp;&nbsp;&nbsp;&nbsp;&nbsp;&nbsp;&nbsp;&nbsp;&nbsp;&nbsp;&nbsp;10058</span>  \n",
       "<span style='font-family: monospace;'>&nbsp;&nbsp;&nbsp;&nbsp;&nbsp;&nbsp;&nbsp;&nbsp;],</span>  \n",
       "<span style='font-family: monospace;'>&nbsp;&nbsp;&nbsp;&nbsp;&nbsp;&nbsp;&nbsp;&nbsp;\"[srv](#_blank \"supported release versions\n",
       "An array that specifies the supported oneM2M specification releases. Mandatory\")\": [</span>  \n",
       "<span style='font-family: monospace;'>&nbsp;&nbsp;&nbsp;&nbsp;&nbsp;&nbsp;&nbsp;&nbsp;&nbsp;&nbsp;&nbsp;&nbsp;\"1\",</span>  \n",
       "<span style='font-family: monospace;'>&nbsp;&nbsp;&nbsp;&nbsp;&nbsp;&nbsp;&nbsp;&nbsp;&nbsp;&nbsp;&nbsp;&nbsp;\"2\",</span>  \n",
       "<span style='font-family: monospace;'>&nbsp;&nbsp;&nbsp;&nbsp;&nbsp;&nbsp;&nbsp;&nbsp;&nbsp;&nbsp;&nbsp;&nbsp;\"2a\",</span>  \n",
       "<span style='font-family: monospace;'>&nbsp;&nbsp;&nbsp;&nbsp;&nbsp;&nbsp;&nbsp;&nbsp;&nbsp;&nbsp;&nbsp;&nbsp;\"3\"</span>  \n",
       "<span style='font-family: monospace;'>&nbsp;&nbsp;&nbsp;&nbsp;&nbsp;&nbsp;&nbsp;&nbsp;],</span>  \n",
       "<span style='font-family: monospace;'>&nbsp;&nbsp;&nbsp;&nbsp;&nbsp;&nbsp;&nbsp;&nbsp;\"[poa](#_blank \"point of access\n",
       "Represents the list of physical addresses to be used by remote CSEs to connect to a CSE or AE (e.g. IP address, FQDN). Mandatory for the CSE, optional for AE and CSERemote.\")\": [</span>  \n",
       "<span style='font-family: monospace;'>&nbsp;&nbsp;&nbsp;&nbsp;&nbsp;&nbsp;&nbsp;&nbsp;&nbsp;&nbsp;&nbsp;&nbsp;\"http://127.0.0.1:8080\"</span>  \n",
       "<span style='font-family: monospace;'>&nbsp;&nbsp;&nbsp;&nbsp;&nbsp;&nbsp;&nbsp;&nbsp;],</span>  \n",
       "<span style='font-family: monospace;'>&nbsp;&nbsp;&nbsp;&nbsp;&nbsp;&nbsp;&nbsp;&nbsp;\"[cst](#_blank \"CSE type\n",
       "Indicates the type of CSE represented by the created resource. Mandatory for an IN-CSE.\")\": 1</span>  \n",
       "<span style='font-family: monospace;'>&nbsp;&nbsp;&nbsp;&nbsp;}</span>  \n",
       "<span style='font-family: monospace;'>}</span>  \n"
      ],
      "text/plain": [
       "<IPython.core.display.Markdown object>"
      ]
     },
     "metadata": {},
     "output_type": "display_data"
    },
    {
     "data": {
      "text/markdown": [
       "---\n",
       "### Current Resource Tree"
      ],
      "text/plain": [
       "<IPython.core.display.Markdown object>"
      ]
     },
     "metadata": {},
     "output_type": "display_data"
    },
    {
     "data": {
      "text/markdown": [
       "<span style='font-family: monospace;'>cse-in -> [m2m:cb](#_blank \"CSEbase\n",
       "A \\<CSEBase> resource represents a CSE. It is the root for all resources that are residing in the CSE.\") | ri=id-in | csi=/id-in                                                                            </span>  \n",
       "<span style='font-family: monospace;'>├── CAdmin -> [m2m:ae](#_blank \"Application Entity\n",
       "An entity in the application layer that implements an M2M application service logic.\") | ri=CAdmin                                                                                    </span>  \n",
       "<span style='font-family: monospace;'>├── aeAlice -> [m2m:ae](#_blank \"Application Entity\n",
       "An entity in the application layer that implements an M2M application service logic.\") | ri=CAlice                                                                                   </span>  \n",
       "<span style='font-family: monospace;'>│   ├── container -> [m2m:cnt](#_blank \"Container\n",
       "The \\<container> resource represents a container for data instances. It is used to share information with other entities and potentially to track the data. A \\<container> resource has no associated content. It has only attributes and child resources.\") | ri=cnt4721700925236495637                                                            </span>  \n",
       "<span style='font-family: monospace;'>│   │   ├── la                                                                                                      </span>  \n",
       "<span style='font-family: monospace;'>│   │   └── ol                                                                                                      </span>  \n",
       "<span style='font-family: monospace;'>│   └── acp -> [m2m:acp](#_blank \"Access Control Policy\n",
       "The Access Control Policies (ACPs) is used by the CSE to control access to the resources and their attributes. It is designed to fit different access control models such as access control lists, role or attribute based access control.\") | ri=acp1176105057109255293                                                                  </span>  \n",
       "<span style='font-family: monospace;'>└── aeBob -> [m2m:ae](#_blank \"Application Entity\n",
       "An entity in the application layer that implements an M2M application service logic.\") | ri=CBob                                                                                       </span>  \n",
       "<span style='font-family: monospace;'></span>  \n"
      ],
      "text/plain": [
       "<IPython.core.display.Markdown object>"
      ]
     },
     "metadata": {},
     "output_type": "display_data"
    },
    {
     "data": {
      "text/markdown": [
       "---"
      ],
      "text/plain": [
       "<IPython.core.display.Markdown object>"
      ]
     },
     "metadata": {},
     "output_type": "display_data"
    }
   ],
   "source": [
    "RETRIEVE (                              # RETRIEVE request\n",
    "    target                  = cseRN,    # Target resource\n",
    "    originator              = 'CAdmin', # Request's originator (mandatory)\n",
    "    requestIdentifier       = '123',    # Request identifier (mandatory)\n",
    "    releaseVersionIndicator = '3'       # Request's release version indicator (mandatory)\n",
    ")"
   ]
  },
  {
   "cell_type": "markdown",
   "metadata": {},
   "source": [
    "&nbsp;"
   ]
  }
 ],
 "metadata": {
  "kernelspec": {
   "display_name": "Python 3",
   "language": "python",
   "name": "python3"
  },
  "language_info": {
   "codemirror_mode": {
    "name": "ipython",
    "version": 3
   },
   "file_extension": ".py",
   "mimetype": "text/x-python",
   "name": "python",
   "nbconvert_exporter": "python",
   "pygments_lexer": "ipython3",
   "version": "3.8.2"
  }
 },
 "nbformat": 4,
 "nbformat_minor": 4
}
