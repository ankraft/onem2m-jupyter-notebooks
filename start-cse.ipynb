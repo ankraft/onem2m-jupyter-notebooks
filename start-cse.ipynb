{
 "cells": [
  {
   "cell_type": "markdown",
   "metadata": {},
   "source": [
    "# Running the CSE\n",
    "\n",
    "Executing the next command cell will start a CSE inside this notebook.\n",
    "\n",
    "<div class=\"alert alert-block alert-info\">\n",
    "If there is an error message that says <mark>Address already in use</mark> then a CSE instance is already running (e.g. in another notebook).\n",
    "</div>\n",
    "\n",
    "\n",
    "\n",
    "## Stopping the CSE\n",
    "\n",
    "Only one instance of the CSE can run at a time. To stop it you need to __*restart*__ the notebook's kernel, e.g. from the *Kernel* menu.\n",
    "\n",
    "<div class=\"alert alert-block alert-info\">\n",
    "Please be patient. The CSE might take a few seconds to shutdown.\n",
    "</div>\n",
    "\n",
    "\n",
    "## CSE WebUI\n",
    "\n",
    "The CSE has a WebUI that allows you to see the CSE's resource tree and resources' details.\n",
    "\n",
    "It is available at [http://localhost:8080/webui](http://localhost:8080/webui) .\n",
    "\n",
    "<div class=\"alert alert-block alert-info\">\n",
    "<b>Note</b>: If you are running these notebooks from inside a hosting service, such as Binder, the WebUI cannot be accessed.\n",
    "</div>\n",
    "\n",
    "\n",
    "\n",
    "## Further information about the CSE\n",
    "\n",
    "These notebooks use the [ACME] CSE, which is available here: [https://github.com/ankraft/ACME-oneM2M-CSE](https://github.com/ankraft/ACME-oneM2M-CSE).\n",
    "\n"
   ]
  },
  {
   "cell_type": "code",
   "execution_count": null,
   "metadata": {
    "hide_input": false,
    "scrolled": true
   },
   "outputs": [],
   "source": [
    "# change to the CSE's directory and start the CSE\n",
    "%cd -q tools/ACME\n",
    "%run ./acme.py --headless\n",
    "%cd -q ../.."
   ]
  },
  {
   "cell_type": "markdown",
   "metadata": {},
   "source": [
    "&nbsp;"
   ]
  }
 ],
 "metadata": {
  "kernelspec": {
   "display_name": "Python 3",
   "language": "python",
   "name": "python3"
  },
  "language_info": {
   "codemirror_mode": {
    "name": "ipython",
    "version": 3
   },
   "file_extension": ".py",
   "mimetype": "text/x-python",
   "name": "python",
   "nbconvert_exporter": "python",
   "pygments_lexer": "ipython3",
   "version": "3.8.2"
  }
 },
 "nbformat": 4,
 "nbformat_minor": 2
}
