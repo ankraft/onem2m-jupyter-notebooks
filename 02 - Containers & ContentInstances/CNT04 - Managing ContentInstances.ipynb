{
 "cells": [
  {
   "cell_type": "markdown",
   "id": "radical-worthy",
   "metadata": {},
   "source": [
    "# Container - Managing ContentInstances\n",
    "\n",
    "\n",
    "In this notebook you will learn how to use the extra management functionalities of the \\<container> resource that will help you to automatically manage the number of \\<contentInstance> resources it.\n",
    "\n",
    "In this notebook we will continue to use the resource structure created in the previous notebooks of this lecture.\n",
    "\n",
    "\n",
    "- Limit the number of \\<contentInstance> resources \n",
    "- Limit the total data size of \\<contentInstance> resource\n",
    "\n",
    "\n",
    "## Intitialization\n",
    "\n",
    "<div class=\"alert alert-block alert-info\" style=\"border-radius: 10px;\">\n",
    "The following section imports and initializes necessary functions and configurations. \n",
    "It must be executed once for each notebook before running any of cells.</div>"
   ]
  },
  {
   "cell_type": "code",
   "execution_count": null,
   "id": "driven-agent",
   "metadata": {},
   "outputs": [],
   "source": [
    "%run ../src/init.py"
   ]
  },
  {
   "cell_type": "markdown",
   "id": "stretch-champagne",
   "metadata": {},
   "source": [
    "## Limit the number of \\<contentInstance> resources\n",
    "\n",
    "In a previous notebook Alice added a number of \\<contentInstance> resources to the \\<container>. Now she will prepare the \\<container> so that it will limit the number of \\<contentInstance> resources automatically.\n",
    "\n",
    "For this she sends the following UPDATE request to the \\<container>.\n",
    "\n",
    "<div class=\"alert alert-block alert-success\" style=\"border-radius: 10px\">\n",
    "Setting the <i>maxNrOfInstance</i> attribute will enable a feature of the &lt;container> resource that automatically limits the number of instances to the value provided.\n",
    "</div>"
   ]
  },
  {
   "cell_type": "code",
   "execution_count": null,
   "id": "placed-jewelry",
   "metadata": {},
   "outputs": [],
   "source": [
    "UPDATE (                                                    # UPDATE request\n",
    "    target                  = f'{cseRN}/aeAlice/container', # Update the <cnt>\n",
    "    originator              = 'CAlice',                     # Request's originator (mandatory)\n",
    "    requestIdentifier       = '123',                        # Request identifier (mandatory)\n",
    "    releaseVersionIndicator = '3',                          # Request's release version indicator (mandatory)\n",
    "    \n",
    "    # Request Content\n",
    "    content = {\n",
    "        \"m2m:cnt\": {\n",
    "            \"mni\": 2                                        # Limit the number of <cin> to 2\n",
    "        }\n",
    "    }\n",
    ")"
   ]
  },
  {
   "cell_type": "markdown",
   "id": "prime-theology",
   "metadata": {},
   "source": [
    "The requests succeeds but not much should happen.\n",
    "\n",
    "## Add a third \\<contentInstance> resource to the \\<container>\n",
    "\n",
    "With the following request Alice adds a third \\<contentInstance> resource to the \\<container> resource."
   ]
  },
  {
   "cell_type": "code",
   "execution_count": null,
   "id": "present-reform",
   "metadata": {},
   "outputs": [],
   "source": [
    "CREATE (                                                      # CREATE request\n",
    "    target                  = f'{cseRN}/aeAlice/container',   # Create the <cin> under aeAlice's <cnt>\n",
    "    originator              = 'CAlice',                       # Request's originator (mandatory)\n",
    "    requestIdentifier       = '123',                          # Request identifier (mandatory)\n",
    "    releaseVersionIndicator = '3',                            # Request's release version indicator (mandatory)\n",
    "    resourceType            = tyContentInstance,              # The request creates a <cin> resource\n",
    "    \n",
    "    # Request Content\n",
    "    content = {\n",
    "        \"m2m:cin\": {\n",
    "            \"rn\" : \"three\",                                   # Assign a nice resource name so that we can access the resource easier\n",
    "            \"con\": \"hello, world\"                             # Only add some content\n",
    "        }\n",
    "    }\n",
    ")"
   ]
  },
  {
   "cell_type": "markdown",
   "id": "transsexual-career",
   "metadata": {},
   "source": [
    "The request succeeded. If you have a closer look a the resource tree you will notice that there are still only two \\<contentInstance> resources (\"two\" and \"three\").\n",
    "\n",
    "<div class=\"alert alert-block alert-success\" style=\"border-radius: 10px\">\n",
    "When the new &lt;contentInstance> resource was added the limit of two resource was exceeded. The CSE automatically removed the oldest resource \"one\" from the &lt;container> to fulfil the constraint defined by the <i>mni</i> attribute.\n",
    "</div>\n",
    "\n",
    "It would not matter if Alice would add more \\<contentInstance> resources, there would only be a maximum of two \\<contentInstance> resource at a time for this \\<container> resource.\n",
    "\n",
    "## Limit the total data size for a \\<container> resource\n",
    "\n",
    "With the following request Alice will now re-configure the \\<container> resource. Instead of the number of resources the limit should now be the total data size.\n",
    "\n",
    "<div class=\"alert alert-block alert-success\" style=\"border-radius: 10px\">\n",
    "The <i>maxByteSize</i> attribute will enable another feature of the &lt;container> resource. This will limit the number of &lt;contentInstance> resource by the total size of their data content.\n",
    "    \n",
    "In the following request the <i>mni</i> attribute will be removed by setting it to <i>null</i>. This is  done to keep the focus on the <i>mbs</i> attribute. Both attributes can easily be used to together.\n",
    "</div>\n",
    "\n"
   ]
  },
  {
   "cell_type": "code",
   "execution_count": null,
   "id": "adjustable-search",
   "metadata": {
    "scrolled": false
   },
   "outputs": [],
   "source": [
    "UPDATE (                                                    # UPDATE request\n",
    "    target                  = f'{cseRN}/aeAlice/container', # Update the <cnt>\n",
    "    originator              = 'CAlice',                     # Request's originator (mandatory)\n",
    "    requestIdentifier       = '123',                        # Request identifier (mandatory)\n",
    "    releaseVersionIndicator = '3',                          # Request's release version indicator (mandatory)\n",
    "    \n",
    "    # Request Content\n",
    "    content = {\n",
    "        \"m2m:cnt\": {\n",
    "            \"mni\": null,                                     # Remove the \"mni\" attribute from the <container>\n",
    "            \"mbs\": 25                                        # Limit the total content of <cin> to 2\n",
    "\n",
    "        }\n",
    "    }\n",
    ")"
   ]
  },
  {
   "cell_type": "markdown",
   "id": "mature-effectiveness",
   "metadata": {},
   "source": [
    "The request succeeds, and not much should have happened with our resource structure. Both \\<contentInstances> are still present, because their total size is less than 25 bytes.\n",
    "\n",
    "<div class=\"alert alert-block alert-success\" style=\"border-radius: 10px\">\n",
    "The total size of all the &lt;contentInstance> resources is available in the &lt;container>'s <i>cbs</i> attribute.\n",
    "</div>\n",
    "\n",
    "## Add a larger \\<contentInstance> resource\n",
    "\n",
    "Alice will add a \\<contentInstance> resource with a bigger message with the following request."
   ]
  },
  {
   "cell_type": "code",
   "execution_count": null,
   "id": "imperial-costume",
   "metadata": {
    "scrolled": false
   },
   "outputs": [],
   "source": [
    "CREATE (                                                      # CREATE request\n",
    "    target                  = f'{cseRN}/aeAlice/container',   # Create the <cin> under aeAlice's <cnt>\n",
    "    originator              = 'CAlice',                       # Request's originator (mandatory)\n",
    "    requestIdentifier       = '123',                          # Request identifier (mandatory)\n",
    "    releaseVersionIndicator = '3',                            # Request's release version indicator (mandatory)\n",
    "    resourceType            = tyContentInstance,              # The request creates a <cin> resource\n",
    "    \n",
    "    # Request Content\n",
    "    content = {\n",
    "        \"m2m:cin\": {\n",
    "            \"rn\" : \"four\",                                   # Assign a nice resource name so that we can access the resource easier\n",
    "            \"con\": \"hello, universe!!!!!!\"                   # Add bigger content\n",
    "        }\n",
    "    }\n",
    ")"
   ]
  },
  {
   "cell_type": "markdown",
   "id": "proof-berkeley",
   "metadata": {},
   "source": [
    "There is only one resource left, the \\<contentInstance> resource we just added. Its size is just under the limit and there was not enough room left for one of the other resources.\n",
    "\n",
    "What will happen if Alice adds an even bigger \\<contentInstance> resource?\n",
    "\n",
    "## Add a really big \\<contentInstance> resource\n",
    "\n",
    "Alice will add yet another \\<contentInstance> resource that will contain an even bigger message."
   ]
  },
  {
   "cell_type": "code",
   "execution_count": null,
   "id": "ecological-great",
   "metadata": {
    "scrolled": false
   },
   "outputs": [],
   "source": [
    "CREATE (                                                      # CREATE request\n",
    "    target                  = f'{cseRN}/aeAlice/container',   # Create the <cin> under aeAlice's <cnt>\n",
    "    originator              = 'CAlice',                       # Request's originator (mandatory)\n",
    "    requestIdentifier       = '123',                          # Request identifier (mandatory)\n",
    "    releaseVersionIndicator = '3',                            # Request's release version indicator (mandatory)\n",
    "    resourceType            = tyContentInstance,              # The request creates a <cin> resource\n",
    "    \n",
    "    # Request Content\n",
    "    content = {\n",
    "        \"m2m:cin\": {\n",
    "            \"rn\" : \"five\",                                   # Assign a nice resource name so that we can access the resource easier\n",
    "            \"con\": \"hello, universe and everything!!!!!!\"    # Add even bigger content\n",
    "        }\n",
    "    }\n",
    ")"
   ]
  },
  {
   "cell_type": "markdown",
   "id": "primary-custom",
   "metadata": {},
   "source": [
    "This request fails: The data in the \\<contentInstance> resource would exceed the limits of the \\<container> resource in any way. \n",
    "\n",
    "<div class=\"alert alert-block alert-success\" style=\"border-radius: 10px\">\n",
    "There is another constraint that is supported by the &lt;container> resource (but not shown in these exercises): the <i>maxInstanceAge</i> (or <i>mia</i>) attribute. With setting this attribute an AE can limit the lifetime of &lt;contentInstance> resources. The CSE automatically sets a timestamp to the resource after which it will be expired.\n",
    "</div>"
   ]
  }
 ],
 "metadata": {
  "kernelspec": {
   "display_name": "Python 3",
   "language": "python",
   "name": "python3"
  },
  "language_info": {
   "codemirror_mode": {
    "name": "ipython",
    "version": 3
   },
   "file_extension": ".py",
   "mimetype": "text/x-python",
   "name": "python",
   "nbconvert_exporter": "python",
   "pygments_lexer": "ipython3",
   "version": "3.8.2"
  }
 },
 "nbformat": 4,
 "nbformat_minor": 5
}
