{
 "cells": [
  {
   "cell_type": "markdown",
   "id": "horizontal-webmaster",
   "metadata": {},
   "source": [
    "# Access Control\n",
    "\n",
    "These notebooks introduce oneM2M access control policies.\n",
    "\n",
    "You should run these notebooks in order because they build on each other.\n",
    "\n",
    "\n",
    "\n",
    "<div style='display:flex;'>\n",
    "  <div style='flex:0 0 65%;margin:5px;'>\n",
    "    <ul>\n",
    "    <li><a href=\"AC01%20-%20Preparing%20Resources.ipynb\">AC01 - Preparing Resources</a><br/>Create two &lt;AE>'s and their resource structures.</li>\n",
    "    <li><a href=\"AC02%20-%20Creating%20an%20ACP%20Resource.ipynb\">AC02 - Creating and assigning an ACP Resource</a><br />Create an &lt;ACP> resource, and assign it to a &lt;container> resource.</li>  \n",
    "      <li><a href=\"AC03%20-%20How%20does%20Access%20Control%20work.ipynb\">AC03 - How does Access Control work</a><br />An introduction to oneM2M's access control with &lt;ACP> resources.</li>\n",
    "      <li><a href=\"AC04%20-%20Inheriting%20Permissions.ipynb\">AC04 - Inheriting Permissions</a><br />Inherit permissions from the parent resource.</li>\n",
    "      <li><a href=\"AC05%20-%20Assigning%20a%20Holder.ipynb\">AC05 - Assigning a Holder</a><br />Pass ownership of a resource to another originator.</li>\n",
    "      <li>TODO : Detele resources fro this lecture.</li>\n",
    "      </ul>\n",
    "  </div>\n",
    "  <div style='flex: 1;margin:auto;'><img src=\"../images/AC-start.png\">\n",
    "    </div>\n",
    "</div>"
   ]
  },
  {
   "cell_type": "markdown",
   "id": "personalized-mechanism",
   "metadata": {},
   "source": [
    "&nbsp;"
   ]
  }
 ],
 "metadata": {
  "kernelspec": {
   "display_name": "Python 3",
   "language": "python",
   "name": "python3"
  },
  "language_info": {
   "codemirror_mode": {
    "name": "ipython",
    "version": 3
   },
   "file_extension": ".py",
   "mimetype": "text/x-python",
   "name": "python",
   "nbconvert_exporter": "python",
   "pygments_lexer": "ipython3",
   "version": "3.8.2"
  }
 },
 "nbformat": 4,
 "nbformat_minor": 5
}
