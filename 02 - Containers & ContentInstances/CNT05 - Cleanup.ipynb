{
 "cells": [
  {
   "cell_type": "markdown",
   "id": "linear-pepper",
   "metadata": {},
   "source": [
    "# Container - Cleanup\n",
    "\n",
    "At the end of this lecture Alice wants to clean up everything, remove resources, and unregister her application.\n",
    "\n",
    "- Delete a \\<container> resource\n",
    "- Unregister/delete the \\<AE> and all its child resources\n",
    "\n",
    "## Intitialization\n",
    "\n",
    "<div class=\"alert alert-block alert-info\" style=\"border-radius: 10px;\">\n",
    "The following section imports and initializes necessary functions and configurations. \n",
    "It must be executed once for each notebook before running any of cells.\n",
    "<br/>\n",
    "    \n",
    "</div>"
   ]
  },
  {
   "cell_type": "code",
   "execution_count": null,
   "id": "virgin-screen",
   "metadata": {},
   "outputs": [],
   "source": [
    "%run ../src/init.py"
   ]
  },
  {
   "cell_type": "markdown",
   "id": "distinct-tulsa",
   "metadata": {},
   "source": [
    "## Delete the *humidity* \\<container> resource\n",
    "\n",
    "With the following DELETE request Alice deletes the *humidity* \\<container> resource:"
   ]
  },
  {
   "cell_type": "code",
   "execution_count": null,
   "id": "spectacular-belgium",
   "metadata": {},
   "outputs": [],
   "source": [
    "DELETE (                                                                # DELETE request\n",
    "    target                  = f'{cseRN}/aeAlice/aliceSensor/humidity',  # Delete the <Container>\n",
    "    originator              = 'CAlice',                                 # Request's originator (mandatory)\n",
    "    requestIdentifier       = '123',                                    # Request identifier (mandatory)\n",
    "    releaseVersionIndicator = '3'                                       # Request's release version indicator (mandatory)\n",
    ")"
   ]
  },
  {
   "cell_type": "markdown",
   "id": "brown-bacon",
   "metadata": {},
   "source": [
    "<div class=\"alert alert-block alert-success\" style=\"border-radius: 10px\">\n",
    "As we can see the DELETE request deletes the targeted &lt;Container> resource and all its child resources. This applies to all DELETE requests.\n",
    "</div>\n",
    "\n",
    "\n",
    "## Delete Alice's Application Entity\n",
    "\n",
    "Since Alice doesn't want to delete all the resourcs separately she will now unregister/delete the \\<AE> resource *aeAlice*. This will also delete the whole resource tree under that \\<AE> resource."
   ]
  },
  {
   "cell_type": "code",
   "execution_count": null,
   "id": "regulation-provincial",
   "metadata": {},
   "outputs": [],
   "source": [
    "DELETE (                                            # DELETE request\n",
    "    target                  = f'{cseRN}/aeAlice',   # Delete Alice's <AE>\n",
    "    originator              = 'CAlice',             # Request's originator (mandatory)\n",
    "    requestIdentifier       = '123',                # Request identifier (mandatory)\n",
    "    releaseVersionIndicator = '3'                   # Request's release version indicator (mandatory)\n",
    ")"
   ]
  },
  {
   "cell_type": "markdown",
   "id": "organizational-concert",
   "metadata": {},
   "source": [
    "&nbsp;"
   ]
  }
 ],
 "metadata": {
  "kernelspec": {
   "display_name": "Python 3",
   "language": "python",
   "name": "python3"
  },
  "language_info": {
   "codemirror_mode": {
    "name": "ipython",
    "version": 3
   },
   "file_extension": ".py",
   "mimetype": "text/x-python",
   "name": "python",
   "nbconvert_exporter": "python",
   "pygments_lexer": "ipython3",
   "version": "3.8.2"
  }
 },
 "nbformat": 4,
 "nbformat_minor": 5
}
