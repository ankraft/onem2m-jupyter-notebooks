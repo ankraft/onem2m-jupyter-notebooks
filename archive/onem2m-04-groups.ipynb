{
 "cells": [
  {
   "cell_type": "markdown",
   "metadata": {},
   "source": [
    "# oneM2M - Groups\n",
    "\n",
    "This notebook demonstrates how oneM2M resources can be organized into groups. &lt;Group> resources offer a so-called *fan-out point* that can be the target to address all resources of a group.\n",
    "\n",
    "- Create a second &lt;Container resource\n",
    "- Create a &lt;Group> resource with &lt;Container> resources\n",
    "- Add a &lt;ContentInstance> to the &lt;Group>'s containers\n",
    "\n",
    "## Intitialization\n",
    "The section does import necessary modules and configurations."
   ]
  },
  {
   "cell_type": "code",
   "execution_count": null,
   "metadata": {},
   "outputs": [],
   "source": [
    "%run init.py"
   ]
  },
  {
   "cell_type": "markdown",
   "metadata": {},
   "source": [
    "## Create a second &lt;Container> Resource\n",
    "\n",
    "First, we create a second &lt;Container> resource.\n"
   ]
  },
  {
   "cell_type": "code",
   "execution_count": null,
   "metadata": {},
   "outputs": [],
   "source": [
    "CREATE (                                           # CREATE request\n",
    "    url + '/Notebook-AE',\n",
    "    \n",
    "    # Request Headers\n",
    "    {\n",
    "        'X-M2M-Origin' : originator,               # Set the originator\n",
    "        'X-M2M-RI'     : '0',                      # Request identifier\n",
    "        'Accept'       : 'application/json',       # Response shall be JSON\n",
    "        'Content-Type' : 'application/json;ty=3'   # Content is JSON, and represents an <Container> resource\n",
    "    },\n",
    "    \n",
    "    # Request Body\n",
    "    {\n",
    "        \"m2m:cnt\": {\n",
    "            \"rn\":\"Container_2\"\n",
    "        }\n",
    "    }\n",
    ")"
   ]
  },
  {
   "cell_type": "markdown",
   "metadata": {},
   "source": [
    "## Create a &lt;Group> Resource\n",
    "\n",
    "Here, we create a &lt;Group> resource with the two &lt;Container> resources as components.\n",
    "\n",
    "- **mid** : Member IDs, this is a list of resource IDs of resources that will belong to the &lt;Group>. \n",
    "- **mnm** : The maximum number of member of a &lt;Group>.\n",
    "\n",
    "Note, that a &lt;Group> may contain resources of mixed type. Requests to the &lt;Group>'s fan-out point in general only affect fitting resources.\n"
   ]
  },
  {
   "cell_type": "code",
   "execution_count": null,
   "metadata": {},
   "outputs": [],
   "source": [
    "CREATE (                                           # CREATE request\n",
    "    url + '/Notebook-AE',\n",
    "    \n",
    "    # Request Headers\n",
    "    {\n",
    "        'X-M2M-Origin' : originator,               # Set the originator\n",
    "        'X-M2M-RI'     : '0',                      # Request identifier\n",
    "        'Accept'       : 'application/json',       # Response shall be JSON\n",
    "        'Content-Type' : 'application/json;ty=9'   # Content is JSON, and represents an <Group> resource\n",
    "    },\n",
    "    \n",
    "    # Request Body\n",
    "    '''\n",
    "    {\n",
    "        \"m2m:grp\": {\n",
    "            \"rn\": \"Group\",\n",
    "            \"mid\": [ \"%s/Notebook-AE/Container\", \"%s/Notebook-AE/Container_2\" ],\n",
    "            \"mnm\": 10\n",
    "        }\n",
    "    }\n",
    "    ''' % (basename, basename)\n",
    ")"
   ]
  },
  {
   "cell_type": "markdown",
   "metadata": {},
   "source": [
    "The response introduces some new attributes:\n",
    "\n",
    "- **mt** : Member type. This is the resource type of the member resources. The member type is *mixed\" in case the member resourtces are not all of the same type.\n",
    "- **cnm** : The current number of member of the &lt;Group> resource.\n",
    "- **mtv** : Member types validated. This read-only attribute indicates whether the hosting CSE validated the member resources.\n",
    "- **csy** : The consistency strategy determines how the CSE deals with the &lt;Group> resource if the member type validation fails.\n",
    "- **fopt** : The fan-out point is a virtual resource created by the CSE. It acts as a target for requests to the members of a &lt;Group> resource.\n",
    "\n",
    "\n",
    "## Add a &lt;ContentInstance> Resource to all &lt;Group> Resources\n",
    "The following request creates multiple &lt;ContentInstances> resources, one under each member of the &lt;Group> resource."
   ]
  },
  {
   "cell_type": "code",
   "execution_count": null,
   "metadata": {},
   "outputs": [],
   "source": [
    "CREATE (                                            # CREATE request\n",
    "    url + '/Notebook-AE/Group/fopt',\n",
    "    \n",
    "    # Request Headers\n",
    "    {\n",
    "        'X-M2M-Origin' : originator,               # Set the originator\n",
    "        'X-M2M-RI'     : '0',                      # Request identifier\n",
    "        'Accept'       : 'application/json',       # Response shall be JSON\n",
    "        'Content-Type' : 'application/json;ty=4'   # Content is JSON, and represents an <ContentInstance> resource\n",
    "    },\n",
    "    \n",
    "    # Request Body\n",
    "    {\n",
    "        \"m2m:cin\": {\n",
    "            \"cnf\": \"text/plain:0\",\n",
    "            \"con\": \"Hello, World!\"\n",
    "        }\n",
    "    }\n",
    ")"
   ]
  },
  {
   "cell_type": "markdown",
   "metadata": {},
   "source": [
    "The request returns all the created &lt;ContentInstnces>.\n",
    "\n",
    "- **agr** : This response is an Agregated Response, since the call results in multiple resources.\n",
    "- **rsp** : The list of responses.\n"
   ]
  }
 ],
 "metadata": {
  "kernelspec": {
   "display_name": "Python 3",
   "language": "python",
   "name": "python3"
  },
  "language_info": {
   "codemirror_mode": {
    "name": "ipython",
    "version": 3
   },
   "file_extension": ".py",
   "mimetype": "text/x-python",
   "name": "python",
   "nbconvert_exporter": "python",
   "pygments_lexer": "ipython3",
   "version": "3.8.2"
  }
 },
 "nbformat": 4,
 "nbformat_minor": 2
}
