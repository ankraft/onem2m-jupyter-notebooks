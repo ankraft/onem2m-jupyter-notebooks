{
 "cells": [
  {
   "cell_type": "markdown",
   "id": "welsh-convergence",
   "metadata": {},
   "source": [
    "\n",
    "# How does Authorization with \\<ACP>'s  Work?\n",
    "\n",
    "\n",
    "In general authorization of a request in oneM2M works like this:\n",
    "\n",
    "Most resource types have the *acpi* attribute defined. This attribute is a list of resource identifiers of *\\<ACP>* resources that define the access control rules for those resources.\n",
    "\n",
    "When a request is made to a target resource the CSE then checks the access control rules in all the referenced \\<ACP> resources. If it finds a rule that matches the originator and the operation (and possibly other parameters such as a time window or an IP address range) then the originator is granted access and the request can be performed. If no match is found then access is denied.\n",
    "\n",
    "The following figure shows this procedure.\n",
    "\n",
    "![](basicAccessControl.png)\n",
    "\n",
    "The next table presents some examples of requests to a resource *aResource* that references two \\<ACP> resources with one or two access control rules each.\n",
    "\n",
    "**Request 1** is granted access to *aResource* because the access control rule in \\<ACP> \"B\" matches the originator \"Bob\" and the operation RETRIEVE.\n",
    "\n",
    "**Request 2** is granted access to *aResource* because the second access control rule in \\<ACP> \"A\" matches the originator and the operation.\n",
    "\n",
    "**Request 3** is NOT granted access to *aResource* because no match can be found in any the \\<ACP>'s access control rules.\n",
    "\n",
    "**Request 4** is greanted access to *aResource* because first access control rule in the \\<ACP> \"A\" matches the originator \"Alice\" and the operation DELETE.\n",
    "\n",
    "![](acpExample.png)\n",
    "\n",
    "\n",
    "There are some exceptions to this procedure, such as that if no other access control is configured for a resource then as a fallback the creator will always have access to the resources it created. But in general using \\<ACP> resources is the most flexible way to grant resource access to other originators.\n",
    "\n",
    "\n"
   ]
  }
 ],
 "metadata": {
  "kernelspec": {
   "display_name": "Python 3",
   "language": "python",
   "name": "python3"
  },
  "language_info": {
   "codemirror_mode": {
    "name": "ipython",
    "version": 3
   },
   "file_extension": ".py",
   "mimetype": "text/x-python",
   "name": "python",
   "nbconvert_exporter": "python",
   "pygments_lexer": "ipython3",
   "version": "3.8.2"
  }
 },
 "nbformat": 4,
 "nbformat_minor": 5
}
