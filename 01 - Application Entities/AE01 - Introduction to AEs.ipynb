{
 "cells": [
  {
   "cell_type": "markdown",
   "id": "finnish-employment",
   "metadata": {},
   "source": [
    "# Introduction to oneM2M's Application Entities\n",
    "\n",
    "An *Application Entity*, or AE, can be, as the name suggests, regarded as an IoT application or service. It is an entity that implements the business logic of an IoT system that connects to and uses the commond service functions of a oneM2M CSE.\n",
    "\n",
    "An AE can reside on all parts of a oneM2M system, be it a complex analytics application on the infrastructure node, doing data aggregation on middle-nodes, or even be embeded on small IoT devices. In fact, the small software application that runs on the restricted hardware of an IoT device, and that implements a small part of the business logic and communicates with the rest of the oneM2M system, is an AE as well.\n",
    "\n",
    "\n",
    "Each instance of an application identified with a unique AE-Identifier (AE-ID).\n",
    "\n",
    "The following diagram shows the possible deployments of AEs on various nodes in a oneM2M infrastructures. They can run co-located on the same node as the CSE instances or on different execution environments alltogether. Application Entities can be hosted by a CSE on the same node, or, in the case of an *Application Dedicated Node* (ADN), must be hosted by the CSE of a different node.\n",
    " \n",
    " ![](AE_deployments.png)\n",
    "\n",
    "\n",
    "## Interworking Proxy Entity\n",
    "\n",
    "An *Interworking Proxy Application Entity*, or IPE, is a special Appliction Entity that acts as a mediator between the oneM2M and the non-oneM2M world. It can be used to connect, for example, a local field bus technology, an industry network, or even a whole different cloud technology to a oneM2M system.\n",
    "\n",
    " ![](IPE.png)\n",
    "\n",
    "\n",
    "The IPE does from oneM2M's point of view look like a normal AE. It connects via the *Mca* reference point. But it also implements all the necessary means to interwork with the external technology, which means it implements transformations of  data models, protocols, and necessary translations. This may be implemented and operated to work in both directions, of course: An IPE may also expose oneM2M services and the resource tree to the external technology.\n",
    "\n",
    "## What is Registration?\n",
    "\n",
    "An AE needs to register itself to a CSE. This is done by creating an appropriate \\<AE> resource together with a couple of necessary attributes and parameters. This \\<AE> resource then will act as the \"digital twin\" of the AE, ie. it will provide necessary information for the CSE and other AEs about its capabilities, means of communications, and other information. On the other hand it receives a unique identifier, ie. the AE-Identifier (*AE-ID*), which the AE will use to identify itself to the CSE in all further communications.\n",
    "\n",
    "\n",
    "## What is an Originator?\n",
    "\n",
    "In oneM2M the originator uniquely identifies the entity that initiates a request. It is mainly used for access control, but also in the handling of the request in general, and by other common services. The originator is a mandatory parameter in all requests.\n",
    "\n",
    "The originating entity could be an AE or even another CSE. For the AE the originator is equal to the *AE-ID* attribute, for the CSE the originator is the *CSE-ID*. In most cases the *AE-ID* (and thereby the originator) is assigened by the CSE during registration (s.a.), but can also by pre-assigned by the AE itself. \n",
    "\n",
    "It is important to note that the *AE-ID* / originator is either unique  to the CSE where the AE is registered (the so-called *registrar CSE*), or unique to the whole service provider domain. In the first case the originator must start with the upper-case character \"C\", otherwise it starts with an upper-case \"S\" character.\n",
    "\n",
    "\n"
   ]
  },
  {
   "cell_type": "markdown",
   "id": "patent-found",
   "metadata": {},
   "source": [
    "&nbsp;"
   ]
  }
 ],
 "metadata": {
  "kernelspec": {
   "display_name": "Python 3",
   "language": "python",
   "name": "python3"
  },
  "language_info": {
   "codemirror_mode": {
    "name": "ipython",
    "version": 3
   },
   "file_extension": ".py",
   "mimetype": "text/x-python",
   "name": "python",
   "nbconvert_exporter": "python",
   "pygments_lexer": "ipython3",
   "version": "3.8.2"
  }
 },
 "nbformat": 4,
 "nbformat_minor": 5
}
