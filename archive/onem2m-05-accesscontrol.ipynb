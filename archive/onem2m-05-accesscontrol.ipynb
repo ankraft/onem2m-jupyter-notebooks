{
 "cells": [
  {
   "cell_type": "markdown",
   "metadata": {},
   "source": [
    "# oneM2M - Access Control\n",
    "\n",
    "This notebook demonstrates how access control to resources can be done in oneM2M.\n",
    "\n",
    "- Create an &lt;ACP> resource with different credentials for a new originator\n",
    "- Create a second &lt;AE> resource with the new access controls policy\n",
    "- Succeed to add a &lt;Container> to the second &lg;AE> resource\n",
    "- Fail to update the second &lt;AE> resource\n",
    "\n",
    "## Intitialization\n",
    "The section does import necessary modules and configurations."
   ]
  },
  {
   "cell_type": "code",
   "execution_count": null,
   "metadata": {},
   "outputs": [],
   "source": [
    "%run init.py"
   ]
  },
  {
   "cell_type": "markdown",
   "metadata": {},
   "source": [
    "## Create an &lt;ACP> Resource\n",
    "\n",
    "Access Control Policies are used to associate access control with credentials. They define the rules to for access control to resources. Each &lt;ACP> resource has two sections:\n",
    "\n",
    "- **pv (Privileges)** : The actual privileges defined by this policy.\n",
    "- **pvs (Self-Privileges)** : This defines the privileges necessary to access and control the &lt;ACP> resource itself.\n",
    "\n",
    "Each section has at least the following two parameters:\n",
    "\n",
    "- **acor (accessControlOriginators)** : This list includes the Originator information. The parameter comprises a list of domain, CSE-IDs, AE-IDs, the resource-ID of a &lt;Group> resource that contains &lt;AE> or &lt;remoteCSE> as member or Role-ID.\n",
    "- **acop (accessControlOperations)** : This number represents a bit-field of privileges. The following table shows the mapping:\n",
    "\n",
    "| Value | Interpretation |\n",
    "|-------|----------------|\n",
    "| 1     | CREATE         |\n",
    "| 2     | RETRIEVE       |\n",
    "| 4     | UPDATE         |\n",
    "| 8     | DELETE         |\n",
    "| 16    | NOTIFY         |\n",
    "| 32    | DISCOVERY      |\n",
    "\n",
    "The following request creates a new &lt;ACP> that allows the originator *abc:xyz* only to send CREATE, RETRIEVE, NOTIFY, DELETE, and DISCOVERY requests to resources that have this &lt;ACP> resource assigned."
   ]
  },
  {
   "cell_type": "code",
   "execution_count": null,
   "metadata": {},
   "outputs": [],
   "source": [
    "CREATE (                                            # CREATE request\n",
    "    url,\n",
    "    \n",
    "    # Request Headers\n",
    "    {\n",
    "        'X-M2M-Origin' : originator,               # Set the originator\n",
    "        'X-M2M-RI'     : '0',                      # Request identifier\n",
    "        'Accept'       : 'application/json',       # Response shall be JSON\n",
    "        'Content-Type' : 'application/json;ty=1'   # Content is JSON, and represents an <ACP> resource\n",
    "    },\n",
    "    \n",
    "    # Request Body\n",
    "    '''\n",
    "    {\n",
    "        \"m2m:acp\": {\n",
    "            \"rn\":\"Notebook-ACP\",\n",
    "            \"pv\": {\n",
    "                \"acr\": [{\n",
    "                    \"acor\": [ \"abcxyz\" ],\n",
    "                    \"acop\": 59\n",
    "                }]\n",
    "            },\n",
    "            \"pvs\": {\n",
    "                \"acr\": [{\n",
    "                    \"acor\": [ \"%s\" ],\n",
    "                    \"acop\": 63\n",
    "                }]\n",
    "            }\n",
    "        }\n",
    "    }\n",
    "    ''' % originator\n",
    ")"
   ]
  },
  {
   "cell_type": "markdown",
   "metadata": {},
   "source": [
    "\n",
    "\n",
    "## Create a second &lt;AE> Resource with the new &lt;ACP>\n",
    "\n",
    "We now create a new &lt;AE> resource that uses the just created &lt;ACP>.\n",
    "\n",
    "**This should succeed.**"
   ]
  },
  {
   "cell_type": "code",
   "execution_count": null,
   "metadata": {
    "scrolled": false
   },
   "outputs": [],
   "source": [
    "CREATE (                                           # CREATE request\n",
    "    url,\n",
    "    \n",
    "    # Request Headers\n",
    "    {\n",
    "        'X-M2M-Origin' : 'C',                      # Set the originator\n",
    "        'X-M2M-RI'     : '0',                      # Request identifier\n",
    "        'Accept'       : 'application/json',       # Response shall be JSON\n",
    "        'Content-Type' : 'application/json;ty=2'   # Content is JSON, and represents an <AE> resource\n",
    "    },\n",
    "    \n",
    "    # Request Body\n",
    "    '''\n",
    "    {   \n",
    "        \"m2m:ae\": {\n",
    "            \"rn\": \"Notebook-AE_2\",\n",
    "            \"api\": \"AE\",\n",
    "            \"acpi\" : [ \n",
    "                \"%s/Notebook-ACP\" \n",
    "            ],\n",
    "            \"rr\": true,\n",
    "            \"srv\": [\"3\"]\n",
    "        }\n",
    "    }\n",
    "    ''' % basename\n",
    ")"
   ]
  },
  {
   "cell_type": "markdown",
   "metadata": {},
   "source": [
    "## Try to Create &lt;Container> under the second &lt;AE> Resource\n",
    "\n",
    "We will update a &lt;Container> resource under the second &lt;AE> resource with the originator of *abc:xyz*. \n",
    "\n",
    "**This should work** since this originator is allowed to send CREATE requests."
   ]
  },
  {
   "cell_type": "code",
   "execution_count": null,
   "metadata": {},
   "outputs": [],
   "source": [
    " CREATE (                                          # CREATE request\n",
    "    url + '/Notebook-AE_2',\n",
    "    \n",
    "    # Request Headers\n",
    "    {\n",
    "        'X-M2M-Origin' : \"abcxyz\",                 # Set the originator\n",
    "        'X-M2M-RI'     : '0',                      # Request identifier\n",
    "        'Accept'       : 'application/json',       # Response shall be JSON\n",
    "        'Content-Type' : 'application/json;ty=3'   # Content is JSON, and represents an <Container> resource\n",
    "    },\n",
    "    \n",
    "    # Request Body\n",
    "    '''\n",
    "    {\n",
    "        \"m2m:cnt\": {\n",
    "            \"rn\":\"Container\",\n",
    "            \"acpi\": [\n",
    "                \"%s/Notebook-ACP\"\n",
    "            ]\n",
    "        }\n",
    "    }\n",
    "    ''' % basename\n",
    ")"
   ]
  },
  {
   "cell_type": "markdown",
   "metadata": {},
   "source": [
    "## Try to Update the second &lt;AE> Resource\n",
    "\n",
    "Now we try to update the new &lt;AE> resource (add a *lbl* attribute) with the other originator, *abc:xyz*. \n",
    "\n",
    "**<span style='color:red'>This should fail</span>**, since the associated &lt;ACP> doesn't allow UPDATE requests."
   ]
  },
  {
   "cell_type": "code",
   "execution_count": null,
   "metadata": {},
   "outputs": [],
   "source": [
    "UPDATE (                                           # UPDATE request\n",
    "    url + '/Notebook-AE_2',\n",
    "    \n",
    "    # Request Headers\n",
    "    {\n",
    "        'X-M2M-Origin' : 'abcxyz',                 # Set the originator\n",
    "        'X-M2M-RI'     : '0',                      # Request identifier\n",
    "        'Accept'       : 'application/json',       # Response shall be JSON\n",
    "        'Content-Type' : 'application/json;ty=2'   # Content is JSON, and represents an <AE> resource\n",
    "    },\n",
    "    \n",
    "    # Request Body\n",
    "    {\n",
    "        \"m2m:ae\": {\n",
    "            \"lbl\": [\n",
    "                \"test:test\"\n",
    "            ]\n",
    "        }\n",
    "    }\n",
    ")"
   ]
  },
  {
   "cell_type": "markdown",
   "metadata": {},
   "source": [
    " "
   ]
  }
 ],
 "metadata": {
  "kernelspec": {
   "display_name": "Python 3",
   "language": "python",
   "name": "python3"
  },
  "language_info": {
   "codemirror_mode": {
    "name": "ipython",
    "version": 3
   },
   "file_extension": ".py",
   "mimetype": "text/x-python",
   "name": "python",
   "nbconvert_exporter": "python",
   "pygments_lexer": "ipython3",
   "version": "3.8.2"
  }
 },
 "nbformat": 4,
 "nbformat_minor": 2
}
