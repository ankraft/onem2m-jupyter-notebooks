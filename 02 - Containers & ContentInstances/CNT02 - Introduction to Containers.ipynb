{
 "cells": [
  {
   "cell_type": "markdown",
   "id": "impressed-genesis",
   "metadata": {},
   "source": [
    "# Introduction to Containers\n",
    "\n",
    "The \\<container> resource represents a container for data instances. It is used to share information with other application entities, or to build a hierarchical structure to represent more complex and hierarchical data models. A \\<container> resource has no associated content. It has only management attributes and child resources.\n",
    "\n",
    "\n",
    "## Container Structures\n",
    "In the following figure you can see a \\<cnt> structure under an \\<AE>. A \\<container> could be a stand-alone resource, or help to represent a data  hierarchy. Hereby, it is not limited to only having one ore more \\<container> as child resources, but it may also store data in the form of \\<contentInstance> resources.\n",
    "\n",
    "A \\<container> can be child resources of an \\<AE>, of the \\<CSEBase>, of itself, and many other resources.\n",
    "\n",
    "![](containerStructure.png)\n",
    "\n",
    "## \\<latest> and \\<oldest> virtual resources\n",
    "\n",
    "Every \\<container> also has two additional *virtual* child resources, named \\<latest> and \\<oldest> that are created automatically by the CSE when the \\<container> is created. They are called *virtual* because the don't have a representation for themselves. They rather represent the oldest respectively the latest \\<contentInstance> resource under the \\<container> resource. \n",
    "\n",
    "This relationship is also shown in the next figure below.\n",
    "\n",
    "If you send a RETRIEVE request to, for example, the \\<latest> resource of a \\<container> then the CSE would return the latest \\<conntentInstannce> child resource in the response.\n",
    "\n",
    "\n",
    "\n",
    "## Working with ContentInstances\n",
    "\n",
    "As mentioned before the \\<container> does not store data values itself. For this it has one or many content instances (or \\<contentInstance> as child resources, as the next figure shows.\n",
    "\n",
    "![](containerContentInstances.png)\n",
    "\n",
    "The \\<contentInstance> resource is also a fairly simple resource. The most interesting attributes are here *contentInfo*, *content*, and *contentSize*. The *contentInfo* attribute contains the content format and encoding of the value in the *content* attribute, and the *contentSize* provides information about the size of the data in *content*.\n",
    "\n",
    "You can only create, retrieve or delete \\<contentInstance> resources, but not update them. This is important to note: an AE always \"updates\" a value stored in a \\<contentInstance> resource by creating a new one.\n",
    "\n",
    "In a long-running system this could create an ever growing number of \\<contentInstance> resources. Of course, the AE could delete old resources it doesn't need anymore by itself, but this would add an extra task to the AE and also would lead to more requests for the CSE to handle. Luckily, the \\<container> resource type provides means for the CSE to do the management of old \\<contentInstance> child resources on an AE's behalf.\n",
    "\n",
    "An AE can configure the \\<container> resources in a way that limits the number of \\<contentInstance> child resources, the maximum size of the overall content, and the maximum age of \\<contentInstance> resources. If any of these thresholds are reached the CSE will continuously remove the oldest \\<contentInstance> resources until all the threshold limits are met again.\n",
    "\n",
    "This will be shown in one of the exercises.\n",
    "\n"
   ]
  }
 ],
 "metadata": {
  "kernelspec": {
   "display_name": "Python 3",
   "language": "python",
   "name": "python3"
  },
  "language_info": {
   "codemirror_mode": {
    "name": "ipython",
    "version": 3
   },
   "file_extension": ".py",
   "mimetype": "text/x-python",
   "name": "python",
   "nbconvert_exporter": "python",
   "pygments_lexer": "ipython3",
   "version": "3.8.2"
  }
 },
 "nbformat": 4,
 "nbformat_minor": 5
}
