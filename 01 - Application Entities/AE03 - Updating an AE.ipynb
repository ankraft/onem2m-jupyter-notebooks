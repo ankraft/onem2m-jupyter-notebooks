{
 "cells": [
  {
   "cell_type": "markdown",
   "id": "rural-printer",
   "metadata": {},
   "source": [
    "# Application Entity - Updating an AE\n",
    "\n",
    "This notebook will show how to update an \\<AE> resource.\n",
    "\n",
    "- Add the *labels* attribute to the \\<AE> resource using an UPDATE request\n",
    "- Update the *labels* again\n",
    "- Try to update the *resourceName* attribute\n",
    "- Remove the *labels attribute from the \\<AE> resource\n",
    "\n",
    "## Intitialization\n",
    "\n",
    "<div class=\"alert alert-block alert-info\" style=\"border-radius: 10px;\">\n",
    "The following section imports and initializes necessary functions and configurations. \n",
    "It must be executed once for each notebook before running any of cells.</div>"
   ]
  },
  {
   "cell_type": "code",
   "execution_count": null,
   "id": "equivalent-soundtrack",
   "metadata": {
    "scrolled": false
   },
   "outputs": [],
   "source": [
    "%run ../src/init.py"
   ]
  },
  {
   "cell_type": "markdown",
   "id": "rough-mattress",
   "metadata": {},
   "source": [
    "## Updating an \\<AE> resource with *labels*\n",
    "\n",
    "Alice now wants to add *labels* (*lbl*) to her \\<AE> resource.\n",
    "\n",
    "<div class=\"alert alert-block alert-success\" style=\"border-radius: 10px\">\n",
    "    The <i>labels</i> attribute is an optional list of labels that can be added to most resources. An individual label can either be\n",
    "    <li>a standalone tag that can be used, for example, for discovery purposes, or</li>\n",
    "    <li>a composite value constructed as a key-value pair, separated by a colon (\":\") charater, e.g. \"color:red\". </li>\n",
    "<br/>\n",
    "Please note that <i>labels</i> are application-specific meta-information and do not have any meaning for the CSE.\n",
    "</div>\n",
    "\n",
    "Alice will add two *labels* to the \\<AE> resource: one for assigning an internal type (here. 'exercise'), and another one for tagging it as 'private'.\n",
    "\n",
    "\n",
    "<div class=\"alert alert-block alert-success\" style=\"border-radius: 10px\">\n",
    "In an UPDATE request is is only necessary to provide those attributes that should be added, modified or deletes. It is not necessary to provide those attributes that should not be updated.\n",
    "<br />\n",
    "However, it can be useful to assign the same value to an attribute again, because every update may have a couple of side-effects, such as updating the resource's modifcation date, sending a notification etc. \n",
    "</div>"
   ]
  },
  {
   "cell_type": "code",
   "execution_count": null,
   "id": "popular-tribute",
   "metadata": {
    "scrolled": false
   },
   "outputs": [],
   "source": [
    "UPDATE (                                           # UPDATE request\n",
    "    target                  = f'{cseRN}/aeAlice',  # Update the 'aeAlice' resource\n",
    "    originator              = 'CAlice',            # Request's originator (mandatory)\n",
    "    requestIdentifier       = '123',               # Request identifier (mandatory)\n",
    "    releaseVersionIndicator = '3',                 # Request's release version indicator (mandatory)\n",
    "    \n",
    "    # Request Content\n",
    "    content = { \n",
    "       'm2m:ae': {\n",
    "            'lbl': [ 'type:exercise', 'private']   # Add two labels to the <AE>\n",
    "        }\n",
    "    }\n",
    ")"
   ]
  },
  {
   "cell_type": "markdown",
   "id": "integrated-happiness",
   "metadata": {},
   "source": [
    "As you can see from the response the attribute *lbl* was added. If you take a closer look you will also notice that the *lt* (*lastModifiedTime*) attribute also changed.\n",
    "\n",
    "<div class=\"alert alert-block alert-success\" style=\"border-radius: 10px\">\n",
    "Any successful modification of a resource will also set the <i>lastModifiedTime</i> the time and date accordinly.\n",
    "</div>\n",
    "\n",
    "## Updating the *labels* again\n",
    "\n",
    "Alice now wants to change the *labels* attribute again because the AE will now be taged as 'public'. This is done with the following request.\n",
    "\n",
    "<div class=\"alert alert-block alert-success\" style=\"border-radius: 10px\">\n",
    "Attributes must always be updated as a whole. It is not possible to only update a part of an attribute. This is why in the following request all the labels in the <i>label</i> attribute must be present, even when only one label is changed.\n",
    "</div>"
   ]
  },
  {
   "cell_type": "code",
   "execution_count": null,
   "id": "genetic-salad",
   "metadata": {
    "scrolled": false
   },
   "outputs": [],
   "source": [
    "UPDATE (                                           # UPDATE request\n",
    "    target                  = f'{cseRN}/aeAlice',  # Update the 'aeAlice' resource\n",
    "    originator              = 'CAlice',            # Request's originator (mandatory)\n",
    "    requestIdentifier       = '123',               # Request identifier (mandatory)\n",
    "    releaseVersionIndicator = '3',                   # Request's release version indicator (mandatory)\n",
    "    \n",
    "    # Request Content\n",
    "    content = { \n",
    "       'm2m:ae': {\n",
    "            'lbl': [ 'type:exercise', 'public']   # Update the labels in the <AE>\n",
    "        }\n",
    "    }\n",
    ")"
   ]
  },
  {
   "cell_type": "markdown",
   "id": "spread-medicare",
   "metadata": {},
   "source": [
    "## An invalid UPDATE request\n",
    "\n",
    "Alice doesn't like the name of the \\<AE> resource anymore and now wants to give the resource a different name. \n",
    "\n",
    "We can try to do this with the following UPDATE request."
   ]
  },
  {
   "cell_type": "code",
   "execution_count": null,
   "id": "purple-disclaimer",
   "metadata": {},
   "outputs": [],
   "source": [
    "UPDATE (                                           # UPDATE request\n",
    "    target                  = f'{cseRN}/aeAlice',  # Update the 'aeAlice' resource\n",
    "    originator              = 'CAlice',            # Request's originator (mandatory)\n",
    "    requestIdentifier       = '123',               # Request identifier (mandatory)\n",
    "    releaseVersionIndicator = '3',                 # Request's release version indicator (mandatory)\n",
    "    \n",
    "    # Request Content\n",
    "    content = { \n",
    "       'm2m:ae': {\n",
    "            'rn': 'Sylvie'                         # Assign the resourceName a new name\n",
    "        }\n",
    "    }\n",
    ")"
   ]
  },
  {
   "cell_type": "markdown",
   "id": "dependent-silicon",
   "metadata": {},
   "source": [
    "This request **fails** with an error message because the *resourceName* attribute must not be present in an UPDATE request. Unfortunately, this means that you cannot rename a resource.\n",
    "\n",
    "<div class=\"alert alert-block alert-success\" style=\"border-radius: 10px\">\n",
    "Many resources cannot be updated, such as the <i>resourceName</i> attribute as shown here. Sometimes these attributes are added and managed by the CSE itself, sometimes changing them would have huge implications or unforseeable effects. \n",
    "    \n",
    "\n",
    "oneM2M's TS-0004 \"Service Layer Core Protocol\" defines for each individual attribute whether it is <i>mandatory</i>, <i>optional</i>, or <i>not present</i> for the respective request types.\n",
    "</div>\n",
    "\n",
    "## Removing an attribute from a resource\n",
    "\n",
    "Alice decides that she doesn't need the labels in the resource anymore. With the following request she removes the *lbl* attribute from the resource.\n",
    "\n",
    "<div class=\"alert alert-block alert-success\" style=\"border-radius: 10px\">\n",
    "Any optional attribute can be removed from a resource by setting it to <i>null</i> in an UPDATE request. Depending on the resource type and the removed attribute(s) this might have other side-effects as well. And as any other UPDATE request this also updates the <i>lastModifiedTime</i> attribute of the resource.\n",
    "</div>"
   ]
  },
  {
   "cell_type": "code",
   "execution_count": null,
   "id": "interior-pizza",
   "metadata": {
    "scrolled": false
   },
   "outputs": [],
   "source": [
    "UPDATE (                                           # UPDATE request\n",
    "    target                  = f'{cseRN}/aeAlice',  # Update the 'aeAlice' resource\n",
    "    originator              = 'CAlice',            # Request's originator (mandatory)\n",
    "    requestIdentifier       = '123',               # Request identifier (mandatory)\n",
    "    releaseVersionIndicator = '3',                 # Request's release version indicator (mandatory)\n",
    "    \n",
    "    # Request Content\n",
    "    content = { \n",
    "       'm2m:ae': {\n",
    "            'lbl': null                            # Set the lbl to null in the request\n",
    "        }\n",
    "    }\n",
    ")"
   ]
  },
  {
   "cell_type": "markdown",
   "id": "durable-puzzle",
   "metadata": {},
   "source": [
    "&nbsp;"
   ]
  }
 ],
 "metadata": {
  "kernelspec": {
   "display_name": "Python 3",
   "language": "python",
   "name": "python3"
  },
  "language_info": {
   "codemirror_mode": {
    "name": "ipython",
    "version": 3
   },
   "file_extension": ".py",
   "mimetype": "text/x-python",
   "name": "python",
   "nbconvert_exporter": "python",
   "pygments_lexer": "ipython3",
   "version": "3.8.2"
  }
 },
 "nbformat": 4,
 "nbformat_minor": 5
}
