{
 "cells": [
  {
   "cell_type": "markdown",
   "metadata": {},
   "source": [
    "# oneM2M - Discovery\n",
    "\n",
    "This notebook shows how resources can be discovered in CSE. It assumes that the resource structure from the *Basic Resources and Interactions* notebook was created in the CSE.\n",
    "\n",
    "Resource discovery can be rather sophisticated. The examples here just show the basic concepts.\n",
    "\n",
    "- Retrieve all &lt;ContentInstance> resources from the CSE\n",
    "- Add a &lt;ContentInstance resource with a label\n",
    "- Discover a &lt;ContentInstance> resource by its label\n",
    "\n",
    "## Intitialization\n",
    "The section does import necessary modules and configurations."
   ]
  },
  {
   "cell_type": "code",
   "execution_count": null,
   "metadata": {},
   "outputs": [],
   "source": [
    "%run init.py"
   ]
  },
  {
   "cell_type": "markdown",
   "metadata": {},
   "source": [
    "## Get all &lt;ContentInstance> Resources from a &lt;Container> Resource\n",
    "\n",
    "This example demonstrates how one can retrieve refereences to all the data values from the *myContainer* resource. For this, we send a READ request with some extra parameters to the URL:\n",
    "\n",
    "- **fu** : The filter usage specifies that we actually want to do a discovery.\n",
    "- **ty** : This parameter specifies the resource type we are looking for.\n",
    "- **rcn** : This parameter specified how the results are returned. Here, we specify that we only want to get the references to the discovered resources."
   ]
  },
  {
   "cell_type": "code",
   "execution_count": null,
   "metadata": {},
   "outputs": [],
   "source": [
    "RETRIEVE (                                          # RETRIEVE request\n",
    "    url + '/Notebook-AE/Container?fu=1&ty=4&rcn=6',\n",
    "    \n",
    "    # Request Headers\n",
    "    {\n",
    "        'X-M2M-Origin' : originator,                # Set the originator\n",
    "        'X-M2M-RI'     : 'o',                       # Unique request identifier\n",
    "        'Accept'       : 'application/json'         # Response shall be JSON    \n",
    "    }\n",
    ")"
   ]
  },
  {
   "cell_type": "markdown",
   "metadata": {},
   "source": [
    "- **m2m:rrl** : The result contains a list of structured resource identifiers of the discovered resources and their types.\n",
    "\n",
    "\n",
    "## Add a &lt;ContentInstance> Resource with a Label\n",
    "\n",
    "The next example introduces labels. Every resource may have a space separated list of labels. A label has a key and a value, and can be used as application defined meta-data for that resource.\n",
    "\n",
    "With the following CREATE request we add a label *tag/greeting* to a &lt;ContentInstance>.\n",
    "\n",
    "- **lbl** : The attribute that specifies a list of labels for a resource."
   ]
  },
  {
   "cell_type": "code",
   "execution_count": null,
   "metadata": {},
   "outputs": [],
   "source": [
    "CREATE (                                           # CREATE request\n",
    "    url + '/Notebook-AE/Container',\n",
    "    \n",
    "    # Request Headers\n",
    "    {\n",
    "        'X-M2M-Origin' : originator,               # Set the originator\n",
    "        'X-M2M-RI'     : '0',                      # Request identifier\n",
    "        'Accept'       : 'application/json',       # Response shall be JSON\n",
    "        'Content-Type' : 'application/json;ty=4'   # Content is JSON, and represents an <ContentInstance> resource\n",
    "    },\n",
    "    \n",
    "    # Request Body\n",
    "    {\n",
    "        \"m2m:cin\": {\n",
    "            \"lbl\": [ \"tag:greeting\" ],\n",
    "            \"cnf\": \"text/plain:0\",\n",
    "            \"con\": \"Hello, World!\"\n",
    "        }\n",
    "    }\n",
    ")"
   ]
  },
  {
   "cell_type": "markdown",
   "metadata": {},
   "source": [
    "## Discover &lt;ContentInstance> Resources by a Label\n",
    "\n",
    "Discovery also works on labels, so that an application can retrieve the resources by their meta-data."
   ]
  },
  {
   "cell_type": "code",
   "execution_count": null,
   "metadata": {},
   "outputs": [],
   "source": [
    "RETRIEVE (                                          # RETRIEVE request\n",
    "    url + '/Notebook-AE/Container?fu=1&lbl=tag:greeting&rcn=6',\n",
    "    \n",
    "    # Request Headers\n",
    "    {\n",
    "        'X-M2M-Origin' : originator,                # Set the originator\n",
    "        'X-M2M-RI'     : 'o',                       # Unique request identifier\n",
    "        'Accept'       : 'application/json'         # Response shall be JSON    \n",
    "    }\n",
    ")"
   ]
  },
  {
   "cell_type": "markdown",
   "metadata": {},
   "source": [
    "- **m2m:rrl** : The result contains a list of structured resource identifiers of the discovered resources and their types."
   ]
  }
 ],
 "metadata": {
  "kernelspec": {
   "display_name": "Python 3",
   "language": "python",
   "name": "python3"
  },
  "language_info": {
   "codemirror_mode": {
    "name": "ipython",
    "version": 3
   },
   "file_extension": ".py",
   "mimetype": "text/x-python",
   "name": "python",
   "nbconvert_exporter": "python",
   "pygments_lexer": "ipython3",
   "version": "3.8.2"
  }
 },
 "nbformat": 4,
 "nbformat_minor": 2
}
