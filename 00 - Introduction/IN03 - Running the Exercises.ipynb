{
 "cells": [
  {
   "cell_type": "markdown",
   "metadata": {},
   "source": [
    "# Running the exercises \n",
    "\n",
    "<div class=\"alert alert-block alert-danger\">\n",
    "extra notebook \n",
    "\n",
    "</div>\n",
    "\n",
    "### Notes and hints\n",
    "\n",
    "\n",
    "## Run the CSE\n",
    "\n",
    "## Execute initialization first\n",
    "(repeat here as an exercise?)\n",
    "\n",
    "## Execute requests\n",
    "\n",
    "TODO:\n",
    "- explain use of makros for tyName ...\n",
    "- Error : \"NameError: name 'xxx' is not defined\" - forgot to initialize\n",
    "\n",
    "### Responses\n",
    "\n",
    "## Run the notification server\n",
    "\n",
    "\n",
    "\n",
    "### Errors when executing requests\n",
    "\n",
    "Sometimes, a request can result in an error. Usually, you will receive an error status code and a debug message that will tell you what went wrong. Some of the exercises will let you send requests that will produce errors, but then this will be explained in more detail in those exercises.\n",
    "\n",
    "<div class=\"alert alert-block alert-info\" style=\"border-radius: 10px;\">\n",
    "You can try and provoke an error by changing the *originator* in the request in the <a href=\"IN01%20-%20Hello%20CSE.ipynb\"> Hello CSE</a> notebook to some other value. </div>\n",
    "\n",
    "Another reason for problems could be when you forgot to run the **initialization cell** at the top of each notebook. This cell loads and initializes the request functions and other configurations, and must be run for each notebook or when restarting a notebook's kernel. When you see some strange error messages that look like program code, then please run the initialization cell."
   ]
  },
  {
   "cell_type": "markdown",
   "metadata": {},
   "source": [
    "# &nbsp;"
   ]
  }
 ],
 "metadata": {
  "kernelspec": {
   "display_name": "Python 3",
   "language": "python",
   "name": "python3"
  },
  "language_info": {
   "codemirror_mode": {
    "name": "ipython",
    "version": 3
   },
   "file_extension": ".py",
   "mimetype": "text/x-python",
   "name": "python",
   "nbconvert_exporter": "python",
   "pygments_lexer": "ipython3",
   "version": "3.8.2"
  }
 },
 "nbformat": 4,
 "nbformat_minor": 4
}
