{
 "cells": [
  {
   "cell_type": "markdown",
   "id": "about-flower",
   "metadata": {},
   "source": [
    "# Managing Data with Containers and ContentInstances\n",
    "\n",
    "This lecture shows how to store, retrieve, and manage data in the CSE\n",
    "\n",
    "You should run these notebooks in order because they build on each other.\n",
    "\n",
    "\n",
    "\n",
    "\n",
    "<div style='display:flex;'>\n",
    "  <div style='flex:0 0 65%;margin:5px;'>\n",
    "    <ul>\n",
    "    <li><a href=\"CNT01%20-%20Creating%20a%20Container.ipynb\">CNT01 - Creating a Container</a><br/>Create you first container.</li>\n",
    "    <li><a href=\"CNT02%20-%20Introduction%20to%20Containers.ipynb\">CNT02 - Introduction to Containers</a><br />Introducing the &lt;container> and &lt;contentInstance> resource types.</li>\n",
    "      <li><a href=\"CNT03%20-%20Working%20with%20ContentInstances.ipynb\">CNT03 - Working with ContentInstances</a><br />Create and retrieve &lt;contentInstance> resources.</li>\n",
    "      <li><a href=\"CNT04%20-%20Managing%20ContentInstances.ipynb\">CNT04 - Managing ContentInstances</a><br />Let the &lt;container> help you with managing &lt;contentInstance> resources.</li>\n",
    "      <li><a href=\"CNT05%20-%20Building%20an%20Application.ipynb\">CNT05 - Building an Application</a><br />Create and use data structures for a sensor device.</li>\n",
    "      <li> TODO : Detele resources from this lecture</li>\n",
    "      </ul>\n",
    "  </div>\n",
    "  <div style='flex: 1;margin:auto;'><img src=\"start.png\">\n",
    "    </div>\n",
    "</div>\n"
   ]
  }
 ],
 "metadata": {
  "kernelspec": {
   "display_name": "Python 3",
   "language": "python",
   "name": "python3"
  },
  "language_info": {
   "codemirror_mode": {
    "name": "ipython",
    "version": 3
   },
   "file_extension": ".py",
   "mimetype": "text/x-python",
   "name": "python",
   "nbconvert_exporter": "python",
   "pygments_lexer": "ipython3",
   "version": "3.8.2"
  }
 },
 "nbformat": 4,
 "nbformat_minor": 5
}
