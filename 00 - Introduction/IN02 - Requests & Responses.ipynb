{
 "cells": [
  {
   "cell_type": "markdown",
   "metadata": {},
   "source": [
    "# Requests & Responses - How to communicate with a CSE\n",
    "\n",
    "\n",
    "Communication with a oneM2M CSE works via the so-called *Mca* reference point. The oneM2M specifications define all the parameters and contents that are exchanged in a *request*/*reponse* kind of message exchange over this reference point.\n",
    "\n",
    "![](req_resp.png)\n",
    "\n",
    "Don't confuse this reference point with a communication interface, API, or protocol. This is an abstract model that allows for a  uniform and independent way to specify the communication elements and procedures. Mappings to concrete transport protocols are, of course, also specified by oneM2M in so-called binding specifications for http, MQTT, CoAP, and WebSockets. Another aspects that needs to be defined is the mapping of the resource definitions to concrete serializations. Since the formal resource definitions are done using XML Schema Definition (XSD<sup id=\"a1\">[1](#fn1)</sup>) the foremost serialization format is XML. But the more popular format is JSON, and CBOR<sup id=\"a2\">[2](#fn2)</sup>, which provides a concise binary encoding.\n",
    "\n",
    "In the exercises of these notebooks we use *http* as the transport protocol and JSON for the serialization of resources in requests and responses.\n",
    "\n",
    "\n",
    "## A oneM2M request\n",
    "\n",
    "A RETRIEVE request has a a target (here: the \\<CSEBase> resource itself) and couple of parameters, but now further content. Other request types, such as a CREATE or UPDATE request, will have content. \n",
    "\n",
    "For the exercises in these notebooks we use HTTP as the transport protocol to communicate with the CSE, but other protocols such as CoAP or MQTT would be possible also. \n",
    "\n",
    "All the parameters for the request are presented here in the request:\n",
    "\n",
    "- **to / target**  \n",
    "This is the target for a request. The request target is always a resource in the CSE.  \n",
    "In our exercises we use so-called *structured CSE-relative* addressing (more on this in another exercise), so the target address looks similar to a file system path.\n",
    "- **from / originator**  \n",
    "This parameter is the identifier of an entity that makes the request. This is a mandatory parameter in all requests.  \n",
    "We will later see how to register new entities, such as applications, and create new originator identifiers. For this request we use a kind of \"administrator\" identifier.\n",
    "- **Request Identifier**  \n",
    "This identifier uniquely identifies a request to the CSE. This also is a mandatory request parameter.  \n",
    "This becomes more important later when working with asynchronous requests, but for now we use mostly the same ID in the requests. \n",
    "- **Release Version Indicator**  \n",
    "This mandatory parameter indicates the oneM2M release version for a request. It can be used to align expected behaviour, resources, attributes, and procedures between the requesting entity and the CSE.\n",
    "\n",
    "oneM2M defines many more request and response parameters* that can or need to be present in various requests and situations, like *Filter Criteria*, *Response Type* etc. One of them is the *Resource Type* parameter that we will use in the exercises in CREATE requests.\n",
    "    \n",
    "- **Resource Type**  \n",
    "This parameter is mandatory in requests when a new resource is created (ie. in a CREATE request). I is a number and indicates the new resource's type.\n",
    "    \n",
    "    \n",
    "Some request types also have a **content** parameter. This parameter contains usually a new resource definition (in a CREATE request) or a resource fragment (only a couple of attributes, in an UPDATE request).\n",
    "\n",
    "\n",
    "\n",
    "## A oneM2M response\n",
    "\n",
    "A oneM2M response has a very similar structure as a request. In addition to the aforementioned **Request Identifier** and **Release Version Indicator** there is also a mandatory **Result Status Code** present:\n",
    "\n",
    "- **Result Status Code**  \n",
    "This mandatory response parameter contains a status code about how the requested operation finished, either as expected or with an error code. Status codes are similar to *http status codes*, but provide more detailed information about what possibly went wrong.\n",
    "\n",
    "Also, in most cases **content** is returned. The content depends on the type of content requested by the original request: it could be a newly created resource, only the attributes updated by a request, or a whole structure of a resource and its children.\n",
    "\n",
    "Also, in case of an error the CSE tries to be helpful and returns a more readable version of what went wrong with the request. The following fragment, for example, may be returned when the request originator does not have access to a resource:\n",
    "\n",
    "```json\n",
    "{\n",
    "    \"m2m:dbg\": \"originator has no permission\"\n",
    "}\n",
    "```\n",
    "\n"
   ]
  },
  {
   "cell_type": "markdown",
   "metadata": {},
   "source": [
    "---\n",
    "<b id=\"fn1\">1</b>: See [W3C XML Schema Definition Language (XSD) 1.1 Part 1: Structures](https://www.w3.org/TR/2012/REC-xmlschema11-1-20120405/) and [W3C XML Schema Definition Language (XSD) 1.1 Part 2: Datatypes](https://www.w3.org/TR/2012/REC-xmlschema11-2-20120405/) [↩](#a1)\n",
    "\n",
    "<b id=\"fn2\">2</b>: See [RFC8949 - Concise Binary Object Representation (CBOR)](https://tools.ietf.org/html/rfc8949) [↩](#a2)\n",
    "\n"
   ]
  },
  {
   "cell_type": "markdown",
   "metadata": {},
   "source": [
    "&nbsp;"
   ]
  }
 ],
 "metadata": {
  "kernelspec": {
   "display_name": "Python 3",
   "language": "python",
   "name": "python3"
  },
  "language_info": {
   "codemirror_mode": {
    "name": "ipython",
    "version": 3
   },
   "file_extension": ".py",
   "mimetype": "text/x-python",
   "name": "python",
   "nbconvert_exporter": "python",
   "pygments_lexer": "ipython3",
   "version": "3.8.2"
  }
 },
 "nbformat": 4,
 "nbformat_minor": 4
}
