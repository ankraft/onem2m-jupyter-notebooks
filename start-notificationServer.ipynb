{
 "cells": [
  {
   "cell_type": "markdown",
   "metadata": {},
   "source": [
    "# oneM2M - Subscriptions and Notifications - Notification Server\n",
    "\n",
    "This notebook runs a small webserver to receive notifications from a CSE.\n",
    "\n",
    "\n",
    "## Run a Notification Server\n",
    "\n",
    "In order to subscribe to notifications one must run a notification server that receives two kind of requests:\n",
    "\n",
    "- Whenever a new &lt;Subscription> is created a verification request is send to the notification server to check the validity of the subscription.\n",
    "- For every monitored change of a resource the server is contacted and the changes are pushed to the notification server.\n",
    "\n",
    "<div class=\"alert alert-block alert-success\">\n",
    "For a simple implementation (always acknowledge the requests described above), the notification server must set the response header field <i>X-M2M-RSC</i> to <i>2000</i>.\n",
    "</div>\n",
    "\n",
    "<div class=\"alert alert-block alert-info\">\n",
    "    If you see an error message or no output at all then please <i>restart</i> the notebook's kernel and try again.\n",
    "</div>\n",
    "\n",
    "\n",
    "\n",
    "### Stopping the Notification Server\n",
    "<div class=\"alert alert-block alert-info\">\n",
    "    Only one instance of the Notification Server can run at a time. To stop it just <i>restart</i> the notebook's kernel.  \n",
    "\n",
    "Please be patient. The Notification Server might take a few seconds to shutdown.\n",
    "</div>\n"
   ]
  },
  {
   "cell_type": "code",
   "execution_count": null,
   "metadata": {
    "scrolled": false
   },
   "outputs": [
    {
     "data": {
      "text/html": [
       "<style>.container { width:100% !important; }</style>"
      ],
      "text/plain": [
       "<IPython.core.display.HTML object>"
      ]
     },
     "metadata": {},
     "output_type": "display_data"
    },
    {
     "data": {
      "text/html": [
       "<pre style=\"white-space:pre;overflow-x:auto;line-height:normal;font-family:Menlo,'DejaVu Sans Mono',consolas,'Courier New',monospace\">\n",
       "<span style=\"color: #7f7f7f; font-weight: bold\">[</span><span style=\"color: #800000; font-style: italic\">ACME</span><span style=\"color: #7f7f7f; font-weight: bold\">]</span> - <span style=\"font-weight: bold\">Notification Server</span>\n",
       "\n",
       "\n",
       "</pre>\n"
      ],
      "text/plain": [
       "<rich.jupyter.JupyterRenderable at 0x10e7a08b0>"
      ]
     },
     "metadata": {},
     "output_type": "display_data"
    },
    {
     "data": {
      "text/html": [
       "<pre style=\"white-space:pre;overflow-x:auto;line-height:normal;font-family:Menlo,'DejaVu Sans Mono',consolas,'Courier New',monospace\"><span style=\"color: #00ff5f\">starting server &amp; listening for connections on port </span><span style=\"color: #00ff5f; font-weight: bold\">9999</span>\n",
       "</pre>\n"
      ],
      "text/plain": [
       "<rich.jupyter.JupyterRenderable at 0x10e7b0a30>"
      ]
     },
     "metadata": {},
     "output_type": "display_data"
    }
   ],
   "source": [
    "# Increase the width of the notebook to accomodate the log output\n",
    "from IPython.core.display import display, HTML\n",
    "display(HTML(\"<style>.container { width:100% !important; }</style>\"))\n",
    "\n",
    "# change to the CSE's directory and start the CSE\n",
    "%cd -q tools/NotificationServer\n",
    "%run ./NotificationServer.py"
   ]
  },
  {
   "cell_type": "markdown",
   "metadata": {},
   "source": [
    "&nbsp;"
   ]
  }
 ],
 "metadata": {
  "kernelspec": {
   "display_name": "Python 3",
   "language": "python",
   "name": "python3"
  },
  "language_info": {
   "codemirror_mode": {
    "name": "ipython",
    "version": 3
   },
   "file_extension": ".py",
   "mimetype": "text/x-python",
   "name": "python",
   "nbconvert_exporter": "python",
   "pygments_lexer": "ipython3",
   "version": "3.8.2"
  }
 },
 "nbformat": 4,
 "nbformat_minor": 2
}
