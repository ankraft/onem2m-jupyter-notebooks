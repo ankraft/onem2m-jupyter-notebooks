{
 "cells": [
  {
   "cell_type": "markdown",
   "id": "welsh-convergence",
   "metadata": {},
   "source": [
    "# Access Control - Creating an \\<ACP> Resource\n",
    "\n",
    "This notebook will show how to create an \\<ACP> resource, and how to assigns it to a resource.\n",
    "\n",
    "- How does Authorization with \\<ACP>'s Work?\n",
    "- CREATE an \\<ACP> resource\n",
    "- Link the \\<ACP> to the \\<container> resource\n",
    "- Make request to resources from another originator\n",
    "\n",
    "\n",
    "## Intitialization\n",
    "<div class=\"alert alert-block alert-info\" style=\"border-radius: 10px;\">\n",
    "This notebook relies on the resources created in the exercise's previous notebooks.\n",
    "<br/>\n",
    "\n",
    "The following section imports and initializes necessary functions and configurations. \n",
    "It must be executed once for each notebook before running any of cells.</div>"
   ]
  },
  {
   "cell_type": "code",
   "execution_count": null,
   "id": "amateur-incentive",
   "metadata": {},
   "outputs": [],
   "source": [
    "%run ../src/init.py"
   ]
  },
  {
   "cell_type": "markdown",
   "id": "magnetic-couple",
   "metadata": {},
   "source": [
    "## Bob tries to retrieve Alice's \\<container> resource\n",
    "\n",
    "Let's first try Bob to access Alice's \\<container> :"
   ]
  },
  {
   "cell_type": "code",
   "execution_count": null,
   "id": "forbidden-denver",
   "metadata": {
    "scrolled": false
   },
   "outputs": [],
   "source": [
    "RETRIEVE (                                                   # RETRIEVE request\n",
    "    target                  = f'{cseRN}/aeAlice/container',  # Target resource is Alice's <container>\n",
    "    originator              = 'CBob',                        # Request's originator is Bob (mandatory)\n",
    "    requestIdentifier       = '123',                         # Request identifier (mandatory)\n",
    "    releaseVersionIndicator = '3'                            # Request's release version indicator (mandatory)\n",
    ")"
   ]
  },
  {
   "cell_type": "markdown",
   "id": "systematic-background",
   "metadata": {},
   "source": [
    "The request **fails** because Bob has no permissions to the \\<container> resource, and he is also not the original creator of that resource.\n",
    "\n",
    "Let's try to fix this with the following requests.\n",
    "\n",
    "\n",
    "\n",
    "\n",
    "## Create an \\<ACP> resource\n",
    "\n",
    "In this exercise we will create an \\<ACP> resource under the \\<AE> *aeAlice*.\n",
    "\n",
    "An \\<ACP> resource contains mainly a number of *access control rules* for managing access to other resources and to itself. These rules are used in a match-making procedures to control the access to the resources.\n",
    "\n",
    "Access control rules may contain a number of parameters, like time windows, IP address ranges etc, but in our exercises we will only use the originator and the the request operation type for checking."
   ]
  },
  {
   "cell_type": "code",
   "execution_count": null,
   "id": "present-diamond",
   "metadata": {
    "scrolled": false
   },
   "outputs": [],
   "source": [
    "CREATE (                                            # CREATE request\n",
    "    target                  = f'{cseRN}/aeAlice',   # Create the <ACP> under aeAlice \n",
    "    originator              = 'CAlice',             # Request's originator (mandatory)\n",
    "    requestIdentifier       = '123',                # Request identifier (mandatory)\n",
    "    releaseVersionIndicator = '3',                  # Request's release version indicator (mandatory)\n",
    "    resourceType            = '1',                  # The request creates an <ACP> resource\n",
    "    \n",
    "    # Request Content\n",
    "    content = {\n",
    "        'm2m:acp': {\n",
    "            'rn': 'acp',                            # Give the resource the name 'acp'\n",
    "            'pv': {                                 # Set the privileges attribute\n",
    "                'acr': [                            # Add access control rules to the privileges\n",
    "                    {   'acor': [ 'CAlice' ],       # Add Alice to this rule\n",
    "                        'acop': 63                  # Set allowed request types (63 = all possible request types)\n",
    "                    },\n",
    "                    {   'acor': [ 'CBob' ],         # Add another rule for Bob\n",
    "                        'acop': 2                   # Allow only RETRIEVE for Bob\n",
    "                    }\n",
    "                ]\n",
    "            },\n",
    "            'pvs': {\n",
    "                'acr': [                            # Set the self-privileges attribute\n",
    "                    {   'acor': [ 'CAlice' ],       # Add Alice to this rule\n",
    "                        'acop': 63                  # Set allowed request types (63 = all possible request types)\n",
    "                    }\n",
    "                ]\n",
    "            }\n",
    "        }\n",
    "    }\n",
    ")"
   ]
  },
  {
   "cell_type": "markdown",
   "id": "regional-canadian",
   "metadata": {},
   "source": [
    "## Link the \\<container>  to the \\<ACP> resource\n",
    "\n",
    "We now need to link Alice's \\<container> to the newly created \\<ACP> resource. This is done by assigning the \\<ACP>'s *resourceIdentifier* to the \\<container>'s *accessControlPolicyIDs* (*acp*) attribute.\n",
    "\n",
    "<div class=\"alert alert-block alert-success\" style=\"border-radius: 10px\">\n",
    "Note, that when setting the <i>acpi</i> attribute it must be the only attribute in an UPDATE request. Also, the originator of such an UPDATE request is authorized against the <i>self-privileges</i> and not the <i>privileges</i> attribute. This rule is for security reasons. It prevents that just any originator with write permissions to a resource is allowed to change the access control assignments.\n",
    "    \n",
    "Also note, that this rule does not apply when creating a resource. You can always assign an <i>acpi</i> attribute with <i>resource identifiers</i> of already existing \\<ACP> resources to a new resource.\n",
    "</div>"
   ]
  },
  {
   "cell_type": "code",
   "execution_count": null,
   "id": "dried-spiritual",
   "metadata": {},
   "outputs": [],
   "source": [
    "UPDATE (                                                      # UPDATE request\n",
    "    target                  = f'{cseRN}/aeAlice/container',   # Update the <container>\n",
    "    originator              = 'CAlice',                       # Request's originator (mandatory)\n",
    "    requestIdentifier       = '123',                          # Request identifier (mandatory)\n",
    "    releaseVersionIndicator = '3',                            # Request's release version indicator (mandatory)\n",
    "    \n",
    "    # Request Content\n",
    "    content = {\n",
    "        'm2m:cnt': {\n",
    "            'acpi' : [ f'{cseRN}/aeAlice/acp' ]               # Assign the <ACP>'s resourceID \n",
    "        }\n",
    "    }\n",
    ")"
   ]
  },
  {
   "cell_type": "markdown",
   "id": "american-links",
   "metadata": {},
   "source": [
    "## Bob tries again to retrieve Alice's \\<container> resource\n",
    "\n",
    "Now let's try to retrieve Alice's container, again with Bob as the originator."
   ]
  },
  {
   "cell_type": "code",
   "execution_count": null,
   "id": "downtown-reliance",
   "metadata": {
    "scrolled": false
   },
   "outputs": [],
   "source": [
    "RETRIEVE (                                                   # RETRIEVE request\n",
    "    target                  = f'{cseRN}/aeAlice/container',  # Target resource is Alice's <container>\n",
    "    originator              = 'CBob',                        # Request's originator is Bob (mandatory)\n",
    "    requestIdentifier       = '123',                         # Request identifier (mandatory)\n",
    "    releaseVersionIndicator = '3'                            # Request's release version indicator (mandatory)\n",
    ")"
   ]
  },
  {
   "cell_type": "markdown",
   "id": "angry-relaxation",
   "metadata": {},
   "source": [
    "This time access is granted, the request **succeeds** and returns Alice's \\<container>.\n",
    "\n",
    "## Bob tries to delete Alice's \\<container> resource\n",
    "\n",
    "Next, Bob tries to delete Alice's \\<container>:"
   ]
  },
  {
   "cell_type": "code",
   "execution_count": null,
   "id": "arctic-northern",
   "metadata": {},
   "outputs": [],
   "source": [
    "DELETE (                                                     # DELETE request\n",
    "    target                  = f'{cseRN}/aeAlice/container',  # Target resource is Alice's <container>\n",
    "    originator              = 'CBob',                        # Request's originator is Bob (mandatory)\n",
    "    requestIdentifier       = '123',                         # Request identifier (mandatory)\n",
    "    releaseVersionIndicator = '3'                            # Request's release version indicator (mandatory)\n",
    ")"
   ]
  },
  {
   "cell_type": "markdown",
   "id": "imported-plain",
   "metadata": {},
   "source": [
    "This request **fails** because Alice gave Bob only RETRIEVE permissions for the \\<container>, but not DELETE permissions."
   ]
  }
 ],
 "metadata": {
  "kernelspec": {
   "display_name": "Python 3",
   "language": "python",
   "name": "python3"
  },
  "language_info": {
   "codemirror_mode": {
    "name": "ipython",
    "version": 3
   },
   "file_extension": ".py",
   "mimetype": "text/x-python",
   "name": "python",
   "nbconvert_exporter": "python",
   "pygments_lexer": "ipython3",
   "version": "3.8.2"
  }
 },
 "nbformat": 4,
 "nbformat_minor": 5
}
