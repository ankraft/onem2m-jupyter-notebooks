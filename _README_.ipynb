{
 "cells": [
  {
   "cell_type": "markdown",
   "id": "green-sacramento",
   "metadata": {},
   "source": [
    "# oneM2M Exercises\n",
    "\n",
    "These notebooks provide introductions and exercises to oneM2M common services and resource types. \n",
    "\n",
    "You will learn how to register AE's, send and store data in a oneM2M CSE, work with subscriptions and notifications, use access control, and more. \n"
   ]
  },
  {
   "cell_type": "markdown",
   "id": "velvet-recovery",
   "metadata": {},
   "source": [
    "## Exercises\n",
    "\n",
    "\n",
    "- [Hello, CSE - Introduction](00%20-%20Introduction/_README_.ipynb)  \n",
    "An exercise to send a first request to the CSE.\n",
    "- [Application Entities](01%20-%20Application%20Entities/_README_.ipynb)  \n",
    "Registering your first Application\n",
    "- [Access Control](Access%20Control/_README_.ipynb)  \n",
    "Introduction to and exercises for oneM2M's access control procedures\n",
    "\n",
    "\n"
   ]
  },
  {
   "cell_type": "markdown",
   "id": "minor-extraction",
   "metadata": {},
   "source": [
    "## Running a CSE\n",
    "\n",
    "Before working with the exercises you must have access to a running CSE. The notebooks bring their own CSE. Instructions how to work with it can be found in this notebook:\n",
    "\n",
    "- [start-cse.ipynb](start-cse.ipynb)  \n",
    "A CSE for the oneM2M exercises.\n",
    "\n",
    "\n",
    "<div class=\"alert alert-block alert-info\">\n",
    "Please restart the CSE for each exercise. Though the exercises are mostly self-contained it is better if they start with an empty oneM2M resource tree. </div>\n"
   ]
  },
  {
   "cell_type": "markdown",
   "id": "alive-resident",
   "metadata": {},
   "source": [
    "## Running a Notification Server\n",
    "\n",
    "Some notebooks have exercises that will send notifications to a server. To receive, see and reply to notifications we need a so-called *Notification Server* running. Such a server can be found in this notebook:\n",
    "\n",
    "- [start-notificationServer.ipynb](start-notificationServer.ipynb)  \n",
    "A Notification Server for the oneM2M exercises.\n",
    "\n",
    "<div class=\"alert alert-block alert-info\">\n",
    "You can start the Notification Server once for all the exercises. There is no need to restart it, but only one Notification Server must be running at a time. </div>\n"
   ]
  }
 ],
 "metadata": {
  "kernelspec": {
   "display_name": "Python 3",
   "language": "python",
   "name": "python3"
  },
  "language_info": {
   "codemirror_mode": {
    "name": "ipython",
    "version": 3
   },
   "file_extension": ".py",
   "mimetype": "text/x-python",
   "name": "python",
   "nbconvert_exporter": "python",
   "pygments_lexer": "ipython3",
   "version": "3.8.2"
  }
 },
 "nbformat": 4,
 "nbformat_minor": 5
}
