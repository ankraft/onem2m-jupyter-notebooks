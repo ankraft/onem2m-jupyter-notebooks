{
 "cells": [
  {
   "cell_type": "markdown",
   "id": "lined-belle",
   "metadata": {},
   "source": [
    "# Container - Creating a Container\n",
    "\n",
    "This notebook will register a new Application Entity and create a first \\<container> resource.\n",
    "\n",
    "- Register an \\<AE> with a predefined AE-iD\n",
    "- CREATE a \\<container> resource\n",
    "\n",
    "\n",
    "## Intitialization\n",
    "\n",
    "<div class=\"alert alert-block alert-info\" style=\"border-radius: 10px;\">\n",
    "The following section imports and initializes necessary functions and configurations. \n",
    "It must be executed once for each notebook before running any of cells.</div>"
   ]
  },
  {
   "cell_type": "code",
   "execution_count": 1,
   "id": "likely-fitness",
   "metadata": {},
   "outputs": [
    {
     "data": {
      "text/markdown": [
       "<span style='color:green'>**Configuration Ready**</span>"
      ],
      "text/plain": [
       "<IPython.core.display.Markdown object>"
      ]
     },
     "metadata": {},
     "output_type": "display_data"
    }
   ],
   "source": [
    "%run ../src/init.py"
   ]
  },
  {
   "cell_type": "markdown",
   "id": "behavioral-vision",
   "metadata": {},
   "source": [
    "##  Register an Application Entity with a predefined originator\n",
    "\n",
    "For the exercises we will register an Application Entity under which we will create the other resources. We will again use Alice's \\<AE> for this."
   ]
  },
  {
   "cell_type": "code",
   "execution_count": 2,
   "id": "collaborative-timer",
   "metadata": {},
   "outputs": [
    {
     "data": {
      "text/markdown": [
       "### HTTP Request"
      ],
      "text/plain": [
       "<IPython.core.display.Markdown object>"
      ]
     },
     "metadata": {},
     "output_type": "display_data"
    },
    {
     "data": {
      "text/markdown": [
       "**http://localhost:8080/cse-in**"
      ],
      "text/plain": [
       "<IPython.core.display.Markdown object>"
      ]
     },
     "metadata": {},
     "output_type": "display_data"
    },
    {
     "data": {
      "text/markdown": [
       "\n",
       "| HTTP Header | oneM2M Parameter | Value |\n",
       "|:---|:---|:---|\n",
       "| [X-M2M-Origin](#_blank \"Originator - The request's 'From' parameter. It represents the identity of the entity who makes the request. Mandatory in the request and response.\") | From | CAlice |\n",
       "| [X-M2M-RI](#_blank \"Request Identifier - Used to uniquely identify a request. Mandatory in the request and response.\") | Request Identifier | 123 |\n",
       "| [X-M2M-RVI](#_blank \"Release Version Indicator - The requester indicates the release version of the oneM2M specification. Mandatory in the request.\") | Release Version Indicator | 3 |\n",
       "| [Content-Type](#_blank \"Any HTTP request or response with content shall include the Content-type header set to one of 'application/xml', 'application/json', or the oneM2M defined media types\") |  | application/json;ty=2 |\n",
       "| [Accept](#_blank \"The Originator may use the Accept header to indicate which media types are acceptable for the response\") |  | application/json |\n"
      ],
      "text/plain": [
       "<IPython.core.display.Markdown object>"
      ]
     },
     "metadata": {},
     "output_type": "display_data"
    },
    {
     "data": {
      "text/markdown": [
       "\n",
       "#### Request Content\n"
      ],
      "text/plain": [
       "<IPython.core.display.Markdown object>"
      ]
     },
     "metadata": {},
     "output_type": "display_data"
    },
    {
     "data": {
      "text/markdown": [
       "<span style='font-family: monospace;'>{</span>  \n",
       "<span style='font-family: monospace;'>&nbsp;&nbsp;&nbsp;&nbsp;\"[m2m:ae](#_blank \"Application Entity\n",
       "An entity in the application layer that implements an M2M application service logic.\")\": {</span>  \n",
       "<span style='font-family: monospace;'>&nbsp;&nbsp;&nbsp;&nbsp;&nbsp;&nbsp;&nbsp;&nbsp;\"[rn](#_blank \"resource name\n",
       "The name for the resource that is used for 'hierarchical addressing method' to represent the parent-child relationships of resources. If left out in creation requests, the CSE assigns a unique resource name on its own. Mandatory.\")\": \"aeAlice\",</span>  \n",
       "<span style='font-family: monospace;'>&nbsp;&nbsp;&nbsp;&nbsp;&nbsp;&nbsp;&nbsp;&nbsp;\"[api](#_blank \"App-ID\n",
       "An Application Identifier uniquely identifies an M2M Application in a given context. It starts with R (registered) or N (non-registered). Mandatory.\")\": \"NnbAE1\",</span>  \n",
       "<span style='font-family: monospace;'>&nbsp;&nbsp;&nbsp;&nbsp;&nbsp;&nbsp;&nbsp;&nbsp;\"[rr](#_blank \"request reachability\n",
       "This attribute indicates whether a resource can receive requests. Mandatory\")\": false,</span>  \n",
       "<span style='font-family: monospace;'>&nbsp;&nbsp;&nbsp;&nbsp;&nbsp;&nbsp;&nbsp;&nbsp;\"[srv](#_blank \"supported release versions\n",
       "An array that specifies the supported oneM2M specification releases. Mandatory\")\": [</span>  \n",
       "<span style='font-family: monospace;'>&nbsp;&nbsp;&nbsp;&nbsp;&nbsp;&nbsp;&nbsp;&nbsp;&nbsp;&nbsp;&nbsp;&nbsp;\"3\"</span>  \n",
       "<span style='font-family: monospace;'>&nbsp;&nbsp;&nbsp;&nbsp;&nbsp;&nbsp;&nbsp;&nbsp;]</span>  \n",
       "<span style='font-family: monospace;'>&nbsp;&nbsp;&nbsp;&nbsp;}</span>  \n",
       "<span style='font-family: monospace;'>}</span>  \n"
      ],
      "text/plain": [
       "<IPython.core.display.Markdown object>"
      ]
     },
     "metadata": {},
     "output_type": "display_data"
    },
    {
     "data": {
      "text/markdown": [
       "---\n",
       "### HTTP Response"
      ],
      "text/plain": [
       "<IPython.core.display.Markdown object>"
      ]
     },
     "metadata": {},
     "output_type": "display_data"
    },
    {
     "data": {
      "text/markdown": [
       "<span style='color:green'>201 (CREATED)</span>"
      ],
      "text/plain": [
       "<IPython.core.display.Markdown object>"
      ]
     },
     "metadata": {},
     "output_type": "display_data"
    },
    {
     "data": {
      "text/markdown": [
       "\n",
       "| HTTP Header | oneM2M Parameter | Value |\n",
       "|:---|:---|:---|\n",
       "| [X-M2M-RSC](#_blank \"Result Status Code - The request's extended result status code. Mandatory in the response.\") | Result Status Code | [2001](#_blank \"Created - The resource was successfully created\") |\n",
       "| [X-M2M-RI](#_blank \"Request Identifier - Used to uniquely identify a request. Mandatory in the request and response.\") | Request Identifier | 123 |\n",
       "| [X-M2M-RVI](#_blank \"Release Version Indicator - The requester indicates the release version of the oneM2M specification. Mandatory in the request.\") | Release Version Indicator | 3 |\n",
       "| [Content-Type](#_blank \"Any HTTP request or response with content shall include the Content-type header set to one of 'application/xml', 'application/json', or the oneM2M defined media types\") |  | application/json |\n",
       "| [Date](#_blank \"The response's date in UTC/GMT\") |  | Mon, 22 Mar 2021 19:48:17 GMT |\n"
      ],
      "text/plain": [
       "<IPython.core.display.Markdown object>"
      ]
     },
     "metadata": {},
     "output_type": "display_data"
    },
    {
     "data": {
      "text/markdown": [
       "\n",
       "**Result Content**\n"
      ],
      "text/plain": [
       "<IPython.core.display.Markdown object>"
      ]
     },
     "metadata": {},
     "output_type": "display_data"
    },
    {
     "data": {
      "text/markdown": [
       "<span style='font-family: monospace;'>{</span>  \n",
       "<span style='font-family: monospace;'>&nbsp;&nbsp;&nbsp;&nbsp;\"[m2m:ae](#_blank \"Application Entity\n",
       "An entity in the application layer that implements an M2M application service logic.\")\": {</span>  \n",
       "<span style='font-family: monospace;'>&nbsp;&nbsp;&nbsp;&nbsp;&nbsp;&nbsp;&nbsp;&nbsp;\"[rn](#_blank \"resource name\n",
       "The name for the resource that is used for 'hierarchical addressing method' to represent the parent-child relationships of resources. If left out in creation requests, the CSE assigns a unique resource name on its own. Mandatory.\")\": \"aeAlice\",</span>  \n",
       "<span style='font-family: monospace;'>&nbsp;&nbsp;&nbsp;&nbsp;&nbsp;&nbsp;&nbsp;&nbsp;\"[api](#_blank \"App-ID\n",
       "An Application Identifier uniquely identifies an M2M Application in a given context. It starts with R (registered) or N (non-registered). Mandatory.\")\": \"NnbAE1\",</span>  \n",
       "<span style='font-family: monospace;'>&nbsp;&nbsp;&nbsp;&nbsp;&nbsp;&nbsp;&nbsp;&nbsp;\"[rr](#_blank \"request reachability\n",
       "This attribute indicates whether a resource can receive requests. Mandatory\")\": false,</span>  \n",
       "<span style='font-family: monospace;'>&nbsp;&nbsp;&nbsp;&nbsp;&nbsp;&nbsp;&nbsp;&nbsp;\"[srv](#_blank \"supported release versions\n",
       "An array that specifies the supported oneM2M specification releases. Mandatory\")\": [</span>  \n",
       "<span style='font-family: monospace;'>&nbsp;&nbsp;&nbsp;&nbsp;&nbsp;&nbsp;&nbsp;&nbsp;&nbsp;&nbsp;&nbsp;&nbsp;\"3\"</span>  \n",
       "<span style='font-family: monospace;'>&nbsp;&nbsp;&nbsp;&nbsp;&nbsp;&nbsp;&nbsp;&nbsp;],</span>  \n",
       "<span style='font-family: monospace;'>&nbsp;&nbsp;&nbsp;&nbsp;&nbsp;&nbsp;&nbsp;&nbsp;\"[ri](#_blank \"resource identifier\n",
       "An identifier for the resource that is used for 'non-hierarchical addressing method' and uniquely identifies a resource. It is unique in that CSE.\")\": \"CAlice\",</span>  \n",
       "<span style='font-family: monospace;'>&nbsp;&nbsp;&nbsp;&nbsp;&nbsp;&nbsp;&nbsp;&nbsp;\"[ct](#_blank \"creation time\n",
       "Time/date of creation of the resource. This read-only attribute is assigned by the CSE at the time when the resource is locally created. Mandatory.\")\": \"20210322T194817,377672\",</span>  \n",
       "<span style='font-family: monospace;'>&nbsp;&nbsp;&nbsp;&nbsp;&nbsp;&nbsp;&nbsp;&nbsp;\"[lt](#_blank \"last modified time\n",
       "Last modification time/date of the resource. The attribute is set by the CSE when the resource is created, and it is updated when the resource is updated.\")\": \"20210322T194817,377672\",</span>  \n",
       "<span style='font-family: monospace;'>&nbsp;&nbsp;&nbsp;&nbsp;&nbsp;&nbsp;&nbsp;&nbsp;\"[et](#_blank \"expiration time\n",
       "Time/date after which the resource will be deleted by the Hosting CSE. This attribute can be provided by the Originator, and in such a case it will be regarded as a hint to the Hosting CSE on the lifetime of the resource. Optional.\")\": \"20220322T194817,377745\",</span>  \n",
       "<span style='font-family: monospace;'>&nbsp;&nbsp;&nbsp;&nbsp;&nbsp;&nbsp;&nbsp;&nbsp;\"[pi](#_blank \"parent identifier\n",
       "The resourceID of the parent of this resource. The value of this attribute is an empty string for the <CSEBase> resource type.\")\": \"id-in\",</span>  \n",
       "<span style='font-family: monospace;'>&nbsp;&nbsp;&nbsp;&nbsp;&nbsp;&nbsp;&nbsp;&nbsp;\"[ty](#_blank \"resource type\n",
       "This read-only attribute identifies the type of the resource. Each resource has a resourceType attribute. Mandatory.\")\": 2,</span>  \n",
       "<span style='font-family: monospace;'>&nbsp;&nbsp;&nbsp;&nbsp;&nbsp;&nbsp;&nbsp;&nbsp;\"[aei](#_blank \"AE ID\n",
       "An AE-ID uniquely identifies an AE resident on an M2M Node. It identifies an Application Entity for the purpose of all interactions within the M2M System. Mandatory.\")\": \"CAlice\"</span>  \n",
       "<span style='font-family: monospace;'>&nbsp;&nbsp;&nbsp;&nbsp;}</span>  \n",
       "<span style='font-family: monospace;'>}</span>  \n"
      ],
      "text/plain": [
       "<IPython.core.display.Markdown object>"
      ]
     },
     "metadata": {},
     "output_type": "display_data"
    },
    {
     "data": {
      "text/markdown": [
       "---\n",
       "### Current Resource Tree"
      ],
      "text/plain": [
       "<IPython.core.display.Markdown object>"
      ]
     },
     "metadata": {},
     "output_type": "display_data"
    },
    {
     "data": {
      "text/markdown": [
       "<span style='font-family: monospace;'>cse-in -> [m2m:cb](#_blank \"CSEbase\n",
       "A \\<CSEBase> resource represents a CSE. It is the root for all resources that are residing in the CSE.\") | ri=id-in | csi=/id-in                                                                            </span>  \n",
       "<span style='font-family: monospace;'>├── CAdmin -> [m2m:ae](#_blank \"Application Entity\n",
       "An entity in the application layer that implements an M2M application service logic.\") | ri=CAdmin                                                                                    </span>  \n",
       "<span style='font-family: monospace;'>└── aeAlice -> [m2m:ae](#_blank \"Application Entity\n",
       "An entity in the application layer that implements an M2M application service logic.\") | ri=CAlice                                                                                   </span>  \n",
       "<span style='font-family: monospace;'></span>  \n"
      ],
      "text/plain": [
       "<IPython.core.display.Markdown object>"
      ]
     },
     "metadata": {},
     "output_type": "display_data"
    },
    {
     "data": {
      "text/markdown": [
       "---"
      ],
      "text/plain": [
       "<IPython.core.display.Markdown object>"
      ]
     },
     "metadata": {},
     "output_type": "display_data"
    }
   ],
   "source": [
    "CREATE (                                       # CREATE request\n",
    "    target                  = f'{cseRN}',      # Create the <AE> directly under the CSEBase\n",
    "    originator              = 'CAlice',        # Request's originator (mandatory)\n",
    "    requestIdentifier       = '123',           # Request identifier (mandatory)\n",
    "    releaseVersionIndicator = '3',             # Request's release version indicator (mandatory)\n",
    "    resourceType            = 2,               # The request creates an <AE> resource\n",
    "    \n",
    "    # Request Content\n",
    "    content = {\n",
    "        'm2m:ae': {\n",
    "            'rn': 'aeAlice',                   # Give the <AE> resource the name 'aeAlice'\n",
    "            'api': 'NnbAE1',                   # An arbitrary App-ID\n",
    "            'rr': False,                       # No need for request reachability\n",
    "            'srv': [ '3' ]                     # Supported release version is 3\n",
    "\n",
    "        }\n",
    "    }\n",
    ")"
   ]
  },
  {
   "cell_type": "markdown",
   "id": "dried-rogers",
   "metadata": {},
   "source": [
    "<div class=\"alert alert-block alert-info\" style=\"border-radius: 10px;\">\n",
    "You might receive an error message if you haven't deregistered the Application Entity in a previous exercise. If this is the case then don't worry about it, we will just reuse that &lt;AE> resource.\n",
    "</div>\n",
    "\n",
    "## Create a Container resource under Alice's \\<AE>\n",
    "\n",
    "The following request creates a \\<container> resource under Alice's \\<AE>. We also will use this resource in the next exercises.\n",
    "\n",
    "<div class=\"alert alert-block alert-success\" style=\"border-radius: 10px\">\n",
    "The &lt;cnt> resource looks like a very simple resource type. In its simplest form, when it is used as an element to construct a data structurem this is true, but later on you will see that it can help you to manage your data very easily.\n",
    "</div>"
   ]
  },
  {
   "cell_type": "code",
   "execution_count": null,
   "id": "historical-jackson",
   "metadata": {},
   "outputs": [],
   "source": [
    "CREATE (                                            # CREATE request\n",
    "    target                  = f'{cseRN}/aeAlice',   # Create a <cnt> under the <AE>\n",
    "    originator              = 'CAlice',             # Request's originator (mandatory)\n",
    "    requestIdentifier       = '123',                # Request identifier (mandatory)\n",
    "    releaseVersionIndicator = '3',                  # Request's release version indicator (mandatory)\n",
    "    resourceType            = 3,                    # The request creates an <cnt> resource\n",
    "    \n",
    "    # Request Content\n",
    "    content = {\n",
    "        \"m2m:cnt\": {\n",
    "            \"rn\":\"container\"                        # Give the <cnt> resource the name 'container'\n",
    "        }\n",
    "    }\n",
    ")"
   ]
  },
  {
   "cell_type": "markdown",
   "id": "inside-schema",
   "metadata": {},
   "source": [
    "<div class=\"alert alert-block alert-success\" style=\"border-radius: 10px\">\n",
    "When you take a closer look at the newly created &lt;cnt> resource you will notice two additional resources: <i>la</i> (for \"latest\") and <i>ol</i> (for \"oldest\"). These two so-called \"virtual\" resources were added by the CSE and will be further explained in the next exercise.\n",
    "</div>"
   ]
  }
 ],
 "metadata": {
  "kernelspec": {
   "display_name": "Python 3",
   "language": "python",
   "name": "python3"
  },
  "language_info": {
   "codemirror_mode": {
    "name": "ipython",
    "version": 3
   },
   "file_extension": ".py",
   "mimetype": "text/x-python",
   "name": "python",
   "nbconvert_exporter": "python",
   "pygments_lexer": "ipython3",
   "version": "3.8.2"
  }
 },
 "nbformat": 4,
 "nbformat_minor": 5
}
