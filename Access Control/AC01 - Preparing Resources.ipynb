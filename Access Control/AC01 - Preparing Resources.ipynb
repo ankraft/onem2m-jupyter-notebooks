{
 "cells": [
  {
   "cell_type": "markdown",
   "id": "fixed-douglas",
   "metadata": {},
   "source": [
    "# Access Control - Preparing Resources\n",
    "This and the following notebooks introduces Access Control Policies and how to work with access control. \n",
    "\n",
    "This first notebook will create the necessary resources for the exercises in the following notebooks. \n",
    "\n",
    "- Register a first Application Entity : \"aeAlice\"\n",
    "- CREATE a \\<container> under the \\<AE> \"aeAlice\"\n",
    "- Register a second Application Entity : \"aeBob\"\n",
    "\n",
    "\n",
    "## Intitialization\n",
    "<div class=\"alert alert-block alert-info\" style=\"border-radius: 10px;\">\n",
    "The following section imports and initializes necessary functions and configurations. \n",
    "It must be executed once for each notebook before running any of cells.</div>"
   ]
  },
  {
   "cell_type": "code",
   "execution_count": null,
   "id": "external-focus",
   "metadata": {
    "scrolled": true
   },
   "outputs": [],
   "source": [
    "%run ../src/init.py"
   ]
  },
  {
   "cell_type": "markdown",
   "id": "sacred-footage",
   "metadata": {},
   "source": [
    "## Register a first Application Entity : \"aeAlice\"\n",
    "\n",
    "Here we register one Application Entity that will represent the first application. It will have the originator *CAlice*."
   ]
  },
  {
   "cell_type": "code",
   "execution_count": null,
   "id": "printable-exploration",
   "metadata": {},
   "outputs": [],
   "source": [
    "CREATE (                                  # CREATE request\n",
    "    target                  = cseRN,      # Create the new <AE> under the CSEBase\n",
    "    originator              = 'CAlice',   # Request's originator (mandatory)\n",
    "    requestIdentifier       = '123',      # Request identifier (mandatory)\n",
    "    releaseVersionIndicator = '3',        # Request's release version indicator (mandatory)\n",
    "    resourceType            = tyAE,       # The request creates an <AE> resource\n",
    "    \n",
    "    # Request Content\n",
    "    content = {\n",
    "        'm2m:ae': {\n",
    "            'rn': 'aeAlice',              # The first resource is named 'aeAlice'\n",
    "            'api': 'NnbAcp1',             # An arbitrary App-ID\n",
    "            'rr': False,                  # No need for request reachability\n",
    "            'srv': [ '3' ]                # Supported release version is 3\n",
    "        }\n",
    "    }\n",
    ")"
   ]
  },
  {
   "cell_type": "markdown",
   "id": "limiting-corner",
   "metadata": {},
   "source": [
    "## CREATE a Container under the \\<AE> *aeAlice*\n",
    "\n",
    "For the exercise we will create a \\<container> resource under the \\<AE> resource *aeAlice*. \n",
    "\n",
    "We will use the Originator the *AE-ID* \"CAlice\". \"CAlice\" is the creator of the \\<AE> resource  and, without any other access control mechanisms in place, has all access rights for it.\n",
    "\n",
    "<div class=\"alert alert-block alert-success\" style=\"border-radius: 10px\">\n",
    "When no other access control mechanism is in place, then the creator of a resource has all access rights to that resource.\n",
    "</div>"
   ]
  },
  {
   "cell_type": "code",
   "execution_count": null,
   "id": "electric-challenge",
   "metadata": {
    "scrolled": false
   },
   "outputs": [],
   "source": [
    "CREATE (                                           # CREATE request\n",
    "    target                  = f'{cseRN}/aeAlice',  # Create the <container> under aeAlice\n",
    "    originator              = 'CAlice',            # Request's originator (mandatory)\n",
    "    requestIdentifier       = '123',               # Request identifier (mandatory)\n",
    "    releaseVersionIndicator = '3',                 # Request's release version indicator (mandatory)\n",
    "    resourceType            = tyContainer,         # The request creates an <container> resource\n",
    "\n",
    "    # Request Content\n",
    "    content = {\n",
    "        'm2m:cnt': {\n",
    "            'rn': 'container'\n",
    "        }\n",
    "    }\n",
    ")"
   ]
  },
  {
   "cell_type": "markdown",
   "id": "colonial-official",
   "metadata": {},
   "source": [
    "## Register a second Application Entity : \"aeBob\"\n",
    "\n",
    "Here we register a second Application Entity that will represent the second application. It will have the originator *CBob*."
   ]
  },
  {
   "cell_type": "code",
   "execution_count": null,
   "id": "limiting-diagnosis",
   "metadata": {},
   "outputs": [],
   "source": [
    "CREATE (                                # CREATE request\n",
    "    target                  = cseRN,    # Create the new <AE> under the CSEBase\n",
    "    originator              = 'CBob',   # Request's originator (mandatory)\n",
    "    requestIdentifier       = '123',    # Request identifier (mandatory)\n",
    "    releaseVersionIndicator = '3',      # Request's release version indicator (mandatory)\n",
    "    resourceType            = tyAE,     # The request creates an <AE> resource\n",
    "    \n",
    "    # Request Content\n",
    "    content = {\n",
    "        'm2m:ae': {\n",
    "            'rn': 'aeBob',              # The first resource is named 'aeBob'\n",
    "            'api': 'NnbAcp2',           # An arbitrary App-ID\n",
    "            'rr': False,                # No need for request reachability\n",
    "            'srv': [ '3' ]              # Supported release version is 3\n",
    "        }\n",
    "    }\n",
    ")"
   ]
  },
  {
   "cell_type": "markdown",
   "id": "opposite-roulette",
   "metadata": {},
   "source": [
    "&nbsp;"
   ]
  }
 ],
 "metadata": {
  "kernelspec": {
   "display_name": "Python 3",
   "language": "python",
   "name": "python3"
  },
  "language_info": {
   "codemirror_mode": {
    "name": "ipython",
    "version": 3
   },
   "file_extension": ".py",
   "mimetype": "text/x-python",
   "name": "python",
   "nbconvert_exporter": "python",
   "pygments_lexer": "ipython3",
   "version": "3.8.2"
  }
 },
 "nbformat": 4,
 "nbformat_minor": 5
}
