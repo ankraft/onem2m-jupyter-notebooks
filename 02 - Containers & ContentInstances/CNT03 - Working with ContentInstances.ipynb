{
 "cells": [
  {
   "cell_type": "markdown",
   "id": "radical-worthy",
   "metadata": {},
   "source": [
    "# Container - Working with ContentInstances\n",
    "\n",
    "\n",
    "In this notebook you will learn how to store and handle data by using \\<container> and \\<contentInstance> resources.\n",
    "\n",
    "In this notebook we will continue to use the resource structure created in the previous notebooks of this lecture.\n",
    "\n",
    "\n",
    "- Store and retrieve data by using a \\<contentInstance> resource\n",
    "- Update the data under a \\<container> resource\n",
    "- Retrieve the latest and oldest \\<contentInstance> resources\n",
    "\n",
    "\n",
    "## Intitialization\n",
    "\n",
    "<div class=\"alert alert-block alert-info\" style=\"border-radius: 10px;\">\n",
    "The following section imports and initializes necessary functions and configurations. \n",
    "It must be executed once for each notebook before running any of cells.</div>"
   ]
  },
  {
   "cell_type": "code",
   "execution_count": null,
   "id": "african-radical",
   "metadata": {},
   "outputs": [],
   "source": [
    "%run ../src/init.py"
   ]
  },
  {
   "cell_type": "markdown",
   "id": "stretch-champagne",
   "metadata": {},
   "source": [
    "## Store data using a \\<contentInstance> resource\n",
    "\n",
    "In a previous notebook Alice prepared the resource structure by registering an \\<AE> and creating a \\<container> child resource.\n",
    "\n",
    "Let's now add a very simple \\<contentInstance> resource to store an important message."
   ]
  },
  {
   "cell_type": "code",
   "execution_count": null,
   "id": "placed-jewelry",
   "metadata": {},
   "outputs": [],
   "source": [
    "CREATE (                                                      # CREATE request\n",
    "    target                  = f'{cseRN}/aeAlice/container',   # Create the <cin> under aeAlice's <cnt>\n",
    "    originator              = 'CAlice',                       # Request's originator (mandatory)\n",
    "    requestIdentifier       = '123',                          # Request identifier (mandatory)\n",
    "    releaseVersionIndicator = '3',                            # Request's release version indicator (mandatory)\n",
    "    resourceType            = Type.ContentInstance,           # The request creates a <cin> resource\n",
    "    \n",
    "    # Request Content\n",
    "    content = {\n",
    "        \"m2m:cin\": {\n",
    "            \"rn\" : \"one\",                                     # Assign a nice resource name so that we can access the resource easier\n",
    "            \"con\": \"hello, world\"                             # Only add some content\n",
    "        }\n",
    "    }\n",
    ")"
   ]
  },
  {
   "cell_type": "markdown",
   "id": "unauthorized-volleyball",
   "metadata": {},
   "source": [
    "As you can see from the resource tree the \\<container> resource has now three child resources: the new \\<contentInstance> resource, and the two virtual resources \\<oldest> and \\<latest>.\n",
    "\n",
    "<div class=\"alert alert-block alert-success\" style=\"border-radius: 10px\">\n",
    "    In the last request we assigned a <i>resourceName</i> to the resource so that we can easily retrieve it using its name in the following request. But in most cases it would not be feasible for an AE to assign a different <i>resourceName</i> for each ContentInstance resource and also to keep track of it. Therefore, in future CREATE requests in these exercises we will mostly leave it out, too.\n",
    "</div>\n",
    "\n",
    "## Retrieve the \\<contentInstance>\n",
    "\n",
    "Alice will retrieve the just added \\<contentInstance> resource from the CSE with the following request."
   ]
  },
  {
   "cell_type": "code",
   "execution_count": null,
   "id": "polish-calgary",
   "metadata": {},
   "outputs": [],
   "source": [
    "RETRIEVE (                                                       # RETRIEVE request\n",
    "    target                  = f'{cseRN}/aeAlice/container/one',  # Target resource is the <cin> under Alice's <cnt>\n",
    "    originator              = 'CAlice',                          # Request's originator is CAlice (mandatory)\n",
    "    requestIdentifier       = '123',                             # Request identifier (mandatory)\n",
    "    releaseVersionIndicator = '3'                                # Request's release version indicator (mandatory)\n",
    ")"
   ]
  },
  {
   "cell_type": "markdown",
   "id": "comparative-calendar",
   "metadata": {},
   "source": [
    "## Update the \\<contentInstance>\n",
    "\n",
    "Now Alice will try to update the \\<contentInstance resource with an UPDATE request."
   ]
  },
  {
   "cell_type": "code",
   "execution_count": null,
   "id": "geological-african",
   "metadata": {},
   "outputs": [],
   "source": [
    "UPDATE (                                                        # UPDATE request\n",
    "    target                  = f'{cseRN}/aeAlice/container/one', # Update the <cin> under aeAlice's <cnt>\n",
    "    originator              = 'CAlice',                         # Request's originator (mandatory)\n",
    "    requestIdentifier       = '123',                            # Request identifier (mandatory)\n",
    "    releaseVersionIndicator = '3',                              # Request's release version indicator (mandatory)\n",
    "    \n",
    "    # Request Content\n",
    "    content = {\n",
    "        \"m2m:cin\": {\n",
    "            \"con\": \"hello, CSE\"                                 # Update the content\n",
    "        }\n",
    "    }\n",
    ")"
   ]
  },
  {
   "cell_type": "markdown",
   "id": "willing-mistake",
   "metadata": {},
   "source": [
    "This request **fails**, because the \\<contentInstance> resource cannot be updated. \n",
    "\n",
    "<div class=\"alert alert-block alert-success\" style=\"border-radius: 10px\">\n",
    "You should treat it as one version of the data that it contains. All &lt;contentInstance> resources under a &lt;container> are usually different versions of the same data point.\n",
    "</div>\n",
    "\n",
    "## Add a new \\<contentInstance> resource\n",
    "\n",
    "Instead of updating the existing \\<contentInstance> resource Alice will now add a new resource with the changed content data. And while she's at it she will fill in the *contentInfo* attribute as well.\n",
    "\n",
    "<div class=\"alert alert-block alert-success\" style=\"border-radius: 10px\">\n",
    "    The <i>contentInfo</i> attribute is a list of colon-separated values that provide data consumers with additional information how to decode and process the data in the <i>content</i> attribute:  \n",
    "    \n",
    "<li>what it is: MIME type (this part is mandatory)</li>\n",
    "<li>how it is encoded: either not encoded, base64 on string data, or base64 on binary data (this part is mandatory as well)</li>\n",
    "<li>what content security has been applied (this is optional, the default is none).\n",
    "    The CSE itself does not process the values in the <i>contentInfo</i> or the <i>content</i> attributes.\n",
    "</div>\n"
   ]
  },
  {
   "cell_type": "code",
   "execution_count": null,
   "id": "stunning-nebraska",
   "metadata": {},
   "outputs": [],
   "source": [
    "CREATE (                                                      # CREATE request\n",
    "    target                  = f'{cseRN}/aeAlice/container',   # Create the <cin> under aeAlice's <cnt>\n",
    "    originator              = 'CAlice',                       # Request's originator (mandatory)\n",
    "    requestIdentifier       = '123',                          # Request identifier (mandatory)\n",
    "    releaseVersionIndicator = '3',                            # Request's release version indicator (mandatory)\n",
    "    resourceType            = Type.ContentInstance,           # The request creates a <cin> resource\n",
    "    \n",
    "    # Request Content\n",
    "    content = {\n",
    "        \"m2m:cin\": {\n",
    "            \"rn\" : \"two\",                                     # Assign another nice resource name so that we can access the resource easier\n",
    "            \"cnf\": \"application/text:0\",                      # Content type & encoding (0=none)\n",
    "            \"con\": \"hello, CSE\"                               # \"update\" the content\n",
    "        }\n",
    "    }\n",
    ")"
   ]
  },
  {
   "cell_type": "markdown",
   "id": "focused-sociology",
   "metadata": {},
   "source": [
    "This request created another \\<contentInstance>. As you can see from the response and the tree above a new resource was added to the \\<container> that represents the new value. You can also see that the *contentInfo* (*cnf*) attribute is set.\n",
    "\n",
    "# Retrieve the \\<latest> and \\<oldest> resources\n",
    "\n",
    "There could be a large number of \\<contentInstance> resources under a \\<container> resource. It would be very helpful for Alice if she could retrieve the latest or the oldest of these resource.\n",
    "\n",
    "With the following two request we can retrieve these resources.\n",
    "\n",
    "<div class=\"alert alert-block alert-success\" style=\"border-radius: 10px\">\n",
    "&lt;latest> and &lt;oldest> are virtual resources that automatically point to the latest and oldest &lt;contentInstance> resources under a &lt;container> resource, respectively. Sending a RETRIEVE request to one of these resources will return the corresponding &lt;contentInstance> resource.\n",
    "</div>"
   ]
  },
  {
   "cell_type": "code",
   "execution_count": null,
   "id": "elegant-mountain",
   "metadata": {},
   "outputs": [],
   "source": [
    "RETRIEVE (                                                       # RETRIEVE request\n",
    "    target                  = f'{cseRN}/aeAlice/container/la',   # Target resource is the <latest> virtual resource\n",
    "    originator              = 'CAlice',                          # Request's originator is CAlice (mandatory)\n",
    "    requestIdentifier       = '123',                             # Request identifier (mandatory)\n",
    "    releaseVersionIndicator = '3'                                # Request's release version indicator (mandatory)\n",
    ")"
   ]
  },
  {
   "cell_type": "markdown",
   "id": "rising-optics",
   "metadata": {},
   "source": [
    "The \\<contentInstance> resource \"two\" was the last one created by Alice, so this resource is returned in this request"
   ]
  },
  {
   "cell_type": "code",
   "execution_count": null,
   "id": "confident-desperate",
   "metadata": {},
   "outputs": [],
   "source": [
    "RETRIEVE (                                                       # RETRIEVE request\n",
    "    target                  = f'{cseRN}/aeAlice/container/ol',   # Target resource is the <oldest> virtual resource\n",
    "    originator              = 'CAlice',                          # Request's originator is CAlice (mandatory)\n",
    "    requestIdentifier       = '123',                             # Request identifier (mandatory)\n",
    "    releaseVersionIndicator = '3'                                # Request's release version indicator (mandatory)\n",
    ")"
   ]
  },
  {
   "cell_type": "markdown",
   "id": "judicial-elements",
   "metadata": {},
   "source": [
    "This time the request returns the \\<contentInstance> resource \"one\" (which Alice created first).\n",
    "\n",
    "<div class=\"alert alert-block alert-success\" style=\"border-radius: 10px\">\n",
    " If you have a closer look at the retrieved resources you will notice the attribute <i>st</i> (or <i>state</i>). This attribute contains a kind of sequence number, applied by the parent &lt;container> resource. This number is used internally by the CSE but can also be used by an AE to process  &lt;contentInstance> resources the right order.    \n",
    "</div>"
   ]
  }
 ],
 "metadata": {
  "kernelspec": {
   "display_name": "Python 3",
   "language": "python",
   "name": "python3"
  },
  "language_info": {
   "codemirror_mode": {
    "name": "ipython",
    "version": 3
   },
   "file_extension": ".py",
   "mimetype": "text/x-python",
   "name": "python",
   "nbconvert_exporter": "python",
   "pygments_lexer": "ipython3",
   "version": "3.8.2"
  }
 },
 "nbformat": 4,
 "nbformat_minor": 5
}
