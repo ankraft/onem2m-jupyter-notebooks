{
 "cells": [
  {
   "cell_type": "markdown",
   "metadata": {},
   "source": [
    "# oneM2M - Cleanup\n",
    "This notebook removes the &lt;AE> resource and all its sub-resources.\n",
    "\n",
    "- Delete the &lt;AE> resource\n",
    "- Delete the second &lt;AE> resource\n",
    "- Delete the &lt;ACP> resource\n",
    "\n",
    "**Note**: You shouldn't execute this notebook if you want to execute the examples from the other notebooks. Otherwise, you have to execute the code cells from this notebook again.\n",
    "\n",
    "**Note**: It might be the case that some of the requests below might fail because the resources have not been created. This is just normal.\n",
    "\n",
    "## Intitialization\n",
    "The section does import necessary modules and configurations."
   ]
  },
  {
   "cell_type": "code",
   "execution_count": null,
   "metadata": {},
   "outputs": [],
   "source": [
    "%run init.py"
   ]
  },
  {
   "cell_type": "markdown",
   "metadata": {},
   "source": [
    "## Delete the &lt;AE> Resource and all its Sub-Resources\n",
    "This section deletes the &lt;AE> resource and all its sub-resources from the CSE."
   ]
  },
  {
   "cell_type": "code",
   "execution_count": null,
   "metadata": {},
   "outputs": [],
   "source": [
    "DELETE (\n",
    "    url + '/Notebook-AE',\n",
    "    \n",
    "    # Request Headers\n",
    "    {\n",
    "        'X-M2M-Origin' : originator,                # Set the originator\n",
    "        'X-M2M-RI'     : '0',                       # Unique request identifier\n",
    "        'Accept'       : 'application/json'         # Response shall be JSON\n",
    "    }\n",
    ")"
   ]
  },
  {
   "cell_type": "markdown",
   "metadata": {},
   "source": [
    "## Delete the second &lt;AE> Resource and all its Sub-Resources\n",
    "This section deletes the second &lt;AE> resource and all its sub-resources from the CSE."
   ]
  },
  {
   "cell_type": "code",
   "execution_count": null,
   "metadata": {},
   "outputs": [],
   "source": [
    "DELETE (\n",
    "    url + '/Notebook-AE_2',\n",
    "    \n",
    "    # Request Headers\n",
    "    {\n",
    "        'X-M2M-Origin' : 'abcxyz',                 # Set the originator\n",
    "        'X-M2M-RI'     : '0',                      # Unique request identifier\n",
    "        'Accept'       : 'application/json'        # Response shall be JSON\n",
    "    }\n",
    ")"
   ]
  },
  {
   "cell_type": "markdown",
   "metadata": {},
   "source": [
    "## Delete the &lt;ACP> Resource\n",
    "This section deletes the &lt;ACP> resource."
   ]
  },
  {
   "cell_type": "code",
   "execution_count": null,
   "metadata": {},
   "outputs": [],
   "source": [
    "DELETE (\n",
    "    url + '/Notebook-ACP',\n",
    "    \n",
    "    # Request Headers\n",
    "    {\n",
    "        'X-M2M-Origin' : originator,                # Set the originator\n",
    "        'X-M2M-RI'     : '0',                       # Unique request identifier\n",
    "        'Accept'       : 'application/json'         # Response shall be JSONcc\n",
    "    }\n",
    ")"
   ]
  },
  {
   "cell_type": "markdown",
   "metadata": {},
   "source": [
    "  "
   ]
  }
 ],
 "metadata": {
  "kernelspec": {
   "display_name": "Python 3",
   "language": "python",
   "name": "python3"
  },
  "language_info": {
   "codemirror_mode": {
    "name": "ipython",
    "version": 3
   },
   "file_extension": ".py",
   "mimetype": "text/x-python",
   "name": "python",
   "nbconvert_exporter": "python",
   "pygments_lexer": "ipython3",
   "version": "3.8.2"
  }
 },
 "nbformat": 4,
 "nbformat_minor": 2
}
