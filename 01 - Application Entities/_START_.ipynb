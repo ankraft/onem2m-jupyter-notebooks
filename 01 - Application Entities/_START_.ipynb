{
 "cells": [
  {
   "cell_type": "markdown",
   "id": "horizontal-webmaster",
   "metadata": {},
   "source": [
    "# AE - Application Entities\n",
    "\n",
    "These exercises introduce oneM2M Application Entities.\n",
    "\n",
    "You should run these notebooks in order because they build on each other.\n",
    "\n",
    "\n",
    "- [AE01 - Introduction to AEs](AE01%20-%20Introduction%20to%20AEs.ipynb)  \n",
    "Introducing the concepts around Application Entities.\n",
    "- [AE02 - Registering AEs](AE02%20-%20Registering%20AEs.ipynb)  \n",
    "Register your first Application Entities.\n",
    "- [AE03 - Updating an AE](AE03%20-%20Updating%20an%20AE.ipynb)  \n",
    "Add and update new values of an \\<AE> resource.\n",
    "- [AE04 - Deregistering AEs](AE04%20-%20Deregistering%20AEs.ipynb)  \n",
    "Deregister the \\<AE> resources."
   ]
  },
  {
   "cell_type": "markdown",
   "id": "personalized-mechanism",
   "metadata": {},
   "source": [
    "&nbsp;"
   ]
  }
 ],
 "metadata": {
  "kernelspec": {
   "display_name": "Python 3",
   "language": "python",
   "name": "python3"
  },
  "language_info": {
   "codemirror_mode": {
    "name": "ipython",
    "version": 3
   },
   "file_extension": ".py",
   "mimetype": "text/x-python",
   "name": "python",
   "nbconvert_exporter": "python",
   "pygments_lexer": "ipython3",
   "version": "3.8.2"
  }
 },
 "nbformat": 4,
 "nbformat_minor": 5
}
