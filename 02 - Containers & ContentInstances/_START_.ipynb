{
 "cells": [
  {
   "cell_type": "markdown",
   "id": "about-flower",
   "metadata": {},
   "source": [
    "# Managing Data with Containers and ContentInstances\n",
    "\n",
    "This lecture shows how to store, retrieve, and manage data in the CSE\n",
    "\n",
    "You should run these notebooks in order because they build on each other.\n",
    "\n",
    "\n",
    "- [CNT01 - Creating a Container](CNT01%20-%20Creating%20a%20Container.ipynb)  \n",
    "Create you first container.\n",
    "- [CNT02 - Introduction to Containers](CNT02%20-%20Introduction%20to%20Containers.ipynb)  \n",
    "Introducing the \\<container> and \\<contentInstance> resource types.\n",
    "- [CNT03 - Working with ContentInstances](CNT03%20-%20Working%20with%20ContentInstances.ipynb)  \n",
    "Create and retrieve \\<contentInstance> resources.\n",
    "- [CNT04 - Managing ContentInstances](CNT04%20-%20Managing%20ContentInstances.ipynb)  \n",
    "Let the \\<container> help with managing \\<contentInstance> resources.\n",
    "\n",
    "\n"
   ]
  }
 ],
 "metadata": {
  "kernelspec": {
   "display_name": "Python 3",
   "language": "python",
   "name": "python3"
  },
  "language_info": {
   "codemirror_mode": {
    "name": "ipython",
    "version": 3
   },
   "file_extension": ".py",
   "mimetype": "text/x-python",
   "name": "python",
   "nbconvert_exporter": "python",
   "pygments_lexer": "ipython3",
   "version": "3.8.2"
  }
 },
 "nbformat": 4,
 "nbformat_minor": 5
}
