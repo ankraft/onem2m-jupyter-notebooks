{
 "cells": [
  {
   "cell_type": "markdown",
   "id": "radical-worthy",
   "metadata": {},
   "source": [
    "# Container - Building an Application\n",
    "\n",
    "\n",
    "In this notebook you will learn how to use \\<container> resources to represent structured data for an application.\n",
    "\n",
    "In this notebook we will continue to use the resource structure created in the previous notebooks of this lecture.\n",
    "\n",
    "\n",
    "- Create the application's data structure in the CSE\n",
    "- Fill the structure with simulated data\n",
    "- Retrieve and visualize the data\n",
    "\n",
    "\n",
    "## Intitialization\n",
    "\n",
    "<div class=\"alert alert-block alert-info\" style=\"border-radius: 10px;\">\n",
    "The following section imports and initializes necessary functions and configurations. \n",
    "It must be executed once for each notebook before running any of cells.</div>"
   ]
  },
  {
   "cell_type": "code",
   "execution_count": null,
   "id": "driven-agent",
   "metadata": {},
   "outputs": [],
   "source": [
    "%run ../src/init.py"
   ]
  },
  {
   "cell_type": "markdown",
   "id": "stretch-champagne",
   "metadata": {},
   "source": [
    "## Create the \\<container> structure\n",
    "\n",
    "Alice bought a connected sensor device that can measure temperature and humidity. She likes to store the data from that device in the CSE. For that she will create a small hierarchie of \\<container> resources that will represent her new device.\n",
    "\n",
    "This figure shows the intended structure for the sensor device:\n",
    "\n",
    "![](containerSensor.png)\n",
    "\n",
    "The following three requests will setup this structure.\n",
    "\n",
    "\n",
    "anschliessend CIN mit random numbers\n",
    "\n",
    "### Create \\<container> resource \"aliceSensor\""
   ]
  },
  {
   "cell_type": "code",
   "execution_count": null,
   "id": "coated-combine",
   "metadata": {},
   "outputs": [],
   "source": [
    "CREATE (                                            # CREATE request\n",
    "    target                  = f'{cseRN}/aeAlice',   # Create a <cnt> under the <AE>\n",
    "    originator              = 'CAlice',             # Request's originator (mandatory)\n",
    "    requestIdentifier       = '123',                # Request identifier (mandatory)\n",
    "    releaseVersionIndicator = '3',                  # Request's release version indicator (mandatory)\n",
    "    resourceType            = 3,                    # The request creates an <cnt> resource\n",
    "    \n",
    "    # Request Content\n",
    "    content = {\n",
    "        \"m2m:cnt\": {\n",
    "            \"rn\"  : \"aliceSensor\"                   # Give the <cnt> resource the name 'aliceSensor'\n",
    "        }\n",
    "    }\n",
    ")"
   ]
  },
  {
   "cell_type": "markdown",
   "id": "sapphire-suspect",
   "metadata": {},
   "source": [
    "### Create \\<container> resource \"temperature\""
   ]
  },
  {
   "cell_type": "code",
   "execution_count": null,
   "id": "wireless-pixel",
   "metadata": {},
   "outputs": [],
   "source": [
    "CREATE (                                                        # CREATE request\n",
    "    target                  = f'{cseRN}/aeAlice/aliceSensor',   # Create a <cnt> under \"aliceSensor\"\n",
    "    originator              = 'CAlice',                         # Request's originator (mandatory)\n",
    "    requestIdentifier       = '123',                            # Request identifier (mandatory)\n",
    "    releaseVersionIndicator = '3',                              # Request's release version indicator (mandatory)\n",
    "    resourceType            = 3,                                # The request creates an <cnt> resource\n",
    "    \n",
    "    # Request Content\n",
    "    content = {\n",
    "        \"m2m:cnt\": {\n",
    "            \"mni\" : 10,                                         # Limit the number of <cin> to 10\n",
    "            \"rn\"  : \"temperature\"                               # Give the <cnt> resource the name 'temperature'\n",
    "        }\n",
    "    }\n",
    ")"
   ]
  },
  {
   "cell_type": "markdown",
   "id": "future-skiing",
   "metadata": {},
   "source": [
    "### Create \\<container> resource \"humidity\""
   ]
  },
  {
   "cell_type": "code",
   "execution_count": null,
   "id": "ignored-square",
   "metadata": {},
   "outputs": [],
   "source": [
    "CREATE (                                                        # CREATE request\n",
    "    target                  = f'{cseRN}/aeAlice/aliceSensor',   # Create a <cnt> under \"aliceSensor\"\n",
    "    originator              = 'CAlice',                         # Request's originator (mandatory)\n",
    "    requestIdentifier       = '123',                            # Request identifier (mandatory)\n",
    "    releaseVersionIndicator = '3',                              # Request's release version indicator (mandatory)\n",
    "    resourceType            = 3,                                # The request creates an <cnt> resource\n",
    "    \n",
    "    # Request Content\n",
    "    content = {\n",
    "        \"m2m:cnt\": {\n",
    "            \"mni\" : 10,                                         # Limit the number of <cin> to 10\n",
    "            \"rn\"  : \"humidity\"                                  # Give the <cnt> resource the name 'humidity'\n",
    "        }\n",
    "    }\n",
    ")"
   ]
  },
  {
   "cell_type": "markdown",
   "id": "exposed-gross",
   "metadata": {},
   "source": [
    "After this request the structure should be complete. \n",
    "\n",
    "## Add sensor data to the \\<container> resources\n",
    "\n",
    "Now that the structure is complete Alice can connect her new device and fill the structure with sensor data.\n",
    "\n",
    "\n",
    "<div class=\"alert alert-block alert-info\" style=\"border-radius: 10px;\">\n",
    "We will simulate the device data by a couple of random numbers (using the <b><tt>randomTemperature()</tt></b> and <b><tt>randomHumidity()</tt></b> functions). Those are alll generated at once by repeatingly sending a CREATE request.\n",
    "    \n",
    "These requests produce a bit more output.\n",
    "</div>\n",
    "\n",
    "### Create temperature data"
   ]
  },
  {
   "cell_type": "code",
   "execution_count": null,
   "id": "placed-jewelry",
   "metadata": {
    "scrolled": false
   },
   "outputs": [],
   "source": [
    "repeat(\n",
    "    times   = 4,\n",
    "    \n",
    "    request = lambda : CREATE (                                                 # CREATE request\n",
    "        target                  = f'{cseRN}/aeAlice/aliceSensor/temperature',   # Create a <cin> under the temperature <cnt>\n",
    "        originator              = 'CAlice',                                     # Request's originator (mandatory)\n",
    "        requestIdentifier       = '123',                                        # Request identifier (mandatory)\n",
    "        releaseVersionIndicator = '3',                                          # Request's release version indicator (mandatory)\n",
    "        resourceType            = 4,                                            # The request creates a <cin> resource\n",
    "    \n",
    "        # Request Content\n",
    "        content = {\n",
    "            \"m2m:cin\": {\n",
    "                \"con\": randomTemperature()                                      # Produce \"temperature\" data\n",
    "            }\n",
    "        }\n",
    "    )\n",
    ")"
   ]
  },
  {
   "cell_type": "markdown",
   "id": "widespread-pepper",
   "metadata": {},
   "source": [
    "### Create humidity data"
   ]
  },
  {
   "cell_type": "code",
   "execution_count": null,
   "id": "packed-junction",
   "metadata": {
    "scrolled": false
   },
   "outputs": [],
   "source": [
    "repeat(\n",
    "    times   = 4,\n",
    "    \n",
    "    request = lambda : CREATE (                                                 # CREATE request\n",
    "        target                  = f'{cseRN}/aeAlice/aliceSensor/humidity',      # Create a <cin> under the temperature <cnt>\n",
    "        originator              = 'CAlice',                                     # Request's originator (mandatory)\n",
    "        requestIdentifier       = '123',                                        # Request identifier (mandatory)\n",
    "        releaseVersionIndicator = '3',                                          # Request's release version indicator (mandatory)\n",
    "        resourceType            = 4,                                            # The request creates a <cin> resource\n",
    "    \n",
    "        # Request Content\n",
    "        content = {\n",
    "            \"m2m:cin\": {\n",
    "                \"con\": randomHumidity()                                         # Produce \"temperature\" data\n",
    "            }\n",
    "        }\n",
    "    )\n",
    ")"
   ]
  },
  {
   "cell_type": "markdown",
   "id": "novel-clock",
   "metadata": {},
   "source": [
    "## Retrieve and present the data \n",
    "\n",
    "Alice now has a nicely filled data structure. She can execute the requests a couple of times, but the internal management will make sure that the number of \\<contentInstance> resource will always be limited to the specified maximum number (10).\n",
    "\n",
    "The next step for Alice is to write an application that presents the data nicely.\n",
    "\n",
    "<div class=\"alert alert-block alert-success\" style=\"border-radius: 10px\">\n",
    "This exercise will retrieve the available data from the &lt;contentInstance> resources with so-called <i>conditional retrieve</i> requests. With these we can query and retrieve one or multiple resources from the resource tree. This variant of oneM2M RETRIEVE requests will be explained in detail in a separate lecture, but it is very convenient to use them here already.\n",
    "</div>\n",
    "\n",
    "<div class=\"alert alert-block alert-info\" style=\"border-radius: 10px;\">\n",
    "In this exercise we not only will send requests to the CSE but also will do some small calculations and makes use of Python's <i>pandas</i> and <i>matplotlib</i> libraries for presenting the data.\n",
    "    \n",
    "You may notice the <b><tt>_verbose</tt></b> argument in the requests below. This is a non-oneM2M parameter that we use in our exercises to disable verbose printing of all the request and response details in order to concentrate on other parts of code and output.\n",
    "    \n",
    "Another note: the <b><tt>response()</tt></b> function used in the code below returns the last request's response content as a dictionary, which we then can conveniently process further.\n",
    "</div>\n",
    "\n"
   ]
  },
  {
   "cell_type": "code",
   "execution_count": null,
   "id": "distributed-harris",
   "metadata": {},
   "outputs": [],
   "source": [
    "# Retrieve the temperature values\n",
    "RETRIEVE (                                                                 # RETRIEVE request\n",
    "    target                  = f'{cseRN}/aeAlice/aliceSensor/temperature',  # Target resource is the <cin> under Alice's <cnt>\n",
    "    originator              = 'CAlice',                                    # Request's originator is CAlice (mandatory)\n",
    "    requestIdentifier       = '123',                                       # Request identifier (mandatory)\n",
    "    releaseVersionIndicator = '3',                                         # Request's release version indicator (mandatory)\n",
    "    \n",
    "    # Parameterize the conditional retrieve\n",
    "    filterUsage             = 2,                                           # Conditional retrieve\n",
    "    resourceType            = 4,                                           # Only retrieve <contentInstance> resources\n",
    "    resultContent           = 8,                                           # Only retrieve the child resources\n",
    "    \n",
    "    _verbose                = False                                        # Internall: Don't print the request and response\n",
    ")\n",
    "\n",
    "# Extract the content values from the response and put them into an array\n",
    "temperatures = [ int(cin['con']) for cin in findXPath(response(), 'm2m:cnt/m2m:cin') ]\n",
    "\n",
    "\n",
    "# Retrieve the humidity values\n",
    "RETRIEVE (                                                                 # RETRIEVE request\n",
    "    target                  = f'{cseRN}/aeAlice/aliceSensor/humidity',     # Target resource is the <cin> under Alice's <cnt>\n",
    "    originator              = 'CAlice',                                    # Request's originator is CAlice (mandatory)\n",
    "    requestIdentifier       = '123',                                       # Request identifier (mandatory)\n",
    "    releaseVersionIndicator = '3',                                         # Request's release version indicator (mandatory)\n",
    "    \n",
    "    # Parameterize the conditional retrieve\n",
    "    filterUsage             = 2,                                           # Conditional retrieve\n",
    "    resourceType            = 4,                                           # Only retrieve <contentInstance> resources\n",
    "    resultContent           = 8,                                           # Only retrieve the child resources\n",
    "    \n",
    "    _verbose                = False                                        # Internal: Don't print the request and response\n",
    ")\n",
    "\n",
    "# Extract the content values from the response and put them into an array\n",
    "humidities = [ int(cin['con']) for cin in findXPath(response(), 'm2m:cnt/m2m:cin') ]\n",
    "\n",
    "\n",
    "# Make both arrays the same length in case we have different numbers of measurements.\n",
    "# This is necessary for the plot below\n",
    "ml = max(len(temperatures), len(humidities))\n",
    "temperatures += [0] * (ml - len(temperatures))\n",
    "humidities   += [0] * (ml - len(humidities))\n",
    "\n",
    "\n",
    "# Create nice bar charts from our values\n",
    "import pandas as pd\n",
    "\n",
    "source = pd.DataFrame({\n",
    "    'Measurement' : list(range(1,ml+1)),\n",
    "    'Temperature' : temperatures,\n",
    "    'Humidity'    : humidities,\n",
    "\n",
    "})\n",
    "source.plot.bar(y=['Temperature', 'Humidity'], x='Measurement', subplots=True, layout=(1,2), figsize=(15,3));\n"
   ]
  },
  {
   "cell_type": "markdown",
   "id": "prime-theology",
   "metadata": {},
   "source": [
    "&nbsp;"
   ]
  }
 ],
 "metadata": {
  "kernelspec": {
   "display_name": "Python 3",
   "language": "python",
   "name": "python3"
  },
  "language_info": {
   "codemirror_mode": {
    "name": "ipython",
    "version": 3
   },
   "file_extension": ".py",
   "mimetype": "text/x-python",
   "name": "python",
   "nbconvert_exporter": "python",
   "pygments_lexer": "ipython3",
   "version": "3.8.2"
  }
 },
 "nbformat": 4,
 "nbformat_minor": 5
}
