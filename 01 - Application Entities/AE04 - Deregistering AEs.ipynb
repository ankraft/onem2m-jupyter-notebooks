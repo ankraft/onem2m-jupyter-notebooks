{
 "cells": [
  {
   "cell_type": "markdown",
   "id": "rocky-quilt",
   "metadata": {},
   "source": [
    "# Application Entity - Deleting Application Entities\n",
    "\n",
    "This notebook will show how to deregister Application Entities and delete \\<AE> resources.\n",
    "\n",
    "- Delete Alice's \\<AE> (with pre-assigned originator)\n",
    "- Delete Bob's \\<AE> (with CSE-assigned originator)\n",
    "\n",
    "\n",
    "## Intitialization\n",
    "\n",
    "<div class=\"alert alert-block alert-info\" style=\"border-radius: 10px;\">\n",
    "The following section imports and initializes necessary functions and configurations. \n",
    "It must be executed once for each notebook before running any of cells.</div>"
   ]
  },
  {
   "cell_type": "code",
   "execution_count": null,
   "id": "alleged-louisiana",
   "metadata": {},
   "outputs": [],
   "source": [
    "%run ../src/init.py"
   ]
  },
  {
   "cell_type": "markdown",
   "id": "balanced-portable",
   "metadata": {},
   "source": [
    "## Delete Alice's Application Entity\n",
    "\n",
    "At the end of these exercises Alice wants to cleanup everything and unregister her Application Entity.\n",
    "\n",
    "<div class=\"alert alert-block alert-success\" style=\"border-radius: 10px\">\n",
    "Deregistering an Application entity is done by deleting the corresponding &lt;AE> resource.\n",
    "</div>"
   ]
  },
  {
   "cell_type": "code",
   "execution_count": null,
   "id": "amended-aberdeen",
   "metadata": {
    "scrolled": false
   },
   "outputs": [],
   "source": [
    "DELETE (                                            # DELETE request\n",
    "    target                  = f'{cseRN}/aeAlice',   # Delete Alice's <AE>\n",
    "    originator              = 'CAlice',             # Request's originator (mandatory)\n",
    "    requestIdentifier       = '123',                # Request identifier (mandatory)\n",
    "    releaseVersionIndicator = '3'                   # Request's release version indicator (mandatory)\n",
    ")"
   ]
  },
  {
   "cell_type": "markdown",
   "id": "moving-substitute",
   "metadata": {},
   "source": [
    "## Delete Bob's Application Entity\n",
    "\n",
    "Bob also wants to tidy up and deregisters his Application Entity.\n",
    "\n",
    "<div class=\"alert alert-block alert-info\" style=\"border-radius: 10px;\">\n",
    "Since the <i>AE-ID</i> of Bob's &lt;AE> resource was created randomly by the CSE you need to set the <i>originator</i> in the request below by copying it from that exercise. \n",
    "<br />\n",
    "    \n",
    "Remember when we asked you to copy the value of the <i>aei</i> attribute?\n",
    "</div>"
   ]
  },
  {
   "cell_type": "code",
   "execution_count": null,
   "id": "exposed-given",
   "metadata": {},
   "outputs": [],
   "source": [
    "DELETE (                                            # DELETE request\n",
    "    target                  = f'{cseRN}/aeBob',     # Delete Bob's <AE>\n",
    "    originator              = '>>__<<',             # Request's originator (mandatory)\n",
    "    requestIdentifier       = '123',                # Request identifier (mandatory)\n",
    "    releaseVersionIndicator = '3'                   # Request's release version indicator (mandatory)\n",
    ")"
   ]
  }
 ],
 "metadata": {
  "kernelspec": {
   "display_name": "Python 3",
   "language": "python",
   "name": "python3"
  },
  "language_info": {
   "codemirror_mode": {
    "name": "ipython",
    "version": 3
   },
   "file_extension": ".py",
   "mimetype": "text/x-python",
   "name": "python",
   "nbconvert_exporter": "python",
   "pygments_lexer": "ipython3",
   "version": "3.8.2"
  }
 },
 "nbformat": 4,
 "nbformat_minor": 5
}
