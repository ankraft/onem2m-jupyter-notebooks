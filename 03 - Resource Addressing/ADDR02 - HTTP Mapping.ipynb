{
 "cells": [
  {
   "cell_type": "markdown",
   "id": "advance-johnson",
   "metadata": {},
   "source": [
    "# Mapping to HTTP Requests\n"
   ]
  },
  {
   "cell_type": "markdown",
   "id": "royal-falls",
   "metadata": {},
   "source": [
    "<div style=\"text-align: right\"><font size=\"-2\">© 2021 by Andreas Kraft<br/>Licensed under the BSD 3-clause license</font>\n",
    "</div"
   ]
  }
 ],
 "metadata": {
  "kernelspec": {
   "display_name": "Python 3",
   "language": "python",
   "name": "python3"
  },
  "language_info": {
   "codemirror_mode": {
    "name": "ipython",
    "version": 3
   },
   "file_extension": ".py",
   "mimetype": "text/x-python",
   "name": "python",
   "nbconvert_exporter": "python",
   "pygments_lexer": "ipython3",
   "version": "3.8.2"
  }
 },
 "nbformat": 4,
 "nbformat_minor": 5
}
