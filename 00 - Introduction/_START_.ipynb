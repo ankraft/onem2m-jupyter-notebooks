{
 "cells": [
  {
   "cell_type": "markdown",
   "id": "horizontal-webmaster",
   "metadata": {},
   "source": [
    "# Introduction\n",
    "\n",
    "This notebook gives you a first introduction to basic oneM2M concepts.\n",
    "\n",
    "\n",
    "<div style='display:flex;'>\n",
    "  <div style='flex:0 0 65%;margin:5px;'>\n",
    "    <ul>\n",
    "    <li><a href=\"IN01%20-%20Hello%20CSE.ipynb\">Hello CSE</a><br/>Send your first request to a CSE.</li>\n",
    "    <li><a href=\"IN02%20-%20Requests%20&%20Responses.ipynb\">Introduction to oneM2M Request & Responses</a><br />Learn about how communication with a oneM2M CSE works.</li>\n",
    "      <li><a href=\"IN03%20-%20Running%20the%20Exercises.ipynb\">Running the Exercises</a><br />How to run the exercises in the notebooks.</li>\n",
    "    </ul>\n",
    "  </div>\n",
    "  <div style='flex: 1;margin:auto;'><img src=\"../images/IN-start.png\">\n",
    "    </div>\n",
    "</div>\n"
   ]
  },
  {
   "cell_type": "markdown",
   "id": "personalized-mechanism",
   "metadata": {},
   "source": [
    "&nbsp;"
   ]
  }
 ],
 "metadata": {
  "kernelspec": {
   "display_name": "Python 3",
   "language": "python",
   "name": "python3"
  },
  "language_info": {
   "codemirror_mode": {
    "name": "ipython",
    "version": 3
   },
   "file_extension": ".py",
   "mimetype": "text/x-python",
   "name": "python",
   "nbconvert_exporter": "python",
   "pygments_lexer": "ipython3",
   "version": "3.8.2"
  }
 },
 "nbformat": 4,
 "nbformat_minor": 5
}
